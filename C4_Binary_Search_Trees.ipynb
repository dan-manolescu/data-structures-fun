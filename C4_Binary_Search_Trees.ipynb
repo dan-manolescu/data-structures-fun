{
  "nbformat": 4,
  "nbformat_minor": 0,
  "metadata": {
    "colab": {
      "provenance": [],
      "authorship_tag": "ABX9TyPd/kXXu7fB5zkxx7RnU5uF",
      "include_colab_link": true
    },
    "kernelspec": {
      "name": "python3",
      "display_name": "Python 3"
    },
    "language_info": {
      "name": "python"
    }
  },
  "cells": [
    {
      "cell_type": "markdown",
      "metadata": {
        "id": "view-in-github",
        "colab_type": "text"
      },
      "source": [
        "<a href=\"https://colab.research.google.com/github/dan-manolescu/data-structures-fun/blob/main/C4_Binary_Search_Trees.ipynb\" target=\"_parent\"><img src=\"https://colab.research.google.com/assets/colab-badge.svg\" alt=\"Open In Colab\"/></a>"
      ]
    },
    {
      "cell_type": "markdown",
      "source": [
        "# Binary Search Trees"
      ],
      "metadata": {
        "id": "eOoQ-gwv5GAv"
      }
    },
    {
      "cell_type": "code",
      "execution_count": 1,
      "metadata": {
        "id": "7f1g66jt1mVT"
      },
      "outputs": [],
      "source": [
        "class TreeNode:\n",
        "    def __init__(self, value, left=None, right=None, parent=None):\n",
        "        self.value = value\n",
        "        self.left = left\n",
        "        self.right = right\n",
        "        self.parent = parent"
      ]
    },
    {
      "cell_type": "markdown",
      "source": [
        "**Iterative and recursive searches**"
      ],
      "metadata": {
        "id": "ISgMp8-65pWI"
      }
    },
    {
      "cell_type": "code",
      "source": [
        "from typing import Any\n",
        "\n",
        "def FindValue(current: TreeNode, target: Any) -> TreeNode:\n",
        "    if current == None:\n",
        "        return None\n",
        "    if current.value == target:\n",
        "        return current\n",
        "    if target < current.value and current.left != None:\n",
        "        return FindValue(current.left, target)\n",
        "    if target > current.value and current.right != None:\n",
        "        return FindValue(current.right, target)\n",
        "    return None\n",
        "\n",
        "def FindValueItr(root: TreeNode, target: Any) -> TreeNode:\n",
        "    current = root\n",
        "    while current != None and current.value != target:\n",
        "        if target < current.value:\n",
        "            current = current.left\n",
        "        else:\n",
        "            current = current.right\n",
        "\n",
        "    return current\n",
        "\n",
        "def InsertNode(current: TreeNode, new_value: Any) -> None:\n",
        "    if new_value == current.value:\n",
        "        # nothing to do, value already in the tree\n",
        "        return\n",
        "    if new_value < current.value:\n",
        "        if current.left != None:\n",
        "            InsertNode(current.left, new_value)\n",
        "        else:\n",
        "            current.left = TreeNode(new_value)\n",
        "            current.left.parent = current\n",
        "    else:\n",
        "        if current.right != None:\n",
        "            InsertNode(current.right, new_value)\n",
        "        else:\n",
        "            current.right = TreeNode(new_value)\n",
        "            current.right.parent = current"
      ],
      "metadata": {
        "id": "lO7ATHEe5oBm"
      },
      "execution_count": 2,
      "outputs": []
    },
    {
      "cell_type": "markdown",
      "source": [
        "**Binary Search Tree implementation**"
      ],
      "metadata": {
        "id": "JPmkbpWwleXG"
      }
    },
    {
      "cell_type": "code",
      "source": [
        "class BinarySearchTree:\n",
        "    def __init__(self, root: TreeNode):\n",
        "        self.root = root\n",
        "\n",
        "    def FindTreeNode(self, target: Any) -> TreeNode:\n",
        "        if self.root == None:\n",
        "            return None\n",
        "        return FindValue(self.root, target)\n",
        "\n",
        "    def InsertTreeNode(self, new_value: Any) -> None:\n",
        "        if self.root == None:\n",
        "            self.root = TreeNode(new_value)\n",
        "        else:\n",
        "            InsertNode(self.root, new_value)\n",
        "\n",
        "    def RemoveTreeNode(self, node: TreeNode) -> None:\n",
        "        if self.root == None or node == None:\n",
        "            return\n",
        "\n",
        "        # Case A: Deleting a leaf node.\n",
        "        if node.left == None and node.right == None:\n",
        "            if node.parent == None:\n",
        "                self.root = None\n",
        "            elif node.parent.left == node:\n",
        "                node.parent.left = None\n",
        "            else:\n",
        "                node.parent.right = None\n",
        "            return\n",
        "\n",
        "        # Case B: Deleting a node with one child.\n",
        "        if node.left == None or node.right == None:\n",
        "            child = node.left if node.left != None else node.right\n",
        "\n",
        "            child.parent = node.parent\n",
        "            if node.parent == None:\n",
        "                self.root = child\n",
        "            elif node.parent.left == node:\n",
        "                node.parent.left = child\n",
        "            else:\n",
        "                node.parent.right = child\n",
        "            return\n",
        "\n",
        "        # Case C: Deleting a node with two children.\n",
        "        # Find the successor and splice it out of the tree.\n",
        "        successor = node.right\n",
        "        while successor.left != None:\n",
        "            successor = successor.left\n",
        "        self.RemoveTreeNode(successor)\n",
        "\n",
        "        # Insert the successor in the deleted node's place\n",
        "        if node.parent == None:\n",
        "            self.root = successor\n",
        "        elif node.parent.left == node:\n",
        "            node.parent.left = successor\n",
        "        else:\n",
        "            node.parent.right = successor\n",
        "        successor.parent = node.parent\n",
        "\n",
        "        # Now setting the links for the left and right childrens of the successor\n",
        "        successor.left = node.left\n",
        "        node.left.parent = successor\n",
        "\n",
        "        successor.right = node.right\n",
        "        if node.right != None:\n",
        "            node.right.parent = successor"
      ],
      "metadata": {
        "id": "eWdkUEbZVez4"
      },
      "execution_count": 6,
      "outputs": []
    },
    {
      "cell_type": "code",
      "source": [
        "from typing import List\n",
        "from collections import deque\n",
        "\n",
        "def build_subtree(A: list, left: int, right: int) -> TreeNode:\n",
        "    if left == right:\n",
        "        return TreeNode(A[left])\n",
        "    elif left > right:\n",
        "        return None\n",
        "\n",
        "    mid = (left + right) // 2\n",
        "    node = TreeNode(A[mid])\n",
        "    node.left = build_subtree(A, left, mid - 1)\n",
        "    if node.left != None:\n",
        "        node.left.parent = node\n",
        "    node.right = build_subtree(A, mid + 1, right)\n",
        "    if node.right != None:\n",
        "        node.right.parent = node\n",
        "    return node\n",
        "\n",
        "\n",
        "def build_binary_search_tree(A: List) -> BinarySearchTree:\n",
        "    if len(A) == 0:\n",
        "        return BinarySearchTree(None)\n",
        "    A.sort()\n",
        "    left = 0\n",
        "    right = len(A) - 1\n",
        "    mid = (left + right) // 2\n",
        "    root = TreeNode(A[mid])\n",
        "    root.left = build_subtree(A, left, mid - 1)\n",
        "    if root.left != None:\n",
        "        root.left.parent = root\n",
        "    root.right = build_subtree(A, mid + 1, right)\n",
        "    if root.right != None:\n",
        "        root.right.parent = root\n",
        "    return BinarySearchTree(root)\n",
        "\n",
        "def print_bfs(node: TreeNode) -> None:\n",
        "    if node == None:\n",
        "        return\n",
        "    q = deque([node])\n",
        "    while q:\n",
        "        row = []\n",
        "        for i in range(len(q)):\n",
        "            node = q.popleft()\n",
        "            row.append(str(node.value))\n",
        "            if node.left != None:\n",
        "                q.append(node.left)\n",
        "            if node.right != None:\n",
        "                q.append(node.right)\n",
        "        print(' '.join(row))\n"
      ],
      "metadata": {
        "id": "e9pagFKof7vu"
      },
      "execution_count": 7,
      "outputs": []
    },
    {
      "cell_type": "code",
      "source": [
        "A = [1,2,3,4,5,6,7,8,9,10,11,12]\n",
        "tree = build_binary_search_tree(A)\n",
        "print_bfs(tree.root)"
      ],
      "metadata": {
        "colab": {
          "base_uri": "https://localhost:8080/"
        },
        "id": "S3tIK1liiZDT",
        "outputId": "00dc93b8-792a-485f-f046-a82755fcbfe8"
      },
      "execution_count": 5,
      "outputs": [
        {
          "output_type": "stream",
          "name": "stdout",
          "text": [
            "6\n",
            "3 9\n",
            "1 4 7 11\n",
            "2 5 8 10 12\n"
          ]
        }
      ]
    },
    {
      "cell_type": "markdown",
      "source": [
        "**Visualize a tree**"
      ],
      "metadata": {
        "id": "QvhRx18y77V0"
      }
    },
    {
      "cell_type": "code",
      "source": [
        "import graphviz\n",
        "\n",
        "def visualize_binary_tree(tree: BinarySearchTree) -> graphviz.Digraph:\n",
        "    dot = graphviz.Digraph()\n",
        "    dot.node(str(tree.root.value))\n",
        "\n",
        "    def add_nodes_edges(node: TreeNode) -> None:\n",
        "        if node.left:\n",
        "            dot.node(str(node.left.value))\n",
        "            dot.edge(str(node.value), str(node.left.value))\n",
        "            add_nodes_edges(node.left)\n",
        "        if node.right:\n",
        "            dot.node(str(node.right.value))\n",
        "            dot.edge(str(node.value), str(node.right.value))\n",
        "            add_nodes_edges(node.right)\n",
        "\n",
        "    add_nodes_edges(tree.root)\n",
        "    return dot"
      ],
      "metadata": {
        "id": "VW7-DgTE76_U"
      },
      "execution_count": 30,
      "outputs": []
    },
    {
      "cell_type": "code",
      "source": [
        "visualize_binary_tree(tree)"
      ],
      "metadata": {
        "colab": {
          "base_uri": "https://localhost:8080/",
          "height": 368
        },
        "id": "KiNhz7dx-Vqs",
        "outputId": "45979f0c-e0f9-4736-d1d9-a1d9b3f6a703"
      },
      "execution_count": 31,
      "outputs": [
        {
          "output_type": "execute_result",
          "data": {
            "image/svg+xml": "<?xml version=\"1.0\" encoding=\"UTF-8\" standalone=\"no\"?>\n<!DOCTYPE svg PUBLIC \"-//W3C//DTD SVG 1.1//EN\"\n \"http://www.w3.org/Graphics/SVG/1.1/DTD/svg11.dtd\">\n<!-- Generated by graphviz version 2.43.0 (0)\n -->\n<!-- Title: %3 Pages: 1 -->\n<svg width=\"278pt\" height=\"260pt\"\n viewBox=\"0.00 0.00 278.00 260.00\" xmlns=\"http://www.w3.org/2000/svg\" xmlns:xlink=\"http://www.w3.org/1999/xlink\">\n<g id=\"graph0\" class=\"graph\" transform=\"scale(1 1) rotate(0) translate(4 256)\">\n<title>%3</title>\n<polygon fill=\"white\" stroke=\"transparent\" points=\"-4,4 -4,-256 274,-256 274,4 -4,4\"/>\n<!-- 6 -->\n<g id=\"node1\" class=\"node\">\n<title>6</title>\n<ellipse fill=\"none\" stroke=\"black\" cx=\"135\" cy=\"-234\" rx=\"27\" ry=\"18\"/>\n<text text-anchor=\"middle\" x=\"135\" y=\"-230.3\" font-family=\"Times,serif\" font-size=\"14.00\">6</text>\n</g>\n<!-- 3 -->\n<g id=\"node2\" class=\"node\">\n<title>3</title>\n<ellipse fill=\"none\" stroke=\"black\" cx=\"99\" cy=\"-162\" rx=\"27\" ry=\"18\"/>\n<text text-anchor=\"middle\" x=\"99\" y=\"-158.3\" font-family=\"Times,serif\" font-size=\"14.00\">3</text>\n</g>\n<!-- 6&#45;&gt;3 -->\n<g id=\"edge1\" class=\"edge\">\n<title>6&#45;&gt;3</title>\n<path fill=\"none\" stroke=\"black\" d=\"M126.65,-216.76C122.29,-208.28 116.85,-197.71 111.96,-188.2\"/>\n<polygon fill=\"black\" stroke=\"black\" points=\"114.99,-186.44 107.3,-179.15 108.77,-189.64 114.99,-186.44\"/>\n</g>\n<!-- 9 -->\n<g id=\"node7\" class=\"node\">\n<title>9</title>\n<ellipse fill=\"none\" stroke=\"black\" cx=\"171\" cy=\"-162\" rx=\"27\" ry=\"18\"/>\n<text text-anchor=\"middle\" x=\"171\" y=\"-158.3\" font-family=\"Times,serif\" font-size=\"14.00\">9</text>\n</g>\n<!-- 6&#45;&gt;9 -->\n<g id=\"edge6\" class=\"edge\">\n<title>6&#45;&gt;9</title>\n<path fill=\"none\" stroke=\"black\" d=\"M143.35,-216.76C147.71,-208.28 153.15,-197.71 158.04,-188.2\"/>\n<polygon fill=\"black\" stroke=\"black\" points=\"161.23,-189.64 162.7,-179.15 155.01,-186.44 161.23,-189.64\"/>\n</g>\n<!-- 1 -->\n<g id=\"node3\" class=\"node\">\n<title>1</title>\n<ellipse fill=\"none\" stroke=\"black\" cx=\"27\" cy=\"-90\" rx=\"27\" ry=\"18\"/>\n<text text-anchor=\"middle\" x=\"27\" y=\"-86.3\" font-family=\"Times,serif\" font-size=\"14.00\">1</text>\n</g>\n<!-- 3&#45;&gt;1 -->\n<g id=\"edge2\" class=\"edge\">\n<title>3&#45;&gt;1</title>\n<path fill=\"none\" stroke=\"black\" d=\"M84.43,-146.83C74.25,-136.94 60.48,-123.55 48.97,-112.36\"/>\n<polygon fill=\"black\" stroke=\"black\" points=\"51.41,-109.85 41.8,-105.38 46.53,-114.87 51.41,-109.85\"/>\n</g>\n<!-- 4 -->\n<g id=\"node5\" class=\"node\">\n<title>4</title>\n<ellipse fill=\"none\" stroke=\"black\" cx=\"99\" cy=\"-90\" rx=\"27\" ry=\"18\"/>\n<text text-anchor=\"middle\" x=\"99\" y=\"-86.3\" font-family=\"Times,serif\" font-size=\"14.00\">4</text>\n</g>\n<!-- 3&#45;&gt;4 -->\n<g id=\"edge4\" class=\"edge\">\n<title>3&#45;&gt;4</title>\n<path fill=\"none\" stroke=\"black\" d=\"M99,-143.7C99,-135.98 99,-126.71 99,-118.11\"/>\n<polygon fill=\"black\" stroke=\"black\" points=\"102.5,-118.1 99,-108.1 95.5,-118.1 102.5,-118.1\"/>\n</g>\n<!-- 2 -->\n<g id=\"node4\" class=\"node\">\n<title>2</title>\n<ellipse fill=\"none\" stroke=\"black\" cx=\"27\" cy=\"-18\" rx=\"27\" ry=\"18\"/>\n<text text-anchor=\"middle\" x=\"27\" y=\"-14.3\" font-family=\"Times,serif\" font-size=\"14.00\">2</text>\n</g>\n<!-- 1&#45;&gt;2 -->\n<g id=\"edge3\" class=\"edge\">\n<title>1&#45;&gt;2</title>\n<path fill=\"none\" stroke=\"black\" d=\"M27,-71.7C27,-63.98 27,-54.71 27,-46.11\"/>\n<polygon fill=\"black\" stroke=\"black\" points=\"30.5,-46.1 27,-36.1 23.5,-46.1 30.5,-46.1\"/>\n</g>\n<!-- 5 -->\n<g id=\"node6\" class=\"node\">\n<title>5</title>\n<ellipse fill=\"none\" stroke=\"black\" cx=\"99\" cy=\"-18\" rx=\"27\" ry=\"18\"/>\n<text text-anchor=\"middle\" x=\"99\" y=\"-14.3\" font-family=\"Times,serif\" font-size=\"14.00\">5</text>\n</g>\n<!-- 4&#45;&gt;5 -->\n<g id=\"edge5\" class=\"edge\">\n<title>4&#45;&gt;5</title>\n<path fill=\"none\" stroke=\"black\" d=\"M99,-71.7C99,-63.98 99,-54.71 99,-46.11\"/>\n<polygon fill=\"black\" stroke=\"black\" points=\"102.5,-46.1 99,-36.1 95.5,-46.1 102.5,-46.1\"/>\n</g>\n<!-- 7 -->\n<g id=\"node8\" class=\"node\">\n<title>7</title>\n<ellipse fill=\"none\" stroke=\"black\" cx=\"171\" cy=\"-90\" rx=\"27\" ry=\"18\"/>\n<text text-anchor=\"middle\" x=\"171\" y=\"-86.3\" font-family=\"Times,serif\" font-size=\"14.00\">7</text>\n</g>\n<!-- 9&#45;&gt;7 -->\n<g id=\"edge7\" class=\"edge\">\n<title>9&#45;&gt;7</title>\n<path fill=\"none\" stroke=\"black\" d=\"M171,-143.7C171,-135.98 171,-126.71 171,-118.11\"/>\n<polygon fill=\"black\" stroke=\"black\" points=\"174.5,-118.1 171,-108.1 167.5,-118.1 174.5,-118.1\"/>\n</g>\n<!-- 12 -->\n<g id=\"node10\" class=\"node\">\n<title>12</title>\n<ellipse fill=\"none\" stroke=\"black\" cx=\"243\" cy=\"-90\" rx=\"27\" ry=\"18\"/>\n<text text-anchor=\"middle\" x=\"243\" y=\"-86.3\" font-family=\"Times,serif\" font-size=\"14.00\">12</text>\n</g>\n<!-- 9&#45;&gt;12 -->\n<g id=\"edge9\" class=\"edge\">\n<title>9&#45;&gt;12</title>\n<path fill=\"none\" stroke=\"black\" d=\"M185.57,-146.83C195.75,-136.94 209.52,-123.55 221.03,-112.36\"/>\n<polygon fill=\"black\" stroke=\"black\" points=\"223.47,-114.87 228.2,-105.38 218.59,-109.85 223.47,-114.87\"/>\n</g>\n<!-- 8 -->\n<g id=\"node9\" class=\"node\">\n<title>8</title>\n<ellipse fill=\"none\" stroke=\"black\" cx=\"171\" cy=\"-18\" rx=\"27\" ry=\"18\"/>\n<text text-anchor=\"middle\" x=\"171\" y=\"-14.3\" font-family=\"Times,serif\" font-size=\"14.00\">8</text>\n</g>\n<!-- 7&#45;&gt;8 -->\n<g id=\"edge8\" class=\"edge\">\n<title>7&#45;&gt;8</title>\n<path fill=\"none\" stroke=\"black\" d=\"M171,-71.7C171,-63.98 171,-54.71 171,-46.11\"/>\n<polygon fill=\"black\" stroke=\"black\" points=\"174.5,-46.1 171,-36.1 167.5,-46.1 174.5,-46.1\"/>\n</g>\n<!-- 10 -->\n<g id=\"node11\" class=\"node\">\n<title>10</title>\n<ellipse fill=\"none\" stroke=\"black\" cx=\"243\" cy=\"-18\" rx=\"27\" ry=\"18\"/>\n<text text-anchor=\"middle\" x=\"243\" y=\"-14.3\" font-family=\"Times,serif\" font-size=\"14.00\">10</text>\n</g>\n<!-- 12&#45;&gt;10 -->\n<g id=\"edge10\" class=\"edge\">\n<title>12&#45;&gt;10</title>\n<path fill=\"none\" stroke=\"black\" d=\"M243,-71.7C243,-63.98 243,-54.71 243,-46.11\"/>\n<polygon fill=\"black\" stroke=\"black\" points=\"246.5,-46.1 243,-36.1 239.5,-46.1 246.5,-46.1\"/>\n</g>\n</g>\n</svg>\n",
            "text/plain": [
              "<graphviz.graphs.Digraph at 0x7d3127a48130>"
            ]
          },
          "metadata": {},
          "execution_count": 31
        }
      ]
    },
    {
      "cell_type": "code",
      "source": [
        "# removing node 11, should find successor 12 and use it as replacement\n",
        "tree.RemoveTreeNode(tree.FindTreeNode(11))\n",
        "visualize_binary_tree(tree)"
      ],
      "metadata": {
        "colab": {
          "base_uri": "https://localhost:8080/",
          "height": 368
        },
        "id": "NH8XtwN-_BrM",
        "outputId": "d820f5b3-eb58-4ea4-acb1-ee3b29d3bdd8"
      },
      "execution_count": 32,
      "outputs": [
        {
          "output_type": "execute_result",
          "data": {
            "image/svg+xml": "<?xml version=\"1.0\" encoding=\"UTF-8\" standalone=\"no\"?>\n<!DOCTYPE svg PUBLIC \"-//W3C//DTD SVG 1.1//EN\"\n \"http://www.w3.org/Graphics/SVG/1.1/DTD/svg11.dtd\">\n<!-- Generated by graphviz version 2.43.0 (0)\n -->\n<!-- Title: %3 Pages: 1 -->\n<svg width=\"278pt\" height=\"260pt\"\n viewBox=\"0.00 0.00 278.00 260.00\" xmlns=\"http://www.w3.org/2000/svg\" xmlns:xlink=\"http://www.w3.org/1999/xlink\">\n<g id=\"graph0\" class=\"graph\" transform=\"scale(1 1) rotate(0) translate(4 256)\">\n<title>%3</title>\n<polygon fill=\"white\" stroke=\"transparent\" points=\"-4,4 -4,-256 274,-256 274,4 -4,4\"/>\n<!-- 6 -->\n<g id=\"node1\" class=\"node\">\n<title>6</title>\n<ellipse fill=\"none\" stroke=\"black\" cx=\"135\" cy=\"-234\" rx=\"27\" ry=\"18\"/>\n<text text-anchor=\"middle\" x=\"135\" y=\"-230.3\" font-family=\"Times,serif\" font-size=\"14.00\">6</text>\n</g>\n<!-- 3 -->\n<g id=\"node2\" class=\"node\">\n<title>3</title>\n<ellipse fill=\"none\" stroke=\"black\" cx=\"99\" cy=\"-162\" rx=\"27\" ry=\"18\"/>\n<text text-anchor=\"middle\" x=\"99\" y=\"-158.3\" font-family=\"Times,serif\" font-size=\"14.00\">3</text>\n</g>\n<!-- 6&#45;&gt;3 -->\n<g id=\"edge1\" class=\"edge\">\n<title>6&#45;&gt;3</title>\n<path fill=\"none\" stroke=\"black\" d=\"M126.65,-216.76C122.29,-208.28 116.85,-197.71 111.96,-188.2\"/>\n<polygon fill=\"black\" stroke=\"black\" points=\"114.99,-186.44 107.3,-179.15 108.77,-189.64 114.99,-186.44\"/>\n</g>\n<!-- 9 -->\n<g id=\"node7\" class=\"node\">\n<title>9</title>\n<ellipse fill=\"none\" stroke=\"black\" cx=\"171\" cy=\"-162\" rx=\"27\" ry=\"18\"/>\n<text text-anchor=\"middle\" x=\"171\" y=\"-158.3\" font-family=\"Times,serif\" font-size=\"14.00\">9</text>\n</g>\n<!-- 6&#45;&gt;9 -->\n<g id=\"edge6\" class=\"edge\">\n<title>6&#45;&gt;9</title>\n<path fill=\"none\" stroke=\"black\" d=\"M143.35,-216.76C147.71,-208.28 153.15,-197.71 158.04,-188.2\"/>\n<polygon fill=\"black\" stroke=\"black\" points=\"161.23,-189.64 162.7,-179.15 155.01,-186.44 161.23,-189.64\"/>\n</g>\n<!-- 1 -->\n<g id=\"node3\" class=\"node\">\n<title>1</title>\n<ellipse fill=\"none\" stroke=\"black\" cx=\"27\" cy=\"-90\" rx=\"27\" ry=\"18\"/>\n<text text-anchor=\"middle\" x=\"27\" y=\"-86.3\" font-family=\"Times,serif\" font-size=\"14.00\">1</text>\n</g>\n<!-- 3&#45;&gt;1 -->\n<g id=\"edge2\" class=\"edge\">\n<title>3&#45;&gt;1</title>\n<path fill=\"none\" stroke=\"black\" d=\"M84.43,-146.83C74.25,-136.94 60.48,-123.55 48.97,-112.36\"/>\n<polygon fill=\"black\" stroke=\"black\" points=\"51.41,-109.85 41.8,-105.38 46.53,-114.87 51.41,-109.85\"/>\n</g>\n<!-- 4 -->\n<g id=\"node5\" class=\"node\">\n<title>4</title>\n<ellipse fill=\"none\" stroke=\"black\" cx=\"99\" cy=\"-90\" rx=\"27\" ry=\"18\"/>\n<text text-anchor=\"middle\" x=\"99\" y=\"-86.3\" font-family=\"Times,serif\" font-size=\"14.00\">4</text>\n</g>\n<!-- 3&#45;&gt;4 -->\n<g id=\"edge4\" class=\"edge\">\n<title>3&#45;&gt;4</title>\n<path fill=\"none\" stroke=\"black\" d=\"M99,-143.7C99,-135.98 99,-126.71 99,-118.11\"/>\n<polygon fill=\"black\" stroke=\"black\" points=\"102.5,-118.1 99,-108.1 95.5,-118.1 102.5,-118.1\"/>\n</g>\n<!-- 2 -->\n<g id=\"node4\" class=\"node\">\n<title>2</title>\n<ellipse fill=\"none\" stroke=\"black\" cx=\"27\" cy=\"-18\" rx=\"27\" ry=\"18\"/>\n<text text-anchor=\"middle\" x=\"27\" y=\"-14.3\" font-family=\"Times,serif\" font-size=\"14.00\">2</text>\n</g>\n<!-- 1&#45;&gt;2 -->\n<g id=\"edge3\" class=\"edge\">\n<title>1&#45;&gt;2</title>\n<path fill=\"none\" stroke=\"black\" d=\"M27,-71.7C27,-63.98 27,-54.71 27,-46.11\"/>\n<polygon fill=\"black\" stroke=\"black\" points=\"30.5,-46.1 27,-36.1 23.5,-46.1 30.5,-46.1\"/>\n</g>\n<!-- 5 -->\n<g id=\"node6\" class=\"node\">\n<title>5</title>\n<ellipse fill=\"none\" stroke=\"black\" cx=\"99\" cy=\"-18\" rx=\"27\" ry=\"18\"/>\n<text text-anchor=\"middle\" x=\"99\" y=\"-14.3\" font-family=\"Times,serif\" font-size=\"14.00\">5</text>\n</g>\n<!-- 4&#45;&gt;5 -->\n<g id=\"edge5\" class=\"edge\">\n<title>4&#45;&gt;5</title>\n<path fill=\"none\" stroke=\"black\" d=\"M99,-71.7C99,-63.98 99,-54.71 99,-46.11\"/>\n<polygon fill=\"black\" stroke=\"black\" points=\"102.5,-46.1 99,-36.1 95.5,-46.1 102.5,-46.1\"/>\n</g>\n<!-- 7 -->\n<g id=\"node8\" class=\"node\">\n<title>7</title>\n<ellipse fill=\"none\" stroke=\"black\" cx=\"171\" cy=\"-90\" rx=\"27\" ry=\"18\"/>\n<text text-anchor=\"middle\" x=\"171\" y=\"-86.3\" font-family=\"Times,serif\" font-size=\"14.00\">7</text>\n</g>\n<!-- 9&#45;&gt;7 -->\n<g id=\"edge7\" class=\"edge\">\n<title>9&#45;&gt;7</title>\n<path fill=\"none\" stroke=\"black\" d=\"M171,-143.7C171,-135.98 171,-126.71 171,-118.11\"/>\n<polygon fill=\"black\" stroke=\"black\" points=\"174.5,-118.1 171,-108.1 167.5,-118.1 174.5,-118.1\"/>\n</g>\n<!-- 12 -->\n<g id=\"node10\" class=\"node\">\n<title>12</title>\n<ellipse fill=\"none\" stroke=\"black\" cx=\"243\" cy=\"-90\" rx=\"27\" ry=\"18\"/>\n<text text-anchor=\"middle\" x=\"243\" y=\"-86.3\" font-family=\"Times,serif\" font-size=\"14.00\">12</text>\n</g>\n<!-- 9&#45;&gt;12 -->\n<g id=\"edge9\" class=\"edge\">\n<title>9&#45;&gt;12</title>\n<path fill=\"none\" stroke=\"black\" d=\"M185.57,-146.83C195.75,-136.94 209.52,-123.55 221.03,-112.36\"/>\n<polygon fill=\"black\" stroke=\"black\" points=\"223.47,-114.87 228.2,-105.38 218.59,-109.85 223.47,-114.87\"/>\n</g>\n<!-- 8 -->\n<g id=\"node9\" class=\"node\">\n<title>8</title>\n<ellipse fill=\"none\" stroke=\"black\" cx=\"171\" cy=\"-18\" rx=\"27\" ry=\"18\"/>\n<text text-anchor=\"middle\" x=\"171\" y=\"-14.3\" font-family=\"Times,serif\" font-size=\"14.00\">8</text>\n</g>\n<!-- 7&#45;&gt;8 -->\n<g id=\"edge8\" class=\"edge\">\n<title>7&#45;&gt;8</title>\n<path fill=\"none\" stroke=\"black\" d=\"M171,-71.7C171,-63.98 171,-54.71 171,-46.11\"/>\n<polygon fill=\"black\" stroke=\"black\" points=\"174.5,-46.1 171,-36.1 167.5,-46.1 174.5,-46.1\"/>\n</g>\n<!-- 10 -->\n<g id=\"node11\" class=\"node\">\n<title>10</title>\n<ellipse fill=\"none\" stroke=\"black\" cx=\"243\" cy=\"-18\" rx=\"27\" ry=\"18\"/>\n<text text-anchor=\"middle\" x=\"243\" y=\"-14.3\" font-family=\"Times,serif\" font-size=\"14.00\">10</text>\n</g>\n<!-- 12&#45;&gt;10 -->\n<g id=\"edge10\" class=\"edge\">\n<title>12&#45;&gt;10</title>\n<path fill=\"none\" stroke=\"black\" d=\"M243,-71.7C243,-63.98 243,-54.71 243,-46.11\"/>\n<polygon fill=\"black\" stroke=\"black\" points=\"246.5,-46.1 243,-36.1 239.5,-46.1 246.5,-46.1\"/>\n</g>\n</g>\n</svg>\n",
            "text/plain": [
              "<graphviz.graphs.Digraph at 0x7d3127a4b100>"
            ]
          },
          "metadata": {},
          "execution_count": 32
        }
      ]
    }
  ]
}