{
  "nbformat": 4,
  "nbformat_minor": 0,
  "metadata": {
    "colab": {
      "provenance": [],
      "authorship_tag": "ABX9TyM5T55as6yRK8ksH2PREx3B",
      "include_colab_link": true
    },
    "kernelspec": {
      "name": "python3",
      "display_name": "Python 3"
    },
    "language_info": {
      "name": "python"
    }
  },
  "cells": [
    {
      "cell_type": "markdown",
      "metadata": {
        "id": "view-in-github",
        "colab_type": "text"
      },
      "source": [
        "<a href=\"https://colab.research.google.com/github/dan-manolescu/data-structures-fun/blob/main/C4_Binary_Search_Trees.ipynb\" target=\"_parent\"><img src=\"https://colab.research.google.com/assets/colab-badge.svg\" alt=\"Open In Colab\"/></a>"
      ]
    },
    {
      "cell_type": "markdown",
      "source": [
        "# Binary Search Trees"
      ],
      "metadata": {
        "id": "eOoQ-gwv5GAv"
      }
    },
    {
      "cell_type": "code",
      "execution_count": 2,
      "metadata": {
        "id": "7f1g66jt1mVT"
      },
      "outputs": [],
      "source": [
        "class TreeNode:\n",
        "    def __init__(self, value, left=None, right=None, parent=None):\n",
        "        self.value = value\n",
        "        self.left = left\n",
        "        self.right = right\n",
        "        self.parent = parent"
      ]
    },
    {
      "cell_type": "markdown",
      "source": [
        "**Iterative and recursive searches**"
      ],
      "metadata": {
        "id": "ISgMp8-65pWI"
      }
    },
    {
      "cell_type": "code",
      "source": [
        "from typing import Any\n",
        "\n",
        "def FindValue(current: TreeNode, target: Any) -> TreeNode:\n",
        "    if current == None:\n",
        "        return None\n",
        "    if current.value == target:\n",
        "        return current\n",
        "    if target < current.value and current.left != None:\n",
        "        return FindValue(current.left, target)\n",
        "    if target > current.value and current.right != None:\n",
        "        return FindValue(current.right, target)\n",
        "    return None\n",
        "\n",
        "def FindValueItr(root: TreeNode, target: Any) -> TreeNode:\n",
        "    current = root\n",
        "    while current != None and current.value != target:\n",
        "        if target < current.value:\n",
        "            current = current.left\n",
        "        else:\n",
        "            current = current.right\n",
        "\n",
        "    return current\n",
        "\n",
        "def InsertNode(current: TreeNode, new_value: Any) -> None:\n",
        "    if new_value == current.value:\n",
        "        # nothing to do, value already in the tree\n",
        "        return\n",
        "    if new_value < current.value:\n",
        "        if current.left != None:\n",
        "            InsertNode(current.left, new_value)\n",
        "        else:\n",
        "            current.left = TreeNode(new_value)\n",
        "            current.left.parent = current\n",
        "    else:\n",
        "        if current.right != None:\n",
        "            InsertNode(current.right, new_value)\n",
        "        else:\n",
        "            current.right = TreeNode(new_value)\n",
        "            current.right.parent = current"
      ],
      "metadata": {
        "id": "lO7ATHEe5oBm"
      },
      "execution_count": 6,
      "outputs": []
    },
    {
      "cell_type": "markdown",
      "source": [
        "**Binary Search Tree implementation**"
      ],
      "metadata": {
        "id": "JPmkbpWwleXG"
      }
    },
    {
      "cell_type": "code",
      "source": [
        "class BinarySearchTree:\n",
        "    def __init__(self, root: TreeNode):\n",
        "        self.root = root\n",
        "\n",
        "    def FindTreeNode(self, target: Any) -> TreeNode:\n",
        "        if self.root == None:\n",
        "            return None\n",
        "        return FindValue(self.root, target)\n",
        "\n",
        "    def InsertTreeNode(self, new_value: Any) -> None:\n",
        "        if self.root == None:\n",
        "            self.root = TreeNode(new_value)\n",
        "        else:\n",
        "            InsertNode(self.root, new_value)\n",
        "\n",
        "    def RemoveTreeNode(self, node: TreeNode) -> None:\n",
        "        if self.root == None or node == None:\n",
        "            return\n",
        "\n",
        "        # Case A: Deleting a leaf node.\n",
        "        if node.left == None and node.right == None:\n",
        "            if node.parent == None:\n",
        "                self.root = None\n",
        "            elif node.parent.left == node:\n",
        "                node.parent.left = None\n",
        "            else:\n",
        "                node.parent.right = None\n",
        "            return\n",
        "\n",
        "        # Case B: Deleting a node with one child.\n",
        "        if node.left == None or node.right == None:\n",
        "            child = node.left if node.left != None else node.right\n",
        "\n",
        "            child.parent = node.parent\n",
        "            if node.parent == None:\n",
        "                self.root = child\n",
        "            elif node.parent.left == node:\n",
        "                node.parent.left = child\n",
        "            else:\n",
        "                node.parent.right = child\n",
        "            return\n",
        "\n",
        "        # Case C: Deleting a node with two children.\n",
        "        # Find the successor and splice it out of the tree.\n",
        "        successor = node.right\n",
        "        while successor.left != None:\n",
        "            successor = successor.left\n",
        "        self.RemoveTreeNode(successor)\n",
        "\n",
        "        # Insert the successor in the deleted node's place\n",
        "        if node.parent == None:\n",
        "            self.root = successor\n",
        "        elif node.parent.left == node:\n",
        "            node.parent.left = successor\n",
        "        else:\n",
        "            node.parent.right = successor\n",
        "        successor.parent = node.parent\n",
        "\n",
        "        # Now setting the links for the left and right childrens of the successor\n",
        "        successor.left = node.left\n",
        "        node.left.parent = successor\n",
        "\n",
        "        successor.right = node.right\n",
        "        if node.right != None:\n",
        "            node.right.parent = successor"
      ],
      "metadata": {
        "id": "eWdkUEbZVez4"
      },
      "execution_count": 10,
      "outputs": []
    },
    {
      "cell_type": "code",
      "source": [
        "from typing import List\n",
        "from collections import deque\n",
        "\n",
        "def build_subtree(A: list, left: int, right: int) -> TreeNode:\n",
        "    if left == right:\n",
        "        return TreeNode(A[left])\n",
        "    elif left > right:\n",
        "        return None\n",
        "\n",
        "    mid = (left + right) // 2\n",
        "    node = TreeNode(A[mid])\n",
        "    node.left = build_subtree(A, left, mid - 1)\n",
        "    if node.left != None:\n",
        "        node.left.parent = node\n",
        "    node.right = build_subtree(A, mid + 1, right)\n",
        "    if node.right != None:\n",
        "        node.right.parent = node\n",
        "    return node\n",
        "\n",
        "\n",
        "def build_binary_search_tree(A: List) -> BinarySearchTree:\n",
        "    if len(A) == 0:\n",
        "        return BinarySearchTree(None)\n",
        "    A.sort()\n",
        "    left = 0\n",
        "    right = len(A) - 1\n",
        "    mid = (left + right) // 2\n",
        "    root = TreeNode(A[mid])\n",
        "    root.left = build_subtree(A, left, mid - 1)\n",
        "    if root.left != None:\n",
        "        root.left.parent = root\n",
        "    root.right = build_subtree(A, mid + 1, right)\n",
        "    if root.right != None:\n",
        "        root.right.parent = root\n",
        "    return BinarySearchTree(root)\n",
        "\n",
        "def print_bfs(node: TreeNode) -> None:\n",
        "    if node == None:\n",
        "        return\n",
        "    q = deque([node])\n",
        "    while q:\n",
        "        row = []\n",
        "        for i in range(len(q)):\n",
        "            node = q.popleft()\n",
        "            row.append(str(node.value))\n",
        "            if node.left != None:\n",
        "                q.append(node.left)\n",
        "            if node.right != None:\n",
        "                q.append(node.right)\n",
        "        print(' '.join(row))\n"
      ],
      "metadata": {
        "id": "e9pagFKof7vu"
      },
      "execution_count": 21,
      "outputs": []
    },
    {
      "cell_type": "code",
      "source": [
        "A = [1,2,3,4,5,6,7,8,9,10,11,12]\n",
        "tree = build_binary_search_tree(A)\n",
        "print_bfs(tree.root)"
      ],
      "metadata": {
        "colab": {
          "base_uri": "https://localhost:8080/"
        },
        "id": "S3tIK1liiZDT",
        "outputId": "24761dfd-552b-4569-a09c-926a50ecc076"
      },
      "execution_count": 22,
      "outputs": [
        {
          "output_type": "stream",
          "name": "stdout",
          "text": [
            "6\n",
            "3 9\n",
            "1 4 7 11\n",
            "2 5 8 10 12\n"
          ]
        }
      ]
    }
  ]
}