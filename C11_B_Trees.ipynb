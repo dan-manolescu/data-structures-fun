{
  "nbformat": 4,
  "nbformat_minor": 0,
  "metadata": {
    "colab": {
      "provenance": [],
      "authorship_tag": "ABX9TyOEVeXuH7qOHW0DZ0qHqgIW",
      "include_colab_link": true
    },
    "kernelspec": {
      "name": "python3",
      "display_name": "Python 3"
    },
    "language_info": {
      "name": "python"
    }
  },
  "cells": [
    {
      "cell_type": "markdown",
      "metadata": {
        "id": "view-in-github",
        "colab_type": "text"
      },
      "source": [
        "<a href=\"https://colab.research.google.com/github/dan-manolescu/data-structures-fun/blob/main/C11_B_Trees.ipynb\" target=\"_parent\"><img src=\"https://colab.research.google.com/assets/colab-badge.svg\" alt=\"Open In Colab\"/></a>"
      ]
    },
    {
      "cell_type": "code",
      "source": [
        "from typing import Any, ForwardRef, Tuple"
      ],
      "metadata": {
        "id": "jtY6hh3MH7Oe"
      },
      "execution_count": 39,
      "outputs": []
    },
    {
      "cell_type": "code",
      "execution_count": 40,
      "metadata": {
        "id": "fswrJTG73L_C"
      },
      "outputs": [],
      "source": [
        "class BTreeNode:\n",
        "    def __init__(self, k: int):\n",
        "        self.k = k\n",
        "        self.size = 0\n",
        "        self.is_leaf = True\n",
        "        # Both keys and children use one extra storage so accomodate an insert\n",
        "        # that might overspill the node prior to splitting (see insert function).\n",
        "        self.keys = [None] * (2 * k + 1)\n",
        "        self.children = [None] * (2 * k + 2)\n",
        "\n",
        "    def BTreeNodeSearch(self, target: Any) -> Any:\n",
        "        # Search the node's key list for the target.\n",
        "        # For simplicity sake we use a linear search, but a binary search is\n",
        "        # a good option as well.\n",
        "        i = 0\n",
        "        while i < self.size and target >= self.keys[i]:\n",
        "            # Check if we found a matching key in the current node.\n",
        "            if target == self.keys[i]:\n",
        "                return self.keys[i]\n",
        "            i += 1\n",
        "\n",
        "        # If we didn't find a match then descend to the correct child.\n",
        "        if self.is_leaf:\n",
        "            # Current node is a leaf then there's no match in the tree.\n",
        "            return None\n",
        "        return self.children[i].BTreeNodeSearch(target)\n",
        "\n",
        "    def BtreeNodeAddKey(self, key: Any, next_child: ForwardRef('BTreeNode')) -> None:\n",
        "        '''\n",
        "        Helper function to insert a key into a non-full node.\n",
        "        <next_child> is a pointer to the child node (the child after the new key).\n",
        "        For a leaf node the next_child pointer is ignored.\n",
        "        '''\n",
        "        # Start at the end of the keys array and move towards 0.\n",
        "        # At each step check if the new key should be inserted here\n",
        "        # and if not shift the elements of keys and children back one position.\n",
        "        i = self.size - 1\n",
        "        while i >= 0 and key < self.keys[i]:\n",
        "            self.keys[i + 1] = self.keys[i]\n",
        "            if not self.is_leaf:\n",
        "                self.children[i + 2] = self.children[i + 1]\n",
        "            i -= 1\n",
        "\n",
        "        # Insert both the key and the pointer to the child node.\n",
        "        # By this time we have already shifted the following elements.\n",
        "        self.keys[i + 1] = key\n",
        "        if not self.is_leaf:\n",
        "            self.children[i + 2] = next_child\n",
        "        # Adjust the size of the node with the new insertion.\n",
        "        self.size += 1\n",
        "\n",
        "    def BTreeNodeIsOverFull(self) -> bool:\n",
        "        '''\n",
        "        Helper function to indicate if the node contains more than 2k items\n",
        "        '''\n",
        "        return self.size == (2 * self.k + 1)\n",
        "\n",
        "    def BTreeNodeSplit(self, child_index: int) -> None:\n",
        "        '''\n",
        "        Helper function that takes the index of a child of the node and splits\n",
        "        that child. Everything before that index is retained in the original\n",
        "        child. Everythign after that index is cleared from the child and added\n",
        "        to a newly created child node. The key at the index itself is cleared\n",
        "        from the child and added to the current (parent) node.\n",
        "        '''\n",
        "        # old_child is the node to split, new_child is the new empty sibling node.\n",
        "        # The new node is at the same level as old_child so copy is_leaf.\n",
        "        old_child = self.children[child_index]\n",
        "        new_child = BTreeNode(self.k)\n",
        "        new_child.is_leaf = old_child.is_leaf\n",
        "\n",
        "        # Get the index and key used for the split point for old_child.\n",
        "        split_index = int(old_child.size / 2)\n",
        "        split_key = old_child.keys[split_index]\n",
        "\n",
        "        # Copy the larger half of the keys (and their children) to new_child and erase them from old_child.\n",
        "        new_index = 0\n",
        "        old_index = split_index + 1\n",
        "        while old_index < old_child.size:\n",
        "            new_child.keys[new_index] = old_child.keys[old_index]\n",
        "            old_child.keys[old_index] = None\n",
        "\n",
        "            if not old_child.is_leaf:\n",
        "                new_child.children[new_index] = old_child.children[old_index]\n",
        "                old_child.children[old_index] = None\n",
        "            new_index += 1\n",
        "            old_index += 1\n",
        "\n",
        "        # Copy the remainining child (after the last key).\n",
        "        # This needs to be done since the children array is one element longer.\n",
        "        if not old_child.is_leaf:\n",
        "            new_child.children[new_index] = old_child.children[old_child.size]\n",
        "            old_child.children[old_child.size] = None\n",
        "\n",
        "        # Remove the key at index and add it to the current node.\n",
        "        old_child.keys[split_index] = None\n",
        "        self.BtreeNodeAddKey(split_key, new_child)\n",
        "\n",
        "        # Update the sizes of the nodes.\n",
        "        new_child.size = old_child.size - split_index - 1\n",
        "        old_child.size = split_index\n",
        "\n",
        "    def BTreeNodeInsert(self, key: Any) -> None:\n",
        "        '''\n",
        "        Insertion function. The addition is done at leaf level then recursively\n",
        "        return up the tree checking if the recently accessed child node is full\n",
        "        and it needs to be split.\n",
        "        '''\n",
        "        # First figure out the correct location for key in the keys array.\n",
        "        i = 0\n",
        "        while i < self.size and key >= self.keys[i]:\n",
        "            if key == self.keys[i]:\n",
        "                # Here we can update the data for this key\n",
        "                return\n",
        "            i += 1\n",
        "\n",
        "        if self.is_leaf:\n",
        "            # If the node is a leaf then just add the key (and shift the elements)\n",
        "            self.BtreeNodeAddKey(key, None)\n",
        "        else:\n",
        "            # Recursively insert into the child nodes\n",
        "            self.children[i].BTreeNodeInsert(key)\n",
        "            # Check if we insert too many elements and split the overfull child at the parent.\n",
        "            if self.children[i].BTreeNodeIsOverFull():\n",
        "                self.BTreeNodeSplit(i)"
      ]
    },
    {
      "cell_type": "code",
      "source": [
        "class BTree:\n",
        "    def __init__(self, k: int):\n",
        "        self.k = k\n",
        "        self.root = BTreeNode(k)\n",
        "\n",
        "    def BTreeSearch(self, target: Any) -> Any:\n",
        "        return self.root.BTreeNodeSearch(target)\n",
        "\n",
        "    def BTreeInsert(self, key: Any) -> None:\n",
        "        '''\n",
        "        Insert a new key in the BTree and handle the special case for the root\n",
        "        node (splitting the rood node = increase the height of the tree).\n",
        "        '''\n",
        "        # Start by inserting the key into the root node. This will recursively\n",
        "        # descend the tree, insert the key in the right location then return\n",
        "        # and fix all nodes except the root.\n",
        "        self.root.BTreeNodeInsert(key)\n",
        "\n",
        "        # Check if the root node has too many elements.\n",
        "        if self.root.BTreeNodeIsOverFull():\n",
        "            # We add a new level by creating a new root node.\n",
        "            new_root = BTreeNode(self.k)\n",
        "            new_root.is_leaf = False\n",
        "            new_root.size = 0\n",
        "\n",
        "            # Old root is a child of the new root which is then split.\n",
        "            # After the split the new root will have exactly one key and two children.\n",
        "            new_root.children[0] = self.root\n",
        "            new_root.BTreeNodeSplit(0)\n",
        "            self.root = new_root"
      ],
      "metadata": {
        "id": "SafvdagiGul7"
      },
      "execution_count": 41,
      "outputs": []
    },
    {
      "cell_type": "markdown",
      "source": [
        "Some utility function to be able to draw a btree representation using graphviz.\n",
        "The function will draw each node as a set of records with children pointers (represented as a * character) interlaced with key values."
      ],
      "metadata": {
        "id": "zfXVZ5TUQHop"
      }
    },
    {
      "cell_type": "code",
      "source": [
        "import graphviz\n",
        "from graphviz import nohtml\n",
        "\n",
        "def visualize_btree(btree: BTree) -> graphviz.Digraph:\n",
        "    dot = graphviz.Digraph(node_attr={'shape':'record', 'height':'.1'})\n",
        "\n",
        "    def generate_node(node: BTreeNode) -> Tuple[str, str]:\n",
        "        name = []\n",
        "        content = []\n",
        "        for i, key in enumerate(node.keys):\n",
        "            # Put a * cell for a children node pointer.\n",
        "            if node.children[i] != None:\n",
        "                content.append(f'<f{i}> *|')\n",
        "            # Put a cell with the key value.\n",
        "            if key != None:\n",
        "                name.append(str(key))\n",
        "                content.append(f' {str(key)}|')\n",
        "            # Make sure to remove the last empty cell (don't put a | at the end).\n",
        "            if i == len(node.keys) - 1 and node.children[-1] == None:\n",
        "                content[-1] = content[-1][:-1]\n",
        "        if node.children[-1] != None:\n",
        "            content.append(f'<f{len(node.children) - 1}> *')\n",
        "        return (''.join(name), ''.join(content))\n",
        "\n",
        "    def visualize_btreenode(node: BTreeNode, dot: graphviz.Digraph) -> str:\n",
        "        name, content = generate_node(node)\n",
        "        dot.node(name, nohtml(content))\n",
        "\n",
        "        for i, child in enumerate(node.children):\n",
        "            if child != None:\n",
        "                child_name = visualize_btreenode(child, dot)\n",
        "                dot.edge(f'{name}:f{i}', f'{child_name}')\n",
        "        return name\n",
        "\n",
        "    visualize_btreenode(btree.root, dot)\n",
        "\n",
        "    return dot"
      ],
      "metadata": {
        "id": "qaetRULVyy0i"
      },
      "execution_count": 71,
      "outputs": []
    },
    {
      "cell_type": "markdown",
      "source": [
        "Some example of building a BTree. At the end we display it."
      ],
      "metadata": {
        "id": "r07WaQ-CQeni"
      }
    },
    {
      "cell_type": "code",
      "source": [
        "btree = BTree(2)\n",
        "btree.BTreeInsert(1)\n",
        "btree.BTreeInsert(3)\n",
        "btree.BTreeInsert(5)\n",
        "btree.BTreeInsert(6)\n",
        "btree.BTreeInsert(13)\n",
        "btree.BTreeInsert(17)\n",
        "btree.BTreeInsert(26)\n",
        "btree.BTreeInsert(32)\n",
        "btree.BTreeInsert(42)\n",
        "btree.BTreeInsert(47)\n",
        "btree.BTreeInsert(48)\n",
        "btree.BTreeInsert(49)\n",
        "btree.BTreeInsert(53)\n",
        "btree.BTreeInsert(54)\n",
        "btree.BTreeInsert(57)\n",
        "btree.BTreeInsert(59)\n",
        "btree.BTreeInsert(65)\n",
        "btree.BTreeInsert(73)\n",
        "btree.BTreeInsert(80)\n",
        "btree.BTreeInsert(91)\n",
        "btree.BTreeInsert(95)\n",
        "btree.BTreeInsert(96)\n",
        "btree.BTreeInsert(99)\n",
        "btree.BTreeInsert(12)\n",
        "btree.BTreeInsert(31)\n",
        "btree.BTreeInsert(45)\n",
        "btree.BTreeInsert(61)\n",
        "btree.BTreeInsert(68)\n",
        "btree.BTreeInsert(51)\n",
        "\n",
        "visualize_btree(btree)"
      ],
      "metadata": {
        "colab": {
          "base_uri": "https://localhost:8080/",
          "height": 224
        },
        "id": "ThUZd25M30yl",
        "outputId": "409a9292-32ba-43f2-e770-4a4d5e973aed"
      },
      "execution_count": 72,
      "outputs": [
        {
          "output_type": "execute_result",
          "data": {
            "image/svg+xml": "<?xml version=\"1.0\" encoding=\"UTF-8\" standalone=\"no\"?>\n<!DOCTYPE svg PUBLIC \"-//W3C//DTD SVG 1.1//EN\"\n \"http://www.w3.org/Graphics/SVG/1.1/DTD/svg11.dtd\">\n<!-- Generated by graphviz version 2.43.0 (0)\n -->\n<!-- Title: %3 Pages: 1 -->\n<svg width=\"782pt\" height=\"152pt\"\n viewBox=\"0.00 0.00 782.00 152.00\" xmlns=\"http://www.w3.org/2000/svg\" xmlns:xlink=\"http://www.w3.org/1999/xlink\">\n<g id=\"graph0\" class=\"graph\" transform=\"scale(1 1) rotate(0) translate(4 148)\">\n<title>%3</title>\n<polygon fill=\"white\" stroke=\"transparent\" points=\"-4,4 -4,-148 778,-148 778,4 -4,4\"/>\n<!-- 42 -->\n<g id=\"node1\" class=\"node\">\n<title>42</title>\n<polygon fill=\"none\" stroke=\"black\" points=\"290,-120.5 290,-143.5 366,-143.5 366,-120.5 290,-120.5\"/>\n<text text-anchor=\"middle\" x=\"301.5\" y=\"-128.3\" font-family=\"Times,serif\" font-size=\"14.00\">*</text>\n<polyline fill=\"none\" stroke=\"black\" points=\"313,-120.5 313,-143.5 \"/>\n<text text-anchor=\"middle\" x=\"328\" y=\"-128.3\" font-family=\"Times,serif\" font-size=\"14.00\">42</text>\n<polyline fill=\"none\" stroke=\"black\" points=\"343,-120.5 343,-143.5 \"/>\n<text text-anchor=\"middle\" x=\"354.5\" y=\"-128.3\" font-family=\"Times,serif\" font-size=\"14.00\">*</text>\n</g>\n<!-- 517 -->\n<g id=\"node2\" class=\"node\">\n<title>517</title>\n<polygon fill=\"none\" stroke=\"black\" points=\"82,-60.5 82,-83.5 204,-83.5 204,-60.5 82,-60.5\"/>\n<text text-anchor=\"middle\" x=\"93.5\" y=\"-68.3\" font-family=\"Times,serif\" font-size=\"14.00\">*</text>\n<polyline fill=\"none\" stroke=\"black\" points=\"105,-60.5 105,-83.5 \"/>\n<text text-anchor=\"middle\" x=\"116.5\" y=\"-68.3\" font-family=\"Times,serif\" font-size=\"14.00\">5</text>\n<polyline fill=\"none\" stroke=\"black\" points=\"128,-60.5 128,-83.5 \"/>\n<text text-anchor=\"middle\" x=\"139.5\" y=\"-68.3\" font-family=\"Times,serif\" font-size=\"14.00\">*</text>\n<polyline fill=\"none\" stroke=\"black\" points=\"151,-60.5 151,-83.5 \"/>\n<text text-anchor=\"middle\" x=\"166\" y=\"-68.3\" font-family=\"Times,serif\" font-size=\"14.00\">17</text>\n<polyline fill=\"none\" stroke=\"black\" points=\"181,-60.5 181,-83.5 \"/>\n<text text-anchor=\"middle\" x=\"192.5\" y=\"-68.3\" font-family=\"Times,serif\" font-size=\"14.00\">*</text>\n</g>\n<!-- 42&#45;&gt;517 -->\n<g id=\"edge4\" class=\"edge\">\n<title>42:f0&#45;&gt;517</title>\n<path fill=\"none\" stroke=\"black\" d=\"M289,-132C243.07,-132 194.54,-106.59 166.61,-89.12\"/>\n<polygon fill=\"black\" stroke=\"black\" points=\"168.26,-86.02 157.96,-83.55 164.47,-91.91 168.26,-86.02\"/>\n</g>\n<!-- 49577395 -->\n<g id=\"node6\" class=\"node\">\n<title>49577395</title>\n<polygon fill=\"none\" stroke=\"black\" points=\"405.5,-60.5 405.5,-83.5 640.5,-83.5 640.5,-60.5 405.5,-60.5\"/>\n<text text-anchor=\"middle\" x=\"417\" y=\"-68.3\" font-family=\"Times,serif\" font-size=\"14.00\">*</text>\n<polyline fill=\"none\" stroke=\"black\" points=\"428.5,-60.5 428.5,-83.5 \"/>\n<text text-anchor=\"middle\" x=\"443.5\" y=\"-68.3\" font-family=\"Times,serif\" font-size=\"14.00\">49</text>\n<polyline fill=\"none\" stroke=\"black\" points=\"458.5,-60.5 458.5,-83.5 \"/>\n<text text-anchor=\"middle\" x=\"470\" y=\"-68.3\" font-family=\"Times,serif\" font-size=\"14.00\">*</text>\n<polyline fill=\"none\" stroke=\"black\" points=\"481.5,-60.5 481.5,-83.5 \"/>\n<text text-anchor=\"middle\" x=\"496.5\" y=\"-68.3\" font-family=\"Times,serif\" font-size=\"14.00\">57</text>\n<polyline fill=\"none\" stroke=\"black\" points=\"511.5,-60.5 511.5,-83.5 \"/>\n<text text-anchor=\"middle\" x=\"523\" y=\"-68.3\" font-family=\"Times,serif\" font-size=\"14.00\">*</text>\n<polyline fill=\"none\" stroke=\"black\" points=\"534.5,-60.5 534.5,-83.5 \"/>\n<text text-anchor=\"middle\" x=\"549.5\" y=\"-68.3\" font-family=\"Times,serif\" font-size=\"14.00\">73</text>\n<polyline fill=\"none\" stroke=\"black\" points=\"564.5,-60.5 564.5,-83.5 \"/>\n<text text-anchor=\"middle\" x=\"576\" y=\"-68.3\" font-family=\"Times,serif\" font-size=\"14.00\">*</text>\n<polyline fill=\"none\" stroke=\"black\" points=\"587.5,-60.5 587.5,-83.5 \"/>\n<text text-anchor=\"middle\" x=\"602.5\" y=\"-68.3\" font-family=\"Times,serif\" font-size=\"14.00\">95</text>\n<polyline fill=\"none\" stroke=\"black\" points=\"617.5,-60.5 617.5,-83.5 \"/>\n<text text-anchor=\"middle\" x=\"629\" y=\"-68.3\" font-family=\"Times,serif\" font-size=\"14.00\">*</text>\n</g>\n<!-- 42&#45;&gt;49577395 -->\n<g id=\"edge10\" class=\"edge\">\n<title>42:f1&#45;&gt;49577395</title>\n<path fill=\"none\" stroke=\"black\" d=\"M367,-132C415.86,-132 468.08,-106.37 498.01,-88.89\"/>\n<polygon fill=\"black\" stroke=\"black\" points=\"500.14,-91.7 506.91,-83.55 496.54,-85.7 500.14,-91.7\"/>\n</g>\n<!-- 13 -->\n<g id=\"node3\" class=\"node\">\n<title>13</title>\n<polygon fill=\"none\" stroke=\"black\" points=\"0,-0.5 0,-23.5 54,-23.5 54,-0.5 0,-0.5\"/>\n<text text-anchor=\"middle\" x=\"13.5\" y=\"-8.3\" font-family=\"Times,serif\" font-size=\"14.00\">1</text>\n<polyline fill=\"none\" stroke=\"black\" points=\"27,-0.5 27,-23.5 \"/>\n<text text-anchor=\"middle\" x=\"40.5\" y=\"-8.3\" font-family=\"Times,serif\" font-size=\"14.00\">3</text>\n</g>\n<!-- 517&#45;&gt;13 -->\n<g id=\"edge1\" class=\"edge\">\n<title>517:f0&#45;&gt;13</title>\n<path fill=\"none\" stroke=\"black\" d=\"M81,-72C59.29,-72 43.96,-50 35.31,-32.87\"/>\n<polygon fill=\"black\" stroke=\"black\" points=\"38.37,-31.15 31,-23.55 32.02,-34.09 38.37,-31.15\"/>\n</g>\n<!-- 61213 -->\n<g id=\"node4\" class=\"node\">\n<title>61213</title>\n<polygon fill=\"none\" stroke=\"black\" points=\"72.5,-0.5 72.5,-23.5 155.5,-23.5 155.5,-0.5 72.5,-0.5\"/>\n<text text-anchor=\"middle\" x=\"84\" y=\"-8.3\" font-family=\"Times,serif\" font-size=\"14.00\">6</text>\n<polyline fill=\"none\" stroke=\"black\" points=\"95.5,-0.5 95.5,-23.5 \"/>\n<text text-anchor=\"middle\" x=\"110.5\" y=\"-8.3\" font-family=\"Times,serif\" font-size=\"14.00\">12</text>\n<polyline fill=\"none\" stroke=\"black\" points=\"125.5,-0.5 125.5,-23.5 \"/>\n<text text-anchor=\"middle\" x=\"140.5\" y=\"-8.3\" font-family=\"Times,serif\" font-size=\"14.00\">13</text>\n</g>\n<!-- 517&#45;&gt;61213 -->\n<g id=\"edge2\" class=\"edge\">\n<title>517:f1&#45;&gt;61213</title>\n<path fill=\"none\" stroke=\"black\" d=\"M139,-60C139,-50.06 134.59,-40.18 129.47,-32.06\"/>\n<polygon fill=\"black\" stroke=\"black\" points=\"132.22,-29.88 123.59,-23.73 126.5,-33.92 132.22,-29.88\"/>\n</g>\n<!-- 263132 -->\n<g id=\"node5\" class=\"node\">\n<title>263132</title>\n<polygon fill=\"none\" stroke=\"black\" points=\"174,-0.5 174,-23.5 264,-23.5 264,-0.5 174,-0.5\"/>\n<text text-anchor=\"middle\" x=\"189\" y=\"-8.3\" font-family=\"Times,serif\" font-size=\"14.00\">26</text>\n<polyline fill=\"none\" stroke=\"black\" points=\"204,-0.5 204,-23.5 \"/>\n<text text-anchor=\"middle\" x=\"219\" y=\"-8.3\" font-family=\"Times,serif\" font-size=\"14.00\">31</text>\n<polyline fill=\"none\" stroke=\"black\" points=\"234,-0.5 234,-23.5 \"/>\n<text text-anchor=\"middle\" x=\"249\" y=\"-8.3\" font-family=\"Times,serif\" font-size=\"14.00\">32</text>\n</g>\n<!-- 517&#45;&gt;263132 -->\n<g id=\"edge3\" class=\"edge\">\n<title>517:f2&#45;&gt;263132</title>\n<path fill=\"none\" stroke=\"black\" d=\"M193,-60C193,-49.97 197.59,-40.08 202.91,-31.97\"/>\n<polygon fill=\"black\" stroke=\"black\" points=\"205.91,-33.8 209.02,-23.67 200.27,-29.65 205.91,-33.8\"/>\n</g>\n<!-- 454748 -->\n<g id=\"node7\" class=\"node\">\n<title>454748</title>\n<polygon fill=\"none\" stroke=\"black\" points=\"282,-0.5 282,-23.5 372,-23.5 372,-0.5 282,-0.5\"/>\n<text text-anchor=\"middle\" x=\"297\" y=\"-8.3\" font-family=\"Times,serif\" font-size=\"14.00\">45</text>\n<polyline fill=\"none\" stroke=\"black\" points=\"312,-0.5 312,-23.5 \"/>\n<text text-anchor=\"middle\" x=\"327\" y=\"-8.3\" font-family=\"Times,serif\" font-size=\"14.00\">47</text>\n<polyline fill=\"none\" stroke=\"black\" points=\"342,-0.5 342,-23.5 \"/>\n<text text-anchor=\"middle\" x=\"357\" y=\"-8.3\" font-family=\"Times,serif\" font-size=\"14.00\">48</text>\n</g>\n<!-- 49577395&#45;&gt;454748 -->\n<g id=\"edge5\" class=\"edge\">\n<title>49577395:f0&#45;&gt;454748</title>\n<path fill=\"none\" stroke=\"black\" d=\"M404,-72C377.18,-72 353.93,-49.17 340.19,-31.91\"/>\n<polygon fill=\"black\" stroke=\"black\" points=\"342.71,-29.44 333.9,-23.55 337.11,-33.64 342.71,-29.44\"/>\n</g>\n<!-- 515354 -->\n<g id=\"node8\" class=\"node\">\n<title>515354</title>\n<polygon fill=\"none\" stroke=\"black\" points=\"390,-0.5 390,-23.5 480,-23.5 480,-0.5 390,-0.5\"/>\n<text text-anchor=\"middle\" x=\"405\" y=\"-8.3\" font-family=\"Times,serif\" font-size=\"14.00\">51</text>\n<polyline fill=\"none\" stroke=\"black\" points=\"420,-0.5 420,-23.5 \"/>\n<text text-anchor=\"middle\" x=\"435\" y=\"-8.3\" font-family=\"Times,serif\" font-size=\"14.00\">53</text>\n<polyline fill=\"none\" stroke=\"black\" points=\"450,-0.5 450,-23.5 \"/>\n<text text-anchor=\"middle\" x=\"465\" y=\"-8.3\" font-family=\"Times,serif\" font-size=\"14.00\">54</text>\n</g>\n<!-- 49577395&#45;&gt;515354 -->\n<g id=\"edge6\" class=\"edge\">\n<title>49577395:f1&#45;&gt;515354</title>\n<path fill=\"none\" stroke=\"black\" d=\"M470,-60C470,-49.01 463.77,-38.93 456.57,-30.95\"/>\n<polygon fill=\"black\" stroke=\"black\" points=\"458.81,-28.24 449.24,-23.7 453.89,-33.22 458.81,-28.24\"/>\n</g>\n<!-- 59616568 -->\n<g id=\"node9\" class=\"node\">\n<title>59616568</title>\n<polygon fill=\"none\" stroke=\"black\" points=\"498,-0.5 498,-23.5 618,-23.5 618,-0.5 498,-0.5\"/>\n<text text-anchor=\"middle\" x=\"513\" y=\"-8.3\" font-family=\"Times,serif\" font-size=\"14.00\">59</text>\n<polyline fill=\"none\" stroke=\"black\" points=\"528,-0.5 528,-23.5 \"/>\n<text text-anchor=\"middle\" x=\"543\" y=\"-8.3\" font-family=\"Times,serif\" font-size=\"14.00\">61</text>\n<polyline fill=\"none\" stroke=\"black\" points=\"558,-0.5 558,-23.5 \"/>\n<text text-anchor=\"middle\" x=\"573\" y=\"-8.3\" font-family=\"Times,serif\" font-size=\"14.00\">65</text>\n<polyline fill=\"none\" stroke=\"black\" points=\"588,-0.5 588,-23.5 \"/>\n<text text-anchor=\"middle\" x=\"603\" y=\"-8.3\" font-family=\"Times,serif\" font-size=\"14.00\">68</text>\n</g>\n<!-- 49577395&#45;&gt;59616568 -->\n<g id=\"edge7\" class=\"edge\">\n<title>49577395:f2&#45;&gt;59616568</title>\n<path fill=\"none\" stroke=\"black\" d=\"M523,-60C523,-49.01 529.23,-38.93 536.43,-30.95\"/>\n<polygon fill=\"black\" stroke=\"black\" points=\"539.11,-33.22 543.76,-23.7 534.19,-28.24 539.11,-33.22\"/>\n</g>\n<!-- 8091 -->\n<g id=\"node10\" class=\"node\">\n<title>8091</title>\n<polygon fill=\"none\" stroke=\"black\" points=\"636,-0.5 636,-23.5 696,-23.5 696,-0.5 636,-0.5\"/>\n<text text-anchor=\"middle\" x=\"651\" y=\"-8.3\" font-family=\"Times,serif\" font-size=\"14.00\">80</text>\n<polyline fill=\"none\" stroke=\"black\" points=\"666,-0.5 666,-23.5 \"/>\n<text text-anchor=\"middle\" x=\"681\" y=\"-8.3\" font-family=\"Times,serif\" font-size=\"14.00\">91</text>\n</g>\n<!-- 49577395&#45;&gt;8091 -->\n<g id=\"edge8\" class=\"edge\">\n<title>49577395:f3&#45;&gt;8091</title>\n<path fill=\"none\" stroke=\"black\" d=\"M576,-60C576,-47.86 602.05,-35.18 626.12,-26.06\"/>\n<polygon fill=\"black\" stroke=\"black\" points=\"627.34,-29.34 635.53,-22.62 624.94,-22.76 627.34,-29.34\"/>\n</g>\n<!-- 9699 -->\n<g id=\"node11\" class=\"node\">\n<title>9699</title>\n<polygon fill=\"none\" stroke=\"black\" points=\"714,-0.5 714,-23.5 774,-23.5 774,-0.5 714,-0.5\"/>\n<text text-anchor=\"middle\" x=\"729\" y=\"-8.3\" font-family=\"Times,serif\" font-size=\"14.00\">96</text>\n<polyline fill=\"none\" stroke=\"black\" points=\"744,-0.5 744,-23.5 \"/>\n<text text-anchor=\"middle\" x=\"759\" y=\"-8.3\" font-family=\"Times,serif\" font-size=\"14.00\">99</text>\n</g>\n<!-- 49577395&#45;&gt;9699 -->\n<g id=\"edge9\" class=\"edge\">\n<title>49577395:f4&#45;&gt;9699</title>\n<path fill=\"none\" stroke=\"black\" d=\"M642,-72C675.47,-72 707.83,-47.9 726.82,-30.5\"/>\n<polygon fill=\"black\" stroke=\"black\" points=\"729.29,-32.98 734.1,-23.55 724.45,-27.92 729.29,-32.98\"/>\n</g>\n</g>\n</svg>\n",
            "text/plain": [
              "<graphviz.graphs.Digraph at 0x7a4df0efcaf0>"
            ]
          },
          "metadata": {},
          "execution_count": 72
        }
      ]
    }
  ]
}