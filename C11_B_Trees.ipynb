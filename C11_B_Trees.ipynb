{
  "nbformat": 4,
  "nbformat_minor": 0,
  "metadata": {
    "colab": {
      "provenance": [],
      "authorship_tag": "ABX9TyPslzu2FX4RMEB/MuhnIoyY",
      "include_colab_link": true
    },
    "kernelspec": {
      "name": "python3",
      "display_name": "Python 3"
    },
    "language_info": {
      "name": "python"
    }
  },
  "cells": [
    {
      "cell_type": "markdown",
      "metadata": {
        "id": "view-in-github",
        "colab_type": "text"
      },
      "source": [
        "<a href=\"https://colab.research.google.com/github/dan-manolescu/data-structures-fun/blob/main/C11_B_Trees.ipynb\" target=\"_parent\"><img src=\"https://colab.research.google.com/assets/colab-badge.svg\" alt=\"Open In Colab\"/></a>"
      ]
    },
    {
      "cell_type": "code",
      "source": [
        "from typing import Any, ForwardRef, Tuple"
      ],
      "metadata": {
        "id": "jtY6hh3MH7Oe"
      },
      "execution_count": 17,
      "outputs": []
    },
    {
      "cell_type": "markdown",
      "source": [
        "A BTreeNode class is used to represent a node in a B-Tree (Balanced Tree) structure. Each node can hold between k and 2k values and can have between k+1 and 2k+1 children nodes. The exception is the root node which has between 0 and 2k values. A children at position i contains values that are between the key at position i and the key at position i+1.\n",
        "\n",
        "The class has methods for:\n",
        "*   Search\n",
        "*   Adding a new key value\n",
        "*   Deleting a key value\n",
        "\n",
        "In addition to those helper methods have been added for:\n",
        "*   indicating if a node is under-full or over-full\n",
        "*   finding the next minimum value (useful on delete)\n",
        "*   to split a node (useful for fixing over-full nodes)\n",
        "*   to repair a under-full node by merging two sibling nodes (if the total is below 2k) or transfering left/right (if the total would exceed 2k)\n",
        "\n"
      ],
      "metadata": {
        "id": "D2QTHXFMdhi6"
      }
    },
    {
      "cell_type": "code",
      "execution_count": 18,
      "metadata": {
        "id": "fswrJTG73L_C"
      },
      "outputs": [],
      "source": [
        "class BTreeNode:\n",
        "    def __init__(self, k: int):\n",
        "        self.k = k\n",
        "        self.size = 0\n",
        "        self.is_leaf = True\n",
        "        # Both keys and children use one extra storage so accomodate an insert\n",
        "        # that might overspill the node prior to splitting (see insert function).\n",
        "        self.keys = [None] * (2 * k + 1)\n",
        "        self.children = [None] * (2 * k + 2)\n",
        "\n",
        "    def BTreeNodeSearch(self, target: Any) -> Any:\n",
        "        # Search the node's key list for the target.\n",
        "        # For simplicity sake we use a linear search, but a binary search is\n",
        "        # a good option as well.\n",
        "        i = 0\n",
        "        while i < self.size and target >= self.keys[i]:\n",
        "            # Check if we found a matching key in the current node.\n",
        "            if target == self.keys[i]:\n",
        "                return self.keys[i]\n",
        "            i += 1\n",
        "\n",
        "        # If we didn't find a match then descend to the correct child.\n",
        "        if self.is_leaf:\n",
        "            # Current node is a leaf then there's no match in the tree.\n",
        "            return None\n",
        "        return self.children[i].BTreeNodeSearch(target)\n",
        "\n",
        "    def BtreeNodeAddKey(self, key: Any, next_child: ForwardRef('BTreeNode')) -> None:\n",
        "        '''\n",
        "        Helper function to insert a key into a non-full node.\n",
        "        <next_child> is a pointer to the child node (the child after the new key).\n",
        "        For a leaf node the next_child pointer is ignored.\n",
        "        '''\n",
        "        # Start at the end of the keys array and move towards 0.\n",
        "        # At each step check if the new key should be inserted here\n",
        "        # and if not shift the elements of keys and children back one position.\n",
        "        i = self.size - 1\n",
        "        while i >= 0 and key < self.keys[i]:\n",
        "            self.keys[i + 1] = self.keys[i]\n",
        "            if not self.is_leaf:\n",
        "                self.children[i + 2] = self.children[i + 1]\n",
        "            i -= 1\n",
        "\n",
        "        # Insert both the key and the pointer to the child node.\n",
        "        # By this time we have already shifted the following elements.\n",
        "        self.keys[i + 1] = key\n",
        "        if not self.is_leaf:\n",
        "            self.children[i + 2] = next_child\n",
        "        # Adjust the size of the node with the new insertion.\n",
        "        self.size += 1\n",
        "\n",
        "    def BTreeNodeIsOverFull(self) -> bool:\n",
        "        '''\n",
        "        Helper function to indicate if the node goes beyond the limit of 2k items.\n",
        "        '''\n",
        "        return self.size == (2 * self.k + 1)\n",
        "\n",
        "    def BTreeNodeIsUnderFull(self) -> bool:\n",
        "        '''\n",
        "        Helper function to indicate if the node goes below the limit of k items.\n",
        "        '''\n",
        "        return self.size < self.k\n",
        "\n",
        "    def BTreeNodeSplit(self, child_index: int) -> None:\n",
        "        '''\n",
        "        Helper function that takes the index of a child of the node and splits\n",
        "        that child. Everything before that index is retained in the original\n",
        "        child. Everythign after that index is cleared from the child and added\n",
        "        to a newly created child node. The key at the index itself is cleared\n",
        "        from the child and added to the current (parent) node.\n",
        "        '''\n",
        "        # old_child is the node to split, new_child is the new empty sibling node.\n",
        "        # The new node is at the same level as old_child so copy is_leaf.\n",
        "        old_child = self.children[child_index]\n",
        "        new_child = BTreeNode(self.k)\n",
        "        new_child.is_leaf = old_child.is_leaf\n",
        "\n",
        "        # Get the index and key used for the split point for old_child.\n",
        "        split_index = int(old_child.size / 2)\n",
        "        split_key = old_child.keys[split_index]\n",
        "\n",
        "        # Copy the larger half of the keys (and their children) to new_child and erase them from old_child.\n",
        "        new_index = 0\n",
        "        old_index = split_index + 1\n",
        "        while old_index < old_child.size:\n",
        "            new_child.keys[new_index] = old_child.keys[old_index]\n",
        "            old_child.keys[old_index] = None\n",
        "\n",
        "            if not old_child.is_leaf:\n",
        "                new_child.children[new_index] = old_child.children[old_index]\n",
        "                old_child.children[old_index] = None\n",
        "            new_index += 1\n",
        "            old_index += 1\n",
        "\n",
        "        # Copy the remainining child (after the last key).\n",
        "        # This needs to be done since the children array is one element longer.\n",
        "        if not old_child.is_leaf:\n",
        "            new_child.children[new_index] = old_child.children[old_child.size]\n",
        "            old_child.children[old_child.size] = None\n",
        "\n",
        "        # Remove the key at index and add it to the current node.\n",
        "        old_child.keys[split_index] = None\n",
        "        self.BtreeNodeAddKey(split_key, new_child)\n",
        "\n",
        "        # Update the sizes of the nodes.\n",
        "        new_child.size = old_child.size - split_index - 1\n",
        "        old_child.size = split_index\n",
        "\n",
        "    def BTreeNodeInsert(self, key: Any) -> None:\n",
        "        '''\n",
        "        Insertion function. The addition is done at leaf level then recursively\n",
        "        return up the tree checking if the recently accessed child node is full\n",
        "        and it needs to be split.\n",
        "        '''\n",
        "        # First figure out the correct location for key in the keys array.\n",
        "        i = 0\n",
        "        while i < self.size and key >= self.keys[i]:\n",
        "            if key == self.keys[i]:\n",
        "                # Here we can update the data for this key\n",
        "                return\n",
        "            i += 1\n",
        "\n",
        "        if self.is_leaf:\n",
        "            # If the node is a leaf then just add the key (and shift the elements)\n",
        "            self.BtreeNodeAddKey(key, None)\n",
        "        else:\n",
        "            # Recursively insert into the child nodes\n",
        "            self.children[i].BTreeNodeInsert(key)\n",
        "            # Check if we insert too many elements and split the overfull child at the parent.\n",
        "            if self.children[i].BTreeNodeIsOverFull():\n",
        "                self.BTreeNodeSplit(i)\n",
        "\n",
        "    def BTreeNodeMerge(self, index: int) -> None:\n",
        "        '''\n",
        "        The merge function takes two sibling nodes (based on index)\n",
        "        together with the key separating them and combines them into a single\n",
        "        larger node. The larger node combined keys need to be less than 2k.\n",
        "        '''\n",
        "        # Start by retrieving both child nodes (left and right).\n",
        "        # All keys from the right child and the index key from the parent\n",
        "        # will be appended to the left child.\n",
        "        childL = self.children[index]\n",
        "        childR = self.children[index + 1]\n",
        "\n",
        "        # Copy over the parent's key and the right child's first child pointer.\n",
        "        # All keys in childL are less than the index key in parent.\n",
        "        loc = childL.size\n",
        "        childL.keys[loc] = self.keys[index]\n",
        "        if not childL.is_leaf:\n",
        "            childL.children[loc + 1] = childR.children[0]\n",
        "        loc += 1\n",
        "\n",
        "        # Copy over the right child's keys and children to the left child.\n",
        "        # All keys in childR are greater than the index key in the parent.\n",
        "        for i in range(childR.size):\n",
        "            childL.keys[loc + i] = childR.keys[i]\n",
        "            if not childL.is_leaf:\n",
        "                childL.children[loc + i + 1] = childR.children[i + 1]\n",
        "        childL.size += childR.size + 1\n",
        "\n",
        "        # Remove the key from the parent node by shifting the keys after index\n",
        "        # and pointers, setting the final ones to None and updating the size.\n",
        "        for i in range(index, self.size - 1):\n",
        "            self.keys[i] = self.keys[i + 1]\n",
        "            self.children[i + 1] = self.children[i + 2]\n",
        "\n",
        "        self.keys[self.size - 1] = None\n",
        "        self.children[self.size] = None\n",
        "        self.size -= 1\n",
        "\n",
        "    def BTreeNodeTransferLeft(self, index: int) -> None:\n",
        "        '''\n",
        "        Helper function to transfer a key from the right child to the left child\n",
        "        based on the parent key at index position.\n",
        "        '''\n",
        "        # Retrieve the two sibling child nodes and the separating key.\n",
        "        childL = self.children[index]\n",
        "        childR = self.children[index + 1]\n",
        "        middle_key = self.keys[index]\n",
        "\n",
        "        # Move the first key from right to parent (replaces the previous middle_key).\n",
        "        self.keys[index] = childR.keys[0]\n",
        "        # Add the previous separating key from parent and the first child from right\n",
        "        # at the end of the arrays of the left child.\n",
        "        childL.keys[childL.size] = middle_key\n",
        "        if not childR.is_leaf:\n",
        "            childL.children[childL.size + 1] = childR.children[0]\n",
        "        childL.size += 1\n",
        "\n",
        "        # Cleans up the right child by shifting over the remaining elements.\n",
        "        for i in range(childR.size - 1):\n",
        "            childR.keys[i] = childR.keys[i + 1]\n",
        "            if not childR.is_leaf:\n",
        "                childR.children[i] = childR.children[i + 1]\n",
        "\n",
        "        # Then marks the empty spots as None\n",
        "        childR.keys[childR.size - 1] = None\n",
        "        if not childR.is_leaf:\n",
        "            childR.children[childR.size - 1] = childR.children[childR.size]\n",
        "            childR.children[childR.size] = None\n",
        "        # At the end adjust the size.\n",
        "        childR.size -= 1\n",
        "\n",
        "    def BTreeNodeTransferRight(self, index: int) -> None:\n",
        "        '''\n",
        "        Helper function to transfer a key from a left child to a right child\n",
        "        based on the parent key at index position.\n",
        "        '''\n",
        "        # Retrieves the two sibling childs and the separating key.\n",
        "        childL = self.children[index]\n",
        "        childR = self.children[index + 1]\n",
        "        middle_key = self.keys[index]\n",
        "\n",
        "        # Make space in childR for the new key and pointer.\n",
        "        for i in range(childR.size - 1, -1, -1):\n",
        "            childR.keys[i + 1] = childR.keys[i]\n",
        "            if not childR.is_leaf:\n",
        "                childR.children[i + 2] = childR.children[i + 1]\n",
        "        if not childR.is_leaf:\n",
        "            childR.children[1] = childR.children[0]\n",
        "\n",
        "        # Appends the previous separating key from the parent and the last\n",
        "        # child pointer from left to the beginning of the right child.\n",
        "        childR.keys[0] = middle_key\n",
        "        if not childR.is_leaf:\n",
        "            childR.children[0] = childL.children[childL.size]\n",
        "        childR.size += 1\n",
        "\n",
        "        # Moves the last key in the left child to the parent replacing the\n",
        "        # previous separating key.\n",
        "        self.keys[index] = childL.keys[childL.size - 1]\n",
        "\n",
        "        # Cleans up the left child by marking the now empty entries with None\n",
        "        # and adjusting the size.\n",
        "        childL.keys[childL.size - 1] = None\n",
        "        if not childL.is_leaf:\n",
        "            childL.children[childL.size] = None\n",
        "        childL.size -= 1\n",
        "\n",
        "    def BTreeNodeRepairUnderFull(self, child: int) -> None:\n",
        "        '''\n",
        "        Helper function to repair a under-full child of the current node.\n",
        "        It encapsulates the previous transfer functions chosen based on the two\n",
        "        children's total number of keys.\n",
        "        '''\n",
        "        # We use a simplistic approach of always using the next child (child+1)\n",
        "        # unless we are repairing the last child. If we are repairing the last\n",
        "        # child then use the previous child for its sibling.\n",
        "        if child == self.size:\n",
        "            child -= 1\n",
        "        # Check the total count of keys in the two child nodes.\n",
        "        total = self.children[child].size + self.children[child + 1].size\n",
        "\n",
        "        # If the total is small enough (under 2k) then just merge the nodes.\n",
        "        if total < 2 * self.k:\n",
        "            self.BTreeNodeMerge(child)\n",
        "            return\n",
        "\n",
        "        # If total is 2k or more then move a single key to the smaller node.\n",
        "        if self.children[child].size < self.children[child + 1].size:\n",
        "            self.BTreeNodeTransferLeft(child)\n",
        "        else:\n",
        "            self.BTreeNodeTransferRight(child)\n",
        "\n",
        "    def BTreeNodeFindMin(self) -> Any:\n",
        "        '''\n",
        "        Helper function to find and return the minimum key at or below a given node.\n",
        "        '''\n",
        "        # If the node is empty then there is no minimum key here so return None.\n",
        "        # This can only happen in an empty root node.\n",
        "        if self.size == 0:\n",
        "            return None\n",
        "        # If the node is a leaf then return the first key (it's the minimum).\n",
        "        if self.is_leaf:\n",
        "            return self.keys[0]\n",
        "        else:\n",
        "            # If the node is internal then recursively check the first child.\n",
        "            return self.children[0].BTreeNodeFindMin()\n",
        "\n",
        "    def BTreeNodeDelete(self, key: Any) -> None:\n",
        "        '''\n",
        "        Function to remove a particular key by recursively descending the tree.\n",
        "        If the number of keys is reduced below the minimum k, then the under-full\n",
        "        child needs to be repaired.\n",
        "        '''\n",
        "        # Search for the key to delete in the current node.\n",
        "        # The while loop will terminate when i is the index matching the key.\n",
        "        i = 0\n",
        "        while i < self.size and key > self.keys[i]:\n",
        "            i += 1\n",
        "\n",
        "        # Deletion from a leaf node.\n",
        "        if self.is_leaf:\n",
        "            if i < self.size and key == self.keys[i]:\n",
        "                # Deletion is done by shifting over the keys.\n",
        "                while i < self.size - 1:\n",
        "                    self.keys[i] = self.keys[i + 1]\n",
        "                    i += 1\n",
        "                # The last element is set to None and size is updated.\n",
        "                self.keys[i] = None\n",
        "                self.size -= 1\n",
        "            # If the key is not found and node is a leaf the code just returns.\n",
        "            return\n",
        "\n",
        "        # Deletion at an internal node.\n",
        "        # First case: the key is found in the node.\n",
        "        if i < self.size and key == self.keys[i]:\n",
        "            # It needs to replace the key with the key that immediately follows\n",
        "            # the target key in sorted order.\n",
        "            min_key = self.children[i + 1].BTreeNodeFindMin()\n",
        "            self.keys[i] = min_key\n",
        "\n",
        "            # Then delete this following key from the child subtree and fix the\n",
        "            # child if needed.\n",
        "            self.children[i + 1].BTreeNodeDelete(min_key)\n",
        "            if self.children[i + 1].BTreeNodeIsUnderFull():\n",
        "                self.BTreeNodeRepairUnderFull(i + 1)\n",
        "        else:\n",
        "            # Second case: target key is not in the internal node so\n",
        "            # recursively call the function on the appropriate child and fix it.\n",
        "            self.children[i].BTreeNodeDelete(key)\n",
        "            if self.children[i].BTreeNodeIsUnderFull():\n",
        "                self.BTreeNodeRepairUnderFull(i)\n"
      ]
    },
    {
      "cell_type": "markdown",
      "source": [
        "A BTree class to represent a B-Tree. Each B-Tree has a root node and a minimum k size applicable to all nodes in that tree."
      ],
      "metadata": {
        "id": "_EQ-try4hXPz"
      }
    },
    {
      "cell_type": "code",
      "source": [
        "class BTree:\n",
        "    def __init__(self, k: int):\n",
        "        self.k = k\n",
        "        self.root = BTreeNode(k)\n",
        "\n",
        "    def BTreeSearch(self, target: Any) -> Any:\n",
        "        return self.root.BTreeNodeSearch(target)\n",
        "\n",
        "    def BTreeInsert(self, key: Any) -> None:\n",
        "        '''\n",
        "        Insert a new key in the BTree and handle the special case for the root\n",
        "        node (splitting the rood node = increase the height of the tree).\n",
        "        '''\n",
        "        # Start by inserting the key into the root node. This will recursively\n",
        "        # descend the tree, insert the key in the right location then return\n",
        "        # and fix all nodes except the root.\n",
        "        self.root.BTreeNodeInsert(key)\n",
        "\n",
        "        # Check if the root node has too many elements.\n",
        "        if self.root.BTreeNodeIsOverFull():\n",
        "            # We add a new level by creating a new root node.\n",
        "            new_root = BTreeNode(self.k)\n",
        "            new_root.is_leaf = False\n",
        "            new_root.size = 0\n",
        "\n",
        "            # Old root is a child of the new root which is then split.\n",
        "            # After the split the new root will have exactly one key and two children.\n",
        "            new_root.children[0] = self.root\n",
        "            new_root.BTreeNodeSplit(0)\n",
        "            self.root = new_root\n",
        "\n",
        "    def BTreeDelete(self, key: Any) -> Any:\n",
        "        '''\n",
        "        Delete function for a target key. It recursively calls the delete\n",
        "        function using the root node.\n",
        "        '''\n",
        "        self.root.BTreeNodeDelete(key)\n",
        "\n",
        "        # If the root becomes empty then remove a level from the tree.\n",
        "        if self.root.size == 0 and not self.root.is_leaf:\n",
        "            self.root = self.root.children[0]"
      ],
      "metadata": {
        "id": "SafvdagiGul7"
      },
      "execution_count": 19,
      "outputs": []
    },
    {
      "cell_type": "markdown",
      "source": [
        "Some utility function to be able to draw a btree representation using graphviz.\n",
        "The function will draw each node as a set of records with children pointers (represented as a * character) interlaced with key values."
      ],
      "metadata": {
        "id": "zfXVZ5TUQHop"
      }
    },
    {
      "cell_type": "code",
      "source": [
        "import graphviz\n",
        "from graphviz import nohtml\n",
        "\n",
        "def visualize_btree(btree: BTree) -> graphviz.Digraph:\n",
        "    dot = graphviz.Digraph(node_attr={'shape':'record', 'height':'.1'})\n",
        "\n",
        "    def generate_node(node: BTreeNode) -> Tuple[str, str]:\n",
        "        name = []\n",
        "        content = []\n",
        "        for i, key in enumerate(node.keys):\n",
        "            # Put a * cell for a children node pointer.\n",
        "            if node.children[i] != None:\n",
        "                content.append(f'<f{i}> *|')\n",
        "            # Put a cell with the key value.\n",
        "            if key != None:\n",
        "                name.append(str(key))\n",
        "                content.append(f' {str(key)}|')\n",
        "            # Make sure to remove the last empty cell (don't put a | at the end).\n",
        "            if i == len(node.keys) - 1 and node.children[-1] == None:\n",
        "                content[-1] = content[-1][:-1]\n",
        "        if node.children[-1] != None:\n",
        "            content.append(f'<f{len(node.children) - 1}> *')\n",
        "        return (''.join(name), ''.join(content))\n",
        "\n",
        "    def visualize_btreenode(node: BTreeNode, dot: graphviz.Digraph) -> str:\n",
        "        name, content = generate_node(node)\n",
        "        dot.node(name, nohtml(content))\n",
        "\n",
        "        for i, child in enumerate(node.children):\n",
        "            if child != None:\n",
        "                child_name = visualize_btreenode(child, dot)\n",
        "                dot.edge(f'{name}:f{i}', f'{child_name}')\n",
        "        return name\n",
        "\n",
        "    visualize_btreenode(btree.root, dot)\n",
        "\n",
        "    return dot"
      ],
      "metadata": {
        "id": "qaetRULVyy0i"
      },
      "execution_count": 20,
      "outputs": []
    },
    {
      "cell_type": "markdown",
      "source": [
        "Some example of building a BTree. At the end we display it."
      ],
      "metadata": {
        "id": "r07WaQ-CQeni"
      }
    },
    {
      "cell_type": "code",
      "source": [
        "btree = BTree(2)\n",
        "keys = [1, 12, 13, 17, 31, 45, 32, 26, 42, 61, 54, 57, 91, 86, 95, 73, 80, 51]\n",
        "for key in keys:\n",
        "    btree.BTreeInsert(key)\n",
        "\n",
        "visualize_btree(btree)"
      ],
      "metadata": {
        "colab": {
          "base_uri": "https://localhost:8080/",
          "height": 224
        },
        "id": "ThUZd25M30yl",
        "outputId": "f35fbad7-6c8d-435c-ff92-1cf3e9db0db6"
      },
      "execution_count": 21,
      "outputs": [
        {
          "output_type": "execute_result",
          "data": {
            "image/svg+xml": "<?xml version=\"1.0\" encoding=\"UTF-8\" standalone=\"no\"?>\n<!DOCTYPE svg PUBLIC \"-//W3C//DTD SVG 1.1//EN\"\n \"http://www.w3.org/Graphics/SVG/1.1/DTD/svg11.dtd\">\n<!-- Generated by graphviz version 2.43.0 (0)\n -->\n<!-- Title: %3 Pages: 1 -->\n<svg width=\"482pt\" height=\"152pt\"\n viewBox=\"0.00 0.00 482.00 152.00\" xmlns=\"http://www.w3.org/2000/svg\" xmlns:xlink=\"http://www.w3.org/1999/xlink\">\n<g id=\"graph0\" class=\"graph\" transform=\"scale(1 1) rotate(0) translate(4 148)\">\n<title>%3</title>\n<polygon fill=\"white\" stroke=\"transparent\" points=\"-4,4 -4,-148 478,-148 478,4 -4,4\"/>\n<!-- 45 -->\n<g id=\"node1\" class=\"node\">\n<title>45</title>\n<polygon fill=\"none\" stroke=\"black\" points=\"192,-120.5 192,-143.5 268,-143.5 268,-120.5 192,-120.5\"/>\n<text text-anchor=\"middle\" x=\"203.5\" y=\"-128.3\" font-family=\"Times,serif\" font-size=\"14.00\">*</text>\n<polyline fill=\"none\" stroke=\"black\" points=\"215,-120.5 215,-143.5 \"/>\n<text text-anchor=\"middle\" x=\"230\" y=\"-128.3\" font-family=\"Times,serif\" font-size=\"14.00\">45</text>\n<polyline fill=\"none\" stroke=\"black\" points=\"245,-120.5 245,-143.5 \"/>\n<text text-anchor=\"middle\" x=\"256.5\" y=\"-128.3\" font-family=\"Times,serif\" font-size=\"14.00\">*</text>\n</g>\n<!-- 1331 -->\n<g id=\"node2\" class=\"node\">\n<title>1331</title>\n<polygon fill=\"none\" stroke=\"black\" points=\"49.5,-60.5 49.5,-83.5 178.5,-83.5 178.5,-60.5 49.5,-60.5\"/>\n<text text-anchor=\"middle\" x=\"61\" y=\"-68.3\" font-family=\"Times,serif\" font-size=\"14.00\">*</text>\n<polyline fill=\"none\" stroke=\"black\" points=\"72.5,-60.5 72.5,-83.5 \"/>\n<text text-anchor=\"middle\" x=\"87.5\" y=\"-68.3\" font-family=\"Times,serif\" font-size=\"14.00\">13</text>\n<polyline fill=\"none\" stroke=\"black\" points=\"102.5,-60.5 102.5,-83.5 \"/>\n<text text-anchor=\"middle\" x=\"114\" y=\"-68.3\" font-family=\"Times,serif\" font-size=\"14.00\">*</text>\n<polyline fill=\"none\" stroke=\"black\" points=\"125.5,-60.5 125.5,-83.5 \"/>\n<text text-anchor=\"middle\" x=\"140.5\" y=\"-68.3\" font-family=\"Times,serif\" font-size=\"14.00\">31</text>\n<polyline fill=\"none\" stroke=\"black\" points=\"155.5,-60.5 155.5,-83.5 \"/>\n<text text-anchor=\"middle\" x=\"167\" y=\"-68.3\" font-family=\"Times,serif\" font-size=\"14.00\">*</text>\n</g>\n<!-- 45&#45;&gt;1331 -->\n<g id=\"edge4\" class=\"edge\">\n<title>45:f0&#45;&gt;1331</title>\n<path fill=\"none\" stroke=\"black\" d=\"M191,-132C164.18,-132 140.93,-109.17 127.19,-91.91\"/>\n<polygon fill=\"black\" stroke=\"black\" points=\"129.71,-89.44 120.9,-83.55 124.11,-93.64 129.71,-89.44\"/>\n</g>\n<!-- 6186 -->\n<g id=\"node6\" class=\"node\">\n<title>6186</title>\n<polygon fill=\"none\" stroke=\"black\" points=\"281.5,-60.5 281.5,-83.5 410.5,-83.5 410.5,-60.5 281.5,-60.5\"/>\n<text text-anchor=\"middle\" x=\"293\" y=\"-68.3\" font-family=\"Times,serif\" font-size=\"14.00\">*</text>\n<polyline fill=\"none\" stroke=\"black\" points=\"304.5,-60.5 304.5,-83.5 \"/>\n<text text-anchor=\"middle\" x=\"319.5\" y=\"-68.3\" font-family=\"Times,serif\" font-size=\"14.00\">61</text>\n<polyline fill=\"none\" stroke=\"black\" points=\"334.5,-60.5 334.5,-83.5 \"/>\n<text text-anchor=\"middle\" x=\"346\" y=\"-68.3\" font-family=\"Times,serif\" font-size=\"14.00\">*</text>\n<polyline fill=\"none\" stroke=\"black\" points=\"357.5,-60.5 357.5,-83.5 \"/>\n<text text-anchor=\"middle\" x=\"372.5\" y=\"-68.3\" font-family=\"Times,serif\" font-size=\"14.00\">86</text>\n<polyline fill=\"none\" stroke=\"black\" points=\"387.5,-60.5 387.5,-83.5 \"/>\n<text text-anchor=\"middle\" x=\"399\" y=\"-68.3\" font-family=\"Times,serif\" font-size=\"14.00\">*</text>\n</g>\n<!-- 45&#45;&gt;6186 -->\n<g id=\"edge8\" class=\"edge\">\n<title>45:f1&#45;&gt;6186</title>\n<path fill=\"none\" stroke=\"black\" d=\"M269,-132C295.82,-132 319.07,-109.17 332.81,-91.91\"/>\n<polygon fill=\"black\" stroke=\"black\" points=\"335.89,-93.64 339.1,-83.55 330.29,-89.44 335.89,-93.64\"/>\n</g>\n<!-- 112 -->\n<g id=\"node3\" class=\"node\">\n<title>112</title>\n<polygon fill=\"none\" stroke=\"black\" points=\"0,-0.5 0,-23.5 54,-23.5 54,-0.5 0,-0.5\"/>\n<text text-anchor=\"middle\" x=\"11.5\" y=\"-8.3\" font-family=\"Times,serif\" font-size=\"14.00\">1</text>\n<polyline fill=\"none\" stroke=\"black\" points=\"23,-0.5 23,-23.5 \"/>\n<text text-anchor=\"middle\" x=\"38.5\" y=\"-8.3\" font-family=\"Times,serif\" font-size=\"14.00\">12</text>\n</g>\n<!-- 1331&#45;&gt;112 -->\n<g id=\"edge1\" class=\"edge\">\n<title>1331:f0&#45;&gt;112</title>\n<path fill=\"none\" stroke=\"black\" d=\"M61,-60C61,-49.12 54.95,-39.06 47.95,-31.06\"/>\n<polygon fill=\"black\" stroke=\"black\" points=\"50.33,-28.48 40.83,-23.79 45.33,-33.38 50.33,-28.48\"/>\n</g>\n<!-- 1726 -->\n<g id=\"node4\" class=\"node\">\n<title>1726</title>\n<polygon fill=\"none\" stroke=\"black\" points=\"72,-0.5 72,-23.5 132,-23.5 132,-0.5 72,-0.5\"/>\n<text text-anchor=\"middle\" x=\"87\" y=\"-8.3\" font-family=\"Times,serif\" font-size=\"14.00\">17</text>\n<polyline fill=\"none\" stroke=\"black\" points=\"102,-0.5 102,-23.5 \"/>\n<text text-anchor=\"middle\" x=\"117\" y=\"-8.3\" font-family=\"Times,serif\" font-size=\"14.00\">26</text>\n</g>\n<!-- 1331&#45;&gt;1726 -->\n<g id=\"edge2\" class=\"edge\">\n<title>1331:f1&#45;&gt;1726</title>\n<path fill=\"none\" stroke=\"black\" d=\"M114,-60C114,-51.1 111.95,-41.54 109.55,-33.38\"/>\n<polygon fill=\"black\" stroke=\"black\" points=\"112.79,-32.03 106.33,-23.63 106.15,-34.22 112.79,-32.03\"/>\n</g>\n<!-- 3242 -->\n<g id=\"node5\" class=\"node\">\n<title>3242</title>\n<polygon fill=\"none\" stroke=\"black\" points=\"150,-0.5 150,-23.5 210,-23.5 210,-0.5 150,-0.5\"/>\n<text text-anchor=\"middle\" x=\"165\" y=\"-8.3\" font-family=\"Times,serif\" font-size=\"14.00\">32</text>\n<polyline fill=\"none\" stroke=\"black\" points=\"180,-0.5 180,-23.5 \"/>\n<text text-anchor=\"middle\" x=\"195\" y=\"-8.3\" font-family=\"Times,serif\" font-size=\"14.00\">42</text>\n</g>\n<!-- 1331&#45;&gt;3242 -->\n<g id=\"edge3\" class=\"edge\">\n<title>1331:f2&#45;&gt;3242</title>\n<path fill=\"none\" stroke=\"black\" d=\"M167,-60C167,-50.95 169.27,-41.27 171.91,-33.05\"/>\n<polygon fill=\"black\" stroke=\"black\" points=\"175.22,-34.19 175.31,-23.6 168.63,-31.82 175.22,-34.19\"/>\n</g>\n<!-- 515457 -->\n<g id=\"node7\" class=\"node\">\n<title>515457</title>\n<polygon fill=\"none\" stroke=\"black\" points=\"228,-0.5 228,-23.5 318,-23.5 318,-0.5 228,-0.5\"/>\n<text text-anchor=\"middle\" x=\"243\" y=\"-8.3\" font-family=\"Times,serif\" font-size=\"14.00\">51</text>\n<polyline fill=\"none\" stroke=\"black\" points=\"258,-0.5 258,-23.5 \"/>\n<text text-anchor=\"middle\" x=\"273\" y=\"-8.3\" font-family=\"Times,serif\" font-size=\"14.00\">54</text>\n<polyline fill=\"none\" stroke=\"black\" points=\"288,-0.5 288,-23.5 \"/>\n<text text-anchor=\"middle\" x=\"303\" y=\"-8.3\" font-family=\"Times,serif\" font-size=\"14.00\">57</text>\n</g>\n<!-- 6186&#45;&gt;515457 -->\n<g id=\"edge5\" class=\"edge\">\n<title>6186:f0&#45;&gt;515457</title>\n<path fill=\"none\" stroke=\"black\" d=\"M293,-60C293,-50.44 289.45,-40.6 285.35,-32.4\"/>\n<polygon fill=\"black\" stroke=\"black\" points=\"288.39,-30.67 280.45,-23.66 282.28,-34.09 288.39,-30.67\"/>\n</g>\n<!-- 7380 -->\n<g id=\"node8\" class=\"node\">\n<title>7380</title>\n<polygon fill=\"none\" stroke=\"black\" points=\"336,-0.5 336,-23.5 396,-23.5 396,-0.5 336,-0.5\"/>\n<text text-anchor=\"middle\" x=\"351\" y=\"-8.3\" font-family=\"Times,serif\" font-size=\"14.00\">73</text>\n<polyline fill=\"none\" stroke=\"black\" points=\"366,-0.5 366,-23.5 \"/>\n<text text-anchor=\"middle\" x=\"381\" y=\"-8.3\" font-family=\"Times,serif\" font-size=\"14.00\">80</text>\n</g>\n<!-- 6186&#45;&gt;7380 -->\n<g id=\"edge6\" class=\"edge\">\n<title>6186:f1&#45;&gt;7380</title>\n<path fill=\"none\" stroke=\"black\" d=\"M346,-60C346,-50.44 349.55,-40.6 353.65,-32.4\"/>\n<polygon fill=\"black\" stroke=\"black\" points=\"356.72,-34.09 358.55,-23.66 350.61,-30.67 356.72,-34.09\"/>\n</g>\n<!-- 9195 -->\n<g id=\"node9\" class=\"node\">\n<title>9195</title>\n<polygon fill=\"none\" stroke=\"black\" points=\"414,-0.5 414,-23.5 474,-23.5 474,-0.5 414,-0.5\"/>\n<text text-anchor=\"middle\" x=\"429\" y=\"-8.3\" font-family=\"Times,serif\" font-size=\"14.00\">91</text>\n<polyline fill=\"none\" stroke=\"black\" points=\"444,-0.5 444,-23.5 \"/>\n<text text-anchor=\"middle\" x=\"459\" y=\"-8.3\" font-family=\"Times,serif\" font-size=\"14.00\">95</text>\n</g>\n<!-- 6186&#45;&gt;9195 -->\n<g id=\"edge7\" class=\"edge\">\n<title>6186:f2&#45;&gt;9195</title>\n<path fill=\"none\" stroke=\"black\" d=\"M399,-60C399,-47.86 406.94,-37.62 416.14,-29.84\"/>\n<polygon fill=\"black\" stroke=\"black\" points=\"418.5,-32.44 424.39,-23.64 414.3,-26.85 418.5,-32.44\"/>\n</g>\n</g>\n</svg>\n",
            "text/plain": [
              "<graphviz.graphs.Digraph at 0x7ea2db09d660>"
            ]
          },
          "metadata": {},
          "execution_count": 21
        }
      ]
    },
    {
      "cell_type": "markdown",
      "source": [
        "Then add one more key and see the tree again. Notice how the key is added to the leaf node as there's still room."
      ],
      "metadata": {
        "id": "hHE_To6e5YRn"
      }
    },
    {
      "cell_type": "code",
      "source": [
        "btree.BTreeInsert(58)\n",
        "visualize_btree(btree)"
      ],
      "metadata": {
        "colab": {
          "base_uri": "https://localhost:8080/",
          "height": 224
        },
        "id": "K_1E_GJR5bms",
        "outputId": "d9e3747c-effb-484b-f749-d186f6ae56d8"
      },
      "execution_count": 22,
      "outputs": [
        {
          "output_type": "execute_result",
          "data": {
            "image/svg+xml": "<?xml version=\"1.0\" encoding=\"UTF-8\" standalone=\"no\"?>\n<!DOCTYPE svg PUBLIC \"-//W3C//DTD SVG 1.1//EN\"\n \"http://www.w3.org/Graphics/SVG/1.1/DTD/svg11.dtd\">\n<!-- Generated by graphviz version 2.43.0 (0)\n -->\n<!-- Title: %3 Pages: 1 -->\n<svg width=\"512pt\" height=\"152pt\"\n viewBox=\"0.00 0.00 512.00 152.00\" xmlns=\"http://www.w3.org/2000/svg\" xmlns:xlink=\"http://www.w3.org/1999/xlink\">\n<g id=\"graph0\" class=\"graph\" transform=\"scale(1 1) rotate(0) translate(4 148)\">\n<title>%3</title>\n<polygon fill=\"white\" stroke=\"transparent\" points=\"-4,4 -4,-148 508,-148 508,4 -4,4\"/>\n<!-- 45 -->\n<g id=\"node1\" class=\"node\">\n<title>45</title>\n<polygon fill=\"none\" stroke=\"black\" points=\"203,-120.5 203,-143.5 279,-143.5 279,-120.5 203,-120.5\"/>\n<text text-anchor=\"middle\" x=\"214.5\" y=\"-128.3\" font-family=\"Times,serif\" font-size=\"14.00\">*</text>\n<polyline fill=\"none\" stroke=\"black\" points=\"226,-120.5 226,-143.5 \"/>\n<text text-anchor=\"middle\" x=\"241\" y=\"-128.3\" font-family=\"Times,serif\" font-size=\"14.00\">45</text>\n<polyline fill=\"none\" stroke=\"black\" points=\"256,-120.5 256,-143.5 \"/>\n<text text-anchor=\"middle\" x=\"267.5\" y=\"-128.3\" font-family=\"Times,serif\" font-size=\"14.00\">*</text>\n</g>\n<!-- 1331 -->\n<g id=\"node2\" class=\"node\">\n<title>1331</title>\n<polygon fill=\"none\" stroke=\"black\" points=\"49.5,-60.5 49.5,-83.5 178.5,-83.5 178.5,-60.5 49.5,-60.5\"/>\n<text text-anchor=\"middle\" x=\"61\" y=\"-68.3\" font-family=\"Times,serif\" font-size=\"14.00\">*</text>\n<polyline fill=\"none\" stroke=\"black\" points=\"72.5,-60.5 72.5,-83.5 \"/>\n<text text-anchor=\"middle\" x=\"87.5\" y=\"-68.3\" font-family=\"Times,serif\" font-size=\"14.00\">13</text>\n<polyline fill=\"none\" stroke=\"black\" points=\"102.5,-60.5 102.5,-83.5 \"/>\n<text text-anchor=\"middle\" x=\"114\" y=\"-68.3\" font-family=\"Times,serif\" font-size=\"14.00\">*</text>\n<polyline fill=\"none\" stroke=\"black\" points=\"125.5,-60.5 125.5,-83.5 \"/>\n<text text-anchor=\"middle\" x=\"140.5\" y=\"-68.3\" font-family=\"Times,serif\" font-size=\"14.00\">31</text>\n<polyline fill=\"none\" stroke=\"black\" points=\"155.5,-60.5 155.5,-83.5 \"/>\n<text text-anchor=\"middle\" x=\"167\" y=\"-68.3\" font-family=\"Times,serif\" font-size=\"14.00\">*</text>\n</g>\n<!-- 45&#45;&gt;1331 -->\n<g id=\"edge4\" class=\"edge\">\n<title>45:f0&#45;&gt;1331</title>\n<path fill=\"none\" stroke=\"black\" d=\"M202,-132C172.44,-132 145.32,-108.75 129.22,-91.44\"/>\n<polygon fill=\"black\" stroke=\"black\" points=\"131.48,-88.72 122.24,-83.55 126.24,-93.36 131.48,-88.72\"/>\n</g>\n<!-- 6186 -->\n<g id=\"node6\" class=\"node\">\n<title>6186</title>\n<polygon fill=\"none\" stroke=\"black\" points=\"303.5,-60.5 303.5,-83.5 432.5,-83.5 432.5,-60.5 303.5,-60.5\"/>\n<text text-anchor=\"middle\" x=\"315\" y=\"-68.3\" font-family=\"Times,serif\" font-size=\"14.00\">*</text>\n<polyline fill=\"none\" stroke=\"black\" points=\"326.5,-60.5 326.5,-83.5 \"/>\n<text text-anchor=\"middle\" x=\"341.5\" y=\"-68.3\" font-family=\"Times,serif\" font-size=\"14.00\">61</text>\n<polyline fill=\"none\" stroke=\"black\" points=\"356.5,-60.5 356.5,-83.5 \"/>\n<text text-anchor=\"middle\" x=\"368\" y=\"-68.3\" font-family=\"Times,serif\" font-size=\"14.00\">*</text>\n<polyline fill=\"none\" stroke=\"black\" points=\"379.5,-60.5 379.5,-83.5 \"/>\n<text text-anchor=\"middle\" x=\"394.5\" y=\"-68.3\" font-family=\"Times,serif\" font-size=\"14.00\">86</text>\n<polyline fill=\"none\" stroke=\"black\" points=\"409.5,-60.5 409.5,-83.5 \"/>\n<text text-anchor=\"middle\" x=\"421\" y=\"-68.3\" font-family=\"Times,serif\" font-size=\"14.00\">*</text>\n</g>\n<!-- 45&#45;&gt;6186 -->\n<g id=\"edge8\" class=\"edge\">\n<title>45:f1&#45;&gt;6186</title>\n<path fill=\"none\" stroke=\"black\" d=\"M280,-132C309.56,-132 336.68,-108.75 352.78,-91.44\"/>\n<polygon fill=\"black\" stroke=\"black\" points=\"355.76,-93.36 359.76,-83.55 350.52,-88.72 355.76,-93.36\"/>\n</g>\n<!-- 112 -->\n<g id=\"node3\" class=\"node\">\n<title>112</title>\n<polygon fill=\"none\" stroke=\"black\" points=\"0,-0.5 0,-23.5 54,-23.5 54,-0.5 0,-0.5\"/>\n<text text-anchor=\"middle\" x=\"11.5\" y=\"-8.3\" font-family=\"Times,serif\" font-size=\"14.00\">1</text>\n<polyline fill=\"none\" stroke=\"black\" points=\"23,-0.5 23,-23.5 \"/>\n<text text-anchor=\"middle\" x=\"38.5\" y=\"-8.3\" font-family=\"Times,serif\" font-size=\"14.00\">12</text>\n</g>\n<!-- 1331&#45;&gt;112 -->\n<g id=\"edge1\" class=\"edge\">\n<title>1331:f0&#45;&gt;112</title>\n<path fill=\"none\" stroke=\"black\" d=\"M61,-60C61,-49.12 54.95,-39.06 47.95,-31.06\"/>\n<polygon fill=\"black\" stroke=\"black\" points=\"50.33,-28.48 40.83,-23.79 45.33,-33.38 50.33,-28.48\"/>\n</g>\n<!-- 1726 -->\n<g id=\"node4\" class=\"node\">\n<title>1726</title>\n<polygon fill=\"none\" stroke=\"black\" points=\"72,-0.5 72,-23.5 132,-23.5 132,-0.5 72,-0.5\"/>\n<text text-anchor=\"middle\" x=\"87\" y=\"-8.3\" font-family=\"Times,serif\" font-size=\"14.00\">17</text>\n<polyline fill=\"none\" stroke=\"black\" points=\"102,-0.5 102,-23.5 \"/>\n<text text-anchor=\"middle\" x=\"117\" y=\"-8.3\" font-family=\"Times,serif\" font-size=\"14.00\">26</text>\n</g>\n<!-- 1331&#45;&gt;1726 -->\n<g id=\"edge2\" class=\"edge\">\n<title>1331:f1&#45;&gt;1726</title>\n<path fill=\"none\" stroke=\"black\" d=\"M114,-60C114,-51.1 111.95,-41.54 109.55,-33.38\"/>\n<polygon fill=\"black\" stroke=\"black\" points=\"112.79,-32.03 106.33,-23.63 106.15,-34.22 112.79,-32.03\"/>\n</g>\n<!-- 3242 -->\n<g id=\"node5\" class=\"node\">\n<title>3242</title>\n<polygon fill=\"none\" stroke=\"black\" points=\"150,-0.5 150,-23.5 210,-23.5 210,-0.5 150,-0.5\"/>\n<text text-anchor=\"middle\" x=\"165\" y=\"-8.3\" font-family=\"Times,serif\" font-size=\"14.00\">32</text>\n<polyline fill=\"none\" stroke=\"black\" points=\"180,-0.5 180,-23.5 \"/>\n<text text-anchor=\"middle\" x=\"195\" y=\"-8.3\" font-family=\"Times,serif\" font-size=\"14.00\">42</text>\n</g>\n<!-- 1331&#45;&gt;3242 -->\n<g id=\"edge3\" class=\"edge\">\n<title>1331:f2&#45;&gt;3242</title>\n<path fill=\"none\" stroke=\"black\" d=\"M167,-60C167,-50.95 169.27,-41.27 171.91,-33.05\"/>\n<polygon fill=\"black\" stroke=\"black\" points=\"175.22,-34.19 175.31,-23.6 168.63,-31.82 175.22,-34.19\"/>\n</g>\n<!-- 51545758 -->\n<g id=\"node7\" class=\"node\">\n<title>51545758</title>\n<polygon fill=\"none\" stroke=\"black\" points=\"228,-0.5 228,-23.5 348,-23.5 348,-0.5 228,-0.5\"/>\n<text text-anchor=\"middle\" x=\"243\" y=\"-8.3\" font-family=\"Times,serif\" font-size=\"14.00\">51</text>\n<polyline fill=\"none\" stroke=\"black\" points=\"258,-0.5 258,-23.5 \"/>\n<text text-anchor=\"middle\" x=\"273\" y=\"-8.3\" font-family=\"Times,serif\" font-size=\"14.00\">54</text>\n<polyline fill=\"none\" stroke=\"black\" points=\"288,-0.5 288,-23.5 \"/>\n<text text-anchor=\"middle\" x=\"303\" y=\"-8.3\" font-family=\"Times,serif\" font-size=\"14.00\">57</text>\n<polyline fill=\"none\" stroke=\"black\" points=\"318,-0.5 318,-23.5 \"/>\n<text text-anchor=\"middle\" x=\"333\" y=\"-8.3\" font-family=\"Times,serif\" font-size=\"14.00\">58</text>\n</g>\n<!-- 6186&#45;&gt;51545758 -->\n<g id=\"edge5\" class=\"edge\">\n<title>6186:f0&#45;&gt;51545758</title>\n<path fill=\"none\" stroke=\"black\" d=\"M315,-60C315,-49.77 310.13,-39.76 304.53,-31.62\"/>\n<polygon fill=\"black\" stroke=\"black\" points=\"307.23,-29.39 298.36,-23.6 301.69,-33.66 307.23,-29.39\"/>\n</g>\n<!-- 7380 -->\n<g id=\"node8\" class=\"node\">\n<title>7380</title>\n<polygon fill=\"none\" stroke=\"black\" points=\"366,-0.5 366,-23.5 426,-23.5 426,-0.5 366,-0.5\"/>\n<text text-anchor=\"middle\" x=\"381\" y=\"-8.3\" font-family=\"Times,serif\" font-size=\"14.00\">73</text>\n<polyline fill=\"none\" stroke=\"black\" points=\"396,-0.5 396,-23.5 \"/>\n<text text-anchor=\"middle\" x=\"411\" y=\"-8.3\" font-family=\"Times,serif\" font-size=\"14.00\">80</text>\n</g>\n<!-- 6186&#45;&gt;7380 -->\n<g id=\"edge6\" class=\"edge\">\n<title>6186:f1&#45;&gt;7380</title>\n<path fill=\"none\" stroke=\"black\" d=\"M368,-60C368,-49.68 373.05,-39.65 378.86,-31.52\"/>\n<polygon fill=\"black\" stroke=\"black\" points=\"381.74,-33.53 385.25,-23.53 376.27,-29.15 381.74,-33.53\"/>\n</g>\n<!-- 9195 -->\n<g id=\"node9\" class=\"node\">\n<title>9195</title>\n<polygon fill=\"none\" stroke=\"black\" points=\"444,-0.5 444,-23.5 504,-23.5 504,-0.5 444,-0.5\"/>\n<text text-anchor=\"middle\" x=\"459\" y=\"-8.3\" font-family=\"Times,serif\" font-size=\"14.00\">91</text>\n<polyline fill=\"none\" stroke=\"black\" points=\"474,-0.5 474,-23.5 \"/>\n<text text-anchor=\"middle\" x=\"489\" y=\"-8.3\" font-family=\"Times,serif\" font-size=\"14.00\">95</text>\n</g>\n<!-- 6186&#45;&gt;9195 -->\n<g id=\"edge7\" class=\"edge\">\n<title>6186:f2&#45;&gt;9195</title>\n<path fill=\"none\" stroke=\"black\" d=\"M421,-60C421,-47 430.04,-36.72 440.66,-29.13\"/>\n<polygon fill=\"black\" stroke=\"black\" points=\"442.78,-31.93 449.36,-23.62 439.04,-26.01 442.78,-31.93\"/>\n</g>\n</g>\n</svg>\n",
            "text/plain": [
              "<graphviz.graphs.Digraph at 0x7ea2db09c2b0>"
            ]
          },
          "metadata": {},
          "execution_count": 22
        }
      ]
    },
    {
      "cell_type": "markdown",
      "source": [
        "Now we add one more key, the leaf node will be beyond capacity so we end up splitting it."
      ],
      "metadata": {
        "id": "VmNIZXTT7D_Z"
      }
    },
    {
      "cell_type": "code",
      "source": [
        "btree.BTreeInsert(59)\n",
        "visualize_btree(btree)"
      ],
      "metadata": {
        "colab": {
          "base_uri": "https://localhost:8080/",
          "height": 224
        },
        "id": "cW62YwDo7KQV",
        "outputId": "fec81292-3624-41ee-a1f4-9be0eedc2c9e"
      },
      "execution_count": 23,
      "outputs": [
        {
          "output_type": "execute_result",
          "data": {
            "image/svg+xml": "<?xml version=\"1.0\" encoding=\"UTF-8\" standalone=\"no\"?>\n<!DOCTYPE svg PUBLIC \"-//W3C//DTD SVG 1.1//EN\"\n \"http://www.w3.org/Graphics/SVG/1.1/DTD/svg11.dtd\">\n<!-- Generated by graphviz version 2.43.0 (0)\n -->\n<!-- Title: %3 Pages: 1 -->\n<svg width=\"530pt\" height=\"152pt\"\n viewBox=\"0.00 0.00 530.00 152.00\" xmlns=\"http://www.w3.org/2000/svg\" xmlns:xlink=\"http://www.w3.org/1999/xlink\">\n<g id=\"graph0\" class=\"graph\" transform=\"scale(1 1) rotate(0) translate(4 148)\">\n<title>%3</title>\n<polygon fill=\"white\" stroke=\"transparent\" points=\"-4,4 -4,-148 526,-148 526,4 -4,4\"/>\n<!-- 45 -->\n<g id=\"node1\" class=\"node\">\n<title>45</title>\n<polygon fill=\"none\" stroke=\"black\" points=\"206,-120.5 206,-143.5 282,-143.5 282,-120.5 206,-120.5\"/>\n<text text-anchor=\"middle\" x=\"217.5\" y=\"-128.3\" font-family=\"Times,serif\" font-size=\"14.00\">*</text>\n<polyline fill=\"none\" stroke=\"black\" points=\"229,-120.5 229,-143.5 \"/>\n<text text-anchor=\"middle\" x=\"244\" y=\"-128.3\" font-family=\"Times,serif\" font-size=\"14.00\">45</text>\n<polyline fill=\"none\" stroke=\"black\" points=\"259,-120.5 259,-143.5 \"/>\n<text text-anchor=\"middle\" x=\"270.5\" y=\"-128.3\" font-family=\"Times,serif\" font-size=\"14.00\">*</text>\n</g>\n<!-- 1331 -->\n<g id=\"node2\" class=\"node\">\n<title>1331</title>\n<polygon fill=\"none\" stroke=\"black\" points=\"49.5,-60.5 49.5,-83.5 178.5,-83.5 178.5,-60.5 49.5,-60.5\"/>\n<text text-anchor=\"middle\" x=\"61\" y=\"-68.3\" font-family=\"Times,serif\" font-size=\"14.00\">*</text>\n<polyline fill=\"none\" stroke=\"black\" points=\"72.5,-60.5 72.5,-83.5 \"/>\n<text text-anchor=\"middle\" x=\"87.5\" y=\"-68.3\" font-family=\"Times,serif\" font-size=\"14.00\">13</text>\n<polyline fill=\"none\" stroke=\"black\" points=\"102.5,-60.5 102.5,-83.5 \"/>\n<text text-anchor=\"middle\" x=\"114\" y=\"-68.3\" font-family=\"Times,serif\" font-size=\"14.00\">*</text>\n<polyline fill=\"none\" stroke=\"black\" points=\"125.5,-60.5 125.5,-83.5 \"/>\n<text text-anchor=\"middle\" x=\"140.5\" y=\"-68.3\" font-family=\"Times,serif\" font-size=\"14.00\">31</text>\n<polyline fill=\"none\" stroke=\"black\" points=\"155.5,-60.5 155.5,-83.5 \"/>\n<text text-anchor=\"middle\" x=\"167\" y=\"-68.3\" font-family=\"Times,serif\" font-size=\"14.00\">*</text>\n</g>\n<!-- 45&#45;&gt;1331 -->\n<g id=\"edge4\" class=\"edge\">\n<title>45:f0&#45;&gt;1331</title>\n<path fill=\"none\" stroke=\"black\" d=\"M205,-132C174.47,-132 146.1,-108.33 129.41,-90.97\"/>\n<polygon fill=\"black\" stroke=\"black\" points=\"131.94,-88.55 122.6,-83.55 126.78,-93.28 131.94,-88.55\"/>\n</g>\n<!-- 576186 -->\n<g id=\"node6\" class=\"node\">\n<title>576186</title>\n<polygon fill=\"none\" stroke=\"black\" points=\"272,-60.5 272,-83.5 454,-83.5 454,-60.5 272,-60.5\"/>\n<text text-anchor=\"middle\" x=\"283.5\" y=\"-68.3\" font-family=\"Times,serif\" font-size=\"14.00\">*</text>\n<polyline fill=\"none\" stroke=\"black\" points=\"295,-60.5 295,-83.5 \"/>\n<text text-anchor=\"middle\" x=\"310\" y=\"-68.3\" font-family=\"Times,serif\" font-size=\"14.00\">57</text>\n<polyline fill=\"none\" stroke=\"black\" points=\"325,-60.5 325,-83.5 \"/>\n<text text-anchor=\"middle\" x=\"336.5\" y=\"-68.3\" font-family=\"Times,serif\" font-size=\"14.00\">*</text>\n<polyline fill=\"none\" stroke=\"black\" points=\"348,-60.5 348,-83.5 \"/>\n<text text-anchor=\"middle\" x=\"363\" y=\"-68.3\" font-family=\"Times,serif\" font-size=\"14.00\">61</text>\n<polyline fill=\"none\" stroke=\"black\" points=\"378,-60.5 378,-83.5 \"/>\n<text text-anchor=\"middle\" x=\"389.5\" y=\"-68.3\" font-family=\"Times,serif\" font-size=\"14.00\">*</text>\n<polyline fill=\"none\" stroke=\"black\" points=\"401,-60.5 401,-83.5 \"/>\n<text text-anchor=\"middle\" x=\"416\" y=\"-68.3\" font-family=\"Times,serif\" font-size=\"14.00\">86</text>\n<polyline fill=\"none\" stroke=\"black\" points=\"431,-60.5 431,-83.5 \"/>\n<text text-anchor=\"middle\" x=\"442.5\" y=\"-68.3\" font-family=\"Times,serif\" font-size=\"14.00\">*</text>\n</g>\n<!-- 45&#45;&gt;576186 -->\n<g id=\"edge9\" class=\"edge\">\n<title>45:f1&#45;&gt;576186</title>\n<path fill=\"none\" stroke=\"black\" d=\"M283,-132C310.73,-132 335.17,-108.75 349.53,-91.44\"/>\n<polygon fill=\"black\" stroke=\"black\" points=\"352.3,-93.57 355.73,-83.55 346.8,-89.25 352.3,-93.57\"/>\n</g>\n<!-- 112 -->\n<g id=\"node3\" class=\"node\">\n<title>112</title>\n<polygon fill=\"none\" stroke=\"black\" points=\"0,-0.5 0,-23.5 54,-23.5 54,-0.5 0,-0.5\"/>\n<text text-anchor=\"middle\" x=\"11.5\" y=\"-8.3\" font-family=\"Times,serif\" font-size=\"14.00\">1</text>\n<polyline fill=\"none\" stroke=\"black\" points=\"23,-0.5 23,-23.5 \"/>\n<text text-anchor=\"middle\" x=\"38.5\" y=\"-8.3\" font-family=\"Times,serif\" font-size=\"14.00\">12</text>\n</g>\n<!-- 1331&#45;&gt;112 -->\n<g id=\"edge1\" class=\"edge\">\n<title>1331:f0&#45;&gt;112</title>\n<path fill=\"none\" stroke=\"black\" d=\"M61,-60C61,-49.12 54.95,-39.06 47.95,-31.06\"/>\n<polygon fill=\"black\" stroke=\"black\" points=\"50.33,-28.48 40.83,-23.79 45.33,-33.38 50.33,-28.48\"/>\n</g>\n<!-- 1726 -->\n<g id=\"node4\" class=\"node\">\n<title>1726</title>\n<polygon fill=\"none\" stroke=\"black\" points=\"72,-0.5 72,-23.5 132,-23.5 132,-0.5 72,-0.5\"/>\n<text text-anchor=\"middle\" x=\"87\" y=\"-8.3\" font-family=\"Times,serif\" font-size=\"14.00\">17</text>\n<polyline fill=\"none\" stroke=\"black\" points=\"102,-0.5 102,-23.5 \"/>\n<text text-anchor=\"middle\" x=\"117\" y=\"-8.3\" font-family=\"Times,serif\" font-size=\"14.00\">26</text>\n</g>\n<!-- 1331&#45;&gt;1726 -->\n<g id=\"edge2\" class=\"edge\">\n<title>1331:f1&#45;&gt;1726</title>\n<path fill=\"none\" stroke=\"black\" d=\"M114,-60C114,-51.1 111.95,-41.54 109.55,-33.38\"/>\n<polygon fill=\"black\" stroke=\"black\" points=\"112.79,-32.03 106.33,-23.63 106.15,-34.22 112.79,-32.03\"/>\n</g>\n<!-- 3242 -->\n<g id=\"node5\" class=\"node\">\n<title>3242</title>\n<polygon fill=\"none\" stroke=\"black\" points=\"150,-0.5 150,-23.5 210,-23.5 210,-0.5 150,-0.5\"/>\n<text text-anchor=\"middle\" x=\"165\" y=\"-8.3\" font-family=\"Times,serif\" font-size=\"14.00\">32</text>\n<polyline fill=\"none\" stroke=\"black\" points=\"180,-0.5 180,-23.5 \"/>\n<text text-anchor=\"middle\" x=\"195\" y=\"-8.3\" font-family=\"Times,serif\" font-size=\"14.00\">42</text>\n</g>\n<!-- 1331&#45;&gt;3242 -->\n<g id=\"edge3\" class=\"edge\">\n<title>1331:f2&#45;&gt;3242</title>\n<path fill=\"none\" stroke=\"black\" d=\"M167,-60C167,-50.95 169.27,-41.27 171.91,-33.05\"/>\n<polygon fill=\"black\" stroke=\"black\" points=\"175.22,-34.19 175.31,-23.6 168.63,-31.82 175.22,-34.19\"/>\n</g>\n<!-- 5154 -->\n<g id=\"node7\" class=\"node\">\n<title>5154</title>\n<polygon fill=\"none\" stroke=\"black\" points=\"228,-0.5 228,-23.5 288,-23.5 288,-0.5 228,-0.5\"/>\n<text text-anchor=\"middle\" x=\"243\" y=\"-8.3\" font-family=\"Times,serif\" font-size=\"14.00\">51</text>\n<polyline fill=\"none\" stroke=\"black\" points=\"258,-0.5 258,-23.5 \"/>\n<text text-anchor=\"middle\" x=\"273\" y=\"-8.3\" font-family=\"Times,serif\" font-size=\"14.00\">54</text>\n</g>\n<!-- 576186&#45;&gt;5154 -->\n<g id=\"edge5\" class=\"edge\">\n<title>576186:f0&#45;&gt;5154</title>\n<path fill=\"none\" stroke=\"black\" d=\"M283,-60C283,-50.06 278.59,-40.18 273.47,-32.06\"/>\n<polygon fill=\"black\" stroke=\"black\" points=\"276.22,-29.88 267.59,-23.73 270.5,-33.92 276.22,-29.88\"/>\n</g>\n<!-- 5859 -->\n<g id=\"node8\" class=\"node\">\n<title>5859</title>\n<polygon fill=\"none\" stroke=\"black\" points=\"306,-0.5 306,-23.5 366,-23.5 366,-0.5 306,-0.5\"/>\n<text text-anchor=\"middle\" x=\"321\" y=\"-8.3\" font-family=\"Times,serif\" font-size=\"14.00\">58</text>\n<polyline fill=\"none\" stroke=\"black\" points=\"336,-0.5 336,-23.5 \"/>\n<text text-anchor=\"middle\" x=\"351\" y=\"-8.3\" font-family=\"Times,serif\" font-size=\"14.00\">59</text>\n</g>\n<!-- 576186&#45;&gt;5859 -->\n<g id=\"edge6\" class=\"edge\">\n<title>576186:f1&#45;&gt;5859</title>\n<path fill=\"none\" stroke=\"black\" d=\"M336,-60C336,-51.47 336,-42.08 336,-33.94\"/>\n<polygon fill=\"black\" stroke=\"black\" points=\"339.5,-33.83 336,-23.83 332.5,-33.83 339.5,-33.83\"/>\n</g>\n<!-- 7380 -->\n<g id=\"node9\" class=\"node\">\n<title>7380</title>\n<polygon fill=\"none\" stroke=\"black\" points=\"384,-0.5 384,-23.5 444,-23.5 444,-0.5 384,-0.5\"/>\n<text text-anchor=\"middle\" x=\"399\" y=\"-8.3\" font-family=\"Times,serif\" font-size=\"14.00\">73</text>\n<polyline fill=\"none\" stroke=\"black\" points=\"414,-0.5 414,-23.5 \"/>\n<text text-anchor=\"middle\" x=\"429\" y=\"-8.3\" font-family=\"Times,serif\" font-size=\"14.00\">80</text>\n</g>\n<!-- 576186&#45;&gt;7380 -->\n<g id=\"edge7\" class=\"edge\">\n<title>576186:f2&#45;&gt;7380</title>\n<path fill=\"none\" stroke=\"black\" d=\"M390,-60C390,-50.15 394.23,-40.28 399.15,-32.15\"/>\n<polygon fill=\"black\" stroke=\"black\" points=\"402.09,-34.04 404.79,-23.8 396.29,-30.12 402.09,-34.04\"/>\n</g>\n<!-- 9195 -->\n<g id=\"node10\" class=\"node\">\n<title>9195</title>\n<polygon fill=\"none\" stroke=\"black\" points=\"462,-0.5 462,-23.5 522,-23.5 522,-0.5 462,-0.5\"/>\n<text text-anchor=\"middle\" x=\"477\" y=\"-8.3\" font-family=\"Times,serif\" font-size=\"14.00\">91</text>\n<polyline fill=\"none\" stroke=\"black\" points=\"492,-0.5 492,-23.5 \"/>\n<text text-anchor=\"middle\" x=\"507\" y=\"-8.3\" font-family=\"Times,serif\" font-size=\"14.00\">95</text>\n</g>\n<!-- 576186&#45;&gt;9195 -->\n<g id=\"edge8\" class=\"edge\">\n<title>576186:f3&#45;&gt;9195</title>\n<path fill=\"none\" stroke=\"black\" d=\"M443,-60C443,-47.38 451.57,-37.1 461.53,-29.41\"/>\n<polygon fill=\"black\" stroke=\"black\" points=\"463.8,-32.09 470.08,-23.56 459.85,-26.32 463.8,-32.09\"/>\n</g>\n</g>\n</svg>\n",
            "text/plain": [
              "<graphviz.graphs.Digraph at 0x7ea2db09d630>"
            ]
          },
          "metadata": {},
          "execution_count": 23
        }
      ]
    },
    {
      "cell_type": "markdown",
      "source": [
        "We add more nodes and display it."
      ],
      "metadata": {
        "id": "qDkemyeSTDkt"
      }
    },
    {
      "cell_type": "code",
      "source": [
        "btree.BTreeInsert(100)\n",
        "btree.BTreeInsert(81)\n",
        "btree.BTreeInsert(82)\n",
        "visualize_btree(btree)"
      ],
      "metadata": {
        "colab": {
          "base_uri": "https://localhost:8080/",
          "height": 224
        },
        "id": "OETkEpw0TI_l",
        "outputId": "1a0a11a2-a4ce-444c-bb77-993c7393f29c"
      },
      "execution_count": 24,
      "outputs": [
        {
          "output_type": "execute_result",
          "data": {
            "image/svg+xml": "<?xml version=\"1.0\" encoding=\"UTF-8\" standalone=\"no\"?>\n<!DOCTYPE svg PUBLIC \"-//W3C//DTD SVG 1.1//EN\"\n \"http://www.w3.org/Graphics/SVG/1.1/DTD/svg11.dtd\">\n<!-- Generated by graphviz version 2.43.0 (0)\n -->\n<!-- Title: %3 Pages: 1 -->\n<svg width=\"628pt\" height=\"152pt\"\n viewBox=\"0.00 0.00 627.50 152.00\" xmlns=\"http://www.w3.org/2000/svg\" xmlns:xlink=\"http://www.w3.org/1999/xlink\">\n<g id=\"graph0\" class=\"graph\" transform=\"scale(1 1) rotate(0) translate(4 148)\">\n<title>%3</title>\n<polygon fill=\"white\" stroke=\"transparent\" points=\"-4,4 -4,-148 623.5,-148 623.5,4 -4,4\"/>\n<!-- 45 -->\n<g id=\"node1\" class=\"node\">\n<title>45</title>\n<polygon fill=\"none\" stroke=\"black\" points=\"206,-120.5 206,-143.5 282,-143.5 282,-120.5 206,-120.5\"/>\n<text text-anchor=\"middle\" x=\"217.5\" y=\"-128.3\" font-family=\"Times,serif\" font-size=\"14.00\">*</text>\n<polyline fill=\"none\" stroke=\"black\" points=\"229,-120.5 229,-143.5 \"/>\n<text text-anchor=\"middle\" x=\"244\" y=\"-128.3\" font-family=\"Times,serif\" font-size=\"14.00\">45</text>\n<polyline fill=\"none\" stroke=\"black\" points=\"259,-120.5 259,-143.5 \"/>\n<text text-anchor=\"middle\" x=\"270.5\" y=\"-128.3\" font-family=\"Times,serif\" font-size=\"14.00\">*</text>\n</g>\n<!-- 1331 -->\n<g id=\"node2\" class=\"node\">\n<title>1331</title>\n<polygon fill=\"none\" stroke=\"black\" points=\"49.5,-60.5 49.5,-83.5 178.5,-83.5 178.5,-60.5 49.5,-60.5\"/>\n<text text-anchor=\"middle\" x=\"61\" y=\"-68.3\" font-family=\"Times,serif\" font-size=\"14.00\">*</text>\n<polyline fill=\"none\" stroke=\"black\" points=\"72.5,-60.5 72.5,-83.5 \"/>\n<text text-anchor=\"middle\" x=\"87.5\" y=\"-68.3\" font-family=\"Times,serif\" font-size=\"14.00\">13</text>\n<polyline fill=\"none\" stroke=\"black\" points=\"102.5,-60.5 102.5,-83.5 \"/>\n<text text-anchor=\"middle\" x=\"114\" y=\"-68.3\" font-family=\"Times,serif\" font-size=\"14.00\">*</text>\n<polyline fill=\"none\" stroke=\"black\" points=\"125.5,-60.5 125.5,-83.5 \"/>\n<text text-anchor=\"middle\" x=\"140.5\" y=\"-68.3\" font-family=\"Times,serif\" font-size=\"14.00\">31</text>\n<polyline fill=\"none\" stroke=\"black\" points=\"155.5,-60.5 155.5,-83.5 \"/>\n<text text-anchor=\"middle\" x=\"167\" y=\"-68.3\" font-family=\"Times,serif\" font-size=\"14.00\">*</text>\n</g>\n<!-- 45&#45;&gt;1331 -->\n<g id=\"edge4\" class=\"edge\">\n<title>45:f0&#45;&gt;1331</title>\n<path fill=\"none\" stroke=\"black\" d=\"M205,-132C174.47,-132 146.1,-108.33 129.41,-90.97\"/>\n<polygon fill=\"black\" stroke=\"black\" points=\"131.94,-88.55 122.6,-83.55 126.78,-93.28 131.94,-88.55\"/>\n</g>\n<!-- 576186 -->\n<g id=\"node6\" class=\"node\">\n<title>576186</title>\n<polygon fill=\"none\" stroke=\"black\" points=\"272,-60.5 272,-83.5 454,-83.5 454,-60.5 272,-60.5\"/>\n<text text-anchor=\"middle\" x=\"283.5\" y=\"-68.3\" font-family=\"Times,serif\" font-size=\"14.00\">*</text>\n<polyline fill=\"none\" stroke=\"black\" points=\"295,-60.5 295,-83.5 \"/>\n<text text-anchor=\"middle\" x=\"310\" y=\"-68.3\" font-family=\"Times,serif\" font-size=\"14.00\">57</text>\n<polyline fill=\"none\" stroke=\"black\" points=\"325,-60.5 325,-83.5 \"/>\n<text text-anchor=\"middle\" x=\"336.5\" y=\"-68.3\" font-family=\"Times,serif\" font-size=\"14.00\">*</text>\n<polyline fill=\"none\" stroke=\"black\" points=\"348,-60.5 348,-83.5 \"/>\n<text text-anchor=\"middle\" x=\"363\" y=\"-68.3\" font-family=\"Times,serif\" font-size=\"14.00\">61</text>\n<polyline fill=\"none\" stroke=\"black\" points=\"378,-60.5 378,-83.5 \"/>\n<text text-anchor=\"middle\" x=\"389.5\" y=\"-68.3\" font-family=\"Times,serif\" font-size=\"14.00\">*</text>\n<polyline fill=\"none\" stroke=\"black\" points=\"401,-60.5 401,-83.5 \"/>\n<text text-anchor=\"middle\" x=\"416\" y=\"-68.3\" font-family=\"Times,serif\" font-size=\"14.00\">86</text>\n<polyline fill=\"none\" stroke=\"black\" points=\"431,-60.5 431,-83.5 \"/>\n<text text-anchor=\"middle\" x=\"442.5\" y=\"-68.3\" font-family=\"Times,serif\" font-size=\"14.00\">*</text>\n</g>\n<!-- 45&#45;&gt;576186 -->\n<g id=\"edge9\" class=\"edge\">\n<title>45:f1&#45;&gt;576186</title>\n<path fill=\"none\" stroke=\"black\" d=\"M283,-132C310.73,-132 335.17,-108.75 349.53,-91.44\"/>\n<polygon fill=\"black\" stroke=\"black\" points=\"352.3,-93.57 355.73,-83.55 346.8,-89.25 352.3,-93.57\"/>\n</g>\n<!-- 112 -->\n<g id=\"node3\" class=\"node\">\n<title>112</title>\n<polygon fill=\"none\" stroke=\"black\" points=\"0,-0.5 0,-23.5 54,-23.5 54,-0.5 0,-0.5\"/>\n<text text-anchor=\"middle\" x=\"11.5\" y=\"-8.3\" font-family=\"Times,serif\" font-size=\"14.00\">1</text>\n<polyline fill=\"none\" stroke=\"black\" points=\"23,-0.5 23,-23.5 \"/>\n<text text-anchor=\"middle\" x=\"38.5\" y=\"-8.3\" font-family=\"Times,serif\" font-size=\"14.00\">12</text>\n</g>\n<!-- 1331&#45;&gt;112 -->\n<g id=\"edge1\" class=\"edge\">\n<title>1331:f0&#45;&gt;112</title>\n<path fill=\"none\" stroke=\"black\" d=\"M61,-60C61,-49.12 54.95,-39.06 47.95,-31.06\"/>\n<polygon fill=\"black\" stroke=\"black\" points=\"50.33,-28.48 40.83,-23.79 45.33,-33.38 50.33,-28.48\"/>\n</g>\n<!-- 1726 -->\n<g id=\"node4\" class=\"node\">\n<title>1726</title>\n<polygon fill=\"none\" stroke=\"black\" points=\"72,-0.5 72,-23.5 132,-23.5 132,-0.5 72,-0.5\"/>\n<text text-anchor=\"middle\" x=\"87\" y=\"-8.3\" font-family=\"Times,serif\" font-size=\"14.00\">17</text>\n<polyline fill=\"none\" stroke=\"black\" points=\"102,-0.5 102,-23.5 \"/>\n<text text-anchor=\"middle\" x=\"117\" y=\"-8.3\" font-family=\"Times,serif\" font-size=\"14.00\">26</text>\n</g>\n<!-- 1331&#45;&gt;1726 -->\n<g id=\"edge2\" class=\"edge\">\n<title>1331:f1&#45;&gt;1726</title>\n<path fill=\"none\" stroke=\"black\" d=\"M114,-60C114,-51.1 111.95,-41.54 109.55,-33.38\"/>\n<polygon fill=\"black\" stroke=\"black\" points=\"112.79,-32.03 106.33,-23.63 106.15,-34.22 112.79,-32.03\"/>\n</g>\n<!-- 3242 -->\n<g id=\"node5\" class=\"node\">\n<title>3242</title>\n<polygon fill=\"none\" stroke=\"black\" points=\"150,-0.5 150,-23.5 210,-23.5 210,-0.5 150,-0.5\"/>\n<text text-anchor=\"middle\" x=\"165\" y=\"-8.3\" font-family=\"Times,serif\" font-size=\"14.00\">32</text>\n<polyline fill=\"none\" stroke=\"black\" points=\"180,-0.5 180,-23.5 \"/>\n<text text-anchor=\"middle\" x=\"195\" y=\"-8.3\" font-family=\"Times,serif\" font-size=\"14.00\">42</text>\n</g>\n<!-- 1331&#45;&gt;3242 -->\n<g id=\"edge3\" class=\"edge\">\n<title>1331:f2&#45;&gt;3242</title>\n<path fill=\"none\" stroke=\"black\" d=\"M167,-60C167,-50.95 169.27,-41.27 171.91,-33.05\"/>\n<polygon fill=\"black\" stroke=\"black\" points=\"175.22,-34.19 175.31,-23.6 168.63,-31.82 175.22,-34.19\"/>\n</g>\n<!-- 5154 -->\n<g id=\"node7\" class=\"node\">\n<title>5154</title>\n<polygon fill=\"none\" stroke=\"black\" points=\"228,-0.5 228,-23.5 288,-23.5 288,-0.5 228,-0.5\"/>\n<text text-anchor=\"middle\" x=\"243\" y=\"-8.3\" font-family=\"Times,serif\" font-size=\"14.00\">51</text>\n<polyline fill=\"none\" stroke=\"black\" points=\"258,-0.5 258,-23.5 \"/>\n<text text-anchor=\"middle\" x=\"273\" y=\"-8.3\" font-family=\"Times,serif\" font-size=\"14.00\">54</text>\n</g>\n<!-- 576186&#45;&gt;5154 -->\n<g id=\"edge5\" class=\"edge\">\n<title>576186:f0&#45;&gt;5154</title>\n<path fill=\"none\" stroke=\"black\" d=\"M283,-60C283,-50.06 278.59,-40.18 273.47,-32.06\"/>\n<polygon fill=\"black\" stroke=\"black\" points=\"276.22,-29.88 267.59,-23.73 270.5,-33.92 276.22,-29.88\"/>\n</g>\n<!-- 5859 -->\n<g id=\"node8\" class=\"node\">\n<title>5859</title>\n<polygon fill=\"none\" stroke=\"black\" points=\"306,-0.5 306,-23.5 366,-23.5 366,-0.5 306,-0.5\"/>\n<text text-anchor=\"middle\" x=\"321\" y=\"-8.3\" font-family=\"Times,serif\" font-size=\"14.00\">58</text>\n<polyline fill=\"none\" stroke=\"black\" points=\"336,-0.5 336,-23.5 \"/>\n<text text-anchor=\"middle\" x=\"351\" y=\"-8.3\" font-family=\"Times,serif\" font-size=\"14.00\">59</text>\n</g>\n<!-- 576186&#45;&gt;5859 -->\n<g id=\"edge6\" class=\"edge\">\n<title>576186:f1&#45;&gt;5859</title>\n<path fill=\"none\" stroke=\"black\" d=\"M336,-60C336,-51.47 336,-42.08 336,-33.94\"/>\n<polygon fill=\"black\" stroke=\"black\" points=\"339.5,-33.83 336,-23.83 332.5,-33.83 339.5,-33.83\"/>\n</g>\n<!-- 73808182 -->\n<g id=\"node9\" class=\"node\">\n<title>73808182</title>\n<polygon fill=\"none\" stroke=\"black\" points=\"384,-0.5 384,-23.5 504,-23.5 504,-0.5 384,-0.5\"/>\n<text text-anchor=\"middle\" x=\"399\" y=\"-8.3\" font-family=\"Times,serif\" font-size=\"14.00\">73</text>\n<polyline fill=\"none\" stroke=\"black\" points=\"414,-0.5 414,-23.5 \"/>\n<text text-anchor=\"middle\" x=\"429\" y=\"-8.3\" font-family=\"Times,serif\" font-size=\"14.00\">80</text>\n<polyline fill=\"none\" stroke=\"black\" points=\"444,-0.5 444,-23.5 \"/>\n<text text-anchor=\"middle\" x=\"459\" y=\"-8.3\" font-family=\"Times,serif\" font-size=\"14.00\">81</text>\n<polyline fill=\"none\" stroke=\"black\" points=\"474,-0.5 474,-23.5 \"/>\n<text text-anchor=\"middle\" x=\"489\" y=\"-8.3\" font-family=\"Times,serif\" font-size=\"14.00\">82</text>\n</g>\n<!-- 576186&#45;&gt;73808182 -->\n<g id=\"edge7\" class=\"edge\">\n<title>576186:f2&#45;&gt;73808182</title>\n<path fill=\"none\" stroke=\"black\" d=\"M390,-60C390,-46.73 399.4,-36.35 410.35,-28.76\"/>\n<polygon fill=\"black\" stroke=\"black\" points=\"412.21,-31.72 418.9,-23.5 408.55,-25.76 412.21,-31.72\"/>\n</g>\n<!-- 9195100 -->\n<g id=\"node10\" class=\"node\">\n<title>9195100</title>\n<polygon fill=\"none\" stroke=\"black\" points=\"522.5,-0.5 522.5,-23.5 619.5,-23.5 619.5,-0.5 522.5,-0.5\"/>\n<text text-anchor=\"middle\" x=\"537.5\" y=\"-8.3\" font-family=\"Times,serif\" font-size=\"14.00\">91</text>\n<polyline fill=\"none\" stroke=\"black\" points=\"552.5,-0.5 552.5,-23.5 \"/>\n<text text-anchor=\"middle\" x=\"567.5\" y=\"-8.3\" font-family=\"Times,serif\" font-size=\"14.00\">95</text>\n<polyline fill=\"none\" stroke=\"black\" points=\"582.5,-0.5 582.5,-23.5 \"/>\n<text text-anchor=\"middle\" x=\"601\" y=\"-8.3\" font-family=\"Times,serif\" font-size=\"14.00\">100</text>\n</g>\n<!-- 576186&#45;&gt;9195100 -->\n<g id=\"edge8\" class=\"edge\">\n<title>576186:f3&#45;&gt;9195100</title>\n<path fill=\"none\" stroke=\"black\" d=\"M455,-72C492.3,-72 529.73,-47.46 551.61,-30.04\"/>\n<polygon fill=\"black\" stroke=\"black\" points=\"553.99,-32.62 559.47,-23.55 549.53,-27.22 553.99,-32.62\"/>\n</g>\n</g>\n</svg>\n",
            "text/plain": [
              "<graphviz.graphs.Digraph at 0x7ea2db09c790>"
            ]
          },
          "metadata": {},
          "execution_count": 24
        }
      ]
    },
    {
      "cell_type": "markdown",
      "source": [
        "Remove a key from a leaf node with enough keys to not be underfull"
      ],
      "metadata": {
        "id": "zkuGPYu6TNwK"
      }
    },
    {
      "cell_type": "code",
      "source": [
        "btree.BTreeDelete(95)\n",
        "visualize_btree(btree)"
      ],
      "metadata": {
        "colab": {
          "base_uri": "https://localhost:8080/",
          "height": 224
        },
        "id": "aDkwWki9TVMR",
        "outputId": "f8060c4b-19a7-489a-94ab-623fbd14e29c"
      },
      "execution_count": 25,
      "outputs": [
        {
          "output_type": "execute_result",
          "data": {
            "image/svg+xml": "<?xml version=\"1.0\" encoding=\"UTF-8\" standalone=\"no\"?>\n<!DOCTYPE svg PUBLIC \"-//W3C//DTD SVG 1.1//EN\"\n \"http://www.w3.org/Graphics/SVG/1.1/DTD/svg11.dtd\">\n<!-- Generated by graphviz version 2.43.0 (0)\n -->\n<!-- Title: %3 Pages: 1 -->\n<svg width=\"598pt\" height=\"152pt\"\n viewBox=\"0.00 0.00 597.50 152.00\" xmlns=\"http://www.w3.org/2000/svg\" xmlns:xlink=\"http://www.w3.org/1999/xlink\">\n<g id=\"graph0\" class=\"graph\" transform=\"scale(1 1) rotate(0) translate(4 148)\">\n<title>%3</title>\n<polygon fill=\"white\" stroke=\"transparent\" points=\"-4,4 -4,-148 593.5,-148 593.5,4 -4,4\"/>\n<!-- 45 -->\n<g id=\"node1\" class=\"node\">\n<title>45</title>\n<polygon fill=\"none\" stroke=\"black\" points=\"206,-120.5 206,-143.5 282,-143.5 282,-120.5 206,-120.5\"/>\n<text text-anchor=\"middle\" x=\"217.5\" y=\"-128.3\" font-family=\"Times,serif\" font-size=\"14.00\">*</text>\n<polyline fill=\"none\" stroke=\"black\" points=\"229,-120.5 229,-143.5 \"/>\n<text text-anchor=\"middle\" x=\"244\" y=\"-128.3\" font-family=\"Times,serif\" font-size=\"14.00\">45</text>\n<polyline fill=\"none\" stroke=\"black\" points=\"259,-120.5 259,-143.5 \"/>\n<text text-anchor=\"middle\" x=\"270.5\" y=\"-128.3\" font-family=\"Times,serif\" font-size=\"14.00\">*</text>\n</g>\n<!-- 1331 -->\n<g id=\"node2\" class=\"node\">\n<title>1331</title>\n<polygon fill=\"none\" stroke=\"black\" points=\"49.5,-60.5 49.5,-83.5 178.5,-83.5 178.5,-60.5 49.5,-60.5\"/>\n<text text-anchor=\"middle\" x=\"61\" y=\"-68.3\" font-family=\"Times,serif\" font-size=\"14.00\">*</text>\n<polyline fill=\"none\" stroke=\"black\" points=\"72.5,-60.5 72.5,-83.5 \"/>\n<text text-anchor=\"middle\" x=\"87.5\" y=\"-68.3\" font-family=\"Times,serif\" font-size=\"14.00\">13</text>\n<polyline fill=\"none\" stroke=\"black\" points=\"102.5,-60.5 102.5,-83.5 \"/>\n<text text-anchor=\"middle\" x=\"114\" y=\"-68.3\" font-family=\"Times,serif\" font-size=\"14.00\">*</text>\n<polyline fill=\"none\" stroke=\"black\" points=\"125.5,-60.5 125.5,-83.5 \"/>\n<text text-anchor=\"middle\" x=\"140.5\" y=\"-68.3\" font-family=\"Times,serif\" font-size=\"14.00\">31</text>\n<polyline fill=\"none\" stroke=\"black\" points=\"155.5,-60.5 155.5,-83.5 \"/>\n<text text-anchor=\"middle\" x=\"167\" y=\"-68.3\" font-family=\"Times,serif\" font-size=\"14.00\">*</text>\n</g>\n<!-- 45&#45;&gt;1331 -->\n<g id=\"edge4\" class=\"edge\">\n<title>45:f0&#45;&gt;1331</title>\n<path fill=\"none\" stroke=\"black\" d=\"M205,-132C174.47,-132 146.1,-108.33 129.41,-90.97\"/>\n<polygon fill=\"black\" stroke=\"black\" points=\"131.94,-88.55 122.6,-83.55 126.78,-93.28 131.94,-88.55\"/>\n</g>\n<!-- 576186 -->\n<g id=\"node6\" class=\"node\">\n<title>576186</title>\n<polygon fill=\"none\" stroke=\"black\" points=\"272,-60.5 272,-83.5 454,-83.5 454,-60.5 272,-60.5\"/>\n<text text-anchor=\"middle\" x=\"283.5\" y=\"-68.3\" font-family=\"Times,serif\" font-size=\"14.00\">*</text>\n<polyline fill=\"none\" stroke=\"black\" points=\"295,-60.5 295,-83.5 \"/>\n<text text-anchor=\"middle\" x=\"310\" y=\"-68.3\" font-family=\"Times,serif\" font-size=\"14.00\">57</text>\n<polyline fill=\"none\" stroke=\"black\" points=\"325,-60.5 325,-83.5 \"/>\n<text text-anchor=\"middle\" x=\"336.5\" y=\"-68.3\" font-family=\"Times,serif\" font-size=\"14.00\">*</text>\n<polyline fill=\"none\" stroke=\"black\" points=\"348,-60.5 348,-83.5 \"/>\n<text text-anchor=\"middle\" x=\"363\" y=\"-68.3\" font-family=\"Times,serif\" font-size=\"14.00\">61</text>\n<polyline fill=\"none\" stroke=\"black\" points=\"378,-60.5 378,-83.5 \"/>\n<text text-anchor=\"middle\" x=\"389.5\" y=\"-68.3\" font-family=\"Times,serif\" font-size=\"14.00\">*</text>\n<polyline fill=\"none\" stroke=\"black\" points=\"401,-60.5 401,-83.5 \"/>\n<text text-anchor=\"middle\" x=\"416\" y=\"-68.3\" font-family=\"Times,serif\" font-size=\"14.00\">86</text>\n<polyline fill=\"none\" stroke=\"black\" points=\"431,-60.5 431,-83.5 \"/>\n<text text-anchor=\"middle\" x=\"442.5\" y=\"-68.3\" font-family=\"Times,serif\" font-size=\"14.00\">*</text>\n</g>\n<!-- 45&#45;&gt;576186 -->\n<g id=\"edge9\" class=\"edge\">\n<title>45:f1&#45;&gt;576186</title>\n<path fill=\"none\" stroke=\"black\" d=\"M283,-132C310.73,-132 335.17,-108.75 349.53,-91.44\"/>\n<polygon fill=\"black\" stroke=\"black\" points=\"352.3,-93.57 355.73,-83.55 346.8,-89.25 352.3,-93.57\"/>\n</g>\n<!-- 112 -->\n<g id=\"node3\" class=\"node\">\n<title>112</title>\n<polygon fill=\"none\" stroke=\"black\" points=\"0,-0.5 0,-23.5 54,-23.5 54,-0.5 0,-0.5\"/>\n<text text-anchor=\"middle\" x=\"11.5\" y=\"-8.3\" font-family=\"Times,serif\" font-size=\"14.00\">1</text>\n<polyline fill=\"none\" stroke=\"black\" points=\"23,-0.5 23,-23.5 \"/>\n<text text-anchor=\"middle\" x=\"38.5\" y=\"-8.3\" font-family=\"Times,serif\" font-size=\"14.00\">12</text>\n</g>\n<!-- 1331&#45;&gt;112 -->\n<g id=\"edge1\" class=\"edge\">\n<title>1331:f0&#45;&gt;112</title>\n<path fill=\"none\" stroke=\"black\" d=\"M61,-60C61,-49.12 54.95,-39.06 47.95,-31.06\"/>\n<polygon fill=\"black\" stroke=\"black\" points=\"50.33,-28.48 40.83,-23.79 45.33,-33.38 50.33,-28.48\"/>\n</g>\n<!-- 1726 -->\n<g id=\"node4\" class=\"node\">\n<title>1726</title>\n<polygon fill=\"none\" stroke=\"black\" points=\"72,-0.5 72,-23.5 132,-23.5 132,-0.5 72,-0.5\"/>\n<text text-anchor=\"middle\" x=\"87\" y=\"-8.3\" font-family=\"Times,serif\" font-size=\"14.00\">17</text>\n<polyline fill=\"none\" stroke=\"black\" points=\"102,-0.5 102,-23.5 \"/>\n<text text-anchor=\"middle\" x=\"117\" y=\"-8.3\" font-family=\"Times,serif\" font-size=\"14.00\">26</text>\n</g>\n<!-- 1331&#45;&gt;1726 -->\n<g id=\"edge2\" class=\"edge\">\n<title>1331:f1&#45;&gt;1726</title>\n<path fill=\"none\" stroke=\"black\" d=\"M114,-60C114,-51.1 111.95,-41.54 109.55,-33.38\"/>\n<polygon fill=\"black\" stroke=\"black\" points=\"112.79,-32.03 106.33,-23.63 106.15,-34.22 112.79,-32.03\"/>\n</g>\n<!-- 3242 -->\n<g id=\"node5\" class=\"node\">\n<title>3242</title>\n<polygon fill=\"none\" stroke=\"black\" points=\"150,-0.5 150,-23.5 210,-23.5 210,-0.5 150,-0.5\"/>\n<text text-anchor=\"middle\" x=\"165\" y=\"-8.3\" font-family=\"Times,serif\" font-size=\"14.00\">32</text>\n<polyline fill=\"none\" stroke=\"black\" points=\"180,-0.5 180,-23.5 \"/>\n<text text-anchor=\"middle\" x=\"195\" y=\"-8.3\" font-family=\"Times,serif\" font-size=\"14.00\">42</text>\n</g>\n<!-- 1331&#45;&gt;3242 -->\n<g id=\"edge3\" class=\"edge\">\n<title>1331:f2&#45;&gt;3242</title>\n<path fill=\"none\" stroke=\"black\" d=\"M167,-60C167,-50.95 169.27,-41.27 171.91,-33.05\"/>\n<polygon fill=\"black\" stroke=\"black\" points=\"175.22,-34.19 175.31,-23.6 168.63,-31.82 175.22,-34.19\"/>\n</g>\n<!-- 5154 -->\n<g id=\"node7\" class=\"node\">\n<title>5154</title>\n<polygon fill=\"none\" stroke=\"black\" points=\"228,-0.5 228,-23.5 288,-23.5 288,-0.5 228,-0.5\"/>\n<text text-anchor=\"middle\" x=\"243\" y=\"-8.3\" font-family=\"Times,serif\" font-size=\"14.00\">51</text>\n<polyline fill=\"none\" stroke=\"black\" points=\"258,-0.5 258,-23.5 \"/>\n<text text-anchor=\"middle\" x=\"273\" y=\"-8.3\" font-family=\"Times,serif\" font-size=\"14.00\">54</text>\n</g>\n<!-- 576186&#45;&gt;5154 -->\n<g id=\"edge5\" class=\"edge\">\n<title>576186:f0&#45;&gt;5154</title>\n<path fill=\"none\" stroke=\"black\" d=\"M283,-60C283,-50.06 278.59,-40.18 273.47,-32.06\"/>\n<polygon fill=\"black\" stroke=\"black\" points=\"276.22,-29.88 267.59,-23.73 270.5,-33.92 276.22,-29.88\"/>\n</g>\n<!-- 5859 -->\n<g id=\"node8\" class=\"node\">\n<title>5859</title>\n<polygon fill=\"none\" stroke=\"black\" points=\"306,-0.5 306,-23.5 366,-23.5 366,-0.5 306,-0.5\"/>\n<text text-anchor=\"middle\" x=\"321\" y=\"-8.3\" font-family=\"Times,serif\" font-size=\"14.00\">58</text>\n<polyline fill=\"none\" stroke=\"black\" points=\"336,-0.5 336,-23.5 \"/>\n<text text-anchor=\"middle\" x=\"351\" y=\"-8.3\" font-family=\"Times,serif\" font-size=\"14.00\">59</text>\n</g>\n<!-- 576186&#45;&gt;5859 -->\n<g id=\"edge6\" class=\"edge\">\n<title>576186:f1&#45;&gt;5859</title>\n<path fill=\"none\" stroke=\"black\" d=\"M336,-60C336,-51.47 336,-42.08 336,-33.94\"/>\n<polygon fill=\"black\" stroke=\"black\" points=\"339.5,-33.83 336,-23.83 332.5,-33.83 339.5,-33.83\"/>\n</g>\n<!-- 73808182 -->\n<g id=\"node9\" class=\"node\">\n<title>73808182</title>\n<polygon fill=\"none\" stroke=\"black\" points=\"384,-0.5 384,-23.5 504,-23.5 504,-0.5 384,-0.5\"/>\n<text text-anchor=\"middle\" x=\"399\" y=\"-8.3\" font-family=\"Times,serif\" font-size=\"14.00\">73</text>\n<polyline fill=\"none\" stroke=\"black\" points=\"414,-0.5 414,-23.5 \"/>\n<text text-anchor=\"middle\" x=\"429\" y=\"-8.3\" font-family=\"Times,serif\" font-size=\"14.00\">80</text>\n<polyline fill=\"none\" stroke=\"black\" points=\"444,-0.5 444,-23.5 \"/>\n<text text-anchor=\"middle\" x=\"459\" y=\"-8.3\" font-family=\"Times,serif\" font-size=\"14.00\">81</text>\n<polyline fill=\"none\" stroke=\"black\" points=\"474,-0.5 474,-23.5 \"/>\n<text text-anchor=\"middle\" x=\"489\" y=\"-8.3\" font-family=\"Times,serif\" font-size=\"14.00\">82</text>\n</g>\n<!-- 576186&#45;&gt;73808182 -->\n<g id=\"edge7\" class=\"edge\">\n<title>576186:f2&#45;&gt;73808182</title>\n<path fill=\"none\" stroke=\"black\" d=\"M390,-60C390,-46.73 399.4,-36.35 410.35,-28.76\"/>\n<polygon fill=\"black\" stroke=\"black\" points=\"412.21,-31.72 418.9,-23.5 408.55,-25.76 412.21,-31.72\"/>\n</g>\n<!-- 91100 -->\n<g id=\"node10\" class=\"node\">\n<title>91100</title>\n<polygon fill=\"none\" stroke=\"black\" points=\"522.5,-0.5 522.5,-23.5 589.5,-23.5 589.5,-0.5 522.5,-0.5\"/>\n<text text-anchor=\"middle\" x=\"537.5\" y=\"-8.3\" font-family=\"Times,serif\" font-size=\"14.00\">91</text>\n<polyline fill=\"none\" stroke=\"black\" points=\"552.5,-0.5 552.5,-23.5 \"/>\n<text text-anchor=\"middle\" x=\"571\" y=\"-8.3\" font-family=\"Times,serif\" font-size=\"14.00\">100</text>\n</g>\n<!-- 576186&#45;&gt;91100 -->\n<g id=\"edge8\" class=\"edge\">\n<title>576186:f3&#45;&gt;91100</title>\n<path fill=\"none\" stroke=\"black\" d=\"M455,-72C488.23,-72 520.24,-47.9 539.02,-30.5\"/>\n<polygon fill=\"black\" stroke=\"black\" points=\"541.46,-33.01 546.22,-23.55 536.59,-27.98 541.46,-33.01\"/>\n</g>\n</g>\n</svg>\n",
            "text/plain": [
              "<graphviz.graphs.Digraph at 0x7ea2db09c340>"
            ]
          },
          "metadata": {},
          "execution_count": 25
        }
      ]
    },
    {
      "cell_type": "markdown",
      "source": [
        "Remove a key from an internal node (86) and see the child key replacing it."
      ],
      "metadata": {
        "id": "TL41f-AuTd0h"
      }
    },
    {
      "cell_type": "code",
      "source": [
        "btree.BTreeDelete(86)\n",
        "visualize_btree(btree)"
      ],
      "metadata": {
        "colab": {
          "base_uri": "https://localhost:8080/",
          "height": 224
        },
        "id": "DDjK08EZUJDX",
        "outputId": "179d23ce-193b-4b6e-d638-1ad044ffe128"
      },
      "execution_count": 26,
      "outputs": [
        {
          "output_type": "execute_result",
          "data": {
            "image/svg+xml": "<?xml version=\"1.0\" encoding=\"UTF-8\" standalone=\"no\"?>\n<!DOCTYPE svg PUBLIC \"-//W3C//DTD SVG 1.1//EN\"\n \"http://www.w3.org/Graphics/SVG/1.1/DTD/svg11.dtd\">\n<!-- Generated by graphviz version 2.43.0 (0)\n -->\n<!-- Title: %3 Pages: 1 -->\n<svg width=\"568pt\" height=\"152pt\"\n viewBox=\"0.00 0.00 567.50 152.00\" xmlns=\"http://www.w3.org/2000/svg\" xmlns:xlink=\"http://www.w3.org/1999/xlink\">\n<g id=\"graph0\" class=\"graph\" transform=\"scale(1 1) rotate(0) translate(4 148)\">\n<title>%3</title>\n<polygon fill=\"white\" stroke=\"transparent\" points=\"-4,4 -4,-148 563.5,-148 563.5,4 -4,4\"/>\n<!-- 45 -->\n<g id=\"node1\" class=\"node\">\n<title>45</title>\n<polygon fill=\"none\" stroke=\"black\" points=\"206,-120.5 206,-143.5 282,-143.5 282,-120.5 206,-120.5\"/>\n<text text-anchor=\"middle\" x=\"217.5\" y=\"-128.3\" font-family=\"Times,serif\" font-size=\"14.00\">*</text>\n<polyline fill=\"none\" stroke=\"black\" points=\"229,-120.5 229,-143.5 \"/>\n<text text-anchor=\"middle\" x=\"244\" y=\"-128.3\" font-family=\"Times,serif\" font-size=\"14.00\">45</text>\n<polyline fill=\"none\" stroke=\"black\" points=\"259,-120.5 259,-143.5 \"/>\n<text text-anchor=\"middle\" x=\"270.5\" y=\"-128.3\" font-family=\"Times,serif\" font-size=\"14.00\">*</text>\n</g>\n<!-- 1331 -->\n<g id=\"node2\" class=\"node\">\n<title>1331</title>\n<polygon fill=\"none\" stroke=\"black\" points=\"49.5,-60.5 49.5,-83.5 178.5,-83.5 178.5,-60.5 49.5,-60.5\"/>\n<text text-anchor=\"middle\" x=\"61\" y=\"-68.3\" font-family=\"Times,serif\" font-size=\"14.00\">*</text>\n<polyline fill=\"none\" stroke=\"black\" points=\"72.5,-60.5 72.5,-83.5 \"/>\n<text text-anchor=\"middle\" x=\"87.5\" y=\"-68.3\" font-family=\"Times,serif\" font-size=\"14.00\">13</text>\n<polyline fill=\"none\" stroke=\"black\" points=\"102.5,-60.5 102.5,-83.5 \"/>\n<text text-anchor=\"middle\" x=\"114\" y=\"-68.3\" font-family=\"Times,serif\" font-size=\"14.00\">*</text>\n<polyline fill=\"none\" stroke=\"black\" points=\"125.5,-60.5 125.5,-83.5 \"/>\n<text text-anchor=\"middle\" x=\"140.5\" y=\"-68.3\" font-family=\"Times,serif\" font-size=\"14.00\">31</text>\n<polyline fill=\"none\" stroke=\"black\" points=\"155.5,-60.5 155.5,-83.5 \"/>\n<text text-anchor=\"middle\" x=\"167\" y=\"-68.3\" font-family=\"Times,serif\" font-size=\"14.00\">*</text>\n</g>\n<!-- 45&#45;&gt;1331 -->\n<g id=\"edge4\" class=\"edge\">\n<title>45:f0&#45;&gt;1331</title>\n<path fill=\"none\" stroke=\"black\" d=\"M205,-132C174.47,-132 146.1,-108.33 129.41,-90.97\"/>\n<polygon fill=\"black\" stroke=\"black\" points=\"131.94,-88.55 122.6,-83.55 126.78,-93.28 131.94,-88.55\"/>\n</g>\n<!-- 576182 -->\n<g id=\"node6\" class=\"node\">\n<title>576182</title>\n<polygon fill=\"none\" stroke=\"black\" points=\"272,-60.5 272,-83.5 454,-83.5 454,-60.5 272,-60.5\"/>\n<text text-anchor=\"middle\" x=\"283.5\" y=\"-68.3\" font-family=\"Times,serif\" font-size=\"14.00\">*</text>\n<polyline fill=\"none\" stroke=\"black\" points=\"295,-60.5 295,-83.5 \"/>\n<text text-anchor=\"middle\" x=\"310\" y=\"-68.3\" font-family=\"Times,serif\" font-size=\"14.00\">57</text>\n<polyline fill=\"none\" stroke=\"black\" points=\"325,-60.5 325,-83.5 \"/>\n<text text-anchor=\"middle\" x=\"336.5\" y=\"-68.3\" font-family=\"Times,serif\" font-size=\"14.00\">*</text>\n<polyline fill=\"none\" stroke=\"black\" points=\"348,-60.5 348,-83.5 \"/>\n<text text-anchor=\"middle\" x=\"363\" y=\"-68.3\" font-family=\"Times,serif\" font-size=\"14.00\">61</text>\n<polyline fill=\"none\" stroke=\"black\" points=\"378,-60.5 378,-83.5 \"/>\n<text text-anchor=\"middle\" x=\"389.5\" y=\"-68.3\" font-family=\"Times,serif\" font-size=\"14.00\">*</text>\n<polyline fill=\"none\" stroke=\"black\" points=\"401,-60.5 401,-83.5 \"/>\n<text text-anchor=\"middle\" x=\"416\" y=\"-68.3\" font-family=\"Times,serif\" font-size=\"14.00\">82</text>\n<polyline fill=\"none\" stroke=\"black\" points=\"431,-60.5 431,-83.5 \"/>\n<text text-anchor=\"middle\" x=\"442.5\" y=\"-68.3\" font-family=\"Times,serif\" font-size=\"14.00\">*</text>\n</g>\n<!-- 45&#45;&gt;576182 -->\n<g id=\"edge9\" class=\"edge\">\n<title>45:f1&#45;&gt;576182</title>\n<path fill=\"none\" stroke=\"black\" d=\"M283,-132C310.73,-132 335.17,-108.75 349.53,-91.44\"/>\n<polygon fill=\"black\" stroke=\"black\" points=\"352.3,-93.57 355.73,-83.55 346.8,-89.25 352.3,-93.57\"/>\n</g>\n<!-- 112 -->\n<g id=\"node3\" class=\"node\">\n<title>112</title>\n<polygon fill=\"none\" stroke=\"black\" points=\"0,-0.5 0,-23.5 54,-23.5 54,-0.5 0,-0.5\"/>\n<text text-anchor=\"middle\" x=\"11.5\" y=\"-8.3\" font-family=\"Times,serif\" font-size=\"14.00\">1</text>\n<polyline fill=\"none\" stroke=\"black\" points=\"23,-0.5 23,-23.5 \"/>\n<text text-anchor=\"middle\" x=\"38.5\" y=\"-8.3\" font-family=\"Times,serif\" font-size=\"14.00\">12</text>\n</g>\n<!-- 1331&#45;&gt;112 -->\n<g id=\"edge1\" class=\"edge\">\n<title>1331:f0&#45;&gt;112</title>\n<path fill=\"none\" stroke=\"black\" d=\"M61,-60C61,-49.12 54.95,-39.06 47.95,-31.06\"/>\n<polygon fill=\"black\" stroke=\"black\" points=\"50.33,-28.48 40.83,-23.79 45.33,-33.38 50.33,-28.48\"/>\n</g>\n<!-- 1726 -->\n<g id=\"node4\" class=\"node\">\n<title>1726</title>\n<polygon fill=\"none\" stroke=\"black\" points=\"72,-0.5 72,-23.5 132,-23.5 132,-0.5 72,-0.5\"/>\n<text text-anchor=\"middle\" x=\"87\" y=\"-8.3\" font-family=\"Times,serif\" font-size=\"14.00\">17</text>\n<polyline fill=\"none\" stroke=\"black\" points=\"102,-0.5 102,-23.5 \"/>\n<text text-anchor=\"middle\" x=\"117\" y=\"-8.3\" font-family=\"Times,serif\" font-size=\"14.00\">26</text>\n</g>\n<!-- 1331&#45;&gt;1726 -->\n<g id=\"edge2\" class=\"edge\">\n<title>1331:f1&#45;&gt;1726</title>\n<path fill=\"none\" stroke=\"black\" d=\"M114,-60C114,-51.1 111.95,-41.54 109.55,-33.38\"/>\n<polygon fill=\"black\" stroke=\"black\" points=\"112.79,-32.03 106.33,-23.63 106.15,-34.22 112.79,-32.03\"/>\n</g>\n<!-- 3242 -->\n<g id=\"node5\" class=\"node\">\n<title>3242</title>\n<polygon fill=\"none\" stroke=\"black\" points=\"150,-0.5 150,-23.5 210,-23.5 210,-0.5 150,-0.5\"/>\n<text text-anchor=\"middle\" x=\"165\" y=\"-8.3\" font-family=\"Times,serif\" font-size=\"14.00\">32</text>\n<polyline fill=\"none\" stroke=\"black\" points=\"180,-0.5 180,-23.5 \"/>\n<text text-anchor=\"middle\" x=\"195\" y=\"-8.3\" font-family=\"Times,serif\" font-size=\"14.00\">42</text>\n</g>\n<!-- 1331&#45;&gt;3242 -->\n<g id=\"edge3\" class=\"edge\">\n<title>1331:f2&#45;&gt;3242</title>\n<path fill=\"none\" stroke=\"black\" d=\"M167,-60C167,-50.95 169.27,-41.27 171.91,-33.05\"/>\n<polygon fill=\"black\" stroke=\"black\" points=\"175.22,-34.19 175.31,-23.6 168.63,-31.82 175.22,-34.19\"/>\n</g>\n<!-- 5154 -->\n<g id=\"node7\" class=\"node\">\n<title>5154</title>\n<polygon fill=\"none\" stroke=\"black\" points=\"228,-0.5 228,-23.5 288,-23.5 288,-0.5 228,-0.5\"/>\n<text text-anchor=\"middle\" x=\"243\" y=\"-8.3\" font-family=\"Times,serif\" font-size=\"14.00\">51</text>\n<polyline fill=\"none\" stroke=\"black\" points=\"258,-0.5 258,-23.5 \"/>\n<text text-anchor=\"middle\" x=\"273\" y=\"-8.3\" font-family=\"Times,serif\" font-size=\"14.00\">54</text>\n</g>\n<!-- 576182&#45;&gt;5154 -->\n<g id=\"edge5\" class=\"edge\">\n<title>576182:f0&#45;&gt;5154</title>\n<path fill=\"none\" stroke=\"black\" d=\"M283,-60C283,-50.06 278.59,-40.18 273.47,-32.06\"/>\n<polygon fill=\"black\" stroke=\"black\" points=\"276.22,-29.88 267.59,-23.73 270.5,-33.92 276.22,-29.88\"/>\n</g>\n<!-- 5859 -->\n<g id=\"node8\" class=\"node\">\n<title>5859</title>\n<polygon fill=\"none\" stroke=\"black\" points=\"306,-0.5 306,-23.5 366,-23.5 366,-0.5 306,-0.5\"/>\n<text text-anchor=\"middle\" x=\"321\" y=\"-8.3\" font-family=\"Times,serif\" font-size=\"14.00\">58</text>\n<polyline fill=\"none\" stroke=\"black\" points=\"336,-0.5 336,-23.5 \"/>\n<text text-anchor=\"middle\" x=\"351\" y=\"-8.3\" font-family=\"Times,serif\" font-size=\"14.00\">59</text>\n</g>\n<!-- 576182&#45;&gt;5859 -->\n<g id=\"edge6\" class=\"edge\">\n<title>576182:f1&#45;&gt;5859</title>\n<path fill=\"none\" stroke=\"black\" d=\"M336,-60C336,-51.47 336,-42.08 336,-33.94\"/>\n<polygon fill=\"black\" stroke=\"black\" points=\"339.5,-33.83 336,-23.83 332.5,-33.83 339.5,-33.83\"/>\n</g>\n<!-- 738081 -->\n<g id=\"node9\" class=\"node\">\n<title>738081</title>\n<polygon fill=\"none\" stroke=\"black\" points=\"384,-0.5 384,-23.5 474,-23.5 474,-0.5 384,-0.5\"/>\n<text text-anchor=\"middle\" x=\"399\" y=\"-8.3\" font-family=\"Times,serif\" font-size=\"14.00\">73</text>\n<polyline fill=\"none\" stroke=\"black\" points=\"414,-0.5 414,-23.5 \"/>\n<text text-anchor=\"middle\" x=\"429\" y=\"-8.3\" font-family=\"Times,serif\" font-size=\"14.00\">80</text>\n<polyline fill=\"none\" stroke=\"black\" points=\"444,-0.5 444,-23.5 \"/>\n<text text-anchor=\"middle\" x=\"459\" y=\"-8.3\" font-family=\"Times,serif\" font-size=\"14.00\">81</text>\n</g>\n<!-- 576182&#45;&gt;738081 -->\n<g id=\"edge7\" class=\"edge\">\n<title>576182:f2&#45;&gt;738081</title>\n<path fill=\"none\" stroke=\"black\" d=\"M390,-60C390,-48.47 397.03,-38.26 405.13,-30.32\"/>\n<polygon fill=\"black\" stroke=\"black\" points=\"407.47,-32.92 412.69,-23.7 402.86,-27.66 407.47,-32.92\"/>\n</g>\n<!-- 91100 -->\n<g id=\"node10\" class=\"node\">\n<title>91100</title>\n<polygon fill=\"none\" stroke=\"black\" points=\"492.5,-0.5 492.5,-23.5 559.5,-23.5 559.5,-0.5 492.5,-0.5\"/>\n<text text-anchor=\"middle\" x=\"507.5\" y=\"-8.3\" font-family=\"Times,serif\" font-size=\"14.00\">91</text>\n<polyline fill=\"none\" stroke=\"black\" points=\"522.5,-0.5 522.5,-23.5 \"/>\n<text text-anchor=\"middle\" x=\"541\" y=\"-8.3\" font-family=\"Times,serif\" font-size=\"14.00\">100</text>\n</g>\n<!-- 576182&#45;&gt;91100 -->\n<g id=\"edge8\" class=\"edge\">\n<title>576182:f3&#45;&gt;91100</title>\n<path fill=\"none\" stroke=\"black\" d=\"M455,-72C480.52,-72 501.76,-49.17 514.18,-31.91\"/>\n<polygon fill=\"black\" stroke=\"black\" points=\"517.13,-33.79 519.84,-23.55 511.34,-29.87 517.13,-33.79\"/>\n</g>\n</g>\n</svg>\n",
            "text/plain": [
              "<graphviz.graphs.Digraph at 0x7ea2db09d8d0>"
            ]
          },
          "metadata": {},
          "execution_count": 26
        }
      ]
    },
    {
      "cell_type": "code",
      "source": [
        "print(btree.root.children[1].keys)\n",
        "print(btree.root.children[1].children[0].keys)"
      ],
      "metadata": {
        "colab": {
          "base_uri": "https://localhost:8080/"
        },
        "id": "VUGtjv1njrHb",
        "outputId": "0821b991-d6cc-4e1e-ca7c-885e11b62b74"
      },
      "execution_count": 27,
      "outputs": [
        {
          "output_type": "stream",
          "name": "stdout",
          "text": [
            "[57, 61, 82, None, None]\n",
            "[51, 54, None, None, None]\n"
          ]
        }
      ]
    },
    {
      "cell_type": "markdown",
      "source": [
        "Now let's remove 51, this will cause its child node to be under-full so it needs to be repaired (a merge with its sibling together with the 57 key from the parent)."
      ],
      "metadata": {
        "id": "8RRePxfGUT2_"
      }
    },
    {
      "cell_type": "code",
      "source": [
        "btree.BTreeDelete(51)\n",
        "visualize_btree(btree)"
      ],
      "metadata": {
        "colab": {
          "base_uri": "https://localhost:8080/",
          "height": 224
        },
        "id": "jtxk9i4OUZo1",
        "outputId": "85a5e135-20f4-4326-ebe7-9d039199b774"
      },
      "execution_count": 28,
      "outputs": [
        {
          "output_type": "execute_result",
          "data": {
            "image/svg+xml": "<?xml version=\"1.0\" encoding=\"UTF-8\" standalone=\"no\"?>\n<!DOCTYPE svg PUBLIC \"-//W3C//DTD SVG 1.1//EN\"\n \"http://www.w3.org/Graphics/SVG/1.1/DTD/svg11.dtd\">\n<!-- Generated by graphviz version 2.43.0 (0)\n -->\n<!-- Title: %3 Pages: 1 -->\n<svg width=\"550pt\" height=\"152pt\"\n viewBox=\"0.00 0.00 549.50 152.00\" xmlns=\"http://www.w3.org/2000/svg\" xmlns:xlink=\"http://www.w3.org/1999/xlink\">\n<g id=\"graph0\" class=\"graph\" transform=\"scale(1 1) rotate(0) translate(4 148)\">\n<title>%3</title>\n<polygon fill=\"white\" stroke=\"transparent\" points=\"-4,4 -4,-148 545.5,-148 545.5,4 -4,4\"/>\n<!-- 45 -->\n<g id=\"node1\" class=\"node\">\n<title>45</title>\n<polygon fill=\"none\" stroke=\"black\" points=\"195,-120.5 195,-143.5 271,-143.5 271,-120.5 195,-120.5\"/>\n<text text-anchor=\"middle\" x=\"206.5\" y=\"-128.3\" font-family=\"Times,serif\" font-size=\"14.00\">*</text>\n<polyline fill=\"none\" stroke=\"black\" points=\"218,-120.5 218,-143.5 \"/>\n<text text-anchor=\"middle\" x=\"233\" y=\"-128.3\" font-family=\"Times,serif\" font-size=\"14.00\">45</text>\n<polyline fill=\"none\" stroke=\"black\" points=\"248,-120.5 248,-143.5 \"/>\n<text text-anchor=\"middle\" x=\"259.5\" y=\"-128.3\" font-family=\"Times,serif\" font-size=\"14.00\">*</text>\n</g>\n<!-- 1331 -->\n<g id=\"node2\" class=\"node\">\n<title>1331</title>\n<polygon fill=\"none\" stroke=\"black\" points=\"49.5,-60.5 49.5,-83.5 178.5,-83.5 178.5,-60.5 49.5,-60.5\"/>\n<text text-anchor=\"middle\" x=\"61\" y=\"-68.3\" font-family=\"Times,serif\" font-size=\"14.00\">*</text>\n<polyline fill=\"none\" stroke=\"black\" points=\"72.5,-60.5 72.5,-83.5 \"/>\n<text text-anchor=\"middle\" x=\"87.5\" y=\"-68.3\" font-family=\"Times,serif\" font-size=\"14.00\">13</text>\n<polyline fill=\"none\" stroke=\"black\" points=\"102.5,-60.5 102.5,-83.5 \"/>\n<text text-anchor=\"middle\" x=\"114\" y=\"-68.3\" font-family=\"Times,serif\" font-size=\"14.00\">*</text>\n<polyline fill=\"none\" stroke=\"black\" points=\"125.5,-60.5 125.5,-83.5 \"/>\n<text text-anchor=\"middle\" x=\"140.5\" y=\"-68.3\" font-family=\"Times,serif\" font-size=\"14.00\">31</text>\n<polyline fill=\"none\" stroke=\"black\" points=\"155.5,-60.5 155.5,-83.5 \"/>\n<text text-anchor=\"middle\" x=\"167\" y=\"-68.3\" font-family=\"Times,serif\" font-size=\"14.00\">*</text>\n</g>\n<!-- 45&#45;&gt;1331 -->\n<g id=\"edge4\" class=\"edge\">\n<title>45:f0&#45;&gt;1331</title>\n<path fill=\"none\" stroke=\"black\" d=\"M194,-132C166.27,-132 141.83,-108.75 127.47,-91.44\"/>\n<polygon fill=\"black\" stroke=\"black\" points=\"130.2,-89.25 121.27,-83.55 124.7,-93.57 130.2,-89.25\"/>\n</g>\n<!-- 6182 -->\n<g id=\"node6\" class=\"node\">\n<title>6182</title>\n<polygon fill=\"none\" stroke=\"black\" points=\"311.5,-60.5 311.5,-83.5 440.5,-83.5 440.5,-60.5 311.5,-60.5\"/>\n<text text-anchor=\"middle\" x=\"323\" y=\"-68.3\" font-family=\"Times,serif\" font-size=\"14.00\">*</text>\n<polyline fill=\"none\" stroke=\"black\" points=\"334.5,-60.5 334.5,-83.5 \"/>\n<text text-anchor=\"middle\" x=\"349.5\" y=\"-68.3\" font-family=\"Times,serif\" font-size=\"14.00\">61</text>\n<polyline fill=\"none\" stroke=\"black\" points=\"364.5,-60.5 364.5,-83.5 \"/>\n<text text-anchor=\"middle\" x=\"376\" y=\"-68.3\" font-family=\"Times,serif\" font-size=\"14.00\">*</text>\n<polyline fill=\"none\" stroke=\"black\" points=\"387.5,-60.5 387.5,-83.5 \"/>\n<text text-anchor=\"middle\" x=\"402.5\" y=\"-68.3\" font-family=\"Times,serif\" font-size=\"14.00\">82</text>\n<polyline fill=\"none\" stroke=\"black\" points=\"417.5,-60.5 417.5,-83.5 \"/>\n<text text-anchor=\"middle\" x=\"429\" y=\"-68.3\" font-family=\"Times,serif\" font-size=\"14.00\">*</text>\n</g>\n<!-- 45&#45;&gt;6182 -->\n<g id=\"edge8\" class=\"edge\">\n<title>45:f1&#45;&gt;6182</title>\n<path fill=\"none\" stroke=\"black\" d=\"M272,-132C305.97,-132 339,-107.9 358.42,-90.5\"/>\n<polygon fill=\"black\" stroke=\"black\" points=\"360.94,-92.93 365.87,-83.55 356.17,-87.81 360.94,-92.93\"/>\n</g>\n<!-- 112 -->\n<g id=\"node3\" class=\"node\">\n<title>112</title>\n<polygon fill=\"none\" stroke=\"black\" points=\"0,-0.5 0,-23.5 54,-23.5 54,-0.5 0,-0.5\"/>\n<text text-anchor=\"middle\" x=\"11.5\" y=\"-8.3\" font-family=\"Times,serif\" font-size=\"14.00\">1</text>\n<polyline fill=\"none\" stroke=\"black\" points=\"23,-0.5 23,-23.5 \"/>\n<text text-anchor=\"middle\" x=\"38.5\" y=\"-8.3\" font-family=\"Times,serif\" font-size=\"14.00\">12</text>\n</g>\n<!-- 1331&#45;&gt;112 -->\n<g id=\"edge1\" class=\"edge\">\n<title>1331:f0&#45;&gt;112</title>\n<path fill=\"none\" stroke=\"black\" d=\"M61,-60C61,-49.12 54.95,-39.06 47.95,-31.06\"/>\n<polygon fill=\"black\" stroke=\"black\" points=\"50.33,-28.48 40.83,-23.79 45.33,-33.38 50.33,-28.48\"/>\n</g>\n<!-- 1726 -->\n<g id=\"node4\" class=\"node\">\n<title>1726</title>\n<polygon fill=\"none\" stroke=\"black\" points=\"72,-0.5 72,-23.5 132,-23.5 132,-0.5 72,-0.5\"/>\n<text text-anchor=\"middle\" x=\"87\" y=\"-8.3\" font-family=\"Times,serif\" font-size=\"14.00\">17</text>\n<polyline fill=\"none\" stroke=\"black\" points=\"102,-0.5 102,-23.5 \"/>\n<text text-anchor=\"middle\" x=\"117\" y=\"-8.3\" font-family=\"Times,serif\" font-size=\"14.00\">26</text>\n</g>\n<!-- 1331&#45;&gt;1726 -->\n<g id=\"edge2\" class=\"edge\">\n<title>1331:f1&#45;&gt;1726</title>\n<path fill=\"none\" stroke=\"black\" d=\"M114,-60C114,-51.1 111.95,-41.54 109.55,-33.38\"/>\n<polygon fill=\"black\" stroke=\"black\" points=\"112.79,-32.03 106.33,-23.63 106.15,-34.22 112.79,-32.03\"/>\n</g>\n<!-- 3242 -->\n<g id=\"node5\" class=\"node\">\n<title>3242</title>\n<polygon fill=\"none\" stroke=\"black\" points=\"150,-0.5 150,-23.5 210,-23.5 210,-0.5 150,-0.5\"/>\n<text text-anchor=\"middle\" x=\"165\" y=\"-8.3\" font-family=\"Times,serif\" font-size=\"14.00\">32</text>\n<polyline fill=\"none\" stroke=\"black\" points=\"180,-0.5 180,-23.5 \"/>\n<text text-anchor=\"middle\" x=\"195\" y=\"-8.3\" font-family=\"Times,serif\" font-size=\"14.00\">42</text>\n</g>\n<!-- 1331&#45;&gt;3242 -->\n<g id=\"edge3\" class=\"edge\">\n<title>1331:f2&#45;&gt;3242</title>\n<path fill=\"none\" stroke=\"black\" d=\"M167,-60C167,-50.95 169.27,-41.27 171.91,-33.05\"/>\n<polygon fill=\"black\" stroke=\"black\" points=\"175.22,-34.19 175.31,-23.6 168.63,-31.82 175.22,-34.19\"/>\n</g>\n<!-- 54575859 -->\n<g id=\"node7\" class=\"node\">\n<title>54575859</title>\n<polygon fill=\"none\" stroke=\"black\" points=\"228,-0.5 228,-23.5 348,-23.5 348,-0.5 228,-0.5\"/>\n<text text-anchor=\"middle\" x=\"243\" y=\"-8.3\" font-family=\"Times,serif\" font-size=\"14.00\">54</text>\n<polyline fill=\"none\" stroke=\"black\" points=\"258,-0.5 258,-23.5 \"/>\n<text text-anchor=\"middle\" x=\"273\" y=\"-8.3\" font-family=\"Times,serif\" font-size=\"14.00\">57</text>\n<polyline fill=\"none\" stroke=\"black\" points=\"288,-0.5 288,-23.5 \"/>\n<text text-anchor=\"middle\" x=\"303\" y=\"-8.3\" font-family=\"Times,serif\" font-size=\"14.00\">58</text>\n<polyline fill=\"none\" stroke=\"black\" points=\"318,-0.5 318,-23.5 \"/>\n<text text-anchor=\"middle\" x=\"333\" y=\"-8.3\" font-family=\"Times,serif\" font-size=\"14.00\">59</text>\n</g>\n<!-- 6182&#45;&gt;54575859 -->\n<g id=\"edge5\" class=\"edge\">\n<title>6182:f0&#45;&gt;54575859</title>\n<path fill=\"none\" stroke=\"black\" d=\"M323,-60C323,-49.01 316.77,-38.93 309.57,-30.95\"/>\n<polygon fill=\"black\" stroke=\"black\" points=\"311.81,-28.24 302.24,-23.7 306.89,-33.22 311.81,-28.24\"/>\n</g>\n<!-- 738081 -->\n<g id=\"node8\" class=\"node\">\n<title>738081</title>\n<polygon fill=\"none\" stroke=\"black\" points=\"366,-0.5 366,-23.5 456,-23.5 456,-0.5 366,-0.5\"/>\n<text text-anchor=\"middle\" x=\"381\" y=\"-8.3\" font-family=\"Times,serif\" font-size=\"14.00\">73</text>\n<polyline fill=\"none\" stroke=\"black\" points=\"396,-0.5 396,-23.5 \"/>\n<text text-anchor=\"middle\" x=\"411\" y=\"-8.3\" font-family=\"Times,serif\" font-size=\"14.00\">80</text>\n<polyline fill=\"none\" stroke=\"black\" points=\"426,-0.5 426,-23.5 \"/>\n<text text-anchor=\"middle\" x=\"441\" y=\"-8.3\" font-family=\"Times,serif\" font-size=\"14.00\">81</text>\n</g>\n<!-- 6182&#45;&gt;738081 -->\n<g id=\"edge6\" class=\"edge\">\n<title>6182:f1&#45;&gt;738081</title>\n<path fill=\"none\" stroke=\"black\" d=\"M376,-60C376,-49.01 382.23,-38.93 389.43,-30.95\"/>\n<polygon fill=\"black\" stroke=\"black\" points=\"392.11,-33.22 396.76,-23.7 387.19,-28.24 392.11,-33.22\"/>\n</g>\n<!-- 91100 -->\n<g id=\"node9\" class=\"node\">\n<title>91100</title>\n<polygon fill=\"none\" stroke=\"black\" points=\"474.5,-0.5 474.5,-23.5 541.5,-23.5 541.5,-0.5 474.5,-0.5\"/>\n<text text-anchor=\"middle\" x=\"489.5\" y=\"-8.3\" font-family=\"Times,serif\" font-size=\"14.00\">91</text>\n<polyline fill=\"none\" stroke=\"black\" points=\"504.5,-0.5 504.5,-23.5 \"/>\n<text text-anchor=\"middle\" x=\"523\" y=\"-8.3\" font-family=\"Times,serif\" font-size=\"14.00\">100</text>\n</g>\n<!-- 6182&#45;&gt;91100 -->\n<g id=\"edge7\" class=\"edge\">\n<title>6182:f2&#45;&gt;91100</title>\n<path fill=\"none\" stroke=\"black\" d=\"M442,-72C466.25,-72 485.68,-49.59 497.02,-32.39\"/>\n<polygon fill=\"black\" stroke=\"black\" points=\"500.2,-33.9 502.46,-23.55 494.24,-30.23 500.2,-33.9\"/>\n</g>\n</g>\n</svg>\n",
            "text/plain": [
              "<graphviz.graphs.Digraph at 0x7ea2db09eef0>"
            ]
          },
          "metadata": {},
          "execution_count": 28
        }
      ]
    },
    {
      "cell_type": "markdown",
      "source": [
        "Now let's remove 91."
      ],
      "metadata": {
        "id": "9rN4q6yyU7Zw"
      }
    },
    {
      "cell_type": "code",
      "source": [
        "btree.BTreeDelete(91)\n",
        "visualize_btree(btree)"
      ],
      "metadata": {
        "colab": {
          "base_uri": "https://localhost:8080/",
          "height": 224
        },
        "id": "aha9vKS9U9yA",
        "outputId": "5a032132-2aad-478a-d919-15ce3b8fc8a7"
      },
      "execution_count": 29,
      "outputs": [
        {
          "output_type": "execute_result",
          "data": {
            "image/svg+xml": "<?xml version=\"1.0\" encoding=\"UTF-8\" standalone=\"no\"?>\n<!DOCTYPE svg PUBLIC \"-//W3C//DTD SVG 1.1//EN\"\n \"http://www.w3.org/Graphics/SVG/1.1/DTD/svg11.dtd\">\n<!-- Generated by graphviz version 2.43.0 (0)\n -->\n<!-- Title: %3 Pages: 1 -->\n<svg width=\"520pt\" height=\"152pt\"\n viewBox=\"0.00 0.00 519.50 152.00\" xmlns=\"http://www.w3.org/2000/svg\" xmlns:xlink=\"http://www.w3.org/1999/xlink\">\n<g id=\"graph0\" class=\"graph\" transform=\"scale(1 1) rotate(0) translate(4 148)\">\n<title>%3</title>\n<polygon fill=\"white\" stroke=\"transparent\" points=\"-4,4 -4,-148 515.5,-148 515.5,4 -4,4\"/>\n<!-- 45 -->\n<g id=\"node1\" class=\"node\">\n<title>45</title>\n<polygon fill=\"none\" stroke=\"black\" points=\"195,-120.5 195,-143.5 271,-143.5 271,-120.5 195,-120.5\"/>\n<text text-anchor=\"middle\" x=\"206.5\" y=\"-128.3\" font-family=\"Times,serif\" font-size=\"14.00\">*</text>\n<polyline fill=\"none\" stroke=\"black\" points=\"218,-120.5 218,-143.5 \"/>\n<text text-anchor=\"middle\" x=\"233\" y=\"-128.3\" font-family=\"Times,serif\" font-size=\"14.00\">45</text>\n<polyline fill=\"none\" stroke=\"black\" points=\"248,-120.5 248,-143.5 \"/>\n<text text-anchor=\"middle\" x=\"259.5\" y=\"-128.3\" font-family=\"Times,serif\" font-size=\"14.00\">*</text>\n</g>\n<!-- 1331 -->\n<g id=\"node2\" class=\"node\">\n<title>1331</title>\n<polygon fill=\"none\" stroke=\"black\" points=\"49.5,-60.5 49.5,-83.5 178.5,-83.5 178.5,-60.5 49.5,-60.5\"/>\n<text text-anchor=\"middle\" x=\"61\" y=\"-68.3\" font-family=\"Times,serif\" font-size=\"14.00\">*</text>\n<polyline fill=\"none\" stroke=\"black\" points=\"72.5,-60.5 72.5,-83.5 \"/>\n<text text-anchor=\"middle\" x=\"87.5\" y=\"-68.3\" font-family=\"Times,serif\" font-size=\"14.00\">13</text>\n<polyline fill=\"none\" stroke=\"black\" points=\"102.5,-60.5 102.5,-83.5 \"/>\n<text text-anchor=\"middle\" x=\"114\" y=\"-68.3\" font-family=\"Times,serif\" font-size=\"14.00\">*</text>\n<polyline fill=\"none\" stroke=\"black\" points=\"125.5,-60.5 125.5,-83.5 \"/>\n<text text-anchor=\"middle\" x=\"140.5\" y=\"-68.3\" font-family=\"Times,serif\" font-size=\"14.00\">31</text>\n<polyline fill=\"none\" stroke=\"black\" points=\"155.5,-60.5 155.5,-83.5 \"/>\n<text text-anchor=\"middle\" x=\"167\" y=\"-68.3\" font-family=\"Times,serif\" font-size=\"14.00\">*</text>\n</g>\n<!-- 45&#45;&gt;1331 -->\n<g id=\"edge4\" class=\"edge\">\n<title>45:f0&#45;&gt;1331</title>\n<path fill=\"none\" stroke=\"black\" d=\"M194,-132C166.27,-132 141.83,-108.75 127.47,-91.44\"/>\n<polygon fill=\"black\" stroke=\"black\" points=\"130.2,-89.25 121.27,-83.55 124.7,-93.57 130.2,-89.25\"/>\n</g>\n<!-- 6181 -->\n<g id=\"node6\" class=\"node\">\n<title>6181</title>\n<polygon fill=\"none\" stroke=\"black\" points=\"303.5,-60.5 303.5,-83.5 432.5,-83.5 432.5,-60.5 303.5,-60.5\"/>\n<text text-anchor=\"middle\" x=\"315\" y=\"-68.3\" font-family=\"Times,serif\" font-size=\"14.00\">*</text>\n<polyline fill=\"none\" stroke=\"black\" points=\"326.5,-60.5 326.5,-83.5 \"/>\n<text text-anchor=\"middle\" x=\"341.5\" y=\"-68.3\" font-family=\"Times,serif\" font-size=\"14.00\">61</text>\n<polyline fill=\"none\" stroke=\"black\" points=\"356.5,-60.5 356.5,-83.5 \"/>\n<text text-anchor=\"middle\" x=\"368\" y=\"-68.3\" font-family=\"Times,serif\" font-size=\"14.00\">*</text>\n<polyline fill=\"none\" stroke=\"black\" points=\"379.5,-60.5 379.5,-83.5 \"/>\n<text text-anchor=\"middle\" x=\"394.5\" y=\"-68.3\" font-family=\"Times,serif\" font-size=\"14.00\">81</text>\n<polyline fill=\"none\" stroke=\"black\" points=\"409.5,-60.5 409.5,-83.5 \"/>\n<text text-anchor=\"middle\" x=\"421\" y=\"-68.3\" font-family=\"Times,serif\" font-size=\"14.00\">*</text>\n</g>\n<!-- 45&#45;&gt;6181 -->\n<g id=\"edge8\" class=\"edge\">\n<title>45:f1&#45;&gt;6181</title>\n<path fill=\"none\" stroke=\"black\" d=\"M272,-132C303.72,-132 333.78,-108.33 351.55,-90.97\"/>\n<polygon fill=\"black\" stroke=\"black\" points=\"354.32,-93.14 358.81,-83.55 349.31,-88.25 354.32,-93.14\"/>\n</g>\n<!-- 112 -->\n<g id=\"node3\" class=\"node\">\n<title>112</title>\n<polygon fill=\"none\" stroke=\"black\" points=\"0,-0.5 0,-23.5 54,-23.5 54,-0.5 0,-0.5\"/>\n<text text-anchor=\"middle\" x=\"11.5\" y=\"-8.3\" font-family=\"Times,serif\" font-size=\"14.00\">1</text>\n<polyline fill=\"none\" stroke=\"black\" points=\"23,-0.5 23,-23.5 \"/>\n<text text-anchor=\"middle\" x=\"38.5\" y=\"-8.3\" font-family=\"Times,serif\" font-size=\"14.00\">12</text>\n</g>\n<!-- 1331&#45;&gt;112 -->\n<g id=\"edge1\" class=\"edge\">\n<title>1331:f0&#45;&gt;112</title>\n<path fill=\"none\" stroke=\"black\" d=\"M61,-60C61,-49.12 54.95,-39.06 47.95,-31.06\"/>\n<polygon fill=\"black\" stroke=\"black\" points=\"50.33,-28.48 40.83,-23.79 45.33,-33.38 50.33,-28.48\"/>\n</g>\n<!-- 1726 -->\n<g id=\"node4\" class=\"node\">\n<title>1726</title>\n<polygon fill=\"none\" stroke=\"black\" points=\"72,-0.5 72,-23.5 132,-23.5 132,-0.5 72,-0.5\"/>\n<text text-anchor=\"middle\" x=\"87\" y=\"-8.3\" font-family=\"Times,serif\" font-size=\"14.00\">17</text>\n<polyline fill=\"none\" stroke=\"black\" points=\"102,-0.5 102,-23.5 \"/>\n<text text-anchor=\"middle\" x=\"117\" y=\"-8.3\" font-family=\"Times,serif\" font-size=\"14.00\">26</text>\n</g>\n<!-- 1331&#45;&gt;1726 -->\n<g id=\"edge2\" class=\"edge\">\n<title>1331:f1&#45;&gt;1726</title>\n<path fill=\"none\" stroke=\"black\" d=\"M114,-60C114,-51.1 111.95,-41.54 109.55,-33.38\"/>\n<polygon fill=\"black\" stroke=\"black\" points=\"112.79,-32.03 106.33,-23.63 106.15,-34.22 112.79,-32.03\"/>\n</g>\n<!-- 3242 -->\n<g id=\"node5\" class=\"node\">\n<title>3242</title>\n<polygon fill=\"none\" stroke=\"black\" points=\"150,-0.5 150,-23.5 210,-23.5 210,-0.5 150,-0.5\"/>\n<text text-anchor=\"middle\" x=\"165\" y=\"-8.3\" font-family=\"Times,serif\" font-size=\"14.00\">32</text>\n<polyline fill=\"none\" stroke=\"black\" points=\"180,-0.5 180,-23.5 \"/>\n<text text-anchor=\"middle\" x=\"195\" y=\"-8.3\" font-family=\"Times,serif\" font-size=\"14.00\">42</text>\n</g>\n<!-- 1331&#45;&gt;3242 -->\n<g id=\"edge3\" class=\"edge\">\n<title>1331:f2&#45;&gt;3242</title>\n<path fill=\"none\" stroke=\"black\" d=\"M167,-60C167,-50.95 169.27,-41.27 171.91,-33.05\"/>\n<polygon fill=\"black\" stroke=\"black\" points=\"175.22,-34.19 175.31,-23.6 168.63,-31.82 175.22,-34.19\"/>\n</g>\n<!-- 54575859 -->\n<g id=\"node7\" class=\"node\">\n<title>54575859</title>\n<polygon fill=\"none\" stroke=\"black\" points=\"228,-0.5 228,-23.5 348,-23.5 348,-0.5 228,-0.5\"/>\n<text text-anchor=\"middle\" x=\"243\" y=\"-8.3\" font-family=\"Times,serif\" font-size=\"14.00\">54</text>\n<polyline fill=\"none\" stroke=\"black\" points=\"258,-0.5 258,-23.5 \"/>\n<text text-anchor=\"middle\" x=\"273\" y=\"-8.3\" font-family=\"Times,serif\" font-size=\"14.00\">57</text>\n<polyline fill=\"none\" stroke=\"black\" points=\"288,-0.5 288,-23.5 \"/>\n<text text-anchor=\"middle\" x=\"303\" y=\"-8.3\" font-family=\"Times,serif\" font-size=\"14.00\">58</text>\n<polyline fill=\"none\" stroke=\"black\" points=\"318,-0.5 318,-23.5 \"/>\n<text text-anchor=\"middle\" x=\"333\" y=\"-8.3\" font-family=\"Times,serif\" font-size=\"14.00\">59</text>\n</g>\n<!-- 6181&#45;&gt;54575859 -->\n<g id=\"edge5\" class=\"edge\">\n<title>6181:f0&#45;&gt;54575859</title>\n<path fill=\"none\" stroke=\"black\" d=\"M315,-60C315,-49.77 310.13,-39.76 304.53,-31.62\"/>\n<polygon fill=\"black\" stroke=\"black\" points=\"307.23,-29.39 298.36,-23.6 301.69,-33.66 307.23,-29.39\"/>\n</g>\n<!-- 7380 -->\n<g id=\"node8\" class=\"node\">\n<title>7380</title>\n<polygon fill=\"none\" stroke=\"black\" points=\"366,-0.5 366,-23.5 426,-23.5 426,-0.5 366,-0.5\"/>\n<text text-anchor=\"middle\" x=\"381\" y=\"-8.3\" font-family=\"Times,serif\" font-size=\"14.00\">73</text>\n<polyline fill=\"none\" stroke=\"black\" points=\"396,-0.5 396,-23.5 \"/>\n<text text-anchor=\"middle\" x=\"411\" y=\"-8.3\" font-family=\"Times,serif\" font-size=\"14.00\">80</text>\n</g>\n<!-- 6181&#45;&gt;7380 -->\n<g id=\"edge6\" class=\"edge\">\n<title>6181:f1&#45;&gt;7380</title>\n<path fill=\"none\" stroke=\"black\" d=\"M368,-60C368,-49.68 373.05,-39.65 378.86,-31.52\"/>\n<polygon fill=\"black\" stroke=\"black\" points=\"381.74,-33.53 385.25,-23.53 376.27,-29.15 381.74,-33.53\"/>\n</g>\n<!-- 82100 -->\n<g id=\"node9\" class=\"node\">\n<title>82100</title>\n<polygon fill=\"none\" stroke=\"black\" points=\"444.5,-0.5 444.5,-23.5 511.5,-23.5 511.5,-0.5 444.5,-0.5\"/>\n<text text-anchor=\"middle\" x=\"459.5\" y=\"-8.3\" font-family=\"Times,serif\" font-size=\"14.00\">82</text>\n<polyline fill=\"none\" stroke=\"black\" points=\"474.5,-0.5 474.5,-23.5 \"/>\n<text text-anchor=\"middle\" x=\"493\" y=\"-8.3\" font-family=\"Times,serif\" font-size=\"14.00\">100</text>\n</g>\n<!-- 6181&#45;&gt;82100 -->\n<g id=\"edge7\" class=\"edge\">\n<title>6181:f2&#45;&gt;82100</title>\n<path fill=\"none\" stroke=\"black\" d=\"M421,-60C421,-46.61 430.48,-36.33 441.7,-28.84\"/>\n<polygon fill=\"black\" stroke=\"black\" points=\"443.66,-31.75 450.5,-23.66 440.11,-25.72 443.66,-31.75\"/>\n</g>\n</g>\n</svg>\n",
            "text/plain": [
              "<graphviz.graphs.Digraph at 0x7ea2db09e5c0>"
            ]
          },
          "metadata": {},
          "execution_count": 29
        }
      ]
    },
    {
      "cell_type": "markdown",
      "source": [
        "Now let's remove the value of the root. The next value will replace it."
      ],
      "metadata": {
        "id": "3Sx35mIknrvz"
      }
    },
    {
      "cell_type": "code",
      "source": [
        "btree.BTreeDelete(45)\n",
        "visualize_btree(btree)"
      ],
      "metadata": {
        "colab": {
          "base_uri": "https://localhost:8080/",
          "height": 224
        },
        "id": "0vY0f7bOnusM",
        "outputId": "fe03ab32-b21b-4433-e275-db6aa7c148ac"
      },
      "execution_count": 30,
      "outputs": [
        {
          "output_type": "execute_result",
          "data": {
            "image/svg+xml": "<?xml version=\"1.0\" encoding=\"UTF-8\" standalone=\"no\"?>\n<!DOCTYPE svg PUBLIC \"-//W3C//DTD SVG 1.1//EN\"\n \"http://www.w3.org/Graphics/SVG/1.1/DTD/svg11.dtd\">\n<!-- Generated by graphviz version 2.43.0 (0)\n -->\n<!-- Title: %3 Pages: 1 -->\n<svg width=\"490pt\" height=\"152pt\"\n viewBox=\"0.00 0.00 489.50 152.00\" xmlns=\"http://www.w3.org/2000/svg\" xmlns:xlink=\"http://www.w3.org/1999/xlink\">\n<g id=\"graph0\" class=\"graph\" transform=\"scale(1 1) rotate(0) translate(4 148)\">\n<title>%3</title>\n<polygon fill=\"white\" stroke=\"transparent\" points=\"-4,4 -4,-148 485.5,-148 485.5,4 -4,4\"/>\n<!-- 54 -->\n<g id=\"node1\" class=\"node\">\n<title>54</title>\n<polygon fill=\"none\" stroke=\"black\" points=\"188,-120.5 188,-143.5 264,-143.5 264,-120.5 188,-120.5\"/>\n<text text-anchor=\"middle\" x=\"199.5\" y=\"-128.3\" font-family=\"Times,serif\" font-size=\"14.00\">*</text>\n<polyline fill=\"none\" stroke=\"black\" points=\"211,-120.5 211,-143.5 \"/>\n<text text-anchor=\"middle\" x=\"226\" y=\"-128.3\" font-family=\"Times,serif\" font-size=\"14.00\">54</text>\n<polyline fill=\"none\" stroke=\"black\" points=\"241,-120.5 241,-143.5 \"/>\n<text text-anchor=\"middle\" x=\"252.5\" y=\"-128.3\" font-family=\"Times,serif\" font-size=\"14.00\">*</text>\n</g>\n<!-- 1331 -->\n<g id=\"node2\" class=\"node\">\n<title>1331</title>\n<polygon fill=\"none\" stroke=\"black\" points=\"49.5,-60.5 49.5,-83.5 178.5,-83.5 178.5,-60.5 49.5,-60.5\"/>\n<text text-anchor=\"middle\" x=\"61\" y=\"-68.3\" font-family=\"Times,serif\" font-size=\"14.00\">*</text>\n<polyline fill=\"none\" stroke=\"black\" points=\"72.5,-60.5 72.5,-83.5 \"/>\n<text text-anchor=\"middle\" x=\"87.5\" y=\"-68.3\" font-family=\"Times,serif\" font-size=\"14.00\">13</text>\n<polyline fill=\"none\" stroke=\"black\" points=\"102.5,-60.5 102.5,-83.5 \"/>\n<text text-anchor=\"middle\" x=\"114\" y=\"-68.3\" font-family=\"Times,serif\" font-size=\"14.00\">*</text>\n<polyline fill=\"none\" stroke=\"black\" points=\"125.5,-60.5 125.5,-83.5 \"/>\n<text text-anchor=\"middle\" x=\"140.5\" y=\"-68.3\" font-family=\"Times,serif\" font-size=\"14.00\">31</text>\n<polyline fill=\"none\" stroke=\"black\" points=\"155.5,-60.5 155.5,-83.5 \"/>\n<text text-anchor=\"middle\" x=\"167\" y=\"-68.3\" font-family=\"Times,serif\" font-size=\"14.00\">*</text>\n</g>\n<!-- 54&#45;&gt;1331 -->\n<g id=\"edge4\" class=\"edge\">\n<title>54:f0&#45;&gt;1331</title>\n<path fill=\"none\" stroke=\"black\" d=\"M187,-132C161.05,-132 139.14,-109.17 126.28,-91.91\"/>\n<polygon fill=\"black\" stroke=\"black\" points=\"129.02,-89.72 120.41,-83.55 123.29,-93.74 129.02,-89.72\"/>\n</g>\n<!-- 6181 -->\n<g id=\"node6\" class=\"node\">\n<title>6181</title>\n<polygon fill=\"none\" stroke=\"black\" points=\"281.5,-60.5 281.5,-83.5 410.5,-83.5 410.5,-60.5 281.5,-60.5\"/>\n<text text-anchor=\"middle\" x=\"293\" y=\"-68.3\" font-family=\"Times,serif\" font-size=\"14.00\">*</text>\n<polyline fill=\"none\" stroke=\"black\" points=\"304.5,-60.5 304.5,-83.5 \"/>\n<text text-anchor=\"middle\" x=\"319.5\" y=\"-68.3\" font-family=\"Times,serif\" font-size=\"14.00\">61</text>\n<polyline fill=\"none\" stroke=\"black\" points=\"334.5,-60.5 334.5,-83.5 \"/>\n<text text-anchor=\"middle\" x=\"346\" y=\"-68.3\" font-family=\"Times,serif\" font-size=\"14.00\">*</text>\n<polyline fill=\"none\" stroke=\"black\" points=\"357.5,-60.5 357.5,-83.5 \"/>\n<text text-anchor=\"middle\" x=\"372.5\" y=\"-68.3\" font-family=\"Times,serif\" font-size=\"14.00\">81</text>\n<polyline fill=\"none\" stroke=\"black\" points=\"387.5,-60.5 387.5,-83.5 \"/>\n<text text-anchor=\"middle\" x=\"399\" y=\"-68.3\" font-family=\"Times,serif\" font-size=\"14.00\">*</text>\n</g>\n<!-- 54&#45;&gt;6181 -->\n<g id=\"edge8\" class=\"edge\">\n<title>54:f1&#45;&gt;6181</title>\n<path fill=\"none\" stroke=\"black\" d=\"M265,-132C292.96,-132 317.73,-108.75 332.31,-91.44\"/>\n<polygon fill=\"black\" stroke=\"black\" points=\"335.1,-93.55 338.61,-83.55 329.63,-89.18 335.1,-93.55\"/>\n</g>\n<!-- 112 -->\n<g id=\"node3\" class=\"node\">\n<title>112</title>\n<polygon fill=\"none\" stroke=\"black\" points=\"0,-0.5 0,-23.5 54,-23.5 54,-0.5 0,-0.5\"/>\n<text text-anchor=\"middle\" x=\"11.5\" y=\"-8.3\" font-family=\"Times,serif\" font-size=\"14.00\">1</text>\n<polyline fill=\"none\" stroke=\"black\" points=\"23,-0.5 23,-23.5 \"/>\n<text text-anchor=\"middle\" x=\"38.5\" y=\"-8.3\" font-family=\"Times,serif\" font-size=\"14.00\">12</text>\n</g>\n<!-- 1331&#45;&gt;112 -->\n<g id=\"edge1\" class=\"edge\">\n<title>1331:f0&#45;&gt;112</title>\n<path fill=\"none\" stroke=\"black\" d=\"M61,-60C61,-49.12 54.95,-39.06 47.95,-31.06\"/>\n<polygon fill=\"black\" stroke=\"black\" points=\"50.33,-28.48 40.83,-23.79 45.33,-33.38 50.33,-28.48\"/>\n</g>\n<!-- 1726 -->\n<g id=\"node4\" class=\"node\">\n<title>1726</title>\n<polygon fill=\"none\" stroke=\"black\" points=\"72,-0.5 72,-23.5 132,-23.5 132,-0.5 72,-0.5\"/>\n<text text-anchor=\"middle\" x=\"87\" y=\"-8.3\" font-family=\"Times,serif\" font-size=\"14.00\">17</text>\n<polyline fill=\"none\" stroke=\"black\" points=\"102,-0.5 102,-23.5 \"/>\n<text text-anchor=\"middle\" x=\"117\" y=\"-8.3\" font-family=\"Times,serif\" font-size=\"14.00\">26</text>\n</g>\n<!-- 1331&#45;&gt;1726 -->\n<g id=\"edge2\" class=\"edge\">\n<title>1331:f1&#45;&gt;1726</title>\n<path fill=\"none\" stroke=\"black\" d=\"M114,-60C114,-51.1 111.95,-41.54 109.55,-33.38\"/>\n<polygon fill=\"black\" stroke=\"black\" points=\"112.79,-32.03 106.33,-23.63 106.15,-34.22 112.79,-32.03\"/>\n</g>\n<!-- 3242 -->\n<g id=\"node5\" class=\"node\">\n<title>3242</title>\n<polygon fill=\"none\" stroke=\"black\" points=\"150,-0.5 150,-23.5 210,-23.5 210,-0.5 150,-0.5\"/>\n<text text-anchor=\"middle\" x=\"165\" y=\"-8.3\" font-family=\"Times,serif\" font-size=\"14.00\">32</text>\n<polyline fill=\"none\" stroke=\"black\" points=\"180,-0.5 180,-23.5 \"/>\n<text text-anchor=\"middle\" x=\"195\" y=\"-8.3\" font-family=\"Times,serif\" font-size=\"14.00\">42</text>\n</g>\n<!-- 1331&#45;&gt;3242 -->\n<g id=\"edge3\" class=\"edge\">\n<title>1331:f2&#45;&gt;3242</title>\n<path fill=\"none\" stroke=\"black\" d=\"M167,-60C167,-50.95 169.27,-41.27 171.91,-33.05\"/>\n<polygon fill=\"black\" stroke=\"black\" points=\"175.22,-34.19 175.31,-23.6 168.63,-31.82 175.22,-34.19\"/>\n</g>\n<!-- 575859 -->\n<g id=\"node7\" class=\"node\">\n<title>575859</title>\n<polygon fill=\"none\" stroke=\"black\" points=\"228,-0.5 228,-23.5 318,-23.5 318,-0.5 228,-0.5\"/>\n<text text-anchor=\"middle\" x=\"243\" y=\"-8.3\" font-family=\"Times,serif\" font-size=\"14.00\">57</text>\n<polyline fill=\"none\" stroke=\"black\" points=\"258,-0.5 258,-23.5 \"/>\n<text text-anchor=\"middle\" x=\"273\" y=\"-8.3\" font-family=\"Times,serif\" font-size=\"14.00\">58</text>\n<polyline fill=\"none\" stroke=\"black\" points=\"288,-0.5 288,-23.5 \"/>\n<text text-anchor=\"middle\" x=\"303\" y=\"-8.3\" font-family=\"Times,serif\" font-size=\"14.00\">59</text>\n</g>\n<!-- 6181&#45;&gt;575859 -->\n<g id=\"edge5\" class=\"edge\">\n<title>6181:f0&#45;&gt;575859</title>\n<path fill=\"none\" stroke=\"black\" d=\"M293,-60C293,-50.44 289.45,-40.6 285.35,-32.4\"/>\n<polygon fill=\"black\" stroke=\"black\" points=\"288.39,-30.67 280.45,-23.66 282.28,-34.09 288.39,-30.67\"/>\n</g>\n<!-- 7380 -->\n<g id=\"node8\" class=\"node\">\n<title>7380</title>\n<polygon fill=\"none\" stroke=\"black\" points=\"336,-0.5 336,-23.5 396,-23.5 396,-0.5 336,-0.5\"/>\n<text text-anchor=\"middle\" x=\"351\" y=\"-8.3\" font-family=\"Times,serif\" font-size=\"14.00\">73</text>\n<polyline fill=\"none\" stroke=\"black\" points=\"366,-0.5 366,-23.5 \"/>\n<text text-anchor=\"middle\" x=\"381\" y=\"-8.3\" font-family=\"Times,serif\" font-size=\"14.00\">80</text>\n</g>\n<!-- 6181&#45;&gt;7380 -->\n<g id=\"edge6\" class=\"edge\">\n<title>6181:f1&#45;&gt;7380</title>\n<path fill=\"none\" stroke=\"black\" d=\"M346,-60C346,-50.44 349.55,-40.6 353.65,-32.4\"/>\n<polygon fill=\"black\" stroke=\"black\" points=\"356.72,-34.09 358.55,-23.66 350.61,-30.67 356.72,-34.09\"/>\n</g>\n<!-- 82100 -->\n<g id=\"node9\" class=\"node\">\n<title>82100</title>\n<polygon fill=\"none\" stroke=\"black\" points=\"414.5,-0.5 414.5,-23.5 481.5,-23.5 481.5,-0.5 414.5,-0.5\"/>\n<text text-anchor=\"middle\" x=\"429.5\" y=\"-8.3\" font-family=\"Times,serif\" font-size=\"14.00\">82</text>\n<polyline fill=\"none\" stroke=\"black\" points=\"444.5,-0.5 444.5,-23.5 \"/>\n<text text-anchor=\"middle\" x=\"463\" y=\"-8.3\" font-family=\"Times,serif\" font-size=\"14.00\">100</text>\n</g>\n<!-- 6181&#45;&gt;82100 -->\n<g id=\"edge7\" class=\"edge\">\n<title>6181:f2&#45;&gt;82100</title>\n<path fill=\"none\" stroke=\"black\" d=\"M399,-60C399,-47.38 407.57,-37.1 417.53,-29.41\"/>\n<polygon fill=\"black\" stroke=\"black\" points=\"419.8,-32.09 426.08,-23.56 415.85,-26.32 419.8,-32.09\"/>\n</g>\n</g>\n</svg>\n",
            "text/plain": [
              "<graphviz.graphs.Digraph at 0x7ea2db09de40>"
            ]
          },
          "metadata": {},
          "execution_count": 30
        }
      ]
    },
    {
      "cell_type": "markdown",
      "source": [
        "Let's remove the root value again. Again the next value will replace it. That child now has the minimum numeber of values."
      ],
      "metadata": {
        "id": "qHOy7W_TasyX"
      }
    },
    {
      "cell_type": "code",
      "source": [
        "btree.BTreeDelete(54)\n",
        "visualize_btree(btree)"
      ],
      "metadata": {
        "colab": {
          "base_uri": "https://localhost:8080/",
          "height": 224
        },
        "id": "YvJRJGd3av1X",
        "outputId": "db56ccc5-2d55-479e-f67f-32ae26b1a373"
      },
      "execution_count": 31,
      "outputs": [
        {
          "output_type": "execute_result",
          "data": {
            "image/svg+xml": "<?xml version=\"1.0\" encoding=\"UTF-8\" standalone=\"no\"?>\n<!DOCTYPE svg PUBLIC \"-//W3C//DTD SVG 1.1//EN\"\n \"http://www.w3.org/Graphics/SVG/1.1/DTD/svg11.dtd\">\n<!-- Generated by graphviz version 2.43.0 (0)\n -->\n<!-- Title: %3 Pages: 1 -->\n<svg width=\"460pt\" height=\"152pt\"\n viewBox=\"0.00 0.00 459.50 152.00\" xmlns=\"http://www.w3.org/2000/svg\" xmlns:xlink=\"http://www.w3.org/1999/xlink\">\n<g id=\"graph0\" class=\"graph\" transform=\"scale(1 1) rotate(0) translate(4 148)\">\n<title>%3</title>\n<polygon fill=\"white\" stroke=\"transparent\" points=\"-4,4 -4,-148 455.5,-148 455.5,4 -4,4\"/>\n<!-- 57 -->\n<g id=\"node1\" class=\"node\">\n<title>57</title>\n<polygon fill=\"none\" stroke=\"black\" points=\"180,-120.5 180,-143.5 256,-143.5 256,-120.5 180,-120.5\"/>\n<text text-anchor=\"middle\" x=\"191.5\" y=\"-128.3\" font-family=\"Times,serif\" font-size=\"14.00\">*</text>\n<polyline fill=\"none\" stroke=\"black\" points=\"203,-120.5 203,-143.5 \"/>\n<text text-anchor=\"middle\" x=\"218\" y=\"-128.3\" font-family=\"Times,serif\" font-size=\"14.00\">57</text>\n<polyline fill=\"none\" stroke=\"black\" points=\"233,-120.5 233,-143.5 \"/>\n<text text-anchor=\"middle\" x=\"244.5\" y=\"-128.3\" font-family=\"Times,serif\" font-size=\"14.00\">*</text>\n</g>\n<!-- 1331 -->\n<g id=\"node2\" class=\"node\">\n<title>1331</title>\n<polygon fill=\"none\" stroke=\"black\" points=\"49.5,-60.5 49.5,-83.5 178.5,-83.5 178.5,-60.5 49.5,-60.5\"/>\n<text text-anchor=\"middle\" x=\"61\" y=\"-68.3\" font-family=\"Times,serif\" font-size=\"14.00\">*</text>\n<polyline fill=\"none\" stroke=\"black\" points=\"72.5,-60.5 72.5,-83.5 \"/>\n<text text-anchor=\"middle\" x=\"87.5\" y=\"-68.3\" font-family=\"Times,serif\" font-size=\"14.00\">13</text>\n<polyline fill=\"none\" stroke=\"black\" points=\"102.5,-60.5 102.5,-83.5 \"/>\n<text text-anchor=\"middle\" x=\"114\" y=\"-68.3\" font-family=\"Times,serif\" font-size=\"14.00\">*</text>\n<polyline fill=\"none\" stroke=\"black\" points=\"125.5,-60.5 125.5,-83.5 \"/>\n<text text-anchor=\"middle\" x=\"140.5\" y=\"-68.3\" font-family=\"Times,serif\" font-size=\"14.00\">31</text>\n<polyline fill=\"none\" stroke=\"black\" points=\"155.5,-60.5 155.5,-83.5 \"/>\n<text text-anchor=\"middle\" x=\"167\" y=\"-68.3\" font-family=\"Times,serif\" font-size=\"14.00\">*</text>\n</g>\n<!-- 57&#45;&gt;1331 -->\n<g id=\"edge4\" class=\"edge\">\n<title>57:f0&#45;&gt;1331</title>\n<path fill=\"none\" stroke=\"black\" d=\"M179,-132C154.95,-132 135.86,-109.59 124.74,-92.39\"/>\n<polygon fill=\"black\" stroke=\"black\" points=\"127.57,-90.3 119.41,-83.55 121.58,-93.92 127.57,-90.3\"/>\n</g>\n<!-- 6181 -->\n<g id=\"node6\" class=\"node\">\n<title>6181</title>\n<polygon fill=\"none\" stroke=\"black\" points=\"258.5,-60.5 258.5,-83.5 387.5,-83.5 387.5,-60.5 258.5,-60.5\"/>\n<text text-anchor=\"middle\" x=\"270\" y=\"-68.3\" font-family=\"Times,serif\" font-size=\"14.00\">*</text>\n<polyline fill=\"none\" stroke=\"black\" points=\"281.5,-60.5 281.5,-83.5 \"/>\n<text text-anchor=\"middle\" x=\"296.5\" y=\"-68.3\" font-family=\"Times,serif\" font-size=\"14.00\">61</text>\n<polyline fill=\"none\" stroke=\"black\" points=\"311.5,-60.5 311.5,-83.5 \"/>\n<text text-anchor=\"middle\" x=\"323\" y=\"-68.3\" font-family=\"Times,serif\" font-size=\"14.00\">*</text>\n<polyline fill=\"none\" stroke=\"black\" points=\"334.5,-60.5 334.5,-83.5 \"/>\n<text text-anchor=\"middle\" x=\"349.5\" y=\"-68.3\" font-family=\"Times,serif\" font-size=\"14.00\">81</text>\n<polyline fill=\"none\" stroke=\"black\" points=\"364.5,-60.5 364.5,-83.5 \"/>\n<text text-anchor=\"middle\" x=\"376\" y=\"-68.3\" font-family=\"Times,serif\" font-size=\"14.00\">*</text>\n</g>\n<!-- 57&#45;&gt;6181 -->\n<g id=\"edge8\" class=\"edge\">\n<title>57:f1&#45;&gt;6181</title>\n<path fill=\"none\" stroke=\"black\" d=\"M257,-132C281.25,-132 300.68,-109.59 312.02,-92.39\"/>\n<polygon fill=\"black\" stroke=\"black\" points=\"315.2,-93.9 317.46,-83.55 309.24,-90.23 315.2,-93.9\"/>\n</g>\n<!-- 112 -->\n<g id=\"node3\" class=\"node\">\n<title>112</title>\n<polygon fill=\"none\" stroke=\"black\" points=\"0,-0.5 0,-23.5 54,-23.5 54,-0.5 0,-0.5\"/>\n<text text-anchor=\"middle\" x=\"11.5\" y=\"-8.3\" font-family=\"Times,serif\" font-size=\"14.00\">1</text>\n<polyline fill=\"none\" stroke=\"black\" points=\"23,-0.5 23,-23.5 \"/>\n<text text-anchor=\"middle\" x=\"38.5\" y=\"-8.3\" font-family=\"Times,serif\" font-size=\"14.00\">12</text>\n</g>\n<!-- 1331&#45;&gt;112 -->\n<g id=\"edge1\" class=\"edge\">\n<title>1331:f0&#45;&gt;112</title>\n<path fill=\"none\" stroke=\"black\" d=\"M61,-60C61,-49.12 54.95,-39.06 47.95,-31.06\"/>\n<polygon fill=\"black\" stroke=\"black\" points=\"50.33,-28.48 40.83,-23.79 45.33,-33.38 50.33,-28.48\"/>\n</g>\n<!-- 1726 -->\n<g id=\"node4\" class=\"node\">\n<title>1726</title>\n<polygon fill=\"none\" stroke=\"black\" points=\"72,-0.5 72,-23.5 132,-23.5 132,-0.5 72,-0.5\"/>\n<text text-anchor=\"middle\" x=\"87\" y=\"-8.3\" font-family=\"Times,serif\" font-size=\"14.00\">17</text>\n<polyline fill=\"none\" stroke=\"black\" points=\"102,-0.5 102,-23.5 \"/>\n<text text-anchor=\"middle\" x=\"117\" y=\"-8.3\" font-family=\"Times,serif\" font-size=\"14.00\">26</text>\n</g>\n<!-- 1331&#45;&gt;1726 -->\n<g id=\"edge2\" class=\"edge\">\n<title>1331:f1&#45;&gt;1726</title>\n<path fill=\"none\" stroke=\"black\" d=\"M114,-60C114,-51.1 111.95,-41.54 109.55,-33.38\"/>\n<polygon fill=\"black\" stroke=\"black\" points=\"112.79,-32.03 106.33,-23.63 106.15,-34.22 112.79,-32.03\"/>\n</g>\n<!-- 3242 -->\n<g id=\"node5\" class=\"node\">\n<title>3242</title>\n<polygon fill=\"none\" stroke=\"black\" points=\"150,-0.5 150,-23.5 210,-23.5 210,-0.5 150,-0.5\"/>\n<text text-anchor=\"middle\" x=\"165\" y=\"-8.3\" font-family=\"Times,serif\" font-size=\"14.00\">32</text>\n<polyline fill=\"none\" stroke=\"black\" points=\"180,-0.5 180,-23.5 \"/>\n<text text-anchor=\"middle\" x=\"195\" y=\"-8.3\" font-family=\"Times,serif\" font-size=\"14.00\">42</text>\n</g>\n<!-- 1331&#45;&gt;3242 -->\n<g id=\"edge3\" class=\"edge\">\n<title>1331:f2&#45;&gt;3242</title>\n<path fill=\"none\" stroke=\"black\" d=\"M167,-60C167,-50.95 169.27,-41.27 171.91,-33.05\"/>\n<polygon fill=\"black\" stroke=\"black\" points=\"175.22,-34.19 175.31,-23.6 168.63,-31.82 175.22,-34.19\"/>\n</g>\n<!-- 5859 -->\n<g id=\"node7\" class=\"node\">\n<title>5859</title>\n<polygon fill=\"none\" stroke=\"black\" points=\"228,-0.5 228,-23.5 288,-23.5 288,-0.5 228,-0.5\"/>\n<text text-anchor=\"middle\" x=\"243\" y=\"-8.3\" font-family=\"Times,serif\" font-size=\"14.00\">58</text>\n<polyline fill=\"none\" stroke=\"black\" points=\"258,-0.5 258,-23.5 \"/>\n<text text-anchor=\"middle\" x=\"273\" y=\"-8.3\" font-family=\"Times,serif\" font-size=\"14.00\">59</text>\n</g>\n<!-- 6181&#45;&gt;5859 -->\n<g id=\"edge5\" class=\"edge\">\n<title>6181:f0&#45;&gt;5859</title>\n<path fill=\"none\" stroke=\"black\" d=\"M270,-60C270,-51.1 267.95,-41.54 265.55,-33.38\"/>\n<polygon fill=\"black\" stroke=\"black\" points=\"268.79,-32.03 262.33,-23.63 262.15,-34.22 268.79,-32.03\"/>\n</g>\n<!-- 7380 -->\n<g id=\"node8\" class=\"node\">\n<title>7380</title>\n<polygon fill=\"none\" stroke=\"black\" points=\"306,-0.5 306,-23.5 366,-23.5 366,-0.5 306,-0.5\"/>\n<text text-anchor=\"middle\" x=\"321\" y=\"-8.3\" font-family=\"Times,serif\" font-size=\"14.00\">73</text>\n<polyline fill=\"none\" stroke=\"black\" points=\"336,-0.5 336,-23.5 \"/>\n<text text-anchor=\"middle\" x=\"351\" y=\"-8.3\" font-family=\"Times,serif\" font-size=\"14.00\">80</text>\n</g>\n<!-- 6181&#45;&gt;7380 -->\n<g id=\"edge6\" class=\"edge\">\n<title>6181:f1&#45;&gt;7380</title>\n<path fill=\"none\" stroke=\"black\" d=\"M323,-60C323,-50.95 325.27,-41.27 327.91,-33.05\"/>\n<polygon fill=\"black\" stroke=\"black\" points=\"331.22,-34.19 331.31,-23.6 324.63,-31.82 331.22,-34.19\"/>\n</g>\n<!-- 82100 -->\n<g id=\"node9\" class=\"node\">\n<title>82100</title>\n<polygon fill=\"none\" stroke=\"black\" points=\"384.5,-0.5 384.5,-23.5 451.5,-23.5 451.5,-0.5 384.5,-0.5\"/>\n<text text-anchor=\"middle\" x=\"399.5\" y=\"-8.3\" font-family=\"Times,serif\" font-size=\"14.00\">82</text>\n<polyline fill=\"none\" stroke=\"black\" points=\"414.5,-0.5 414.5,-23.5 \"/>\n<text text-anchor=\"middle\" x=\"433\" y=\"-8.3\" font-family=\"Times,serif\" font-size=\"14.00\">100</text>\n</g>\n<!-- 6181&#45;&gt;82100 -->\n<g id=\"edge7\" class=\"edge\">\n<title>6181:f2&#45;&gt;82100</title>\n<path fill=\"none\" stroke=\"black\" d=\"M376,-60C376,-48.27 383.36,-38.12 391.92,-30.29\"/>\n<polygon fill=\"black\" stroke=\"black\" points=\"394.39,-32.79 399.94,-23.77 389.98,-27.36 394.39,-32.79\"/>\n</g>\n</g>\n</svg>\n",
            "text/plain": [
              "<graphviz.graphs.Digraph at 0x7ea2db09e080>"
            ]
          },
          "metadata": {},
          "execution_count": 31
        }
      ]
    },
    {
      "cell_type": "markdown",
      "source": [
        "Let's remove the root value again. The next value that should replace it is 58, but that child node will become under-full so it will merge the siblings (59 + 61 from the parent + 73 and 80), causing the parent to become underfull (only 81) at it's turn and fixing it will end up merging with the left sibling and the root value. The root now is 0 size so one level is removed."
      ],
      "metadata": {
        "id": "OfB9AQ9ca_vX"
      }
    },
    {
      "cell_type": "code",
      "source": [
        "btree.BTreeDelete(57)\n",
        "visualize_btree(btree)"
      ],
      "metadata": {
        "colab": {
          "base_uri": "https://localhost:8080/",
          "height": 144
        },
        "id": "pEZUBZ56bCDD",
        "outputId": "0ff7926d-42d6-4779-9f0b-736af8cd9f2c"
      },
      "execution_count": 32,
      "outputs": [
        {
          "output_type": "execute_result",
          "data": {
            "image/svg+xml": "<?xml version=\"1.0\" encoding=\"UTF-8\" standalone=\"no\"?>\n<!DOCTYPE svg PUBLIC \"-//W3C//DTD SVG 1.1//EN\"\n \"http://www.w3.org/Graphics/SVG/1.1/DTD/svg11.dtd\">\n<!-- Generated by graphviz version 2.43.0 (0)\n -->\n<!-- Title: %3 Pages: 1 -->\n<svg width=\"442pt\" height=\"92pt\"\n viewBox=\"0.00 0.00 441.50 92.00\" xmlns=\"http://www.w3.org/2000/svg\" xmlns:xlink=\"http://www.w3.org/1999/xlink\">\n<g id=\"graph0\" class=\"graph\" transform=\"scale(1 1) rotate(0) translate(4 88)\">\n<title>%3</title>\n<polygon fill=\"white\" stroke=\"transparent\" points=\"-4,4 -4,-88 437.5,-88 437.5,4 -4,4\"/>\n<!-- 13315881 -->\n<g id=\"node1\" class=\"node\">\n<title>13315881</title>\n<polygon fill=\"none\" stroke=\"black\" points=\"62.5,-60.5 62.5,-83.5 297.5,-83.5 297.5,-60.5 62.5,-60.5\"/>\n<text text-anchor=\"middle\" x=\"74\" y=\"-68.3\" font-family=\"Times,serif\" font-size=\"14.00\">*</text>\n<polyline fill=\"none\" stroke=\"black\" points=\"85.5,-60.5 85.5,-83.5 \"/>\n<text text-anchor=\"middle\" x=\"100.5\" y=\"-68.3\" font-family=\"Times,serif\" font-size=\"14.00\">13</text>\n<polyline fill=\"none\" stroke=\"black\" points=\"115.5,-60.5 115.5,-83.5 \"/>\n<text text-anchor=\"middle\" x=\"127\" y=\"-68.3\" font-family=\"Times,serif\" font-size=\"14.00\">*</text>\n<polyline fill=\"none\" stroke=\"black\" points=\"138.5,-60.5 138.5,-83.5 \"/>\n<text text-anchor=\"middle\" x=\"153.5\" y=\"-68.3\" font-family=\"Times,serif\" font-size=\"14.00\">31</text>\n<polyline fill=\"none\" stroke=\"black\" points=\"168.5,-60.5 168.5,-83.5 \"/>\n<text text-anchor=\"middle\" x=\"180\" y=\"-68.3\" font-family=\"Times,serif\" font-size=\"14.00\">*</text>\n<polyline fill=\"none\" stroke=\"black\" points=\"191.5,-60.5 191.5,-83.5 \"/>\n<text text-anchor=\"middle\" x=\"206.5\" y=\"-68.3\" font-family=\"Times,serif\" font-size=\"14.00\">58</text>\n<polyline fill=\"none\" stroke=\"black\" points=\"221.5,-60.5 221.5,-83.5 \"/>\n<text text-anchor=\"middle\" x=\"233\" y=\"-68.3\" font-family=\"Times,serif\" font-size=\"14.00\">*</text>\n<polyline fill=\"none\" stroke=\"black\" points=\"244.5,-60.5 244.5,-83.5 \"/>\n<text text-anchor=\"middle\" x=\"259.5\" y=\"-68.3\" font-family=\"Times,serif\" font-size=\"14.00\">81</text>\n<polyline fill=\"none\" stroke=\"black\" points=\"274.5,-60.5 274.5,-83.5 \"/>\n<text text-anchor=\"middle\" x=\"286\" y=\"-68.3\" font-family=\"Times,serif\" font-size=\"14.00\">*</text>\n</g>\n<!-- 112 -->\n<g id=\"node2\" class=\"node\">\n<title>112</title>\n<polygon fill=\"none\" stroke=\"black\" points=\"0,-0.5 0,-23.5 54,-23.5 54,-0.5 0,-0.5\"/>\n<text text-anchor=\"middle\" x=\"11.5\" y=\"-8.3\" font-family=\"Times,serif\" font-size=\"14.00\">1</text>\n<polyline fill=\"none\" stroke=\"black\" points=\"23,-0.5 23,-23.5 \"/>\n<text text-anchor=\"middle\" x=\"38.5\" y=\"-8.3\" font-family=\"Times,serif\" font-size=\"14.00\">12</text>\n</g>\n<!-- 13315881&#45;&gt;112 -->\n<g id=\"edge1\" class=\"edge\">\n<title>13315881:f0&#45;&gt;112</title>\n<path fill=\"none\" stroke=\"black\" d=\"M74,-60C74,-47.56 65.66,-37.26 56.01,-29.51\"/>\n<polygon fill=\"black\" stroke=\"black\" points=\"57.92,-26.57 47.75,-23.6 53.85,-32.26 57.92,-26.57\"/>\n</g>\n<!-- 1726 -->\n<g id=\"node3\" class=\"node\">\n<title>1726</title>\n<polygon fill=\"none\" stroke=\"black\" points=\"72,-0.5 72,-23.5 132,-23.5 132,-0.5 72,-0.5\"/>\n<text text-anchor=\"middle\" x=\"87\" y=\"-8.3\" font-family=\"Times,serif\" font-size=\"14.00\">17</text>\n<polyline fill=\"none\" stroke=\"black\" points=\"102,-0.5 102,-23.5 \"/>\n<text text-anchor=\"middle\" x=\"117\" y=\"-8.3\" font-family=\"Times,serif\" font-size=\"14.00\">26</text>\n</g>\n<!-- 13315881&#45;&gt;1726 -->\n<g id=\"edge2\" class=\"edge\">\n<title>13315881:f1&#45;&gt;1726</title>\n<path fill=\"none\" stroke=\"black\" d=\"M127,-60C127,-50.06 122.59,-40.18 117.47,-32.06\"/>\n<polygon fill=\"black\" stroke=\"black\" points=\"120.22,-29.88 111.59,-23.73 114.5,-33.92 120.22,-29.88\"/>\n</g>\n<!-- 3242 -->\n<g id=\"node4\" class=\"node\">\n<title>3242</title>\n<polygon fill=\"none\" stroke=\"black\" points=\"150,-0.5 150,-23.5 210,-23.5 210,-0.5 150,-0.5\"/>\n<text text-anchor=\"middle\" x=\"165\" y=\"-8.3\" font-family=\"Times,serif\" font-size=\"14.00\">32</text>\n<polyline fill=\"none\" stroke=\"black\" points=\"180,-0.5 180,-23.5 \"/>\n<text text-anchor=\"middle\" x=\"195\" y=\"-8.3\" font-family=\"Times,serif\" font-size=\"14.00\">42</text>\n</g>\n<!-- 13315881&#45;&gt;3242 -->\n<g id=\"edge3\" class=\"edge\">\n<title>13315881:f2&#45;&gt;3242</title>\n<path fill=\"none\" stroke=\"black\" d=\"M180,-60C180,-51.47 180,-42.08 180,-33.94\"/>\n<polygon fill=\"black\" stroke=\"black\" points=\"183.5,-33.83 180,-23.83 176.5,-33.83 183.5,-33.83\"/>\n</g>\n<!-- 59617380 -->\n<g id=\"node5\" class=\"node\">\n<title>59617380</title>\n<polygon fill=\"none\" stroke=\"black\" points=\"228,-0.5 228,-23.5 348,-23.5 348,-0.5 228,-0.5\"/>\n<text text-anchor=\"middle\" x=\"243\" y=\"-8.3\" font-family=\"Times,serif\" font-size=\"14.00\">59</text>\n<polyline fill=\"none\" stroke=\"black\" points=\"258,-0.5 258,-23.5 \"/>\n<text text-anchor=\"middle\" x=\"273\" y=\"-8.3\" font-family=\"Times,serif\" font-size=\"14.00\">61</text>\n<polyline fill=\"none\" stroke=\"black\" points=\"288,-0.5 288,-23.5 \"/>\n<text text-anchor=\"middle\" x=\"303\" y=\"-8.3\" font-family=\"Times,serif\" font-size=\"14.00\">73</text>\n<polyline fill=\"none\" stroke=\"black\" points=\"318,-0.5 318,-23.5 \"/>\n<text text-anchor=\"middle\" x=\"333\" y=\"-8.3\" font-family=\"Times,serif\" font-size=\"14.00\">80</text>\n</g>\n<!-- 13315881&#45;&gt;59617380 -->\n<g id=\"edge4\" class=\"edge\">\n<title>13315881:f3&#45;&gt;59617380</title>\n<path fill=\"none\" stroke=\"black\" d=\"M233,-60C233,-46.69 242.43,-36.34 253.48,-28.79\"/>\n<polygon fill=\"black\" stroke=\"black\" points=\"255.37,-31.73 262.11,-23.55 251.74,-25.75 255.37,-31.73\"/>\n</g>\n<!-- 82100 -->\n<g id=\"node6\" class=\"node\">\n<title>82100</title>\n<polygon fill=\"none\" stroke=\"black\" points=\"366.5,-0.5 366.5,-23.5 433.5,-23.5 433.5,-0.5 366.5,-0.5\"/>\n<text text-anchor=\"middle\" x=\"381.5\" y=\"-8.3\" font-family=\"Times,serif\" font-size=\"14.00\">82</text>\n<polyline fill=\"none\" stroke=\"black\" points=\"396.5,-0.5 396.5,-23.5 \"/>\n<text text-anchor=\"middle\" x=\"415\" y=\"-8.3\" font-family=\"Times,serif\" font-size=\"14.00\">100</text>\n</g>\n<!-- 13315881&#45;&gt;82100 -->\n<g id=\"edge5\" class=\"edge\">\n<title>13315881:f4&#45;&gt;82100</title>\n<path fill=\"none\" stroke=\"black\" d=\"M299,-72C332.23,-72 364.24,-47.9 383.02,-30.5\"/>\n<polygon fill=\"black\" stroke=\"black\" points=\"385.46,-33.01 390.22,-23.55 380.59,-27.98 385.46,-33.01\"/>\n</g>\n</g>\n</svg>\n",
            "text/plain": [
              "<graphviz.graphs.Digraph at 0x7ea2db09e230>"
            ]
          },
          "metadata": {},
          "execution_count": 32
        }
      ]
    }
  ]
}