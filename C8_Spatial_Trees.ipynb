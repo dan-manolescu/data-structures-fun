{
  "nbformat": 4,
  "nbformat_minor": 0,
  "metadata": {
    "colab": {
      "provenance": [],
      "authorship_tag": "ABX9TyNSJyTSzrkuOct9lu8+zTBE",
      "include_colab_link": true
    },
    "kernelspec": {
      "name": "python3",
      "display_name": "Python 3"
    },
    "language_info": {
      "name": "python"
    }
  },
  "cells": [
    {
      "cell_type": "markdown",
      "metadata": {
        "id": "view-in-github",
        "colab_type": "text"
      },
      "source": [
        "<a href=\"https://colab.research.google.com/github/dan-manolescu/data-structures-fun/blob/main/C8_Spatial_Trees.ipynb\" target=\"_parent\"><img src=\"https://colab.research.google.com/assets/colab-badge.svg\" alt=\"Open In Colab\"/></a>"
      ]
    },
    {
      "cell_type": "markdown",
      "source": [
        "# Quadtrees"
      ],
      "metadata": {
        "id": "TvzEEr4lefs7"
      }
    },
    {
      "cell_type": "markdown",
      "source": [
        "Imports needed for the code to run:\n"
      ],
      "metadata": {
        "id": "g1z4jlDY1pAP"
      }
    },
    {
      "cell_type": "code",
      "source": [
        "from typing import List\n",
        "from math import sqrt"
      ],
      "metadata": {
        "id": "ob85rKOX1nY4"
      },
      "execution_count": 75,
      "outputs": []
    },
    {
      "cell_type": "markdown",
      "source": [
        "A few helper functions:\n",
        "* approx_equal: to determine based on floating point precision if two points are equal\n",
        "* euclidean_dist: to calculate the Euclidean dist between two points"
      ],
      "metadata": {
        "id": "7QMpMGCm1zTC"
      }
    },
    {
      "cell_type": "code",
      "source": [
        "# threshold to be set based on desired numerical precision.\n",
        "threshold = 0.0\n",
        "\n",
        "def approx_equal(x1: float, y1: float, x2: float, y2: float) -> bool:\n",
        "    '''\n",
        "    Returns True if both points are wihin a threshold distance in both dimensions.\n",
        "    '''\n",
        "    if abs(x1 - x2) > threshold:\n",
        "        return False\n",
        "    if abs(y1 - y2) > threshold:\n",
        "        return False\n",
        "    return True\n",
        "\n",
        "def euclidean_dist(x1: float, y1: float, x2: float, y2: float) -> float:\n",
        "    return sqrt((x1 - x2)**2 + (y1 - y2)**2)"
      ],
      "metadata": {
        "id": "ohyFSFttf2zW"
      },
      "execution_count": 76,
      "outputs": []
    },
    {
      "cell_type": "markdown",
      "source": [
        "Point class used to represent a point, identified by x and y coordinates."
      ],
      "metadata": {
        "id": "t3VyRI7Q2Dhw"
      }
    },
    {
      "cell_type": "code",
      "execution_count": 77,
      "metadata": {
        "id": "mvGP8Da7eZfI"
      },
      "outputs": [],
      "source": [
        "class Point:\n",
        "    def __init__(self, x: float, y: float):\n",
        "        self.x = x\n",
        "        self.y = y"
      ]
    },
    {
      "cell_type": "markdown",
      "source": [
        "A QuadTreeNode class used to represent a node in a QuadTree. A node can be an internal node or a leaf node.\n",
        "An internal node has a maximum of 4 children nodes.\n",
        "A leaf node has no childrens and instead has a list of the points contained within the node.\n",
        "Each node has boundaries for the points contained (x_min - x_max and y_min - y_max) as well as the number of points contained (in itself if it's a leaf or the total of its children if it's an internal node)."
      ],
      "metadata": {
        "id": "fjnZPOSL2J6H"
      }
    },
    {
      "cell_type": "code",
      "source": [
        "class QuadTreeNode:\n",
        "    def __init__(self, x_min: float, x_max: float, y_min: float, y_max: float):\n",
        "        self.is_leaf = True\n",
        "        self.num_points = 0\n",
        "        self.x_min = x_min\n",
        "        self.x_max = x_max\n",
        "        self.y_min = y_min\n",
        "        self.y_max = y_max\n",
        "        # QuadTreeNode childrens (maximum of 4) only if it's not a leaf\n",
        "        self.children = [[None for _ in range(2)] for _ in range(2)]\n",
        "        # List of internal Points (if it's a leaf).\n",
        "        self.points = []\n",
        "\n",
        "    def QuadTreeNodeInsert(self, x: float, y: float) -> None:\n",
        "        '''\n",
        "        Adds a new point to the QuadTreeNode by traversing the tree to find\n",
        "        the new point location. Ending up at a leaf node adds the point there.\n",
        "        Ending up at an internal node created the necessary node there.\n",
        "        '''\n",
        "        # Increment the number of points with the new point being added\n",
        "        self.num_points += 1\n",
        "\n",
        "        # Determine into which child bin the point should go.\n",
        "        # We only use 4 bins, so xbin and ybin can only be (0, 1).\n",
        "        x_bin_size = (self.x_max - self.x_min) / 2\n",
        "        y_bin_size = (self.y_max - self.y_min) / 2\n",
        "        xbin = int((x - self.x_min) / x_bin_size)\n",
        "        ybin = int((y - self.y_min) / y_bin_size)\n",
        "\n",
        "        # Add the point to the correct child.\n",
        "        if not self.is_leaf:\n",
        "            # Check first if the child exists and if not create it\n",
        "            if self.children[xbin][ybin] == None:\n",
        "                self.children[xbin][ybin] = QuadTreeNode(\n",
        "                    self.x_min + xbin * x_bin_size,\n",
        "                    min(self.x_min + (xbin + 1) * x_bin_size, self.x_max),\n",
        "                    self.y_min + ybin * y_bin_size,\n",
        "                    min(self.y_min + (ybin + 1) * y_bin_size, self.y_max)\n",
        "                )\n",
        "            self.children[xbin][ybin].QuadTreeNodeInsert(x, y)\n",
        "            return\n",
        "\n",
        "        # Add the point to a leaf node and split if needed.\n",
        "        self.points.append(Point(x, y))\n",
        "\n",
        "        # Check if conditions for a split are met:\n",
        "        #  1. Do we have enough points to justify a split? (i.e. sufficient distinct points)\n",
        "        #  2. Are the spatial bounds large enough to justify a split? (i.e. have we reached the min partition size)\n",
        "        #  3. Have we hit our maximum spatial depth? (i.e have we reached the max desired tree depth)\n",
        "\n",
        "        # For simplicity sake we only check here if we have more than one point.\n",
        "        if len(self.points) > 1:\n",
        "            # Mark the node as no longer a leaf.\n",
        "            self.is_leaf = False\n",
        "            # For each point insert it into the proper quadnode childrens.\n",
        "            for pt in self.points:\n",
        "                self.QuadTreeNodeInsert(pt.x, pt.y)\n",
        "            # Correct the num_points to avoid double-counting the re-inserted points\n",
        "            # due to the counter increment at the beginning of QuadTreeInsert.\n",
        "            self.num_points -= len(self.points)\n",
        "            # Clear the list of points since this is now an internal node.\n",
        "            self.points = []\n",
        "\n",
        "    def QuadTreeNodeCollapse(self) -> List[Point]:\n",
        "        '''\n",
        "        Helper method to collapse a node that no longer meets the splitting criteria.\n",
        "        Returns a list with all the subtree points.\n",
        "        '''\n",
        "        # First check if the node is a leaf and then directly return the list of points.\n",
        "        if self.is_leaf:\n",
        "            return self.points\n",
        "\n",
        "        # If the node is internal then aggregate the points from each child.\n",
        "        # Call recursively QuadTreeNodeCollapse on each non-null children.\n",
        "        for i in (0, 1):\n",
        "            for j in (0, 1):\n",
        "                if self.children[i][j] != None:\n",
        "                    sub_pts = self.children[i][j].QuadTreeNodeCollapse()\n",
        "                    self.points += sub_pts\n",
        "                    self.children[i][j] = None\n",
        "\n",
        "        # Set the node as leaf (no more childrens)\n",
        "        self.is_leaf = True\n",
        "        return self.points\n",
        "\n",
        "    def QuadTreeNodeDelete(self, x: float, y: float) -> bool:\n",
        "        '''\n",
        "        The function deletes a point identified by x and y by recursively\n",
        "        going down the tree. When it reaches a leaf it deletes the point\n",
        "        if it exists and then returns up the tree by collapsing nodes as needed.\n",
        "        Returns True if the point was deleted.\n",
        "        '''\n",
        "        # Base condition for recursive calls: we have reached a leaf node.\n",
        "        if self.is_leaf:\n",
        "            # Iterate through the list of points and check if any matches\n",
        "            # the target point.\n",
        "            for point in self.points:\n",
        "                if approx_equal(point.x, point.y, x, y):\n",
        "                    # Remove the point from the list, decrements the count of points\n",
        "                    # for this node and return True to indicate a succesful deletion.\n",
        "                    self.points.remove(point)\n",
        "                    self.num_points -= 1\n",
        "                    return True\n",
        "            # There is no matching point in this leaf.\n",
        "            return False\n",
        "\n",
        "        # Determine into which child bin the point to be removed would go.\n",
        "        x_bin_size = (self.x_max - self.x_min) / 2\n",
        "        y_bin_size = (self.y_max - self.y_min) / 2\n",
        "        xbin = int((x - self.x_min) / x_bin_size)\n",
        "        ybin = int((y - self.y_min) / y_bin_size)\n",
        "\n",
        "        # Check if the correct child exists.\n",
        "        if self.children[xbin][ybin] == None:\n",
        "            return False\n",
        "\n",
        "        # Recursively call QuadTreeNodeDelete on this child.\n",
        "        if self.children[xbin][ybin].QuadTreeNodeDelete(x, y):\n",
        "            # The code has deleted a point from one of the children nodes\n",
        "            # so update the count of points\n",
        "            self.num_points -= 1\n",
        "\n",
        "            # Check if the child is empty and if so delete the child node.\n",
        "            if self.children[xbin][ybin].num_points == 0:\n",
        "                self.children[xbin][ybin] = None\n",
        "\n",
        "            # Collapse the node if it no longer meets the split conditions to be an internal node.\n",
        "            # For simplicity sake the split conditions only assume more than\n",
        "            # one point.\n",
        "            if self.num_points <= 1:\n",
        "                self.points = self.QuadTreeNodeCollapse()\n",
        "            # Indicate deletion was succesful.\n",
        "            return True\n",
        "        # At this point the recursive calls have not deleted any node.\n",
        "        return False\n",
        "\n",
        "    def MinDist(self, x: float, y: float) -> float:\n",
        "        '''\n",
        "        Helper function to compute the distance from the target point (x,y) to a node.\n",
        "        '''\n",
        "        x_dist = 0.0\n",
        "        if x < self.x_min:\n",
        "            x_dist = self.x_min - x\n",
        "        if x > self.x_max:\n",
        "            x_dist = x - self.x_max\n",
        "\n",
        "        y_dist = 0.0\n",
        "        if y < self.y_min:\n",
        "            y_dist = self.y_min - y\n",
        "        if y > self.y_max:\n",
        "            y_dist = y - self.y_max\n",
        "\n",
        "        return sqrt(x_dist**2 + y_dist**2)\n",
        "\n",
        "    def QuadTreeNodeNearestNeighbor(self, x: float, y: float, best_dist: float) -> Point:\n",
        "        '''\n",
        "        Recursive search for nearest neighbor to our target point (x, y).\n",
        "        best_dist represents the best distance so far and is used for our pruning logic.\n",
        "        If the minimum distance to the current node is greater than the best distance\n",
        "        so far then terminate this search branch.\n",
        "        Returns a point that is closer than best_dist or None otherwise.\n",
        "        '''\n",
        "        # Prune if the node is too far away.\n",
        "        if self.MinDist(x, y) >= best_dist:\n",
        "            return None\n",
        "\n",
        "        best_candidate = None\n",
        "\n",
        "        # If we are in a leaf, search the points.\n",
        "        if self.is_leaf:\n",
        "            for current in self.points:\n",
        "                dist = euclidean_dist(x, y, current.x, current.y)\n",
        "                if dist < best_dist:\n",
        "                    best_dist = dist\n",
        "                    best_candidate = current\n",
        "            return best_candidate\n",
        "\n",
        "        # Recursively check all 4 children starting with the closest.\n",
        "        x_bin_size = (self.x_max - self.x_min) / 2\n",
        "        y_bin_size = (self.y_max - self.y_min) / 2\n",
        "        xbin = int((x - self.x_min) / x_bin_size)\n",
        "        if xbin < 0:\n",
        "            xbin = 0\n",
        "        if xbin > 1:\n",
        "            xbin = 1\n",
        "\n",
        "        ybin = int((y - self.y_min) / y_bin_size)\n",
        "        if ybin < 0:\n",
        "            ybin = 0\n",
        "        if ybin > 1:\n",
        "            ybin = 1\n",
        "\n",
        "        # Recursively explore the non-null children.\n",
        "        for i in (xbin, (xbin+1) % 2):\n",
        "            for j in (ybin, (ybin+1) % 2):\n",
        "                if self.children[i][j] != None:\n",
        "                    quad_best = self.children[i][j].QuadTreeNodeNearestNeighbor(x, y, best_dist)\n",
        "                    if quad_best != None:\n",
        "                        # We have found a closer point so update best_candidate and best_dist\n",
        "                        best_candidate = quad_best\n",
        "                        best_dist = euclidean_dist(x, y, quad_best.x, quad_best.y)\n",
        "        # best_candidate will be None if no point closer than best_dist has been found.\n",
        "        return best_candidate"
      ],
      "metadata": {
        "id": "YReRwiN5es7U"
      },
      "execution_count": 78,
      "outputs": []
    },
    {
      "cell_type": "markdown",
      "source": [
        "A QuadTree class to represent a quad tree. Each quad tree consists of an initialized QuadTreeNode root."
      ],
      "metadata": {
        "id": "-l4aDb1i2zRm"
      }
    },
    {
      "cell_type": "code",
      "source": [
        "class QuadTree:\n",
        "    def __init__(self, x_min: float, x_max: float, y_min: float, y_max: float):\n",
        "        self.root = QuadTreeNode(x_min, x_max, y_min, y_max)\n",
        "\n",
        "    def QuadTreeInsert(self, x: float, y: float) -> bool:\n",
        "        '''\n",
        "        Inserts a new point defined by x and y into the QuadTree.\n",
        "        It checks that the inserted point falls within the quadtree bounds.\n",
        "        Returns False if the point is out of range.\n",
        "        '''\n",
        "        if x < self.root.x_min or x > self.root.x_max:\n",
        "            return False\n",
        "        if y < self.root.y_min or y > self.root.y_max:\n",
        "            return False\n",
        "        self.root.QuadTreeNodeInsert(x, y)\n",
        "        return True\n",
        "\n",
        "    def QuadTreeDelete(self, x: float, y: float) -> bool:\n",
        "        '''\n",
        "        Deletes a point from the QuadTree by checking if the point lies\n",
        "        in the bounds of the QuadTree and then recursively calling the delete\n",
        "        function of the nodes.\n",
        "        Returns True if a point was deleted.\n",
        "        '''\n",
        "        if x < self.root.x_min or x > self.root.x_max:\n",
        "            return False\n",
        "        if y < self.root.y_min or y > self.root.y_max:\n",
        "            return False\n",
        "        return self.root.QuadTreeNodeDelete(x, y)\n",
        "\n",
        "    def QuadTreeNearestNeighbor(self, x: float, y: float) -> Point:\n",
        "        '''\n",
        "        Return the nearest neighbor in the tree for our target point (x, y).\n",
        "        '''\n",
        "        # Do not check if the target point falls within the bounds of the tree.\n",
        "        # This can be used to find neighbors for points that fall outside the tree.\n",
        "        # Start with best_dist as Infinity.\n",
        "        return self.root.QuadTreeNodeNearestNeighbor(x, y, float('Inf'))"
      ],
      "metadata": {
        "id": "XxkRc5o3fjw3"
      },
      "execution_count": 79,
      "outputs": []
    },
    {
      "cell_type": "markdown",
      "source": [
        "Helper function to draw the quad tree. Quad tree will be drawn as a series of rectangles (one for each children node). Points contained within the leaf nodes are also drawn in blue color.\n",
        "User can specify a target point which will be drawn as a red X together with the line towards the nearest neighbor in the quad tree."
      ],
      "metadata": {
        "id": "ouEig68VBflJ"
      }
    },
    {
      "cell_type": "code",
      "source": [
        "def visualize_quad_tree(quad_tree: QuadTree, target_pt: Point=None) -> None:\n",
        "    import matplotlib.pyplot as plt\n",
        "    from matplotlib.patches import Circle\n",
        "\n",
        "    fig, ax = plt.subplots()\n",
        "\n",
        "    ax.set_aspect('equal')\n",
        "    ax.set_xlabel('X-Coordinate')\n",
        "    ax.set_ylabel('Y-Coordinate')\n",
        "    ax.set_title('Quad Tree')\n",
        "\n",
        "    def draw_rectangle(node: QuadTreeNode, ax):\n",
        "        ax.add_patch(plt.Rectangle(xy=(node.x_min, node.y_min), width=node.x_max - node.x_min, height=node.y_max - node.y_min, color='black', fill=False))\n",
        "        if node.is_leaf:\n",
        "            x_coord = []\n",
        "            y_coord = []\n",
        "            for current in node.points:\n",
        "                x_coord.append(current.x)\n",
        "                y_coord.append(current.y)\n",
        "            ax.scatter(x_coord, y_coord, c='blue')\n",
        "        else:\n",
        "            for i in (0, 1):\n",
        "                for j in (0, 1):\n",
        "                    if node.children[i][j] != None:\n",
        "                        draw_rectangle(node.children[i][j], ax)\n",
        "\n",
        "    draw_rectangle(quad_tree.root, ax)\n",
        "\n",
        "    if target_pt != None:\n",
        "        ax.plot(target_pt.x, target_pt.y, color='red', marker='X')\n",
        "        closest_pt = quad_tree.QuadTreeNearestNeighbor(target_pt.x, target_pt.y)\n",
        "        if closest_pt != None:\n",
        "            ax.plot([target_pt.x, closest_pt.x], [target_pt.y, closest_pt.y], color='green', linestyle='-')\n",
        "            circle = Circle((target_pt.x, target_pt.y),\n",
        "                            euclidean_dist(target_pt.x, target_pt.y, closest_pt.x, closest_pt.y),\n",
        "                            linestyle=':', fill=False, linewidth=2, color='green')\n",
        "            ax.add_patch(circle)\n",
        "\n",
        "    plt.show()\n",
        ""
      ],
      "metadata": {
        "id": "6jdW3SqDBikA"
      },
      "execution_count": 80,
      "outputs": []
    },
    {
      "cell_type": "markdown",
      "source": [
        "Here we create a quad tree with 11 points and then draw it, also showing a target point and a visual indicator to its nearest neighbor"
      ],
      "metadata": {
        "id": "xvqLY_6OPyRO"
      }
    },
    {
      "cell_type": "code",
      "source": [
        "quad_tree = QuadTree(1.0, 10.0, 1.0, 10.0)\n",
        "quad_tree.QuadTreeInsert(1.5, 9.0)\n",
        "quad_tree.QuadTreeInsert(2.0, 8.0)\n",
        "quad_tree.QuadTreeInsert(2.4, 7.2)\n",
        "quad_tree.QuadTreeInsert(2.55, 3.9)\n",
        "quad_tree.QuadTreeInsert(4.0, 2.0)\n",
        "quad_tree.QuadTreeInsert(5.0, 2.2)\n",
        "quad_tree.QuadTreeInsert(6.0, 4.8)\n",
        "quad_tree.QuadTreeInsert(7.5, 3.9)\n",
        "quad_tree.QuadTreeInsert(8.0, 2.0)\n",
        "quad_tree.QuadTreeInsert(8.0, 8.0)\n",
        "quad_tree.QuadTreeInsert(9.0, 9.0)\n",
        "\n",
        "visualize_quad_tree(quad_tree, Point(4, 6))"
      ],
      "metadata": {
        "colab": {
          "base_uri": "https://localhost:8080/",
          "height": 472
        },
        "id": "krNyO5RcEzFX",
        "outputId": "b7420be1-ac14-4dfa-d6f7-c3985a749a34"
      },
      "execution_count": 81,
      "outputs": [
        {
          "output_type": "display_data",
          "data": {
            "text/plain": [
              "<Figure size 640x480 with 1 Axes>"
            ],
            "image/png": "[encoded data removed]"
          },
          "metadata": {}
        }
      ]
    },
    {
      "cell_type": "markdown",
      "source": [
        "Here we remove the point indicated previously as nearest neighbor for our targer point. The tree collapses its children nodes as needed and a new closest neighbor is identified."
      ],
      "metadata": {
        "id": "3dPZyyMsP84Z"
      }
    },
    {
      "cell_type": "code",
      "source": [
        "quad_tree.QuadTreeDelete(2.4, 7.2)\n",
        "visualize_quad_tree(quad_tree, Point(4,6))"
      ],
      "metadata": {
        "colab": {
          "base_uri": "https://localhost:8080/",
          "height": 472
        },
        "id": "LwY4frM2Oex-",
        "outputId": "ba613cd6-3f59-4a11-bdbd-5f9a852580c0"
      },
      "execution_count": 82,
      "outputs": [
        {
          "output_type": "display_data",
          "data": {
            "text/plain": [
              "<Figure size 640x480 with 1 Axes>"
            ],
            "image/png": "[encoded data removed]"
          },
          "metadata": {}
        }
      ]
    },
    {
      "cell_type": "markdown",
      "source": [
        "Just another example with removing a point from the quad tree and the rearranging of its children."
      ],
      "metadata": {
        "id": "P28ILonHQdtU"
      }
    },
    {
      "cell_type": "code",
      "source": [
        "quad_tree.QuadTreeDelete(6.0, 4.8)\n",
        "visualize_quad_tree(quad_tree)"
      ],
      "metadata": {
        "colab": {
          "base_uri": "https://localhost:8080/",
          "height": 472
        },
        "id": "oMHkNX3yONgB",
        "outputId": "3b06e3e4-4879-43ec-9751-485f8997edae"
      },
      "execution_count": 83,
      "outputs": [
        {
          "output_type": "display_data",
          "data": {
            "text/plain": [
              "<Figure size 640x480 with 1 Axes>"
            ],
            "image/png": "[encoded data removed]"
          },
          "metadata": {}
        }
      ]
    },
    {
      "cell_type": "markdown",
      "source": [
        "# k-d Trees"
      ],
      "metadata": {
        "id": "PVYRin9Q3FBM"
      }
    }
  ]
}