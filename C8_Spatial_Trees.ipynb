{
  "nbformat": 4,
  "nbformat_minor": 0,
  "metadata": {
    "colab": {
      "provenance": [],
      "authorship_tag": "ABX9TyPYJjAZ0YWY7S8tPrtstES8",
      "include_colab_link": true
    },
    "kernelspec": {
      "name": "python3",
      "display_name": "Python 3"
    },
    "language_info": {
      "name": "python"
    }
  },
  "cells": [
    {
      "cell_type": "markdown",
      "metadata": {
        "id": "view-in-github",
        "colab_type": "text"
      },
      "source": [
        "<a href=\"https://colab.research.google.com/github/dan-manolescu/data-structures-fun/blob/main/C8_Spatial_Trees.ipynb\" target=\"_parent\"><img src=\"https://colab.research.google.com/assets/colab-badge.svg\" alt=\"Open In Colab\"/></a>"
      ]
    },
    {
      "cell_type": "markdown",
      "source": [
        "# Quadtrees"
      ],
      "metadata": {
        "id": "TvzEEr4lefs7"
      }
    },
    {
      "cell_type": "markdown",
      "source": [
        "Imports needed for the code to run:\n"
      ],
      "metadata": {
        "id": "g1z4jlDY1pAP"
      }
    },
    {
      "cell_type": "code",
      "source": [
        "from typing import List, Tuple\n",
        "from math import sqrt\n",
        "import numpy as np\n",
        "\n",
        "import matplotlib.pyplot as plt\n",
        "from matplotlib.patches import Circle"
      ],
      "metadata": {
        "id": "ob85rKOX1nY4"
      },
      "execution_count": 79,
      "outputs": []
    },
    {
      "cell_type": "markdown",
      "source": [
        "A few helper functions:\n",
        "* approx_equal: to determine based on floating point precision if two points are equal\n",
        "* euclidean_dist: to calculate the Euclidean dist between two points"
      ],
      "metadata": {
        "id": "7QMpMGCm1zTC"
      }
    },
    {
      "cell_type": "code",
      "source": [
        "# threshold to be set based on desired numerical precision.\n",
        "threshold = 0.0\n",
        "\n",
        "def approx_equal(x1: float, y1: float, x2: float, y2: float) -> bool:\n",
        "    '''\n",
        "    Returns True if both points are wihin a threshold distance in both dimensions.\n",
        "    '''\n",
        "    if abs(x1 - x2) > threshold:\n",
        "        return False\n",
        "    if abs(y1 - y2) > threshold:\n",
        "        return False\n",
        "    return True\n",
        "\n",
        "def euclidean_dist(x1: float, y1: float, x2: float, y2: float) -> float:\n",
        "    return sqrt((x1 - x2)**2 + (y1 - y2)**2)"
      ],
      "metadata": {
        "id": "ohyFSFttf2zW"
      },
      "execution_count": 80,
      "outputs": []
    },
    {
      "cell_type": "markdown",
      "source": [
        "Point class used to represent a point, identified by x and y coordinates."
      ],
      "metadata": {
        "id": "t3VyRI7Q2Dhw"
      }
    },
    {
      "cell_type": "code",
      "execution_count": 81,
      "metadata": {
        "id": "mvGP8Da7eZfI"
      },
      "outputs": [],
      "source": [
        "class Point:\n",
        "    def __init__(self, x: float, y: float):\n",
        "        self.x = x\n",
        "        self.y = y"
      ]
    },
    {
      "cell_type": "markdown",
      "source": [
        "A QuadTreeNode class used to represent a node in a QuadTree. A node can be an internal node or a leaf node.\n",
        "An internal node has a maximum of 4 children nodes.\n",
        "A leaf node has no childrens and instead has a list of the points contained within the node.\n",
        "Each node has boundaries for the points contained (x_min - x_max and y_min - y_max) as well as the number of points contained (in itself if it's a leaf or the total of its children if it's an internal node)."
      ],
      "metadata": {
        "id": "fjnZPOSL2J6H"
      }
    },
    {
      "cell_type": "code",
      "source": [
        "class QuadTreeNode:\n",
        "    def __init__(self, x_min: float, x_max: float, y_min: float, y_max: float):\n",
        "        self.is_leaf = True\n",
        "        self.num_points = 0\n",
        "        self.x_min = x_min\n",
        "        self.x_max = x_max\n",
        "        self.y_min = y_min\n",
        "        self.y_max = y_max\n",
        "        # QuadTreeNode childrens (maximum of 4) only if it's not a leaf\n",
        "        self.children = [[None for _ in range(2)] for _ in range(2)]\n",
        "        # List of internal Points (if it's a leaf).\n",
        "        self.points = []\n",
        "\n",
        "    def QuadTreeNodeInsert(self, x: float, y: float) -> None:\n",
        "        '''\n",
        "        Adds a new point to the QuadTreeNode by traversing the tree to find\n",
        "        the new point location. Ending up at a leaf node adds the point there.\n",
        "        Ending up at an internal node created the necessary node there.\n",
        "        '''\n",
        "        # Increment the number of points with the new point being added\n",
        "        self.num_points += 1\n",
        "\n",
        "        # Determine into which child bin the point should go.\n",
        "        # We only use 4 bins, so xbin and ybin can only be (0, 1).\n",
        "        x_bin_size = (self.x_max - self.x_min) / 2\n",
        "        y_bin_size = (self.y_max - self.y_min) / 2\n",
        "        xbin = int((x - self.x_min) / x_bin_size)\n",
        "        ybin = int((y - self.y_min) / y_bin_size)\n",
        "\n",
        "        # Add the point to the correct child.\n",
        "        if not self.is_leaf:\n",
        "            # Check first if the child exists and if not create it\n",
        "            if self.children[xbin][ybin] == None:\n",
        "                self.children[xbin][ybin] = QuadTreeNode(\n",
        "                    self.x_min + xbin * x_bin_size,\n",
        "                    min(self.x_min + (xbin + 1) * x_bin_size, self.x_max),\n",
        "                    self.y_min + ybin * y_bin_size,\n",
        "                    min(self.y_min + (ybin + 1) * y_bin_size, self.y_max)\n",
        "                )\n",
        "            self.children[xbin][ybin].QuadTreeNodeInsert(x, y)\n",
        "            return\n",
        "\n",
        "        # Add the point to a leaf node and split if needed.\n",
        "        self.points.append(Point(x, y))\n",
        "\n",
        "        # Check if conditions for a split are met:\n",
        "        #  1. Do we have enough points to justify a split? (i.e. sufficient distinct points)\n",
        "        #  2. Are the spatial bounds large enough to justify a split? (i.e. have we reached the min partition size)\n",
        "        #  3. Have we hit our maximum spatial depth? (i.e have we reached the max desired tree depth)\n",
        "\n",
        "        # For simplicity sake we only check here if we have more than one point.\n",
        "        if len(self.points) > 1:\n",
        "            # Mark the node as no longer a leaf.\n",
        "            self.is_leaf = False\n",
        "            # For each point insert it into the proper quadnode childrens.\n",
        "            for pt in self.points:\n",
        "                self.QuadTreeNodeInsert(pt.x, pt.y)\n",
        "            # Correct the num_points to avoid double-counting the re-inserted points\n",
        "            # due to the counter increment at the beginning of QuadTreeInsert.\n",
        "            self.num_points -= len(self.points)\n",
        "            # Clear the list of points since this is now an internal node.\n",
        "            self.points = []\n",
        "\n",
        "    def QuadTreeNodeCollapse(self) -> List[Point]:\n",
        "        '''\n",
        "        Helper method to collapse a node that no longer meets the splitting criteria.\n",
        "        Returns a list with all the subtree points.\n",
        "        '''\n",
        "        # First check if the node is a leaf and then directly return the list of points.\n",
        "        if self.is_leaf:\n",
        "            return self.points\n",
        "\n",
        "        # If the node is internal then aggregate the points from each child.\n",
        "        # Call recursively QuadTreeNodeCollapse on each non-null children.\n",
        "        for i in (0, 1):\n",
        "            for j in (0, 1):\n",
        "                if self.children[i][j] != None:\n",
        "                    sub_pts = self.children[i][j].QuadTreeNodeCollapse()\n",
        "                    self.points += sub_pts\n",
        "                    self.children[i][j] = None\n",
        "\n",
        "        # Set the node as leaf (no more childrens)\n",
        "        self.is_leaf = True\n",
        "        return self.points\n",
        "\n",
        "    def QuadTreeNodeDelete(self, x: float, y: float) -> bool:\n",
        "        '''\n",
        "        The function deletes a point identified by x and y by recursively\n",
        "        going down the tree. When it reaches a leaf it deletes the point\n",
        "        if it exists and then returns up the tree by collapsing nodes as needed.\n",
        "        Returns True if the point was deleted.\n",
        "        '''\n",
        "        # Base condition for recursive calls: we have reached a leaf node.\n",
        "        if self.is_leaf:\n",
        "            # Iterate through the list of points and check if any matches\n",
        "            # the target point.\n",
        "            for point in self.points:\n",
        "                if approx_equal(point.x, point.y, x, y):\n",
        "                    # Remove the point from the list, decrements the count of points\n",
        "                    # for this node and return True to indicate a succesful deletion.\n",
        "                    self.points.remove(point)\n",
        "                    self.num_points -= 1\n",
        "                    return True\n",
        "            # There is no matching point in this leaf.\n",
        "            return False\n",
        "\n",
        "        # Determine into which child bin the point to be removed would go.\n",
        "        x_bin_size = (self.x_max - self.x_min) / 2\n",
        "        y_bin_size = (self.y_max - self.y_min) / 2\n",
        "        xbin = int((x - self.x_min) / x_bin_size)\n",
        "        ybin = int((y - self.y_min) / y_bin_size)\n",
        "\n",
        "        # Check if the correct child exists.\n",
        "        if self.children[xbin][ybin] == None:\n",
        "            return False\n",
        "\n",
        "        # Recursively call QuadTreeNodeDelete on this child.\n",
        "        if self.children[xbin][ybin].QuadTreeNodeDelete(x, y):\n",
        "            # The code has deleted a point from one of the children nodes\n",
        "            # so update the count of points\n",
        "            self.num_points -= 1\n",
        "\n",
        "            # Check if the child is empty and if so delete the child node.\n",
        "            if self.children[xbin][ybin].num_points == 0:\n",
        "                self.children[xbin][ybin] = None\n",
        "\n",
        "            # Collapse the node if it no longer meets the split conditions to be an internal node.\n",
        "            # For simplicity sake the split conditions only assume more than\n",
        "            # one point.\n",
        "            if self.num_points <= 1:\n",
        "                self.points = self.QuadTreeNodeCollapse()\n",
        "            # Indicate deletion was succesful.\n",
        "            return True\n",
        "        # At this point the recursive calls have not deleted any node.\n",
        "        return False\n",
        "\n",
        "    def MinDist(self, x: float, y: float) -> float:\n",
        "        '''\n",
        "        Helper function to compute the distance from the target point (x,y) to a node.\n",
        "        '''\n",
        "        x_dist = 0.0\n",
        "        if x < self.x_min:\n",
        "            x_dist = self.x_min - x\n",
        "        if x > self.x_max:\n",
        "            x_dist = x - self.x_max\n",
        "\n",
        "        y_dist = 0.0\n",
        "        if y < self.y_min:\n",
        "            y_dist = self.y_min - y\n",
        "        if y > self.y_max:\n",
        "            y_dist = y - self.y_max\n",
        "\n",
        "        return sqrt(x_dist**2 + y_dist**2)\n",
        "\n",
        "    def QuadTreeNodeNearestNeighbor(self, x: float, y: float, best_dist: float) -> Point:\n",
        "        '''\n",
        "        Recursive search for nearest neighbor to our target point (x, y).\n",
        "        best_dist represents the best distance so far and is used for our pruning logic.\n",
        "        If the minimum distance to the current node is greater than the best distance\n",
        "        so far then terminate this search branch.\n",
        "        Returns a point that is closer than best_dist or None otherwise.\n",
        "        '''\n",
        "        # Prune if the node is too far away.\n",
        "        if self.MinDist(x, y) >= best_dist:\n",
        "            return None\n",
        "\n",
        "        best_candidate = None\n",
        "\n",
        "        # If we are in a leaf, search the points.\n",
        "        if self.is_leaf:\n",
        "            for current in self.points:\n",
        "                dist = euclidean_dist(x, y, current.x, current.y)\n",
        "                if dist < best_dist:\n",
        "                    best_dist = dist\n",
        "                    best_candidate = current\n",
        "            return best_candidate\n",
        "\n",
        "        # Recursively check all 4 children starting with the closest.\n",
        "        x_bin_size = (self.x_max - self.x_min) / 2\n",
        "        y_bin_size = (self.y_max - self.y_min) / 2\n",
        "        xbin = int((x - self.x_min) / x_bin_size)\n",
        "        if xbin < 0:\n",
        "            xbin = 0\n",
        "        if xbin > 1:\n",
        "            xbin = 1\n",
        "\n",
        "        ybin = int((y - self.y_min) / y_bin_size)\n",
        "        if ybin < 0:\n",
        "            ybin = 0\n",
        "        if ybin > 1:\n",
        "            ybin = 1\n",
        "\n",
        "        # Recursively explore the non-null children.\n",
        "        for i in (xbin, (xbin+1) % 2):\n",
        "            for j in (ybin, (ybin+1) % 2):\n",
        "                if self.children[i][j] != None:\n",
        "                    quad_best = self.children[i][j].QuadTreeNodeNearestNeighbor(x, y, best_dist)\n",
        "                    if quad_best != None:\n",
        "                        # We have found a closer point so update best_candidate and best_dist\n",
        "                        best_candidate = quad_best\n",
        "                        best_dist = euclidean_dist(x, y, quad_best.x, quad_best.y)\n",
        "        # best_candidate will be None if no point closer than best_dist has been found.\n",
        "        return best_candidate"
      ],
      "metadata": {
        "id": "YReRwiN5es7U"
      },
      "execution_count": 82,
      "outputs": []
    },
    {
      "cell_type": "markdown",
      "source": [
        "A QuadTree class to represent a quad tree. Each quad tree consists of an initialized QuadTreeNode root."
      ],
      "metadata": {
        "id": "-l4aDb1i2zRm"
      }
    },
    {
      "cell_type": "code",
      "source": [
        "class QuadTree:\n",
        "    def __init__(self, x_min: float, x_max: float, y_min: float, y_max: float):\n",
        "        self.root = QuadTreeNode(x_min, x_max, y_min, y_max)\n",
        "\n",
        "    def QuadTreeInsert(self, x: float, y: float) -> bool:\n",
        "        '''\n",
        "        Inserts a new point defined by x and y into the QuadTree.\n",
        "        It checks that the inserted point falls within the quadtree bounds.\n",
        "        Returns False if the point is out of range.\n",
        "        '''\n",
        "        if x < self.root.x_min or x > self.root.x_max:\n",
        "            return False\n",
        "        if y < self.root.y_min or y > self.root.y_max:\n",
        "            return False\n",
        "        self.root.QuadTreeNodeInsert(x, y)\n",
        "        return True\n",
        "\n",
        "    def QuadTreeDelete(self, x: float, y: float) -> bool:\n",
        "        '''\n",
        "        Deletes a point from the QuadTree by checking if the point lies\n",
        "        in the bounds of the QuadTree and then recursively calling the delete\n",
        "        function of the nodes.\n",
        "        Returns True if a point was deleted.\n",
        "        '''\n",
        "        if x < self.root.x_min or x > self.root.x_max:\n",
        "            return False\n",
        "        if y < self.root.y_min or y > self.root.y_max:\n",
        "            return False\n",
        "        return self.root.QuadTreeNodeDelete(x, y)\n",
        "\n",
        "    def QuadTreeNearestNeighbor(self, x: float, y: float) -> Point:\n",
        "        '''\n",
        "        Return the nearest neighbor in the tree for our target point (x, y).\n",
        "        '''\n",
        "        # Do not check if the target point falls within the bounds of the tree.\n",
        "        # This can be used to find neighbors for points that fall outside the tree.\n",
        "        # Start with best_dist as Infinity.\n",
        "        return self.root.QuadTreeNodeNearestNeighbor(x, y, float('Inf'))"
      ],
      "metadata": {
        "id": "XxkRc5o3fjw3"
      },
      "execution_count": 83,
      "outputs": []
    },
    {
      "cell_type": "markdown",
      "source": [
        "Helper function to draw the quad tree. Quad tree will be drawn as a series of rectangles (one for each children node). Points contained within the leaf nodes are also drawn in blue color.\n",
        "User can specify a target point which will be drawn as a red X together with the line towards the nearest neighbor in the quad tree."
      ],
      "metadata": {
        "id": "ouEig68VBflJ"
      }
    },
    {
      "cell_type": "code",
      "source": [
        "def visualize_quad_tree(quad_tree: QuadTree, target_pt: Point=None) -> None:\n",
        "    fig, ax = plt.subplots()\n",
        "\n",
        "    ax.set_aspect('equal')\n",
        "    ax.set_xlabel('X-Coordinate')\n",
        "    ax.set_ylabel('Y-Coordinate')\n",
        "    ax.set_title('Quad Tree')\n",
        "\n",
        "    def draw_rectangle(node: QuadTreeNode, ax):\n",
        "        ax.add_patch(plt.Rectangle(xy=(node.x_min, node.y_min), width=node.x_max - node.x_min, height=node.y_max - node.y_min, color='black', fill=False))\n",
        "        if node.is_leaf:\n",
        "            x_coord = []\n",
        "            y_coord = []\n",
        "            for current in node.points:\n",
        "                x_coord.append(current.x)\n",
        "                y_coord.append(current.y)\n",
        "            ax.scatter(x_coord, y_coord, c='blue')\n",
        "        else:\n",
        "            for i in (0, 1):\n",
        "                for j in (0, 1):\n",
        "                    if node.children[i][j] != None:\n",
        "                        draw_rectangle(node.children[i][j], ax)\n",
        "\n",
        "    draw_rectangle(quad_tree.root, ax)\n",
        "\n",
        "    if target_pt != None:\n",
        "        ax.plot(target_pt.x, target_pt.y, color='red', marker='X')\n",
        "        closest_pt = quad_tree.QuadTreeNearestNeighbor(target_pt.x, target_pt.y)\n",
        "        if closest_pt != None:\n",
        "            ax.plot([target_pt.x, closest_pt.x], [target_pt.y, closest_pt.y], color='green', linestyle='-')\n",
        "            circle = Circle((target_pt.x, target_pt.y),\n",
        "                            euclidean_dist(target_pt.x, target_pt.y, closest_pt.x, closest_pt.y),\n",
        "                            linestyle=':', fill=False, linewidth=2, color='green')\n",
        "            ax.add_patch(circle)\n",
        "\n",
        "    plt.show()\n"
      ],
      "metadata": {
        "id": "6jdW3SqDBikA"
      },
      "execution_count": 84,
      "outputs": []
    },
    {
      "cell_type": "markdown",
      "source": [
        "Here we create a quad tree with 11 points and then draw it, also showing a target point and a visual indicator to its nearest neighbor"
      ],
      "metadata": {
        "id": "xvqLY_6OPyRO"
      }
    },
    {
      "cell_type": "code",
      "source": [
        "quad_tree = QuadTree(1.0, 10.0, 1.0, 10.0)\n",
        "quad_tree.QuadTreeInsert(1.5, 9.0)\n",
        "quad_tree.QuadTreeInsert(2.0, 8.0)\n",
        "quad_tree.QuadTreeInsert(2.4, 7.2)\n",
        "quad_tree.QuadTreeInsert(2.55, 3.9)\n",
        "quad_tree.QuadTreeInsert(4.0, 2.0)\n",
        "quad_tree.QuadTreeInsert(5.0, 2.2)\n",
        "quad_tree.QuadTreeInsert(6.0, 4.8)\n",
        "quad_tree.QuadTreeInsert(7.5, 3.9)\n",
        "quad_tree.QuadTreeInsert(8.0, 2.0)\n",
        "quad_tree.QuadTreeInsert(8.0, 8.0)\n",
        "quad_tree.QuadTreeInsert(9.0, 9.0)\n",
        "\n",
        "visualize_quad_tree(quad_tree, Point(4, 6))"
      ],
      "metadata": {
        "colab": {
          "base_uri": "https://localhost:8080/",
          "height": 472
        },
        "id": "krNyO5RcEzFX",
        "outputId": "f5e3938b-abae-4d45-ed90-a6900962b829"
      },
      "execution_count": 85,
      "outputs": [
        {
          "output_type": "display_data",
          "data": {
            "text/plain": [
              "<Figure size 640x480 with 1 Axes>"
            ],
            "image/png": "[encoded data removed]"
          },
          "metadata": {}
        }
      ]
    },
    {
      "cell_type": "markdown",
      "source": [
        "Here we remove the point indicated previously as nearest neighbor for our targer point. The tree collapses its children nodes as needed and a new closest neighbor is identified."
      ],
      "metadata": {
        "id": "3dPZyyMsP84Z"
      }
    },
    {
      "cell_type": "code",
      "source": [
        "quad_tree.QuadTreeDelete(2.4, 7.2)\n",
        "visualize_quad_tree(quad_tree, Point(4,6))"
      ],
      "metadata": {
        "colab": {
          "base_uri": "https://localhost:8080/",
          "height": 472
        },
        "id": "LwY4frM2Oex-",
        "outputId": "5f74deee-9f16-4c6a-d452-2ccaabef7007"
      },
      "execution_count": 86,
      "outputs": [
        {
          "output_type": "display_data",
          "data": {
            "text/plain": [
              "<Figure size 640x480 with 1 Axes>"
            ],
            "image/png": "[encoded data removed]"
          },
          "metadata": {}
        }
      ]
    },
    {
      "cell_type": "markdown",
      "source": [
        "Just another example with removing a point from the quad tree and the rearranging of its children."
      ],
      "metadata": {
        "id": "P28ILonHQdtU"
      }
    },
    {
      "cell_type": "code",
      "source": [
        "quad_tree.QuadTreeDelete(6.0, 4.8)\n",
        "visualize_quad_tree(quad_tree)"
      ],
      "metadata": {
        "colab": {
          "base_uri": "https://localhost:8080/",
          "height": 472
        },
        "id": "oMHkNX3yONgB",
        "outputId": "f759eb25-019f-47b5-8379-b9da7b958be2"
      },
      "execution_count": 87,
      "outputs": [
        {
          "output_type": "display_data",
          "data": {
            "text/plain": [
              "<Figure size 640x480 with 1 Axes>"
            ],
            "image/png": "[encoded data removed]"
          },
          "metadata": {}
        }
      ]
    },
    {
      "cell_type": "markdown",
      "source": [
        "# k-d Trees"
      ],
      "metadata": {
        "id": "PVYRin9Q3FBM"
      }
    },
    {
      "cell_type": "markdown",
      "source": [
        "A few additional helper functions for k-d Trees:\n",
        "*   ComputeBoundingBox: compute the bounding box for a set of points\n",
        "*   kd_euclidean_dist: calculates the euclidean distance for between two d-dimensional points\n",
        "\n"
      ],
      "metadata": {
        "id": "8kn8B9SSQzjC"
      }
    },
    {
      "cell_type": "code",
      "source": [
        "def ComputeBoundingBox(pts: List[List]) -> Tuple[List, List]:\n",
        "    '''\n",
        "    Helper function to compute the bounding boxes from a set of points represented as arrays\n",
        "    '''\n",
        "    # Extract the number of points and number of dimensions from the input data.\n",
        "    num_points = len(pts)\n",
        "    if num_points == 0:\n",
        "        return None # Error\n",
        "    num_dims = len(pts[0])\n",
        "\n",
        "    # Create two lists, L and H to hold the low and high bounds.\n",
        "    L = [None] * num_dims\n",
        "    H = [None] * num_dims\n",
        "\n",
        "    # Seed the L and H lists with the coordinates of the first point in our input data.\n",
        "    for d in range(num_dims):\n",
        "        L[d] = pts[0][d]\n",
        "        H[d] = pts[0][d]\n",
        "\n",
        "    # Iterate through the remaining points in the input data and check\n",
        "    # if any of them falls outside the bounds and if so, extend the bounds.\n",
        "    for i in range(1, num_points):\n",
        "        for d in range(num_dims):\n",
        "            if L[d] > pts[i][d]:\n",
        "                L[d] = pts[i][d]\n",
        "            if H[d] < pts[i][d]:\n",
        "                H[d] = pts[i][d]\n",
        "\n",
        "    return (L, H)\n",
        "\n",
        "def kd_euclidean_dist(pt1: List, pt2: List) -> float:\n",
        "    if len(pt1) != len(pt2):\n",
        "        return None\n",
        "    dist = 0.0\n",
        "    for d in range(len(pt1)):\n",
        "        dist += (pt1[d] - pt2[d]) ** 2\n",
        "    return sqrt(dist)"
      ],
      "metadata": {
        "id": "Ml1_hJtB28r1"
      },
      "execution_count": 88,
      "outputs": []
    },
    {
      "cell_type": "markdown",
      "source": [
        "A KDTreeNode class used to represent a node in a k-d Tree. Each node keeps the same number of dimensions as the k-d tree. A node can be an internal node or a leaf node. An internal node has two childrens (left and right) that split the points along a chosen split dimension (split_dim) based on a split value (split_val) where all points in left are <= split_val on the chosen split_dim and all points in right are > split_val on the chosen split_dim.\n",
        "A leaf node has no more childrens but instead keeps a list of all the points.\n",
        "Each node has a boundary box represented by x_min and x_max values for all d dimensions and every point contained by the node (and its children) is contained by this bounding box."
      ],
      "metadata": {
        "id": "F3P6lb-IRK3V"
      }
    },
    {
      "cell_type": "code",
      "source": [
        "class KDTreeNode:\n",
        "    def __init__(self, num_dimensions: int):\n",
        "        self.is_leaf = True\n",
        "        self.num_dimensions = num_dimensions\n",
        "        self.num_points = 0\n",
        "        self.x_min = [float('-Inf')] * num_dimensions\n",
        "        self.x_max = [float('Inf')] * num_dimensions\n",
        "        self.split_dim = -1\n",
        "        self.split_val = 0.0\n",
        "        self.left = None\n",
        "        self.right = None\n",
        "        self.points = []\n",
        "\n",
        "    def RecursiveBuildKDTree(self, num_dims: int, pts: List[List]) -> None:\n",
        "        '''\n",
        "        Recursively partition the pts among the child nodes until we reach\n",
        "        the termination criteria.\n",
        "        '''\n",
        "        # Start by initializing the node.\n",
        "        self.num_points = len(pts)\n",
        "        self.num_dimensions = num_dims\n",
        "        self.left = None\n",
        "        self.right = None\n",
        "        self.points = []\n",
        "        self.split_dim = -1\n",
        "        self.split_val = 0.0\n",
        "        self.is_leaf = True\n",
        "\n",
        "        # Compute the bounding box of points.\n",
        "        self.x_min, self.x_max = ComputeBoundingBox(pts)\n",
        "\n",
        "        # Compute the width of the widest dimension (this will be used as split).\n",
        "        max_width = 0.0\n",
        "        min_width = float('Inf')\n",
        "        split_dim = 0\n",
        "        for d in range(self.num_dimensions):\n",
        "            if self.x_max[d] - self.x_min[d] > max_width:\n",
        "                max_width = self.x_max[d] - self.x_min[d]\n",
        "                split_dim = d\n",
        "            min_width = min(min_width, self.x_max[d] - self.x_min[d])\n",
        "\n",
        "        # If we meet the conditions for a leaf append the remaining points\n",
        "        # to the node's point list.\n",
        "        # For simplification in this case we just look\n",
        "        # at the min number of points to be 2 or min_width is less than 1\n",
        "        if self.num_points <= 2 or min_width <= 1.0:\n",
        "            for pt in pts:\n",
        "                self.points.append(pt)\n",
        "            return\n",
        "\n",
        "        # Choose split dimension and value.\n",
        "        # In this case we split along the middle of the widest dimension\n",
        "        self.split_dim = split_dim\n",
        "        self.split_val = (self.x_min[self.split_dim] + self.x_max[self.split_dim]) / 2\n",
        "\n",
        "        # One other option would be to use the median of the values along\n",
        "        # the widest dimenstion as seen below.\n",
        "        # self.split_val = np.median(np.array(pts)[:, split_dim])\n",
        "\n",
        "        self.is_leaf = False\n",
        "\n",
        "        # Partition the points into two sets based on the split dimension and value.\n",
        "        left_pts = []\n",
        "        right_pts = []\n",
        "        for pt in pts:\n",
        "            if pt[self.split_dim] <= self.split_val:\n",
        "                left_pts.append(pt)\n",
        "            else:\n",
        "                right_pts.append(pt)\n",
        "\n",
        "        # Recursively build the child nodes.\n",
        "        self.left = KDTreeNode(num_dims)\n",
        "        self.left.RecursiveBuildKDTree(num_dims, left_pts)\n",
        "\n",
        "        self.right = KDTreeNode(num_dims)\n",
        "        self.right.RecursiveBuildKDTree(num_dims, right_pts)\n",
        "\n",
        "    def KDTreeNodeInsert(self, pt: List) -> None:\n",
        "        '''\n",
        "        Insert a point into the k-d tree node by using split_dim and split_val\n",
        "        to determine which branch to take. Split leaf nodes if they meet the\n",
        "        split condition.\n",
        "        Also update the bounding box to account for the new point.\n",
        "        '''\n",
        "        self.num_points += 1\n",
        "\n",
        "        # Update the bounding box\n",
        "        for d in range(self.num_dimensions):\n",
        "            if pt[d] < self.x_min[d]:\n",
        "                self.x_min[d] = pt[d]\n",
        "            if pt[d] > self.x_max[d]:\n",
        "                self.x_max[d] = pt[d]\n",
        "\n",
        "        if not self.is_leaf:\n",
        "            if pt[self.split_dim] <= self.split_val:\n",
        "                self.left.KDTreeNodeInsert(pt)\n",
        "            else:\n",
        "                self.right.KDTreeNodeInsert(pt)\n",
        "        else:\n",
        "            self.points.append(pt)\n",
        "            # Compute the width of the widest dimension (this will be used as split).\n",
        "            max_width = 0.0\n",
        "            min_width = float('Inf')\n",
        "            split_dim = 0\n",
        "            for d in range(self.num_dimensions):\n",
        "                if self.x_max[d] - self.x_min[d] > max_width:\n",
        "                    max_width = self.x_max[d] - self.x_min[d]\n",
        "                    split_dim = d\n",
        "                min_width = min(min_width, self.x_max[d] - self.x_min[d])\n",
        "\n",
        "            # Check if we meet the conditions for a split.\n",
        "            if len(self.points) > 3 and min_width > 1.0:\n",
        "                self.split_dim = split_dim\n",
        "                self.split_val = (self.x_min[self.split_dim] + self.x_max[self.split_dim]) / 2\n",
        "                self.is_leaf = False\n",
        "\n",
        "                # Partition left and right same as with build function (code repeated just to make it easier to understand)\n",
        "                left_pts = [item for item in self.points if item[self.split_dim] <= self.split_val]\n",
        "                right_pts = [item for item in self.points if item[self.split_dim] > self.split_val]\n",
        "                self.left = KDTreeNode(self.num_dimensions)\n",
        "                self.left.RecursiveBuildKDTree(self.num_dimensions, left_pts)\n",
        "                self.right = KDTreeNode(self.num_dimensions)\n",
        "                self.right.RecursiveBuildKDTree(self.num_dimensions, right_pts)\n",
        "\n",
        "    def KDTreeNodeDelete(self, pt: List) -> bool:\n",
        "        '''\n",
        "        TODO\n",
        "        '''\n",
        "        pass\n",
        "\n",
        "    def KDTreeNodeMinDist(self, pt: List) -> float:\n",
        "        dist_sum = 0.0\n",
        "        for d in range(self.num_dimensions):\n",
        "            diff = 0.0\n",
        "            if pt[d] < self.x_min[d]:\n",
        "                diff = self.x_min[d] - pt[d]\n",
        "            if pt[d] > self.x_max[d]:\n",
        "                diff = pt[d] - self.x_max[d]\n",
        "            dist_sum += diff ** 2\n",
        "\n",
        "        return sqrt(dist_sum)\n",
        "\n",
        "    def KDTreeNodeNearestNeighbor(self, pt: List, best_dist: float) -> List:\n",
        "        '''\n",
        "        Searches recursively for the nearest neighbor of our <pt> input data.\n",
        "        best_dist represents the best distance so far is used for pruning logic.\n",
        "        Returns a point from the tree node that is closer than best_dist or\n",
        "        None otherwise.\n",
        "        '''\n",
        "        # Prune if the node is too far away.\n",
        "        if self.KDTreeNodeMinDist(pt) >= best_dist:\n",
        "            return None\n",
        "\n",
        "        best_candidate = None\n",
        "\n",
        "        # If we are in a leaf just search in the list of points.\n",
        "        if self.is_leaf:\n",
        "            for current in self.points:\n",
        "                dist = kd_euclidean_dist(current, pt)\n",
        "                if dist < best_dist:\n",
        "                    best_dist = dist\n",
        "                    best_candidate = current\n",
        "            return best_candidate\n",
        "\n",
        "        # Explore all childrens starting with the closest one based on split value.\n",
        "        first = self.left if pt[self.split_dim] <= self.split_val else self.right\n",
        "        second = self.right if first == self.left else self.left\n",
        "\n",
        "        for child in (first, second):\n",
        "            child_best = child.KDTreeNodeNearestNeighbor(pt, best_dist)\n",
        "            # We have found a closer point so update best_candidate and best_dist.\n",
        "            if child_best != None:\n",
        "                best_candidate = child_best\n",
        "                best_dist = kd_euclidean_dist(pt, child_best)\n",
        "\n",
        "        return best_candidate\n",
        "\n",
        "\n",
        "\n"
      ],
      "metadata": {
        "id": "99bhINX71YsZ"
      },
      "execution_count": 89,
      "outputs": []
    },
    {
      "cell_type": "markdown",
      "source": [
        "A KDTree class representing a k-d tree. Each k-d tree holds the number of dimensions it can support and every node contained is bound by this condition. A tree contains a root node."
      ],
      "metadata": {
        "id": "9UmsuVz4R-3L"
      }
    },
    {
      "cell_type": "code",
      "source": [
        "class KDTree:\n",
        "    def __init__(self, num_dimensions: int):\n",
        "        self.num_dimensions = num_dimensions\n",
        "        self.root = KDTreeNode(num_dimensions)\n",
        "\n",
        "    def BuildKDTree(self, pts: List[List]) -> bool:\n",
        "        '''\n",
        "        Builds a k-d Tree by using a recursive process, starting with all data\n",
        "        points and dividing them into two subsets by picking a splitting dimension\n",
        "        and value.\n",
        "        The process repeats at each level until we hit the termination criteria:\n",
        "        - minimum number of points left at the node\n",
        "        - minimum width\n",
        "        - max depth\n",
        "        '''\n",
        "        # First check that all points have the correct dimensionality.\n",
        "        for pt in pts:\n",
        "            if len(pt) != self.num_dimensions:\n",
        "                return False\n",
        "        # Check that there are points to build a tree and start with the root.\n",
        "        if len(pts) > 0:\n",
        "            self.root = KDTreeNode(self.num_dimensions)\n",
        "            self.root.RecursiveBuildKDTree(self.num_dimensions, pts)\n",
        "        else:\n",
        "            self.root = None\n",
        "        return True\n",
        "\n",
        "    def KDTreeInsert(self, pt: List) -> bool:\n",
        "        '''\n",
        "        Inserts a point inside the k-d Tree and returns True if it success.\n",
        "        '''\n",
        "        # Check that the inserted point has the correct number of dimensions.\n",
        "        if len(pt) != self.num_dimensions:\n",
        "            return False\n",
        "        if self.root == None:\n",
        "            self.root = KDTreeNode(self.num_dimensions)\n",
        "        self.root.KDTreeNodeInsert(pt)\n",
        "        return True\n",
        "\n",
        "    def KDTreeDelete(self, pt: List) -> bool:\n",
        "        '''\n",
        "        TODO\n",
        "        '''\n",
        "        pass\n",
        "\n",
        "    def KDTreeNearestNeighbor(self, pt: List) -> List:\n",
        "        '''\n",
        "        Returns the nearest neighbor in the k-d tree for our target pt.\n",
        "        '''\n",
        "        # Check that the targer point has the correct number of dimensions.\n",
        "        if len(pt) != self.num_dimensions:\n",
        "            return None\n",
        "        if self.root == None:\n",
        "            return None\n",
        "        return self.root.KDTreeNodeNearestNeighbor(pt, float('Inf'))"
      ],
      "metadata": {
        "id": "uVdEbEqE2Bes"
      },
      "execution_count": 90,
      "outputs": []
    },
    {
      "cell_type": "markdown",
      "source": [
        "Helper function to draw the k-d tree. Only works for a 2 dimensional tree. The function will draw rectangles with the bounding boxes for each node and a red dotted line for the split of internal nodes.\n",
        "An optional target point can be passed which will be drawn as a cyan X together with a line towards the nearest neighbor found in the k-d tree."
      ],
      "metadata": {
        "id": "j3UZYS_CVeT5"
      }
    },
    {
      "cell_type": "code",
      "source": [
        "def visualize_kd_tree(kd_tree: KDTree, target_pt: List=None) -> None:\n",
        "    if kd_tree.num_dimensions > 2:\n",
        "        return\n",
        "\n",
        "    fig, ax = plt.subplots()\n",
        "\n",
        "    ax.set_aspect('equal')\n",
        "    ax.set_xlabel('X-coordinate')\n",
        "    ax.set_ylabel('Y-coordinate')\n",
        "    ax.set_title('k-d tree')\n",
        "\n",
        "    def draw_helper(node: KDTreeNode, ax):\n",
        "        if node is None:\n",
        "            return\n",
        "\n",
        "        # Draw the bounding box of the node as a rectangle\n",
        "        ax.add_patch(plt.Rectangle(xy=(node.x_min[0], node.x_min[1]), width=node.x_max[0] - node.x_min[0], height=node.x_max[1] - node.x_min[1], color='black', fill=False))\n",
        "        if node.is_leaf:\n",
        "            # If it's a leaf then scatter the points contained within.\n",
        "            array = np.array(node.points)\n",
        "            ax.scatter(array[:, 0], array[:, 1], c='blue')\n",
        "        else:\n",
        "            # If it's an internal node then draw the split line and continue the draw recursively with its children.\n",
        "            if node.split_dim == 0:\n",
        "                ax.plot([node.split_val, node.split_val], [node.x_min[1], node.x_max[1]], color='red', linestyle='--')\n",
        "            else:\n",
        "                ax.plot([node.x_min[0], node.x_max[0]], [node.split_val, node.split_val], color='red', linestyle='--')\n",
        "            draw_helper(node.left, ax)\n",
        "            draw_helper(node.right, ax)\n",
        "\n",
        "    draw_helper(kd_tree.root, ax)\n",
        "\n",
        "    if target_pt != None and len(target_pt) == kd_tree.num_dimensions:\n",
        "        ax.plot(target_pt[0], target_pt[1], color='cyan', marker='X')\n",
        "        closest_pt = kd_tree.KDTreeNearestNeighbor(target_pt)\n",
        "        if closest_pt != None:\n",
        "            ax.plot([target_pt[0], closest_pt[0]], [target_pt[1], closest_pt[1]], color='green', linestyle='-')\n",
        "            circle = Circle((target_pt[0], target_pt[1]),\n",
        "                            kd_euclidean_dist(target_pt, closest_pt),\n",
        "                            linestyle=':', fill=False, linewidth=2, color='green')\n",
        "            ax.add_patch(circle)\n",
        "\n",
        "    plt.show()"
      ],
      "metadata": {
        "id": "m7o2gH-XVz6T"
      },
      "execution_count": 91,
      "outputs": []
    },
    {
      "cell_type": "markdown",
      "source": [
        "Here we create a k-d tree with 11 points (similar with the quad tree example above) and then draw it. Also use a similar target point and a visual indicator to its nearest neighbor."
      ],
      "metadata": {
        "id": "qwfHh8tNHqgs"
      }
    },
    {
      "cell_type": "code",
      "source": [
        "pts = [[1.5, 9.0], [2.0, 8.0], [2.4, 7.2], [2.55, 3.9], [4.0, 2.0], [5.0, 2.2], [6.0, 4.8], [7.5, 3.9], [8.0, 2.0], [8.0, 8.0], [9.0, 9.0]]\n",
        "kdtree = KDTree(2)\n",
        "kdtree.BuildKDTree(pts)\n",
        "visualize_kd_tree(kdtree, [4, 6])"
      ],
      "metadata": {
        "colab": {
          "base_uri": "https://localhost:8080/",
          "height": 472
        },
        "id": "HN8D1TBlH3W7",
        "outputId": "2e4f6c8d-f455-493d-caca-ee1abe13220f"
      },
      "execution_count": 92,
      "outputs": [
        {
          "output_type": "display_data",
          "data": {
            "text/plain": [
              "<Figure size 640x480 with 1 Axes>"
            ],
            "image/png": "[encoded data removed]"
          },
          "metadata": {}
        }
      ]
    },
    {
      "cell_type": "markdown",
      "source": [
        "Insert a new point (closer to target) into the k-d tree and redraw it with the same target point."
      ],
      "metadata": {
        "id": "8Xqo4fOsMSxS"
      }
    },
    {
      "cell_type": "code",
      "source": [
        "kdtree.KDTreeInsert([3, 5.7])\n",
        "visualize_kd_tree(kdtree, [4, 6])"
      ],
      "metadata": {
        "colab": {
          "base_uri": "https://localhost:8080/",
          "height": 472
        },
        "id": "O7PJ6ONaMaFN",
        "outputId": "456dd255-0438-4c86-f026-c7e834ded2e8"
      },
      "execution_count": 93,
      "outputs": [
        {
          "output_type": "display_data",
          "data": {
            "text/plain": [
              "<Figure size 640x480 with 1 Axes>"
            ],
            "image/png": "[encoded data removed]"
          },
          "metadata": {}
        }
      ]
    }
  ]
}