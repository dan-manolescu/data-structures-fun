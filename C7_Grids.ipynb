{
  "nbformat": 4,
  "nbformat_minor": 0,
  "metadata": {
    "colab": {
      "provenance": [],
      "authorship_tag": "ABX9TyOtbZ7ulIpaA2qPygcBksPb",
      "include_colab_link": true
    },
    "kernelspec": {
      "name": "python3",
      "display_name": "Python 3"
    },
    "language_info": {
      "name": "python"
    }
  },
  "cells": [
    {
      "cell_type": "markdown",
      "metadata": {
        "id": "view-in-github",
        "colab_type": "text"
      },
      "source": [
        "<a href=\"https://colab.research.google.com/github/dan-manolescu/data-structures-fun/blob/main/C7_Grids.ipynb\" target=\"_parent\"><img src=\"https://colab.research.google.com/assets/colab-badge.svg\" alt=\"Open In Colab\"/></a>"
      ]
    },
    {
      "cell_type": "markdown",
      "source": [
        "**Grids and nearest neighbor scan**"
      ],
      "metadata": {
        "id": "hWGD9qxOBUOr"
      }
    },
    {
      "cell_type": "markdown",
      "source": [
        "## Nearest-Neighbor Search with Linear Scan"
      ],
      "metadata": {
        "id": "FmssWLt-Bnnv"
      }
    },
    {
      "cell_type": "markdown",
      "source": [
        "Classic example of linear scan through an array for the nearest neighbor for the given target. Uses a distance function (can be euclidean distance for example)"
      ],
      "metadata": {
        "id": "xO20NLb-o8Vt"
      }
    },
    {
      "cell_type": "code",
      "execution_count": 10,
      "metadata": {
        "id": "OHBj6HIcBNkb"
      },
      "outputs": [],
      "source": [
        "from typing import List, Callable\n",
        "\n",
        "def LinearScanClosestNeighbor(A: List, target: float, dist: Callable) -> float:\n",
        "    N = len(A)\n",
        "    # First, check if the input array is empty (in that case there is no closest point).\n",
        "    if N == 0:\n",
        "        return None\n",
        "\n",
        "    # The fist item in the array is the initial candidate to compute distance to target.\n",
        "    candidate = A[0]\n",
        "    closest_distance = dist(target, candidate)\n",
        "\n",
        "    # Iterate over the rest of the array.\n",
        "    for i in range(1, N):\n",
        "        current_distance = dist(target, A[i])\n",
        "        # Update the best candidate and best distance found.\n",
        "        if current_distance < closest_distance:\n",
        "            closest_distance = current_distance\n",
        "            candidate = A[i]\n",
        "\n",
        "    # Return the closest neighbor\n",
        "    return candidate"
      ]
    },
    {
      "cell_type": "markdown",
      "source": [
        "## Grid structure"
      ],
      "metadata": {
        "id": "2YlJnLeYtpXO"
      }
    },
    {
      "cell_type": "markdown",
      "source": [
        "Helper functions:\n",
        "*   Approximate equality between two points with float coordinates\n",
        "*   Euclidean distance between two points\n",
        "\n",
        "\n",
        "\n"
      ],
      "metadata": {
        "id": "AeplrCgv0Bjv"
      }
    },
    {
      "cell_type": "code",
      "source": [
        "from math import sqrt\n",
        "\n",
        "# threshold to be set based on desired numerical precision.\n",
        "threshold = 0.0\n",
        "\n",
        "def approx_equal(x1: float, y1: float, x2: float, y2: float) -> bool:\n",
        "    '''\n",
        "    Returns True if both points are wihin a threshold distance in both dimensions.\n",
        "    '''\n",
        "    if abs(x1 - x2) > threshold:\n",
        "        return False\n",
        "    if abs(y1 - y2) > threshold:\n",
        "        return False\n",
        "    return True\n",
        "\n",
        "def euclidean_dist(x1: float, y1: float, x2: float, y2: float) -> float:\n",
        "    return sqrt((x1 - x2)**2 + (y1 - y2)**2)"
      ],
      "metadata": {
        "id": "GveZc0gMvvgX"
      },
      "execution_count": 11,
      "outputs": []
    },
    {
      "cell_type": "markdown",
      "source": [
        "A class to represent a point in the grid.\n",
        "Each point is part of a linked list of points, hence the *next* pointer as part of the class.\n",
        "*x* and *y* represent the point x and y coordinates"
      ],
      "metadata": {
        "id": "HZGvwCQk1b0t"
      }
    },
    {
      "cell_type": "code",
      "source": [
        "class GridPoint:\n",
        "    def __init__(self, x: float, y: float):\n",
        "        self.x = x\n",
        "        self.y = y\n",
        "        self.next = None"
      ],
      "metadata": {
        "id": "Qwh4BX3LuFqk"
      },
      "execution_count": 12,
      "outputs": []
    },
    {
      "cell_type": "markdown",
      "source": [
        "A class to represent a grid.\n",
        "A grid has a start and end positions on the x and y coordinates and it's split into a specified number of bins on the x and y coordinate.\n",
        "The bins width on the x and on the y are calculated.\n",
        "\n",
        "The grid class exposes methods to:\n",
        "*   Insert points\n",
        "*   Delete points\n",
        "*   Linear search for a point inside all grid bins\n",
        "*   Expanding search from an initial bin (more efficient search than linear)\n",
        "\n"
      ],
      "metadata": {
        "id": "54gzC50e1e12"
      }
    },
    {
      "cell_type": "code",
      "source": [
        "class Grid:\n",
        "    def __init__(self, x_start: float, x_end: float, y_start: float, y_end: float, num_x_bins: int, num_y_bins: int):\n",
        "        self.num_x_bins = num_x_bins\n",
        "        self.num_y_bins = num_y_bins\n",
        "        self.x_start = x_start\n",
        "        self.x_end = x_end\n",
        "        self.x_bin_width = (self.x_end - self.x_start) / self.num_x_bins\n",
        "        self.y_start = y_start\n",
        "        self.y_end = y_end\n",
        "        self.y_bin_width = (self.y_end - self.y_start) / self.num_y_bins\n",
        "        self.bins = [[None for _ in range(self.num_y_bins)] for _ in range(self.num_x_bins)]\n",
        "\n",
        "    def GridInsert(self, x: float, y: float) -> bool:\n",
        "        # Compute the x and y bins for the new point.\n",
        "        xbin = int((x - self.x_start) // self.x_bin_width)\n",
        "        ybin = int((y - self.y_start) // self.y_bin_width)\n",
        "\n",
        "        # Check that the point is within the grid.\n",
        "        if xbin < 0 or xbin >= self.num_x_bins:\n",
        "            return False\n",
        "        if ybin < 0 or ybin >= self.num_y_bins:\n",
        "            return False\n",
        "\n",
        "        # Add the point to the front of the list.\n",
        "        next_point = self.bins[xbin][ybin]\n",
        "        self.bins[xbin][ybin] = GridPoint(x, y)\n",
        "        self.bins[xbin][ybin].next = next_point\n",
        "\n",
        "        # Confirm point was inserted into the grid.\n",
        "        return True\n",
        "\n",
        "    def GridDelete(self, x: float, y: float) -> bool:\n",
        "        # Compute the x and y bins for the point to be deleted.\n",
        "        xbin = int((x - self.x_start) // self.x_bin_width)\n",
        "        ybin = int((y - self.y_start) // self.y_bin_width)\n",
        "\n",
        "        # Check that the point is within the grid.\n",
        "        if xbin < 0 or xbin >= self.num_x_bins:\n",
        "            return False\n",
        "        if ybin < 0 or ybin >= self.num_y_bins:\n",
        "            return False\n",
        "\n",
        "        # Check if the bin is empty.\n",
        "        if self.bins[xbin][ybin] == None:\n",
        "            return False\n",
        "\n",
        "        # Find the first matching point and remove it.\n",
        "        current = self.bins[xbin][ybin]\n",
        "        previous = None\n",
        "        while current != None:\n",
        "            # Test each point using approx_equal function\n",
        "            if approx_equal(x, y, current.x, current.y):\n",
        "                # When it finds a matching point splice it out of the list\n",
        "                # and make sure to correctly handle the special case of the first node in the list.\n",
        "                if previous == None:\n",
        "                    self.bins[xbin][ybin] = current.next\n",
        "                else:\n",
        "                    previous.next = current.next\n",
        "                return True\n",
        "            # If the current point doesn't match the search continues to the next node in the list.\n",
        "            previous = current\n",
        "            current = current.next\n",
        "        # The function returns False if the search has finished the entire list\n",
        "        # to indicate that no matching node was deleted.\n",
        "        return False\n",
        "\n",
        "    def MinDistToBin(self, xbin: int, ybin: int, x: float, y: float) -> float:\n",
        "        '''\n",
        "        A helper function that computes the closest distance from a target point to a given bin\n",
        "        '''\n",
        "        # Check that the bin is valid.\n",
        "        if xbin < 0 or xbin >= self.num_x_bins:\n",
        "            return float('Inf')\n",
        "        if ybin < 0 or ybin >= self.num_y_bins:\n",
        "            return float('Inf')\n",
        "\n",
        "        # Compute he min and max values for the bin, compare them with the point value\n",
        "        # on each dimension and compute the distance.\n",
        "        x_min = self.x_start + xbin * self.x_bin_width\n",
        "        x_max = self.x_start + (xbin + 1) * self.x_bin_width\n",
        "        x_dist = 0\n",
        "        if x < x_min:\n",
        "            x_dist = x_min - x\n",
        "        if x > x_max:\n",
        "            x_dist = x - x_max\n",
        "\n",
        "        y_min = self.y_start + ybin * self.y_bin_width\n",
        "        y_max = self.y_start + (ybin + 1) * self.y_bin_width\n",
        "        y_dist = 0\n",
        "        if y < y_min:\n",
        "            y_dist = y_min - y\n",
        "        if y > y_max:\n",
        "            y_dist = y - y_max\n",
        "\n",
        "        return sqrt(x_dist**2 + y_dist**2)\n",
        "\n",
        "    def GridLinearScanNN(self, x: float, y: float) -> GridPoint:\n",
        "        '''\n",
        "        Iterate through all the grid's bins using a linear scan and only check those\n",
        "        that contain a potential nearest neighbor (inefficient but simple algo).\n",
        "        '''\n",
        "        # Start by setting the best distance to infinity (no best point has been found so far)\n",
        "        best_dist = float('Inf')\n",
        "        best_candidate = None\n",
        "\n",
        "        # Then scan all bins.\n",
        "        for xbin in range(self.num_x_bins):\n",
        "            for ybin in range(self.num_y_bins):\n",
        "                # Check if we need to process the bin.\n",
        "                if self.MinDistToBin(xbin, ybin, x, y) < best_dist:\n",
        "                    # Check every point in the bin's linked list.\n",
        "                    current = self.bins[xbin][ybin]\n",
        "                    while current != None:\n",
        "                        dist = euclidean_dist(x, y, current.x, current.y)\n",
        "                        # Compare every point distance with the bext distance found so far.\n",
        "                        if dist < best_dist:\n",
        "                            best_dist = dist\n",
        "                            best_candidate = current\n",
        "                        current = current.next\n",
        "\n",
        "        return best_candidate\n",
        "\n",
        "    def GridCheckBin(self, xbin: int, ybin: int, x: float, y: float, threshold: float) -> GridPoint:\n",
        "        '''\n",
        "        Helper function that checks whether any points within a specified bin are closer to our\n",
        "        target point (x, y) than a given threshold.\n",
        "        '''\n",
        "        # First check we are accessing a valid bin.\n",
        "        if xbin < 0 or xbin >= self.num_x_bins:\n",
        "            return None\n",
        "        if ybin < 0 or ybin >= self.num_y_bins:\n",
        "            return None\n",
        "\n",
        "        # Set best distance initially as threshold so it will only mark points less than it.\n",
        "        best_candidate = None\n",
        "        best_dist = threshold\n",
        "        # Check each of the points in the bin one by one.\n",
        "        current = self.bins[xbin][ybin]\n",
        "        while current != None:\n",
        "            # Compute distance to the target point and save it as the best candidate if it's closer.\n",
        "            dist = euclidean_dist(x, y, current.x, current.y)\n",
        "            if dist < best_dist:\n",
        "                best_dist = dist\n",
        "                best_candidate = current\n",
        "            current = current.next\n",
        "\n",
        "        return best_candidate\n",
        "\n",
        "    def GridSearchExpanding(self, x: float, y: float) -> GridPoint:\n",
        "        '''\n",
        "        Expanding search in a diamond pattern by iterating through a different\n",
        "        number of steps and checking all bins that can be reached in that number\n",
        "        of steps.\n",
        "        '''\n",
        "        best_d = float('Inf')\n",
        "        best_pt = None\n",
        "\n",
        "        # Find the starting x and y bins for our search.\n",
        "        xb = int((x - self.x_start) // self.x_bin_width)\n",
        "        if xb < 0:\n",
        "            xb = 0\n",
        "        if xb >= self.num_x_bins:\n",
        "            xb = self.num_x_bins - 1\n",
        "\n",
        "        yb = int((y - self.y_start) // self.y_bin_width)\n",
        "        if yb < 0:\n",
        "            yb = 0\n",
        "        if yb >= self.num_y_bins:\n",
        "            yb = self.num_y_bins - 1\n",
        "\n",
        "        steps = 0  # track the distance used for the current iteration\n",
        "        explore = True  # indicate that the next iteration might contain a valid bin\n",
        "        # Explore outward from the initial bin by increasing amounts.\n",
        "        while explore:\n",
        "            explore = False  # the loop will terminate when we complete a full iteration where no bins are valid\n",
        "\n",
        "            # Iterate across different x-index offsets from -steps to +steps.\n",
        "            for xoff in range(-steps, steps + 1):\n",
        "                # Compute the remaining number of steps to use on the y-direction.\n",
        "                yoff = steps - abs(xoff)\n",
        "                # Check if the bin indices are valid and determine dist to that bin on negative y-direction.\n",
        "                if self.MinDistToBin(xb + xoff, yb - yoff, x, y) < best_d:\n",
        "                    # If the bin can contain a closer point than current candidate check it.\n",
        "                    pt = self.GridCheckBin(xb + xoff, yb - yoff, x, y, best_d)\n",
        "                    if pt != None:\n",
        "                        best_d = euclidean_dist(x, y, pt.x, pt.y)\n",
        "                        best_pt = pt\n",
        "                    explore = True\n",
        "\n",
        "                # Check now on positive y-direction.\n",
        "                if self.MinDistToBin(xb + xoff, yb + yoff, x, y) < best_d and yoff != 0:\n",
        "                    pt = self.GridCheckBin(xb + xoff, yb + yoff, x, y, best_d)\n",
        "                    if pt != None:\n",
        "                        best_d = euclidean_dist(x, y, pt.x, pt.y)\n",
        "                        best_pt = pt\n",
        "                    explore = True\n",
        "\n",
        "            steps += 1\n",
        "\n",
        "        return best_pt\n",
        "\n",
        "\n",
        "\n"
      ],
      "metadata": {
        "id": "a0YoRjuwtsPy"
      },
      "execution_count": 13,
      "outputs": []
    },
    {
      "cell_type": "markdown",
      "source": [
        "Helper function to visualize the grid, target point or the nearest neighbor point in the grid"
      ],
      "metadata": {
        "id": "nVvxFUVQiH65"
      }
    },
    {
      "cell_type": "code",
      "source": [
        "def visualize_grid(grid: Grid, target_pt: GridPoint=None, closest_pt: GridPoint=None) -> None:\n",
        "    import matplotlib.pyplot as plt\n",
        "    from matplotlib.patches import Circle\n",
        "\n",
        "    fig, ax = plt.subplots()\n",
        "    ax.grid(True)\n",
        "    ax.set_aspect('equal')\n",
        "    ax.set_xlabel('X-Coordinate')\n",
        "    ax.set_ylabel('Y-Coordinate')\n",
        "    ax.set_title('Grid with Points')\n",
        "\n",
        "    ax.set_xlim(grid.x_start, grid.x_end)\n",
        "    ax.set_ylim(grid.y_start, grid.y_end)\n",
        "    xcells = [grid.x_start + i * grid.x_bin_width for i in range(grid.num_x_bins)]\n",
        "    ycells = [grid.y_start + i * grid.y_bin_width for i in range(grid.num_y_bins)]\n",
        "    ax.set_xticks(xcells)\n",
        "    ax.set_yticks(ycells)\n",
        "\n",
        "    x_coord = []\n",
        "    y_coord = []\n",
        "    for xbin in range(grid.num_x_bins):\n",
        "        for ybin in range(grid.num_y_bins):\n",
        "            current = grid.bins[xbin][ybin]\n",
        "            while current != None:\n",
        "                x_coord.append(current.x)\n",
        "                y_coord.append(current.y)\n",
        "                current = current.next\n",
        "\n",
        "    # Add the target point if specified.\n",
        "    if target_pt != None:\n",
        "        x_coord.append(target_pt.x)\n",
        "        y_coord.append(target_pt.y)\n",
        "\n",
        "        ax.scatter(x_coord, y_coord, c=['blue']*(len(x_coord)-1) + ['red'])\n",
        "\n",
        "        # If we've found the closest point then draw it as on a circle\n",
        "        # with the center on the target point and a radius drawn between them.\n",
        "        if closest_pt != None:\n",
        "            ax.plot([target_pt.x, closest_pt.x], [target_pt.y, closest_pt.y], color='green', linestyle='-')\n",
        "            circle = Circle((target_pt.x, target_pt.y),\n",
        "                            euclidean_dist(target_pt.x, target_pt.y, closest_pt.x, closest_pt.y),\n",
        "                            linestyle=':', fill=False, linewidth=2, color='green')\n",
        "            ax.add_patch(circle)\n",
        "\n",
        "    else:\n",
        "        ax.scatter(x_coord, y_coord)\n",
        "\n",
        "    plt.show()"
      ],
      "metadata": {
        "id": "WLB2EexbpjwI"
      },
      "execution_count": 50,
      "outputs": []
    },
    {
      "cell_type": "markdown",
      "source": [
        "Testing the Grid class with adding points"
      ],
      "metadata": {
        "id": "EPgEzETOiQkS"
      }
    },
    {
      "cell_type": "code",
      "source": [
        "grid = Grid(0.0, 10.0, 0.0, 10.0, 4, 4)\n",
        "grid.GridInsert(0.2, 9.0)\n",
        "grid.GridInsert(1.0, 8.0)\n",
        "grid.GridInsert(2.0, 7.0)\n",
        "grid.GridInsert(2.4, 2.8)\n",
        "grid.GridInsert(4.0, 0.6)\n",
        "grid.GridInsert(5.0, 1.2)\n",
        "grid.GridInsert(5.5, 4.5)\n",
        "grid.GridInsert(8.2, 2.55)\n",
        "grid.GridInsert(9.2, 0.9)\n",
        "grid.GridInsert(9.0, 7.55)\n",
        "grid.GridInsert(9.5, 9.0)\n",
        "grid.GridInsert(5.5, 7.7)\n",
        "\n",
        "visualize_grid(grid)"
      ],
      "metadata": {
        "colab": {
          "base_uri": "https://localhost:8080/",
          "height": 472
        },
        "id": "Wh7LDhL3ydCG",
        "outputId": "dcc6d6db-cbf9-4bd7-e2ae-09476a7249aa"
      },
      "execution_count": 68,
      "outputs": [
        {
          "output_type": "display_data",
          "data": {
            "text/plain": [
              "<Figure size 640x480 with 1 Axes>"
            ],
            "image/png": "[encoded data removed]"
          },
          "metadata": {}
        }
      ]
    },
    {
      "cell_type": "markdown",
      "source": [
        "Delete a point from the grid"
      ],
      "metadata": {
        "id": "sRTKAW20kFvJ"
      }
    },
    {
      "cell_type": "code",
      "source": [
        "grid.GridDelete(5.5, 7.7)\n",
        "visualize_grid(grid)"
      ],
      "metadata": {
        "colab": {
          "base_uri": "https://localhost:8080/",
          "height": 472
        },
        "id": "dnD0PvuFkEBk",
        "outputId": "6bd6a209-ea25-4733-fcb4-2d9d1a93fcee"
      },
      "execution_count": 69,
      "outputs": [
        {
          "output_type": "display_data",
          "data": {
            "text/plain": [
              "<Figure size 640x480 with 1 Axes>"
            ],
            "image/png": "[encoded data removed]"
          },
          "metadata": {}
        }
      ]
    },
    {
      "cell_type": "markdown",
      "source": [
        "Demonstrate a target point and the closest neighbor found"
      ],
      "metadata": {
        "id": "ISwghNZQkPKq"
      }
    },
    {
      "cell_type": "code",
      "source": [
        "target_pt = GridPoint(2.35, 5.35)\n",
        "visualize_grid(grid, target_pt)"
      ],
      "metadata": {
        "colab": {
          "base_uri": "https://localhost:8080/",
          "height": 472
        },
        "id": "mhvo9Q1gkS6m",
        "outputId": "bbc9d6b7-9524-4fe8-d6a4-2f5c42dba83b"
      },
      "execution_count": 72,
      "outputs": [
        {
          "output_type": "display_data",
          "data": {
            "text/plain": [
              "<Figure size 640x480 with 1 Axes>"
            ],
            "image/png": "[encoded data removed]"
          },
          "metadata": {}
        }
      ]
    },
    {
      "cell_type": "code",
      "source": [
        "visualize_grid(grid, target_pt, grid.GridSearchExpanding(target_pt.x, target_pt.y))"
      ],
      "metadata": {
        "colab": {
          "base_uri": "https://localhost:8080/",
          "height": 472
        },
        "id": "6eYNfAsnklKz",
        "outputId": "0b060522-25d8-4ad1-8233-5d2e83b97810"
      },
      "execution_count": 73,
      "outputs": [
        {
          "output_type": "display_data",
          "data": {
            "text/plain": [
              "<Figure size 640x480 with 1 Axes>"
            ],
            "image/png": "[encoded data removed]"
          },
          "metadata": {}
        }
      ]
    }
  ]
}