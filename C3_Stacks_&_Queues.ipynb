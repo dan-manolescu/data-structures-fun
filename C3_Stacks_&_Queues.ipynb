{
  "nbformat": 4,
  "nbformat_minor": 0,
  "metadata": {
    "colab": {
      "provenance": [],
      "authorship_tag": "ABX9TyOe+/YI3eGrnGFzKAeGxoH+",
      "include_colab_link": true
    },
    "kernelspec": {
      "name": "python3",
      "display_name": "Python 3"
    },
    "language_info": {
      "name": "python"
    }
  },
  "cells": [
    {
      "cell_type": "markdown",
      "metadata": {
        "id": "view-in-github",
        "colab_type": "text"
      },
      "source": [
        "<a href=\"https://colab.research.google.com/github/dan-manolescu/data-structures-fun/blob/main/C3_Stacks_%26_Queues.ipynb\" target=\"_parent\"><img src=\"https://colab.research.google.com/assets/colab-badge.svg\" alt=\"Open In Colab\"/></a>"
      ]
    },
    {
      "cell_type": "markdown",
      "source": [
        "# Stacks and Queues"
      ],
      "metadata": {
        "id": "axO9Fg2KCSJv"
      }
    },
    {
      "cell_type": "code",
      "source": [
        "from google.colab import drive\n",
        "drive.mount('mnt')\n",
        "%run 'mnt/My Drive/Colab Notebooks/C2-LinkedLists.ipynb'"
      ],
      "metadata": {
        "colab": {
          "base_uri": "https://localhost:8080/"
        },
        "id": "2zcg-5qRofJb",
        "outputId": "c7abf352-4058-4285-b33a-11c0edfba028"
      },
      "execution_count": 16,
      "outputs": [
        {
          "output_type": "stream",
          "name": "stdout",
          "text": [
            "Mounted at mnt\n",
            "Collecting colorama\n",
            "  Downloading colorama-0.4.6-py2.py3-none-any.whl (25 kB)\n",
            "Installing collected packages: colorama\n",
            "Successfully installed colorama-0.4.6\n",
            "7\n",
            "Original linked list: 3->11->9->37->7->8\n",
            "Linked list inserted: 3->11->9->23->37->7->8\n",
            "Original linked list: 3->11->9->37->7->8\n",
            "Linked list inserted: 3->11->9->23->37->7->8\n",
            "Original linked list: 3->11->9->37->7->8->23\n",
            "Linked list deleted: 3->11->9->7->8->23\n",
            "Original linked list: 3->11->9->37->7->8->23\n",
            "Linked list deleted: 3->11->9->7->8->23\n"
          ]
        }
      ]
    },
    {
      "cell_type": "markdown",
      "source": [
        "## Stacks"
      ],
      "metadata": {
        "id": "HXNhcsJJCW3K"
      }
    },
    {
      "cell_type": "markdown",
      "source": [
        "### Stacks as Arrays"
      ],
      "metadata": {
        "id": "Zs-P7-9plZUg"
      }
    },
    {
      "cell_type": "code",
      "execution_count": 5,
      "metadata": {
        "id": "r3vyfXX1CG9U"
      },
      "outputs": [],
      "source": [
        "class Stack:\n",
        "    def __init__(self, size: int):\n",
        "        self.array_size = size\n",
        "        # initial value for top is -1 indicating the stack is empty\n",
        "        self.top = -1\n",
        "        self.array = [None] * size"
      ]
    },
    {
      "cell_type": "code",
      "source": [
        "def Push(s: Stack, value) -> None:\n",
        "    if s.top == s.array_size - 1:\n",
        "        # expand the size of the array\n",
        "        # in other languages we might use an array doubling capacity here\n",
        "        s.array.append(None)\n",
        "        s.array_size += 1\n",
        "    s.top += 1\n",
        "    s.array[s.top] = value"
      ],
      "metadata": {
        "id": "-k4vSewtDiKy"
      },
      "execution_count": 2,
      "outputs": []
    },
    {
      "cell_type": "code",
      "source": [
        "def Pop(s: Stack):\n",
        "    value = None\n",
        "    if s.top > -1:\n",
        "        value = s.array[s.top]\n",
        "        s.top -= 1\n",
        "    return value"
      ],
      "metadata": {
        "id": "e_ogRh31nJWO"
      },
      "execution_count": 3,
      "outputs": []
    },
    {
      "cell_type": "code",
      "source": [
        "s = Stack(3)\n",
        "Push(s, 3)\n",
        "Push(s, 1)\n",
        "Push(s, 4)\n",
        "Push(s, 5)\n",
        "Push(s, 9)\n",
        "print(Pop(s))\n",
        "print(Pop(s))\n",
        "print(Pop(s))\n",
        "print(Pop(s))\n",
        "print(Pop(s))\n",
        "print(Pop(s))"
      ],
      "metadata": {
        "colab": {
          "base_uri": "https://localhost:8080/"
        },
        "id": "apAkNXEMnnrs",
        "outputId": "9b50aa54-9ca4-4a40-f229-950dfaec86d9"
      },
      "execution_count": 8,
      "outputs": [
        {
          "output_type": "stream",
          "name": "stdout",
          "text": [
            "9\n",
            "5\n",
            "4\n",
            "1\n",
            "3\n",
            "None\n"
          ]
        }
      ]
    },
    {
      "cell_type": "markdown",
      "source": [
        "### Stacks as Linked Lists"
      ],
      "metadata": {
        "id": "SNG6vPwWoV-Q"
      }
    },
    {
      "cell_type": "code",
      "source": [
        "class StackLL:\n",
        "    def __init__(self, value=None):\n",
        "        if value == None:\n",
        "            self.head = None\n",
        "        else:\n",
        "            self.head = LinkedListNode(value)\n",
        "\n",
        "    def Push(self, value):\n",
        "        node = LinkedListNode(value)\n",
        "        node.next = self.head\n",
        "        self.head = node\n",
        "\n",
        "    def Pop(self):\n",
        "        value = None\n",
        "        if self.head != None:\n",
        "            value = self.head.value\n",
        "            self.head = self.head.next\n",
        "        return value"
      ],
      "metadata": {
        "id": "wR-shTPYtEYo"
      },
      "execution_count": 20,
      "outputs": []
    },
    {
      "cell_type": "code",
      "source": [
        "s = StackLL()\n",
        "s.Push(9)\n",
        "s.Push(5)\n",
        "s.Push(4)\n",
        "s.Push(1)\n",
        "s.Push(3)\n",
        "print(s.Pop())\n",
        "print(s.Pop())\n",
        "print(s.Pop())\n",
        "print(s.Pop())\n",
        "print(s.Pop())\n",
        "print(s.Pop())"
      ],
      "metadata": {
        "colab": {
          "base_uri": "https://localhost:8080/"
        },
        "id": "Ajz4dHHmuZlY",
        "outputId": "9876fab6-186f-44f1-a83b-49bbec10e691"
      },
      "execution_count": 21,
      "outputs": [
        {
          "output_type": "stream",
          "name": "stdout",
          "text": [
            "3\n",
            "1\n",
            "4\n",
            "5\n",
            "9\n",
            "None\n"
          ]
        }
      ]
    },
    {
      "cell_type": "markdown",
      "source": [
        "## Queues"
      ],
      "metadata": {
        "id": "QrNWYDV3vDY5"
      }
    },
    {
      "cell_type": "markdown",
      "source": [
        "### Queues as Arrays"
      ],
      "metadata": {
        "id": "eh8f0p4qvHsa"
      }
    },
    {
      "cell_type": "code",
      "source": [
        "class Queue:\n",
        "    def __init__(self, size: int):\n",
        "        self.array_size = size\n",
        "        self.array = [None] * size\n",
        "        self.front = -1\n",
        "        self.back = -1\n",
        "\n",
        "    def Enqueue(self, value):\n",
        "        if self.front == -1:\n",
        "            self.front = 0\n",
        "        if self.back > - 1 and (self.back == self.front - 1 or self.back - self.front == self.array_size - 1):\n",
        "            raise MemoryError('Queue maximum size attained')\n",
        "\n",
        "        self.back = (self.back + 1) % self.array_size\n",
        "        self.array[self.back] = value\n",
        "\n",
        "    def Dequeue(self):\n",
        "        value = None\n",
        "        if self.front > -1:\n",
        "            value = self.array[self.front]\n",
        "            self.array[self.front] = None\n",
        "            if self.front == self.back:\n",
        "                self.front = self.back = -1\n",
        "            else:\n",
        "                self.front = (self.front + 1) % self.array_size\n",
        "        return value\n"
      ],
      "metadata": {
        "id": "pQyyuM6hvKcB"
      },
      "execution_count": 25,
      "outputs": []
    },
    {
      "cell_type": "code",
      "source": [
        "q = Queue(9)\n",
        "q.Enqueue(3)\n",
        "q.Enqueue(1)\n",
        "q.Enqueue(4)\n",
        "q.Enqueue(5)\n",
        "print(q.Dequeue())\n",
        "print(q.Dequeue())\n",
        "print(q.Dequeue())\n",
        "print(q.Dequeue())\n",
        "print(q.Dequeue())\n",
        "q.Enqueue(9)\n",
        "q.Enqueue(1)\n",
        "q.Enqueue(7)\n",
        "print(q.Dequeue())\n",
        "q.Enqueue(6)\n",
        "print(q.Dequeue())"
      ],
      "metadata": {
        "colab": {
          "base_uri": "https://localhost:8080/"
        },
        "id": "DoSatsUIyUa4",
        "outputId": "5997974e-1d3b-4171-edec-980b0f6b9015"
      },
      "execution_count": 28,
      "outputs": [
        {
          "output_type": "stream",
          "name": "stdout",
          "text": [
            "3\n",
            "1\n",
            "4\n",
            "5\n",
            "None\n",
            "9\n",
            "1\n"
          ]
        }
      ]
    },
    {
      "cell_type": "markdown",
      "source": [
        "### Queues as Linked Lists"
      ],
      "metadata": {
        "id": "ET46_o-tzE-s"
      }
    },
    {
      "cell_type": "code",
      "source": [
        "class QueueLL:\n",
        "    def __init__(self):\n",
        "        self.front = None\n",
        "        self.back = None\n",
        "\n",
        "    def Enqueue(self, value):\n",
        "        node = LinkedListNode(value)\n",
        "        # check if the queue is empty and if it add new node and point both front and back at it\n",
        "        if self.back == None:\n",
        "            self.front = node\n",
        "            self.back = node\n",
        "        else:\n",
        "            self.back.next = node\n",
        "            self.back = node\n",
        "\n",
        "    def Dequeue(self):\n",
        "        if self.front == None:\n",
        "            return None\n",
        "\n",
        "        value = self.front.value\n",
        "        self.front = self.front.next\n",
        "        if self.front == None:\n",
        "            self.back = None\n",
        "        return value"
      ],
      "metadata": {
        "id": "7nBxKFyfzJND"
      },
      "execution_count": 29,
      "outputs": []
    },
    {
      "cell_type": "code",
      "source": [
        "q = QueueLL()\n",
        "q.Enqueue(3)\n",
        "q.Enqueue(1)\n",
        "q.Enqueue(4)\n",
        "q.Enqueue(5)\n",
        "print(q.Dequeue())\n",
        "print(q.Dequeue())\n",
        "print(q.Dequeue())\n",
        "print(q.Dequeue())\n",
        "print(q.Dequeue())\n",
        "q.Enqueue(9)\n",
        "q.Enqueue(1)\n",
        "q.Enqueue(7)\n",
        "print(q.Dequeue())\n",
        "q.Enqueue(6)\n",
        "print(q.Dequeue())"
      ],
      "metadata": {
        "colab": {
          "base_uri": "https://localhost:8080/"
        },
        "id": "NoQddu1803QD",
        "outputId": "a1fe6822-73d9-4d04-db24-502edd058093"
      },
      "execution_count": 30,
      "outputs": [
        {
          "output_type": "stream",
          "name": "stdout",
          "text": [
            "3\n",
            "1\n",
            "4\n",
            "5\n",
            "None\n",
            "9\n",
            "1\n"
          ]
        }
      ]
    }
  ]
}