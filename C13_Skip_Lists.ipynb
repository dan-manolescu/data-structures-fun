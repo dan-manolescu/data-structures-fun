{
  "nbformat": 4,
  "nbformat_minor": 0,
  "metadata": {
    "colab": {
      "provenance": [],
      "authorship_tag": "ABX9TyOeGonqqDjGVB6AH2MCxXK8",
      "include_colab_link": true
    },
    "kernelspec": {
      "name": "python3",
      "display_name": "Python 3"
    },
    "language_info": {
      "name": "python"
    }
  },
  "cells": [
    {
      "cell_type": "markdown",
      "metadata": {
        "id": "view-in-github",
        "colab_type": "text"
      },
      "source": [
        "<a href=\"https://colab.research.google.com/github/dan-manolescu/data-structures-fun/blob/main/C13_Skip_Lists.ipynb\" target=\"_parent\"><img src=\"https://colab.research.google.com/assets/colab-badge.svg\" alt=\"Open In Colab\"/></a>"
      ]
    },
    {
      "cell_type": "code",
      "source": [
        "from typing import Any\n",
        "from random import random"
      ],
      "metadata": {
        "id": "OXUu1gCLRc5l"
      },
      "execution_count": 44,
      "outputs": []
    },
    {
      "cell_type": "markdown",
      "source": [
        "Utility function to pick a random level for each skip list node based on a constant probability p. The max_level is the maximum height allowed for a node, we return either the number of coin flips lower than p or max_height if we reached it."
      ],
      "metadata": {
        "id": "So9V34L4ycvv"
      }
    },
    {
      "cell_type": "code",
      "source": [
        "p = 0.5\n",
        "\n",
        "def pick_random_level(max_level: int) -> int:\n",
        "    for i in range(max_level + 1):\n",
        "        if random() >= p:\n",
        "            return i\n",
        "\n",
        "    return max_level"
      ],
      "metadata": {
        "id": "wUGTvHmQ58sR"
      },
      "execution_count": 45,
      "outputs": []
    },
    {
      "cell_type": "markdown",
      "source": [
        "A SkipListNode class used to define the node of a Skip List. A node is defined by the following attributes:\n",
        "* key = we assume that all key values are unique within the list and all nodes are sorted in ascending order based on this key\n",
        "* value = the value stored by a node in the list\n",
        "* height = the height of this node\n",
        "* next = a list of pointers (based on node's height) to other nodes in the list. It's expected that higher levels skip across more nodes than lower levels based on the p distribution."
      ],
      "metadata": {
        "id": "8bTWqkhVzXqq"
      }
    },
    {
      "cell_type": "code",
      "execution_count": 46,
      "metadata": {
        "id": "OnpGVVo4G2Yz"
      },
      "outputs": [],
      "source": [
        "class SkipListNode:\n",
        "    def __init__(self, key: Any, value: Any, height: int):\n",
        "        self.key = key\n",
        "        self.value = value\n",
        "        self.height = height\n",
        "        self.next = [None] * (height + 1)"
      ]
    },
    {
      "cell_type": "markdown",
      "source": [
        "A SkipList class used to define our skip list. The following attributes are used:\n",
        "* top_level = the greatest height in any of the nodes in the list\n",
        "* max_level = the maximum height that can be attained\n",
        "* front = a pointer to the first node of the list. The front is a special node with no key and no value but a maximum height based on top_level\n",
        "\n",
        "The skip list implements the following methods:\n",
        "* search = lookup for a particular key returning the value contained there if the key exists in the list\n",
        "* insert = used to add a new node with the given key and value. If the key already exists it simply updates the value. Our skip list does not allow duplicate keys.\n",
        "* delete = removes a node identified by the given key if it exists in the list."
      ],
      "metadata": {
        "id": "E5WgSjfr0CPN"
      }
    },
    {
      "cell_type": "code",
      "source": [
        "class SkipList:\n",
        "    def __init__(self, max_level: int):\n",
        "        self.top_level = 0\n",
        "        self.max_level = max_level\n",
        "        self.front = SkipListNode(None, None, max_level)\n",
        "\n",
        "    def SkipListSearch(self, target: Any) -> Any:\n",
        "        '''\n",
        "        Returns the value of the node with the target key (or None if it doesn't exist).\n",
        "        '''\n",
        "        # Start the search with the current node at the front of the top-most list.\n",
        "        current = self.front\n",
        "\n",
        "        # The inner loop iterates through the current linked list until it hits\n",
        "        # the end of the list or a node with a key >= target.\n",
        "        # The outer loop drops down a single level each iteration until we hit\n",
        "        # the bottom of the list.\n",
        "        for level in range(self.top_level, -1, -1):\n",
        "            while current.next[level] != None and current.next[level].key < target:\n",
        "                current = current.next[level]\n",
        "            # One improvement would be to terminate the loop earlier once we\n",
        "            # found the target in the next node instead of iterating until we hit\n",
        "            # the bottom.\n",
        "\n",
        "        # When the loop ends we are guaranteed to be at the last node in the\n",
        "        # list with a key less than the target.\n",
        "        # If the target is in the list it will be at the next node.\n",
        "        result = current.next[0]\n",
        "        # Check that the node exists and has the correct key.\n",
        "        if result != None and result.key == target:\n",
        "            return result.value\n",
        "        else:\n",
        "            return None\n",
        "\n",
        "    def SkipListInsert(self, key: Any, value: Any) -> None:\n",
        "        current = self.front\n",
        "        last = [current] * (self.max_level + 1)\n",
        "\n",
        "        # The outer loop iterates through the list levels saving the last node\n",
        "        # seen at each level before dropping down.\n",
        "        for level in range(self.top_level, -1, -1):\n",
        "            # The inner loop traverses the skip list moving forward every time\n",
        "            # a node has a key less than our target\n",
        "            while current.next[level] != None and current.next[level].key < key:\n",
        "                current = current.next[level]\n",
        "            # Update last for each level because we have seen that key at the\n",
        "            # next node on that level is >= key to be inserted (or next node is null)\n",
        "            # so we will need to insert before that node.\n",
        "            last[level] = current\n",
        "\n",
        "        result = current.next[0]\n",
        "        # If we find a matching key then simply update that node value.\n",
        "        if result != None and result.key == key:\n",
        "            result.value = value\n",
        "            return\n",
        "\n",
        "        # When we find the correct point to insert the new node pick a random\n",
        "        # level for this node.\n",
        "        new_level = pick_random_level(self.max_level)\n",
        "        if new_level > self.top_level:\n",
        "            self.top_level = new_level\n",
        "        new_node = SkipListNode(key, value, new_level)\n",
        "\n",
        "        # Insert the new element by using a loop to update the pointers from\n",
        "        # the new node to point to the correct following node.\n",
        "        # Then update each of the nodes in last to point to our new node.\n",
        "        for j in range(0, new_level + 1):\n",
        "            new_node.next[j] = last[j].next[j]\n",
        "            last[j].next[j] = new_node\n",
        "\n",
        "    def SkipListDelete(self, target: Any) -> None:\n",
        "        '''\n",
        "        Deletes the node with the target key if it exists.\n",
        "        First search the skip list for the deletion target while tracking the\n",
        "        last node at each level that comes before the target node. Once the\n",
        "        search is complete update the list of previous nodes to remove the node\n",
        "        we are deleting.\n",
        "        '''\n",
        "        # Start at the top left of the list.\n",
        "        current = self.front\n",
        "        last = [current] * (self.max_level + 1)\n",
        "\n",
        "        # Search each level until we find a node with key >= target or end of the list.\n",
        "        for level in range(self.top_level, -1, -1):\n",
        "            while current.next[level] != None and current.next[level].key < target:\n",
        "                current = current.next[level]\n",
        "            last[level] = current\n",
        "\n",
        "        # Check if we found the node whose key matches the target. If not then\n",
        "        # there's nothing to delete.\n",
        "        result = current.next[0]\n",
        "        if result == None or result.key != target:\n",
        "            return\n",
        "\n",
        "        level = result.height\n",
        "        # Use a loop to simply link the next pointers for each node in the last\n",
        "        # to point past the current node.\n",
        "        for j in range(0, level + 1):\n",
        "            last[j].next[j] = result.next[j]\n",
        "            result.next[j] = None\n",
        "\n",
        "        # Check if the skip list top level is still valid.\n",
        "        if level == self.top_level:\n",
        "            top = self.top_level\n",
        "            while top > 0 and self.front.next[top] == None:\n",
        "                top -= 1\n",
        "            self.top_level = top\n"
      ],
      "metadata": {
        "id": "89ds-q_ISBNN"
      },
      "execution_count": 47,
      "outputs": []
    },
    {
      "cell_type": "markdown",
      "source": [
        "Utility function to draw a skip list by using the graphviz library. It uses a shape record to depict the levels of the node and the key of the node (to the left) as well as arrows representing the various next pointers for each node."
      ],
      "metadata": {
        "id": "cJ5NWXwt0whw"
      }
    },
    {
      "cell_type": "code",
      "source": [
        "import graphviz\n",
        "\n",
        "def visualize_skip_list(skip_list: SkipList) -> graphviz.Digraph:\n",
        "    dot = graphviz.Digraph(node_attr={'shape':'record'})\n",
        "\n",
        "    # First place all the nodes.\n",
        "    current = skip_list.front\n",
        "    while current != None:\n",
        "        node_name = str(current.key) if current.key != None else 'Front'\n",
        "        node_struct = []\n",
        "        #node_struct = [f'Key: {node_name}']\n",
        "        for level in range(current.height, -1, -1):\n",
        "            node_struct.append(f'<l{level}> {level}')\n",
        "        node_struct.append(f'Key: {node_name}')\n",
        "        #dot.node(node_name, '{' + '|'.join(node_struct) + '}')\n",
        "        dot.node(node_name, '|'.join(node_struct))\n",
        "        current = current.next[0]\n",
        "\n",
        "    # Then place all links\n",
        "    current = skip_list.front\n",
        "    while current != None:\n",
        "        node_name = str(current.key) if current.key != None else 'Front'\n",
        "        for level in range(current.height + 1):\n",
        "            if current.next[level] != None:\n",
        "                dot.edge(f'{node_name}:l{level}', f'{current.next[level].key}:<l{level}>')\n",
        "        current = current.next[0]\n",
        "\n",
        "    return dot\n",
        "\n",
        ""
      ],
      "metadata": {
        "id": "gFoJX59T7oZh"
      },
      "execution_count": 48,
      "outputs": []
    },
    {
      "cell_type": "markdown",
      "source": [
        "Some example of creating a skip list by inserting values. Irrespective of the order in which they are added the nodes are going to be sorted in ascending order."
      ],
      "metadata": {
        "id": "5VjJc-DN0_A0"
      }
    },
    {
      "cell_type": "code",
      "source": [
        "skip = SkipList(3)\n",
        "skip.SkipListInsert(0, 0)\n",
        "skip.SkipListInsert(8, 8)\n",
        "skip.SkipListInsert(9, 9)\n",
        "skip.SkipListInsert(17, 17)\n",
        "skip.SkipListInsert(12, 12)\n",
        "skip.SkipListInsert(14, 14)\n",
        "skip.SkipListInsert(5, 5)\n",
        "\n",
        "visualize_skip_list(skip)"
      ],
      "metadata": {
        "colab": {
          "base_uri": "https://localhost:8080/",
          "height": 763
        },
        "id": "T_7Djfhf9Y3T",
        "outputId": "8617814e-2e9f-4d97-d5dd-70f6d86ddb31"
      },
      "execution_count": 52,
      "outputs": [
        {
          "output_type": "execute_result",
          "data": {
            "image/svg+xml": "<?xml version=\"1.0\" encoding=\"UTF-8\" standalone=\"no\"?>\n<!DOCTYPE svg PUBLIC \"-//W3C//DTD SVG 1.1//EN\"\n \"http://www.w3.org/Graphics/SVG/1.1/DTD/svg11.dtd\">\n<!-- Generated by graphviz version 2.43.0 (0)\n -->\n<!-- Title: %3 Pages: 1 -->\n<svg width=\"176pt\" height=\"556pt\"\n viewBox=\"0.00 0.00 176.00 556.00\" xmlns=\"http://www.w3.org/2000/svg\" xmlns:xlink=\"http://www.w3.org/1999/xlink\">\n<g id=\"graph0\" class=\"graph\" transform=\"scale(1 1) rotate(0) translate(4 552)\">\n<title>%3</title>\n<polygon fill=\"white\" stroke=\"transparent\" points=\"-4,4 -4,-552 172,-552 172,4 -4,4\"/>\n<!-- Front -->\n<g id=\"node1\" class=\"node\">\n<title>Front</title>\n<polygon fill=\"none\" stroke=\"black\" points=\"0,-511.5 0,-547.5 168,-547.5 168,-511.5 0,-511.5\"/>\n<text text-anchor=\"middle\" x=\"11.5\" y=\"-525.8\" font-family=\"Times,serif\" font-size=\"14.00\">3</text>\n<polyline fill=\"none\" stroke=\"black\" points=\"23,-511.5 23,-547.5 \"/>\n<text text-anchor=\"middle\" x=\"34.5\" y=\"-525.8\" font-family=\"Times,serif\" font-size=\"14.00\">2</text>\n<polyline fill=\"none\" stroke=\"black\" points=\"46,-511.5 46,-547.5 \"/>\n<text text-anchor=\"middle\" x=\"57.5\" y=\"-525.8\" font-family=\"Times,serif\" font-size=\"14.00\">1</text>\n<polyline fill=\"none\" stroke=\"black\" points=\"69,-511.5 69,-547.5 \"/>\n<text text-anchor=\"middle\" x=\"80.5\" y=\"-525.8\" font-family=\"Times,serif\" font-size=\"14.00\">0</text>\n<polyline fill=\"none\" stroke=\"black\" points=\"92,-511.5 92,-547.5 \"/>\n<text text-anchor=\"middle\" x=\"130\" y=\"-525.8\" font-family=\"Times,serif\" font-size=\"14.00\">Key: Front</text>\n</g>\n<!-- 0 -->\n<g id=\"node2\" class=\"node\">\n<title>0</title>\n<polygon fill=\"none\" stroke=\"black\" points=\"85,-438.5 85,-474.5 161,-474.5 161,-438.5 85,-438.5\"/>\n<text text-anchor=\"middle\" x=\"96.5\" y=\"-452.8\" font-family=\"Times,serif\" font-size=\"14.00\">0</text>\n<polyline fill=\"none\" stroke=\"black\" points=\"108,-438.5 108,-474.5 \"/>\n<text text-anchor=\"middle\" x=\"134.5\" y=\"-452.8\" font-family=\"Times,serif\" font-size=\"14.00\">Key: 0</text>\n</g>\n<!-- Front&#45;&gt;0 -->\n<g id=\"edge1\" class=\"edge\">\n<title>Front:l0&#45;&gt;0:l0</title>\n<path fill=\"none\" stroke=\"black\" d=\"M80,-511C80,-497.59 89.38,-493.88 93.78,-485.01\"/>\n<polygon fill=\"black\" stroke=\"black\" points=\"97.25,-485.52 96,-475 90.41,-484 97.25,-485.52\"/>\n</g>\n<!-- 5 -->\n<g id=\"node3\" class=\"node\">\n<title>5</title>\n<polygon fill=\"none\" stroke=\"black\" points=\"23,-365.5 23,-401.5 145,-401.5 145,-365.5 23,-365.5\"/>\n<text text-anchor=\"middle\" x=\"34.5\" y=\"-379.8\" font-family=\"Times,serif\" font-size=\"14.00\">2</text>\n<polyline fill=\"none\" stroke=\"black\" points=\"46,-365.5 46,-401.5 \"/>\n<text text-anchor=\"middle\" x=\"57.5\" y=\"-379.8\" font-family=\"Times,serif\" font-size=\"14.00\">1</text>\n<polyline fill=\"none\" stroke=\"black\" points=\"69,-365.5 69,-401.5 \"/>\n<text text-anchor=\"middle\" x=\"80.5\" y=\"-379.8\" font-family=\"Times,serif\" font-size=\"14.00\">0</text>\n<polyline fill=\"none\" stroke=\"black\" points=\"92,-365.5 92,-401.5 \"/>\n<text text-anchor=\"middle\" x=\"118.5\" y=\"-379.8\" font-family=\"Times,serif\" font-size=\"14.00\">Key: 5</text>\n</g>\n<!-- Front&#45;&gt;5 -->\n<g id=\"edge2\" class=\"edge\">\n<title>Front:l1&#45;&gt;5:l1</title>\n<path fill=\"none\" stroke=\"black\" d=\"M57,-511C57,-466.15 57,-452.44 57,-412.22\"/>\n<polygon fill=\"black\" stroke=\"black\" points=\"60.5,-412 57,-402 53.5,-412 60.5,-412\"/>\n</g>\n<!-- Front&#45;&gt;5 -->\n<g id=\"edge3\" class=\"edge\">\n<title>Front:l2&#45;&gt;5:l2</title>\n<path fill=\"none\" stroke=\"black\" d=\"M34,-511C34,-466.15 34,-452.44 34,-412.22\"/>\n<polygon fill=\"black\" stroke=\"black\" points=\"37.5,-412 34,-402 30.5,-412 37.5,-412\"/>\n</g>\n<!-- 0&#45;&gt;5 -->\n<g id=\"edge4\" class=\"edge\">\n<title>0:l0&#45;&gt;5:l0</title>\n<path fill=\"none\" stroke=\"black\" d=\"M96,-438C96,-424.59 86.62,-420.88 82.22,-412.01\"/>\n<polygon fill=\"black\" stroke=\"black\" points=\"85.59,-411 80,-402 78.75,-412.52 85.59,-411\"/>\n</g>\n<!-- 8 -->\n<g id=\"node4\" class=\"node\">\n<title>8</title>\n<polygon fill=\"none\" stroke=\"black\" points=\"45.5,-292.5 45.5,-328.5 144.5,-328.5 144.5,-292.5 45.5,-292.5\"/>\n<text text-anchor=\"middle\" x=\"57\" y=\"-306.8\" font-family=\"Times,serif\" font-size=\"14.00\">1</text>\n<polyline fill=\"none\" stroke=\"black\" points=\"68.5,-292.5 68.5,-328.5 \"/>\n<text text-anchor=\"middle\" x=\"80\" y=\"-306.8\" font-family=\"Times,serif\" font-size=\"14.00\">0</text>\n<polyline fill=\"none\" stroke=\"black\" points=\"91.5,-292.5 91.5,-328.5 \"/>\n<text text-anchor=\"middle\" x=\"118\" y=\"-306.8\" font-family=\"Times,serif\" font-size=\"14.00\">Key: 8</text>\n</g>\n<!-- 5&#45;&gt;8 -->\n<g id=\"edge5\" class=\"edge\">\n<title>5:l0&#45;&gt;8:l0</title>\n<path fill=\"none\" stroke=\"black\" d=\"M80,-365C80,-353 80,-347.75 80,-339.12\"/>\n<polygon fill=\"black\" stroke=\"black\" points=\"83.5,-339 80,-329 76.5,-339 83.5,-339\"/>\n</g>\n<!-- 5&#45;&gt;8 -->\n<g id=\"edge6\" class=\"edge\">\n<title>5:l1&#45;&gt;8:l1</title>\n<path fill=\"none\" stroke=\"black\" d=\"M57,-365C57,-353 57,-347.75 57,-339.12\"/>\n<polygon fill=\"black\" stroke=\"black\" points=\"60.5,-339 57,-329 53.5,-339 60.5,-339\"/>\n</g>\n<!-- 12 -->\n<g id=\"node6\" class=\"node\">\n<title>12</title>\n<polygon fill=\"none\" stroke=\"black\" points=\"20.5,-146.5 20.5,-182.5 149.5,-182.5 149.5,-146.5 20.5,-146.5\"/>\n<text text-anchor=\"middle\" x=\"32\" y=\"-160.8\" font-family=\"Times,serif\" font-size=\"14.00\">2</text>\n<polyline fill=\"none\" stroke=\"black\" points=\"43.5,-146.5 43.5,-182.5 \"/>\n<text text-anchor=\"middle\" x=\"55\" y=\"-160.8\" font-family=\"Times,serif\" font-size=\"14.00\">1</text>\n<polyline fill=\"none\" stroke=\"black\" points=\"66.5,-146.5 66.5,-182.5 \"/>\n<text text-anchor=\"middle\" x=\"78\" y=\"-160.8\" font-family=\"Times,serif\" font-size=\"14.00\">0</text>\n<polyline fill=\"none\" stroke=\"black\" points=\"89.5,-146.5 89.5,-182.5 \"/>\n<text text-anchor=\"middle\" x=\"119.5\" y=\"-160.8\" font-family=\"Times,serif\" font-size=\"14.00\">Key: 12</text>\n</g>\n<!-- 5&#45;&gt;12 -->\n<g id=\"edge7\" class=\"edge\">\n<title>5:l2&#45;&gt;12:l2</title>\n<path fill=\"none\" stroke=\"black\" d=\"M34,-365C34,-287.58 32.17,-265.74 32.01,-193.1\"/>\n<polygon fill=\"black\" stroke=\"black\" points=\"35.51,-193 32,-183 28.51,-193 35.51,-193\"/>\n</g>\n<!-- 9 -->\n<g id=\"node5\" class=\"node\">\n<title>9</title>\n<polygon fill=\"none\" stroke=\"black\" points=\"83,-219.5 83,-255.5 159,-255.5 159,-219.5 83,-219.5\"/>\n<text text-anchor=\"middle\" x=\"94.5\" y=\"-233.8\" font-family=\"Times,serif\" font-size=\"14.00\">0</text>\n<polyline fill=\"none\" stroke=\"black\" points=\"106,-219.5 106,-255.5 \"/>\n<text text-anchor=\"middle\" x=\"132.5\" y=\"-233.8\" font-family=\"Times,serif\" font-size=\"14.00\">Key: 9</text>\n</g>\n<!-- 8&#45;&gt;9 -->\n<g id=\"edge8\" class=\"edge\">\n<title>8:l0&#45;&gt;9:l0</title>\n<path fill=\"none\" stroke=\"black\" d=\"M80,-292C80,-278.86 88.21,-274.8 92.05,-265.92\"/>\n<polygon fill=\"black\" stroke=\"black\" points=\"95.51,-266.49 94,-256 88.64,-265.14 95.51,-266.49\"/>\n</g>\n<!-- 8&#45;&gt;12 -->\n<g id=\"edge9\" class=\"edge\">\n<title>8:l1&#45;&gt;12:l1</title>\n<path fill=\"none\" stroke=\"black\" d=\"M57,-292C57,-247.14 55.29,-233.45 55.03,-193.22\"/>\n<polygon fill=\"black\" stroke=\"black\" points=\"58.53,-192.99 55,-183 51.53,-193.01 58.53,-192.99\"/>\n</g>\n<!-- 9&#45;&gt;12 -->\n<g id=\"edge10\" class=\"edge\">\n<title>9:l0&#45;&gt;12:l0</title>\n<path fill=\"none\" stroke=\"black\" d=\"M94,-219C94,-205.59 84.62,-201.88 80.22,-193.01\"/>\n<polygon fill=\"black\" stroke=\"black\" points=\"83.59,-192 78,-183 76.75,-193.52 83.59,-192\"/>\n</g>\n<!-- 14 -->\n<g id=\"node7\" class=\"node\">\n<title>14</title>\n<polygon fill=\"none\" stroke=\"black\" points=\"75.5,-73.5 75.5,-109.5 158.5,-109.5 158.5,-73.5 75.5,-73.5\"/>\n<text text-anchor=\"middle\" x=\"87\" y=\"-87.8\" font-family=\"Times,serif\" font-size=\"14.00\">0</text>\n<polyline fill=\"none\" stroke=\"black\" points=\"98.5,-73.5 98.5,-109.5 \"/>\n<text text-anchor=\"middle\" x=\"128.5\" y=\"-87.8\" font-family=\"Times,serif\" font-size=\"14.00\">Key: 14</text>\n</g>\n<!-- 12&#45;&gt;14 -->\n<g id=\"edge11\" class=\"edge\">\n<title>12:l0&#45;&gt;14:l0</title>\n<path fill=\"none\" stroke=\"black\" d=\"M78,-146C78,-133.5 83.17,-128.74 85.67,-119.99\"/>\n<polygon fill=\"black\" stroke=\"black\" points=\"89.15,-120.37 87,-110 82.21,-119.45 89.15,-120.37\"/>\n</g>\n<!-- 17 -->\n<g id=\"node8\" class=\"node\">\n<title>17</title>\n<polygon fill=\"none\" stroke=\"black\" points=\"44,-0.5 44,-36.5 150,-36.5 150,-0.5 44,-0.5\"/>\n<text text-anchor=\"middle\" x=\"55.5\" y=\"-14.8\" font-family=\"Times,serif\" font-size=\"14.00\">1</text>\n<polyline fill=\"none\" stroke=\"black\" points=\"67,-0.5 67,-36.5 \"/>\n<text text-anchor=\"middle\" x=\"78.5\" y=\"-14.8\" font-family=\"Times,serif\" font-size=\"14.00\">0</text>\n<polyline fill=\"none\" stroke=\"black\" points=\"90,-0.5 90,-36.5 \"/>\n<text text-anchor=\"middle\" x=\"120\" y=\"-14.8\" font-family=\"Times,serif\" font-size=\"14.00\">Key: 17</text>\n</g>\n<!-- 12&#45;&gt;17 -->\n<g id=\"edge12\" class=\"edge\">\n<title>12:l1&#45;&gt;17:l1</title>\n<path fill=\"none\" stroke=\"black\" d=\"M55,-146C55,-101.15 55,-87.44 55,-47.22\"/>\n<polygon fill=\"black\" stroke=\"black\" points=\"58.5,-47 55,-37 51.5,-47 58.5,-47\"/>\n</g>\n<!-- 14&#45;&gt;17 -->\n<g id=\"edge13\" class=\"edge\">\n<title>14:l0&#45;&gt;17:l0</title>\n<path fill=\"none\" stroke=\"black\" d=\"M87,-73C87,-60.5 81.83,-55.74 79.33,-46.99\"/>\n<polygon fill=\"black\" stroke=\"black\" points=\"82.79,-46.45 78,-37 75.85,-47.37 82.79,-46.45\"/>\n</g>\n</g>\n</svg>\n",
            "text/plain": [
              "<graphviz.graphs.Digraph at 0x78b03b2361d0>"
            ]
          },
          "metadata": {},
          "execution_count": 52
        }
      ]
    },
    {
      "cell_type": "markdown",
      "source": [
        "Inserts another node in the proper place in the list."
      ],
      "metadata": {
        "id": "BFGHShMe1eck"
      }
    },
    {
      "cell_type": "code",
      "source": [
        "skip.SkipListInsert(10, 10)\n",
        "visualize_skip_list(skip)"
      ],
      "metadata": {
        "colab": {
          "base_uri": "https://localhost:8080/",
          "height": 860
        },
        "id": "X_2n74Mz1WpC",
        "outputId": "d5ad1851-e2ed-4eff-bc75-8989bc47bb95"
      },
      "execution_count": 53,
      "outputs": [
        {
          "output_type": "execute_result",
          "data": {
            "image/svg+xml": "<?xml version=\"1.0\" encoding=\"UTF-8\" standalone=\"no\"?>\n<!DOCTYPE svg PUBLIC \"-//W3C//DTD SVG 1.1//EN\"\n \"http://www.w3.org/Graphics/SVG/1.1/DTD/svg11.dtd\">\n<!-- Generated by graphviz version 2.43.0 (0)\n -->\n<!-- Title: %3 Pages: 1 -->\n<svg width=\"176pt\" height=\"629pt\"\n viewBox=\"0.00 0.00 176.00 629.00\" xmlns=\"http://www.w3.org/2000/svg\" xmlns:xlink=\"http://www.w3.org/1999/xlink\">\n<g id=\"graph0\" class=\"graph\" transform=\"scale(1 1) rotate(0) translate(4 625)\">\n<title>%3</title>\n<polygon fill=\"white\" stroke=\"transparent\" points=\"-4,4 -4,-625 172,-625 172,4 -4,4\"/>\n<!-- Front -->\n<g id=\"node1\" class=\"node\">\n<title>Front</title>\n<polygon fill=\"none\" stroke=\"black\" points=\"0,-584.5 0,-620.5 168,-620.5 168,-584.5 0,-584.5\"/>\n<text text-anchor=\"middle\" x=\"11.5\" y=\"-598.8\" font-family=\"Times,serif\" font-size=\"14.00\">3</text>\n<polyline fill=\"none\" stroke=\"black\" points=\"23,-584.5 23,-620.5 \"/>\n<text text-anchor=\"middle\" x=\"34.5\" y=\"-598.8\" font-family=\"Times,serif\" font-size=\"14.00\">2</text>\n<polyline fill=\"none\" stroke=\"black\" points=\"46,-584.5 46,-620.5 \"/>\n<text text-anchor=\"middle\" x=\"57.5\" y=\"-598.8\" font-family=\"Times,serif\" font-size=\"14.00\">1</text>\n<polyline fill=\"none\" stroke=\"black\" points=\"69,-584.5 69,-620.5 \"/>\n<text text-anchor=\"middle\" x=\"80.5\" y=\"-598.8\" font-family=\"Times,serif\" font-size=\"14.00\">0</text>\n<polyline fill=\"none\" stroke=\"black\" points=\"92,-584.5 92,-620.5 \"/>\n<text text-anchor=\"middle\" x=\"130\" y=\"-598.8\" font-family=\"Times,serif\" font-size=\"14.00\">Key: Front</text>\n</g>\n<!-- 0 -->\n<g id=\"node2\" class=\"node\">\n<title>0</title>\n<polygon fill=\"none\" stroke=\"black\" points=\"85,-511.5 85,-547.5 161,-547.5 161,-511.5 85,-511.5\"/>\n<text text-anchor=\"middle\" x=\"96.5\" y=\"-525.8\" font-family=\"Times,serif\" font-size=\"14.00\">0</text>\n<polyline fill=\"none\" stroke=\"black\" points=\"108,-511.5 108,-547.5 \"/>\n<text text-anchor=\"middle\" x=\"134.5\" y=\"-525.8\" font-family=\"Times,serif\" font-size=\"14.00\">Key: 0</text>\n</g>\n<!-- Front&#45;&gt;0 -->\n<g id=\"edge1\" class=\"edge\">\n<title>Front:l0&#45;&gt;0:l0</title>\n<path fill=\"none\" stroke=\"black\" d=\"M80,-584C80,-570.59 89.38,-566.88 93.78,-558.01\"/>\n<polygon fill=\"black\" stroke=\"black\" points=\"97.25,-558.52 96,-548 90.41,-557 97.25,-558.52\"/>\n</g>\n<!-- 5 -->\n<g id=\"node3\" class=\"node\">\n<title>5</title>\n<polygon fill=\"none\" stroke=\"black\" points=\"23,-438.5 23,-474.5 145,-474.5 145,-438.5 23,-438.5\"/>\n<text text-anchor=\"middle\" x=\"34.5\" y=\"-452.8\" font-family=\"Times,serif\" font-size=\"14.00\">2</text>\n<polyline fill=\"none\" stroke=\"black\" points=\"46,-438.5 46,-474.5 \"/>\n<text text-anchor=\"middle\" x=\"57.5\" y=\"-452.8\" font-family=\"Times,serif\" font-size=\"14.00\">1</text>\n<polyline fill=\"none\" stroke=\"black\" points=\"69,-438.5 69,-474.5 \"/>\n<text text-anchor=\"middle\" x=\"80.5\" y=\"-452.8\" font-family=\"Times,serif\" font-size=\"14.00\">0</text>\n<polyline fill=\"none\" stroke=\"black\" points=\"92,-438.5 92,-474.5 \"/>\n<text text-anchor=\"middle\" x=\"118.5\" y=\"-452.8\" font-family=\"Times,serif\" font-size=\"14.00\">Key: 5</text>\n</g>\n<!-- Front&#45;&gt;5 -->\n<g id=\"edge2\" class=\"edge\">\n<title>Front:l1&#45;&gt;5:l1</title>\n<path fill=\"none\" stroke=\"black\" d=\"M57,-584C57,-539.15 57,-525.44 57,-485.22\"/>\n<polygon fill=\"black\" stroke=\"black\" points=\"60.5,-485 57,-475 53.5,-485 60.5,-485\"/>\n</g>\n<!-- Front&#45;&gt;5 -->\n<g id=\"edge3\" class=\"edge\">\n<title>Front:l2&#45;&gt;5:l2</title>\n<path fill=\"none\" stroke=\"black\" d=\"M34,-584C34,-539.15 34,-525.44 34,-485.22\"/>\n<polygon fill=\"black\" stroke=\"black\" points=\"37.5,-485 34,-475 30.5,-485 37.5,-485\"/>\n</g>\n<!-- 0&#45;&gt;5 -->\n<g id=\"edge4\" class=\"edge\">\n<title>0:l0&#45;&gt;5:l0</title>\n<path fill=\"none\" stroke=\"black\" d=\"M96,-511C96,-497.59 86.62,-493.88 82.22,-485.01\"/>\n<polygon fill=\"black\" stroke=\"black\" points=\"85.59,-484 80,-475 78.75,-485.52 85.59,-484\"/>\n</g>\n<!-- 8 -->\n<g id=\"node4\" class=\"node\">\n<title>8</title>\n<polygon fill=\"none\" stroke=\"black\" points=\"45.5,-365.5 45.5,-401.5 144.5,-401.5 144.5,-365.5 45.5,-365.5\"/>\n<text text-anchor=\"middle\" x=\"57\" y=\"-379.8\" font-family=\"Times,serif\" font-size=\"14.00\">1</text>\n<polyline fill=\"none\" stroke=\"black\" points=\"68.5,-365.5 68.5,-401.5 \"/>\n<text text-anchor=\"middle\" x=\"80\" y=\"-379.8\" font-family=\"Times,serif\" font-size=\"14.00\">0</text>\n<polyline fill=\"none\" stroke=\"black\" points=\"91.5,-365.5 91.5,-401.5 \"/>\n<text text-anchor=\"middle\" x=\"118\" y=\"-379.8\" font-family=\"Times,serif\" font-size=\"14.00\">Key: 8</text>\n</g>\n<!-- 5&#45;&gt;8 -->\n<g id=\"edge5\" class=\"edge\">\n<title>5:l0&#45;&gt;8:l0</title>\n<path fill=\"none\" stroke=\"black\" d=\"M80,-438C80,-426 80,-420.75 80,-412.12\"/>\n<polygon fill=\"black\" stroke=\"black\" points=\"83.5,-412 80,-402 76.5,-412 83.5,-412\"/>\n</g>\n<!-- 5&#45;&gt;8 -->\n<g id=\"edge6\" class=\"edge\">\n<title>5:l1&#45;&gt;8:l1</title>\n<path fill=\"none\" stroke=\"black\" d=\"M57,-438C57,-426 57,-420.75 57,-412.12\"/>\n<polygon fill=\"black\" stroke=\"black\" points=\"60.5,-412 57,-402 53.5,-412 60.5,-412\"/>\n</g>\n<!-- 12 -->\n<g id=\"node7\" class=\"node\">\n<title>12</title>\n<polygon fill=\"none\" stroke=\"black\" points=\"21.5,-146.5 21.5,-182.5 150.5,-182.5 150.5,-146.5 21.5,-146.5\"/>\n<text text-anchor=\"middle\" x=\"33\" y=\"-160.8\" font-family=\"Times,serif\" font-size=\"14.00\">2</text>\n<polyline fill=\"none\" stroke=\"black\" points=\"44.5,-146.5 44.5,-182.5 \"/>\n<text text-anchor=\"middle\" x=\"56\" y=\"-160.8\" font-family=\"Times,serif\" font-size=\"14.00\">1</text>\n<polyline fill=\"none\" stroke=\"black\" points=\"67.5,-146.5 67.5,-182.5 \"/>\n<text text-anchor=\"middle\" x=\"79\" y=\"-160.8\" font-family=\"Times,serif\" font-size=\"14.00\">0</text>\n<polyline fill=\"none\" stroke=\"black\" points=\"90.5,-146.5 90.5,-182.5 \"/>\n<text text-anchor=\"middle\" x=\"120.5\" y=\"-160.8\" font-family=\"Times,serif\" font-size=\"14.00\">Key: 12</text>\n</g>\n<!-- 5&#45;&gt;12 -->\n<g id=\"edge7\" class=\"edge\">\n<title>5:l2&#45;&gt;12:l2</title>\n<path fill=\"none\" stroke=\"black\" d=\"M34,-438C34,-328.1 33.06,-298.13 33,-193.06\"/>\n<polygon fill=\"black\" stroke=\"black\" points=\"36.5,-193 33,-183 29.5,-193 36.5,-193\"/>\n</g>\n<!-- 9 -->\n<g id=\"node5\" class=\"node\">\n<title>9</title>\n<polygon fill=\"none\" stroke=\"black\" points=\"83,-292.5 83,-328.5 159,-328.5 159,-292.5 83,-292.5\"/>\n<text text-anchor=\"middle\" x=\"94.5\" y=\"-306.8\" font-family=\"Times,serif\" font-size=\"14.00\">0</text>\n<polyline fill=\"none\" stroke=\"black\" points=\"106,-292.5 106,-328.5 \"/>\n<text text-anchor=\"middle\" x=\"132.5\" y=\"-306.8\" font-family=\"Times,serif\" font-size=\"14.00\">Key: 9</text>\n</g>\n<!-- 8&#45;&gt;9 -->\n<g id=\"edge8\" class=\"edge\">\n<title>8:l0&#45;&gt;9:l0</title>\n<path fill=\"none\" stroke=\"black\" d=\"M80,-365C80,-351.86 88.21,-347.8 92.05,-338.92\"/>\n<polygon fill=\"black\" stroke=\"black\" points=\"95.51,-339.49 94,-329 88.64,-338.14 95.51,-339.49\"/>\n</g>\n<!-- 10 -->\n<g id=\"node6\" class=\"node\">\n<title>10</title>\n<polygon fill=\"none\" stroke=\"black\" points=\"45,-219.5 45,-255.5 151,-255.5 151,-219.5 45,-219.5\"/>\n<text text-anchor=\"middle\" x=\"56.5\" y=\"-233.8\" font-family=\"Times,serif\" font-size=\"14.00\">1</text>\n<polyline fill=\"none\" stroke=\"black\" points=\"68,-219.5 68,-255.5 \"/>\n<text text-anchor=\"middle\" x=\"79.5\" y=\"-233.8\" font-family=\"Times,serif\" font-size=\"14.00\">0</text>\n<polyline fill=\"none\" stroke=\"black\" points=\"91,-219.5 91,-255.5 \"/>\n<text text-anchor=\"middle\" x=\"121\" y=\"-233.8\" font-family=\"Times,serif\" font-size=\"14.00\">Key: 10</text>\n</g>\n<!-- 8&#45;&gt;10 -->\n<g id=\"edge9\" class=\"edge\">\n<title>8:l1&#45;&gt;10:l1</title>\n<path fill=\"none\" stroke=\"black\" d=\"M57,-365C57,-320.15 56.14,-306.44 56.02,-266.22\"/>\n<polygon fill=\"black\" stroke=\"black\" points=\"59.52,-265.99 56,-256 52.52,-266.01 59.52,-265.99\"/>\n</g>\n<!-- 9&#45;&gt;10 -->\n<g id=\"edge10\" class=\"edge\">\n<title>9:l0&#45;&gt;10:l0</title>\n<path fill=\"none\" stroke=\"black\" d=\"M94,-292C94,-278.73 85.21,-274.84 81.09,-265.96\"/>\n<polygon fill=\"black\" stroke=\"black\" points=\"84.47,-265.07 79,-256 77.62,-266.51 84.47,-265.07\"/>\n</g>\n<!-- 10&#45;&gt;12 -->\n<g id=\"edge11\" class=\"edge\">\n<title>10:l0&#45;&gt;12:l0</title>\n<path fill=\"none\" stroke=\"black\" d=\"M79,-219C79,-207 79,-201.75 79,-193.12\"/>\n<polygon fill=\"black\" stroke=\"black\" points=\"82.5,-193 79,-183 75.5,-193 82.5,-193\"/>\n</g>\n<!-- 10&#45;&gt;12 -->\n<g id=\"edge12\" class=\"edge\">\n<title>10:l1&#45;&gt;12:l1</title>\n<path fill=\"none\" stroke=\"black\" d=\"M56,-219C56,-207 56,-201.75 56,-193.12\"/>\n<polygon fill=\"black\" stroke=\"black\" points=\"59.5,-193 56,-183 52.5,-193 59.5,-193\"/>\n</g>\n<!-- 14 -->\n<g id=\"node8\" class=\"node\">\n<title>14</title>\n<polygon fill=\"none\" stroke=\"black\" points=\"76.5,-73.5 76.5,-109.5 159.5,-109.5 159.5,-73.5 76.5,-73.5\"/>\n<text text-anchor=\"middle\" x=\"88\" y=\"-87.8\" font-family=\"Times,serif\" font-size=\"14.00\">0</text>\n<polyline fill=\"none\" stroke=\"black\" points=\"99.5,-73.5 99.5,-109.5 \"/>\n<text text-anchor=\"middle\" x=\"129.5\" y=\"-87.8\" font-family=\"Times,serif\" font-size=\"14.00\">Key: 14</text>\n</g>\n<!-- 12&#45;&gt;14 -->\n<g id=\"edge13\" class=\"edge\">\n<title>12:l0&#45;&gt;14:l0</title>\n<path fill=\"none\" stroke=\"black\" d=\"M79,-146C79,-133.5 84.17,-128.74 86.67,-119.99\"/>\n<polygon fill=\"black\" stroke=\"black\" points=\"90.15,-120.37 88,-110 83.21,-119.45 90.15,-120.37\"/>\n</g>\n<!-- 17 -->\n<g id=\"node9\" class=\"node\">\n<title>17</title>\n<polygon fill=\"none\" stroke=\"black\" points=\"45,-0.5 45,-36.5 151,-36.5 151,-0.5 45,-0.5\"/>\n<text text-anchor=\"middle\" x=\"56.5\" y=\"-14.8\" font-family=\"Times,serif\" font-size=\"14.00\">1</text>\n<polyline fill=\"none\" stroke=\"black\" points=\"68,-0.5 68,-36.5 \"/>\n<text text-anchor=\"middle\" x=\"79.5\" y=\"-14.8\" font-family=\"Times,serif\" font-size=\"14.00\">0</text>\n<polyline fill=\"none\" stroke=\"black\" points=\"91,-0.5 91,-36.5 \"/>\n<text text-anchor=\"middle\" x=\"121\" y=\"-14.8\" font-family=\"Times,serif\" font-size=\"14.00\">Key: 17</text>\n</g>\n<!-- 12&#45;&gt;17 -->\n<g id=\"edge14\" class=\"edge\">\n<title>12:l1&#45;&gt;17:l1</title>\n<path fill=\"none\" stroke=\"black\" d=\"M56,-146C56,-101.15 56,-87.44 56,-47.22\"/>\n<polygon fill=\"black\" stroke=\"black\" points=\"59.5,-47 56,-37 52.5,-47 59.5,-47\"/>\n</g>\n<!-- 14&#45;&gt;17 -->\n<g id=\"edge15\" class=\"edge\">\n<title>14:l0&#45;&gt;17:l0</title>\n<path fill=\"none\" stroke=\"black\" d=\"M88,-73C88,-60.5 82.83,-55.74 80.33,-46.99\"/>\n<polygon fill=\"black\" stroke=\"black\" points=\"83.79,-46.45 79,-37 76.85,-47.37 83.79,-46.45\"/>\n</g>\n</g>\n</svg>\n",
            "text/plain": [
              "<graphviz.graphs.Digraph at 0x78b03b297d30>"
            ]
          },
          "metadata": {},
          "execution_count": 53
        }
      ]
    },
    {
      "cell_type": "markdown",
      "source": [
        "Searches for a key that exists and one that doesn't (returns None)."
      ],
      "metadata": {
        "id": "GdDmxMrY1sfK"
      }
    },
    {
      "cell_type": "code",
      "source": [
        "print(skip.SkipListSearch(10))\n",
        "print(skip.SkipListSearch(11))"
      ],
      "metadata": {
        "colab": {
          "base_uri": "https://localhost:8080/"
        },
        "id": "xd7wpFJB1mHD",
        "outputId": "a57afcd2-22f5-47db-dcb3-4f3e9e49ff39"
      },
      "execution_count": 54,
      "outputs": [
        {
          "output_type": "stream",
          "name": "stdout",
          "text": [
            "10\n",
            "None\n"
          ]
        }
      ]
    },
    {
      "cell_type": "markdown",
      "source": [
        "Removes the node with value 10."
      ],
      "metadata": {
        "id": "aeaIiQoa10ZS"
      }
    },
    {
      "cell_type": "code",
      "source": [
        "skip.SkipListDelete(10)\n",
        "visualize_skip_list(skip)"
      ],
      "metadata": {
        "colab": {
          "base_uri": "https://localhost:8080/",
          "height": 763
        },
        "id": "OZD59A8h12hI",
        "outputId": "3ae0cdb5-e7db-4b7f-e793-56d772f3b9ad"
      },
      "execution_count": 55,
      "outputs": [
        {
          "output_type": "execute_result",
          "data": {
            "image/svg+xml": "<?xml version=\"1.0\" encoding=\"UTF-8\" standalone=\"no\"?>\n<!DOCTYPE svg PUBLIC \"-//W3C//DTD SVG 1.1//EN\"\n \"http://www.w3.org/Graphics/SVG/1.1/DTD/svg11.dtd\">\n<!-- Generated by graphviz version 2.43.0 (0)\n -->\n<!-- Title: %3 Pages: 1 -->\n<svg width=\"176pt\" height=\"556pt\"\n viewBox=\"0.00 0.00 176.00 556.00\" xmlns=\"http://www.w3.org/2000/svg\" xmlns:xlink=\"http://www.w3.org/1999/xlink\">\n<g id=\"graph0\" class=\"graph\" transform=\"scale(1 1) rotate(0) translate(4 552)\">\n<title>%3</title>\n<polygon fill=\"white\" stroke=\"transparent\" points=\"-4,4 -4,-552 172,-552 172,4 -4,4\"/>\n<!-- Front -->\n<g id=\"node1\" class=\"node\">\n<title>Front</title>\n<polygon fill=\"none\" stroke=\"black\" points=\"0,-511.5 0,-547.5 168,-547.5 168,-511.5 0,-511.5\"/>\n<text text-anchor=\"middle\" x=\"11.5\" y=\"-525.8\" font-family=\"Times,serif\" font-size=\"14.00\">3</text>\n<polyline fill=\"none\" stroke=\"black\" points=\"23,-511.5 23,-547.5 \"/>\n<text text-anchor=\"middle\" x=\"34.5\" y=\"-525.8\" font-family=\"Times,serif\" font-size=\"14.00\">2</text>\n<polyline fill=\"none\" stroke=\"black\" points=\"46,-511.5 46,-547.5 \"/>\n<text text-anchor=\"middle\" x=\"57.5\" y=\"-525.8\" font-family=\"Times,serif\" font-size=\"14.00\">1</text>\n<polyline fill=\"none\" stroke=\"black\" points=\"69,-511.5 69,-547.5 \"/>\n<text text-anchor=\"middle\" x=\"80.5\" y=\"-525.8\" font-family=\"Times,serif\" font-size=\"14.00\">0</text>\n<polyline fill=\"none\" stroke=\"black\" points=\"92,-511.5 92,-547.5 \"/>\n<text text-anchor=\"middle\" x=\"130\" y=\"-525.8\" font-family=\"Times,serif\" font-size=\"14.00\">Key: Front</text>\n</g>\n<!-- 0 -->\n<g id=\"node2\" class=\"node\">\n<title>0</title>\n<polygon fill=\"none\" stroke=\"black\" points=\"85,-438.5 85,-474.5 161,-474.5 161,-438.5 85,-438.5\"/>\n<text text-anchor=\"middle\" x=\"96.5\" y=\"-452.8\" font-family=\"Times,serif\" font-size=\"14.00\">0</text>\n<polyline fill=\"none\" stroke=\"black\" points=\"108,-438.5 108,-474.5 \"/>\n<text text-anchor=\"middle\" x=\"134.5\" y=\"-452.8\" font-family=\"Times,serif\" font-size=\"14.00\">Key: 0</text>\n</g>\n<!-- Front&#45;&gt;0 -->\n<g id=\"edge1\" class=\"edge\">\n<title>Front:l0&#45;&gt;0:l0</title>\n<path fill=\"none\" stroke=\"black\" d=\"M80,-511C80,-497.59 89.38,-493.88 93.78,-485.01\"/>\n<polygon fill=\"black\" stroke=\"black\" points=\"97.25,-485.52 96,-475 90.41,-484 97.25,-485.52\"/>\n</g>\n<!-- 5 -->\n<g id=\"node3\" class=\"node\">\n<title>5</title>\n<polygon fill=\"none\" stroke=\"black\" points=\"23,-365.5 23,-401.5 145,-401.5 145,-365.5 23,-365.5\"/>\n<text text-anchor=\"middle\" x=\"34.5\" y=\"-379.8\" font-family=\"Times,serif\" font-size=\"14.00\">2</text>\n<polyline fill=\"none\" stroke=\"black\" points=\"46,-365.5 46,-401.5 \"/>\n<text text-anchor=\"middle\" x=\"57.5\" y=\"-379.8\" font-family=\"Times,serif\" font-size=\"14.00\">1</text>\n<polyline fill=\"none\" stroke=\"black\" points=\"69,-365.5 69,-401.5 \"/>\n<text text-anchor=\"middle\" x=\"80.5\" y=\"-379.8\" font-family=\"Times,serif\" font-size=\"14.00\">0</text>\n<polyline fill=\"none\" stroke=\"black\" points=\"92,-365.5 92,-401.5 \"/>\n<text text-anchor=\"middle\" x=\"118.5\" y=\"-379.8\" font-family=\"Times,serif\" font-size=\"14.00\">Key: 5</text>\n</g>\n<!-- Front&#45;&gt;5 -->\n<g id=\"edge2\" class=\"edge\">\n<title>Front:l1&#45;&gt;5:l1</title>\n<path fill=\"none\" stroke=\"black\" d=\"M57,-511C57,-466.15 57,-452.44 57,-412.22\"/>\n<polygon fill=\"black\" stroke=\"black\" points=\"60.5,-412 57,-402 53.5,-412 60.5,-412\"/>\n</g>\n<!-- Front&#45;&gt;5 -->\n<g id=\"edge3\" class=\"edge\">\n<title>Front:l2&#45;&gt;5:l2</title>\n<path fill=\"none\" stroke=\"black\" d=\"M34,-511C34,-466.15 34,-452.44 34,-412.22\"/>\n<polygon fill=\"black\" stroke=\"black\" points=\"37.5,-412 34,-402 30.5,-412 37.5,-412\"/>\n</g>\n<!-- 0&#45;&gt;5 -->\n<g id=\"edge4\" class=\"edge\">\n<title>0:l0&#45;&gt;5:l0</title>\n<path fill=\"none\" stroke=\"black\" d=\"M96,-438C96,-424.59 86.62,-420.88 82.22,-412.01\"/>\n<polygon fill=\"black\" stroke=\"black\" points=\"85.59,-411 80,-402 78.75,-412.52 85.59,-411\"/>\n</g>\n<!-- 8 -->\n<g id=\"node4\" class=\"node\">\n<title>8</title>\n<polygon fill=\"none\" stroke=\"black\" points=\"45.5,-292.5 45.5,-328.5 144.5,-328.5 144.5,-292.5 45.5,-292.5\"/>\n<text text-anchor=\"middle\" x=\"57\" y=\"-306.8\" font-family=\"Times,serif\" font-size=\"14.00\">1</text>\n<polyline fill=\"none\" stroke=\"black\" points=\"68.5,-292.5 68.5,-328.5 \"/>\n<text text-anchor=\"middle\" x=\"80\" y=\"-306.8\" font-family=\"Times,serif\" font-size=\"14.00\">0</text>\n<polyline fill=\"none\" stroke=\"black\" points=\"91.5,-292.5 91.5,-328.5 \"/>\n<text text-anchor=\"middle\" x=\"118\" y=\"-306.8\" font-family=\"Times,serif\" font-size=\"14.00\">Key: 8</text>\n</g>\n<!-- 5&#45;&gt;8 -->\n<g id=\"edge5\" class=\"edge\">\n<title>5:l0&#45;&gt;8:l0</title>\n<path fill=\"none\" stroke=\"black\" d=\"M80,-365C80,-353 80,-347.75 80,-339.12\"/>\n<polygon fill=\"black\" stroke=\"black\" points=\"83.5,-339 80,-329 76.5,-339 83.5,-339\"/>\n</g>\n<!-- 5&#45;&gt;8 -->\n<g id=\"edge6\" class=\"edge\">\n<title>5:l1&#45;&gt;8:l1</title>\n<path fill=\"none\" stroke=\"black\" d=\"M57,-365C57,-353 57,-347.75 57,-339.12\"/>\n<polygon fill=\"black\" stroke=\"black\" points=\"60.5,-339 57,-329 53.5,-339 60.5,-339\"/>\n</g>\n<!-- 12 -->\n<g id=\"node6\" class=\"node\">\n<title>12</title>\n<polygon fill=\"none\" stroke=\"black\" points=\"20.5,-146.5 20.5,-182.5 149.5,-182.5 149.5,-146.5 20.5,-146.5\"/>\n<text text-anchor=\"middle\" x=\"32\" y=\"-160.8\" font-family=\"Times,serif\" font-size=\"14.00\">2</text>\n<polyline fill=\"none\" stroke=\"black\" points=\"43.5,-146.5 43.5,-182.5 \"/>\n<text text-anchor=\"middle\" x=\"55\" y=\"-160.8\" font-family=\"Times,serif\" font-size=\"14.00\">1</text>\n<polyline fill=\"none\" stroke=\"black\" points=\"66.5,-146.5 66.5,-182.5 \"/>\n<text text-anchor=\"middle\" x=\"78\" y=\"-160.8\" font-family=\"Times,serif\" font-size=\"14.00\">0</text>\n<polyline fill=\"none\" stroke=\"black\" points=\"89.5,-146.5 89.5,-182.5 \"/>\n<text text-anchor=\"middle\" x=\"119.5\" y=\"-160.8\" font-family=\"Times,serif\" font-size=\"14.00\">Key: 12</text>\n</g>\n<!-- 5&#45;&gt;12 -->\n<g id=\"edge7\" class=\"edge\">\n<title>5:l2&#45;&gt;12:l2</title>\n<path fill=\"none\" stroke=\"black\" d=\"M34,-365C34,-287.58 32.17,-265.74 32.01,-193.1\"/>\n<polygon fill=\"black\" stroke=\"black\" points=\"35.51,-193 32,-183 28.51,-193 35.51,-193\"/>\n</g>\n<!-- 9 -->\n<g id=\"node5\" class=\"node\">\n<title>9</title>\n<polygon fill=\"none\" stroke=\"black\" points=\"83,-219.5 83,-255.5 159,-255.5 159,-219.5 83,-219.5\"/>\n<text text-anchor=\"middle\" x=\"94.5\" y=\"-233.8\" font-family=\"Times,serif\" font-size=\"14.00\">0</text>\n<polyline fill=\"none\" stroke=\"black\" points=\"106,-219.5 106,-255.5 \"/>\n<text text-anchor=\"middle\" x=\"132.5\" y=\"-233.8\" font-family=\"Times,serif\" font-size=\"14.00\">Key: 9</text>\n</g>\n<!-- 8&#45;&gt;9 -->\n<g id=\"edge8\" class=\"edge\">\n<title>8:l0&#45;&gt;9:l0</title>\n<path fill=\"none\" stroke=\"black\" d=\"M80,-292C80,-278.86 88.21,-274.8 92.05,-265.92\"/>\n<polygon fill=\"black\" stroke=\"black\" points=\"95.51,-266.49 94,-256 88.64,-265.14 95.51,-266.49\"/>\n</g>\n<!-- 8&#45;&gt;12 -->\n<g id=\"edge9\" class=\"edge\">\n<title>8:l1&#45;&gt;12:l1</title>\n<path fill=\"none\" stroke=\"black\" d=\"M57,-292C57,-247.14 55.29,-233.45 55.03,-193.22\"/>\n<polygon fill=\"black\" stroke=\"black\" points=\"58.53,-192.99 55,-183 51.53,-193.01 58.53,-192.99\"/>\n</g>\n<!-- 9&#45;&gt;12 -->\n<g id=\"edge10\" class=\"edge\">\n<title>9:l0&#45;&gt;12:l0</title>\n<path fill=\"none\" stroke=\"black\" d=\"M94,-219C94,-205.59 84.62,-201.88 80.22,-193.01\"/>\n<polygon fill=\"black\" stroke=\"black\" points=\"83.59,-192 78,-183 76.75,-193.52 83.59,-192\"/>\n</g>\n<!-- 14 -->\n<g id=\"node7\" class=\"node\">\n<title>14</title>\n<polygon fill=\"none\" stroke=\"black\" points=\"75.5,-73.5 75.5,-109.5 158.5,-109.5 158.5,-73.5 75.5,-73.5\"/>\n<text text-anchor=\"middle\" x=\"87\" y=\"-87.8\" font-family=\"Times,serif\" font-size=\"14.00\">0</text>\n<polyline fill=\"none\" stroke=\"black\" points=\"98.5,-73.5 98.5,-109.5 \"/>\n<text text-anchor=\"middle\" x=\"128.5\" y=\"-87.8\" font-family=\"Times,serif\" font-size=\"14.00\">Key: 14</text>\n</g>\n<!-- 12&#45;&gt;14 -->\n<g id=\"edge11\" class=\"edge\">\n<title>12:l0&#45;&gt;14:l0</title>\n<path fill=\"none\" stroke=\"black\" d=\"M78,-146C78,-133.5 83.17,-128.74 85.67,-119.99\"/>\n<polygon fill=\"black\" stroke=\"black\" points=\"89.15,-120.37 87,-110 82.21,-119.45 89.15,-120.37\"/>\n</g>\n<!-- 17 -->\n<g id=\"node8\" class=\"node\">\n<title>17</title>\n<polygon fill=\"none\" stroke=\"black\" points=\"44,-0.5 44,-36.5 150,-36.5 150,-0.5 44,-0.5\"/>\n<text text-anchor=\"middle\" x=\"55.5\" y=\"-14.8\" font-family=\"Times,serif\" font-size=\"14.00\">1</text>\n<polyline fill=\"none\" stroke=\"black\" points=\"67,-0.5 67,-36.5 \"/>\n<text text-anchor=\"middle\" x=\"78.5\" y=\"-14.8\" font-family=\"Times,serif\" font-size=\"14.00\">0</text>\n<polyline fill=\"none\" stroke=\"black\" points=\"90,-0.5 90,-36.5 \"/>\n<text text-anchor=\"middle\" x=\"120\" y=\"-14.8\" font-family=\"Times,serif\" font-size=\"14.00\">Key: 17</text>\n</g>\n<!-- 12&#45;&gt;17 -->\n<g id=\"edge12\" class=\"edge\">\n<title>12:l1&#45;&gt;17:l1</title>\n<path fill=\"none\" stroke=\"black\" d=\"M55,-146C55,-101.15 55,-87.44 55,-47.22\"/>\n<polygon fill=\"black\" stroke=\"black\" points=\"58.5,-47 55,-37 51.5,-47 58.5,-47\"/>\n</g>\n<!-- 14&#45;&gt;17 -->\n<g id=\"edge13\" class=\"edge\">\n<title>14:l0&#45;&gt;17:l0</title>\n<path fill=\"none\" stroke=\"black\" d=\"M87,-73C87,-60.5 81.83,-55.74 79.33,-46.99\"/>\n<polygon fill=\"black\" stroke=\"black\" points=\"82.79,-46.45 78,-37 75.85,-47.37 82.79,-46.45\"/>\n</g>\n</g>\n</svg>\n",
            "text/plain": [
              "<graphviz.graphs.Digraph at 0x78b03b235000>"
            ]
          },
          "metadata": {},
          "execution_count": 55
        }
      ]
    }
  ]
}