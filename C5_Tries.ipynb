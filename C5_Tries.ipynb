{
  "nbformat": 4,
  "nbformat_minor": 0,
  "metadata": {
    "colab": {
      "provenance": [],
      "authorship_tag": "ABX9TyMjksdZH6KPuhQKs2tNbb+k",
      "include_colab_link": true
    },
    "kernelspec": {
      "name": "python3",
      "display_name": "Python 3"
    },
    "language_info": {
      "name": "python"
    }
  },
  "cells": [
    {
      "cell_type": "markdown",
      "metadata": {
        "id": "view-in-github",
        "colab_type": "text"
      },
      "source": [
        "<a href=\"https://colab.research.google.com/github/dan-manolescu/data-structures-fun/blob/main/C5_Tries.ipynb\" target=\"_parent\"><img src=\"https://colab.research.google.com/assets/colab-badge.svg\" alt=\"Open In Colab\"/></a>"
      ]
    },
    {
      "cell_type": "markdown",
      "source": [
        "# Tries"
      ],
      "metadata": {
        "id": "B0N-rCD2y_my"
      }
    },
    {
      "cell_type": "code",
      "execution_count": 9,
      "metadata": {
        "id": "0x5znVV3y8ei"
      },
      "outputs": [],
      "source": [
        "from typing import ForwardRef\n",
        "\n",
        "class TrieNode:\n",
        "    def __init__(self):\n",
        "        self.is_entry = False\n",
        "        self.value = ''\n",
        "        self.children = {}\n",
        "\n",
        "    def TrieNodeSearch(self, target: str, index: int) -> ForwardRef('TrieNode'):\n",
        "        # if the target is located at this level\n",
        "        # then check if it's a valid entry and return\n",
        "        if index == len(target):\n",
        "            if self.is_entry:\n",
        "                return self\n",
        "            else:\n",
        "                return None\n",
        "\n",
        "        # look for the next character in target\n",
        "        next_letter = target[index]\n",
        "        # check if it's present in the childrens and continue\n",
        "        if next_letter in self.children:\n",
        "            return self.children[next_letter].TrieNodeSearch(target, index + 1)\n",
        "        else:\n",
        "            return None\n",
        "\n",
        "    def TrieNodeInsert(self, new_value: str, index: int) -> None:\n",
        "        if index == len(new_value):\n",
        "            self.is_entry = True\n",
        "        else:\n",
        "            next_letter = new_value[index]\n",
        "            if next_letter not in self.children:\n",
        "                node = TrieNode()\n",
        "                node.value = new_value[:index + 1]\n",
        "                self.children[next_letter] = node\n",
        "            self.children[next_letter].TrieNodeInsert(new_value, index + 1)\n",
        "\n",
        "    def TrieNodeDelete(self, target: str, index: int) -> bool:\n",
        "        if index == len(target):\n",
        "            if self.is_entry:\n",
        "                self.is_entry = False\n",
        "        else:\n",
        "            next_letter = target[index]\n",
        "            if next_letter in self.children:\n",
        "                if self.children[next_letter].TrieNodeDelete(target, index + 1):\n",
        "                    del self.children[next_letter]\n",
        "\n",
        "        # do not delete this node if it has either an entry or a child.\n",
        "        if self.is_entry:\n",
        "            return False\n",
        "        if len(self.children) > 0:\n",
        "            return False\n",
        "        return True"
      ]
    },
    {
      "cell_type": "code",
      "source": [
        "class Trie:\n",
        "    def __init__(self):\n",
        "        self.root = TrieNode()\n",
        "\n",
        "    def TrieSearch(self, target: str) -> TrieNode:\n",
        "        return self.root.TrieNodeSearch(target, 0)\n",
        "\n",
        "    def TrieInsert(self, new_value: str) -> None:\n",
        "        self.root.TrieNodeInsert(new_value, 0)\n",
        "\n",
        "    def TrieDelete(self, target: str) -> bool:\n",
        "        return self.root.TrieNodeDelete(target, 0)"
      ],
      "metadata": {
        "id": "-XBp_pGDzZmt"
      },
      "execution_count": 10,
      "outputs": []
    },
    {
      "cell_type": "markdown",
      "source": [
        "Visualization logic"
      ],
      "metadata": {
        "id": "OiKpsguh8tqv"
      }
    },
    {
      "cell_type": "code",
      "source": [
        "import graphviz\n",
        "\n",
        "def visualize_trie(trie: Trie) -> graphviz.Digraph:\n",
        "    dot = graphviz.Digraph()\n",
        "    dot.node('')\n",
        "\n",
        "    def add_nodes_edges(node: TrieNode) -> None:\n",
        "        entry_attr = {'style': 'filled', 'color':'lightgrey'}\n",
        "        for letter in sorted(node.children.keys()):\n",
        "            if node.children[letter].is_entry:\n",
        "                dot.node(node.children[letter].value, **entry_attr)\n",
        "            else:\n",
        "                dot.node(node.children[letter].value)\n",
        "            dot.edge(node.value, node.children[letter].value, letter)\n",
        "            add_nodes_edges(node.children[letter])\n",
        "\n",
        "    add_nodes_edges(trie.root)\n",
        "    return dot"
      ],
      "metadata": {
        "id": "ooPT5reH41yo"
      },
      "execution_count": 11,
      "outputs": []
    },
    {
      "cell_type": "markdown",
      "source": [
        "**Test data**"
      ],
      "metadata": {
        "id": "F6tF8-sB8w4g"
      }
    },
    {
      "cell_type": "code",
      "source": [
        "trie = Trie()\n",
        "trie.TrieInsert('EGADS')\n",
        "trie.TrieInsert('YIKES')\n",
        "trie.TrieInsert('YIPPEE')\n",
        "trie.TrieInsert('ZOUNDS')\n",
        "\n",
        "visualize_trie(trie)"
      ],
      "metadata": {
        "colab": {
          "base_uri": "https://localhost:8080/",
          "height": 776
        },
        "id": "fDY9Q56h8yw4",
        "outputId": "8411c3ce-a868-4006-f392-b53b1de8b015"
      },
      "execution_count": 12,
      "outputs": [
        {
          "output_type": "execute_result",
          "data": {
            "image/svg+xml": "<?xml version=\"1.0\" encoding=\"UTF-8\" standalone=\"no\"?>\n<!DOCTYPE svg PUBLIC \"-//W3C//DTD SVG 1.1//EN\"\n \"http://www.w3.org/Graphics/SVG/1.1/DTD/svg11.dtd\">\n<!-- Generated by graphviz version 2.43.0 (0)\n -->\n<!-- Title: %3 Pages: 1 -->\n<svg width=\"380pt\" height=\"566pt\"\n viewBox=\"0.00 0.00 380.44 566.00\" xmlns=\"http://www.w3.org/2000/svg\" xmlns:xlink=\"http://www.w3.org/1999/xlink\">\n<g id=\"graph0\" class=\"graph\" transform=\"scale(1 1) rotate(0) translate(4 562)\">\n<title>%3</title>\n<polygon fill=\"white\" stroke=\"transparent\" points=\"-4,4 -4,-562 376.44,-562 376.44,4 -4,4\"/>\n<g id=\"node1\" class=\"node\">\n<title></title>\n<ellipse fill=\"none\" stroke=\"black\" cx=\"162.3\" cy=\"-540\" rx=\"27\" ry=\"18\"/>\n</g>\n<!-- E -->\n<g id=\"node2\" class=\"node\">\n<title>E</title>\n<ellipse fill=\"none\" stroke=\"black\" cx=\"90.3\" cy=\"-453\" rx=\"27\" ry=\"18\"/>\n<text text-anchor=\"middle\" x=\"90.3\" y=\"-449.3\" font-family=\"Times,serif\" font-size=\"14.00\">E</text>\n</g>\n<!-- &#45;&gt;E -->\n<g id=\"edge1\" class=\"edge\">\n<title>&#45;&gt;E</title>\n<path fill=\"none\" stroke=\"black\" d=\"M149.42,-523.8C138.37,-510.75 122.26,-491.74 109.65,-476.85\"/>\n<polygon fill=\"black\" stroke=\"black\" points=\"112.19,-474.43 103.06,-469.06 106.85,-478.96 112.19,-474.43\"/>\n<text text-anchor=\"middle\" x=\"135.8\" y=\"-492.8\" font-family=\"Times,serif\" font-size=\"14.00\">E</text>\n</g>\n<!-- Y -->\n<g id=\"node7\" class=\"node\">\n<title>Y</title>\n<ellipse fill=\"none\" stroke=\"black\" cx=\"162.3\" cy=\"-453\" rx=\"27\" ry=\"18\"/>\n<text text-anchor=\"middle\" x=\"162.3\" y=\"-449.3\" font-family=\"Times,serif\" font-size=\"14.00\">Y</text>\n</g>\n<!-- &#45;&gt;Y -->\n<g id=\"edge6\" class=\"edge\">\n<title>&#45;&gt;Y</title>\n<path fill=\"none\" stroke=\"black\" d=\"M162.3,-521.8C162.3,-510.16 162.3,-494.55 162.3,-481.24\"/>\n<polygon fill=\"black\" stroke=\"black\" points=\"165.8,-481.18 162.3,-471.18 158.8,-481.18 165.8,-481.18\"/>\n<text text-anchor=\"middle\" x=\"167.3\" y=\"-492.8\" font-family=\"Times,serif\" font-size=\"14.00\">Y</text>\n</g>\n<!-- Z -->\n<g id=\"node16\" class=\"node\">\n<title>Z</title>\n<ellipse fill=\"none\" stroke=\"black\" cx=\"242.3\" cy=\"-453\" rx=\"27\" ry=\"18\"/>\n<text text-anchor=\"middle\" x=\"242.3\" y=\"-449.3\" font-family=\"Times,serif\" font-size=\"14.00\">Z</text>\n</g>\n<!-- &#45;&gt;Z -->\n<g id=\"edge15\" class=\"edge\">\n<title>&#45;&gt;Z</title>\n<path fill=\"none\" stroke=\"black\" d=\"M176.23,-524.19C188.74,-510.91 207.26,-491.23 221.51,-476.08\"/>\n<polygon fill=\"black\" stroke=\"black\" points=\"224.22,-478.32 228.52,-468.64 219.12,-473.52 224.22,-478.32\"/>\n<text text-anchor=\"middle\" x=\"211.8\" y=\"-492.8\" font-family=\"Times,serif\" font-size=\"14.00\">Z</text>\n</g>\n<!-- EG -->\n<g id=\"node3\" class=\"node\">\n<title>EG</title>\n<ellipse fill=\"none\" stroke=\"black\" cx=\"90.3\" cy=\"-366\" rx=\"27\" ry=\"18\"/>\n<text text-anchor=\"middle\" x=\"90.3\" y=\"-362.3\" font-family=\"Times,serif\" font-size=\"14.00\">EG</text>\n</g>\n<!-- E&#45;&gt;EG -->\n<g id=\"edge2\" class=\"edge\">\n<title>E&#45;&gt;EG</title>\n<path fill=\"none\" stroke=\"black\" d=\"M90.3,-434.8C90.3,-423.16 90.3,-407.55 90.3,-394.24\"/>\n<polygon fill=\"black\" stroke=\"black\" points=\"93.8,-394.18 90.3,-384.18 86.8,-394.18 93.8,-394.18\"/>\n<text text-anchor=\"middle\" x=\"95.3\" y=\"-405.8\" font-family=\"Times,serif\" font-size=\"14.00\">G</text>\n</g>\n<!-- EGA -->\n<g id=\"node4\" class=\"node\">\n<title>EGA</title>\n<ellipse fill=\"none\" stroke=\"black\" cx=\"65.3\" cy=\"-279\" rx=\"28.7\" ry=\"18\"/>\n<text text-anchor=\"middle\" x=\"65.3\" y=\"-275.3\" font-family=\"Times,serif\" font-size=\"14.00\">EGA</text>\n</g>\n<!-- EG&#45;&gt;EGA -->\n<g id=\"edge3\" class=\"edge\">\n<title>EG&#45;&gt;EGA</title>\n<path fill=\"none\" stroke=\"black\" d=\"M85.36,-348.21C81.86,-336.33 77.11,-320.17 73.11,-306.56\"/>\n<polygon fill=\"black\" stroke=\"black\" points=\"76.4,-305.36 70.23,-296.76 69.69,-307.34 76.4,-305.36\"/>\n<text text-anchor=\"middle\" x=\"84.3\" y=\"-318.8\" font-family=\"Times,serif\" font-size=\"14.00\">A</text>\n</g>\n<!-- EGAD -->\n<g id=\"node5\" class=\"node\">\n<title>EGAD</title>\n<ellipse fill=\"none\" stroke=\"black\" cx=\"47.3\" cy=\"-192\" rx=\"35.19\" ry=\"18\"/>\n<text text-anchor=\"middle\" x=\"47.3\" y=\"-188.3\" font-family=\"Times,serif\" font-size=\"14.00\">EGAD</text>\n</g>\n<!-- EGA&#45;&gt;EGAD -->\n<g id=\"edge4\" class=\"edge\">\n<title>EGA&#45;&gt;EGAD</title>\n<path fill=\"none\" stroke=\"black\" d=\"M61.65,-260.8C59.19,-249.16 55.88,-233.55 53.06,-220.24\"/>\n<polygon fill=\"black\" stroke=\"black\" points=\"56.43,-219.23 50.93,-210.18 49.58,-220.68 56.43,-219.23\"/>\n<text text-anchor=\"middle\" x=\"63.3\" y=\"-231.8\" font-family=\"Times,serif\" font-size=\"14.00\">D</text>\n</g>\n<!-- EGADS -->\n<g id=\"node6\" class=\"node\">\n<title>EGADS</title>\n<ellipse fill=\"lightgrey\" stroke=\"lightgrey\" cx=\"40.3\" cy=\"-105\" rx=\"40.09\" ry=\"18\"/>\n<text text-anchor=\"middle\" x=\"40.3\" y=\"-101.3\" font-family=\"Times,serif\" font-size=\"14.00\">EGADS</text>\n</g>\n<!-- EGAD&#45;&gt;EGADS -->\n<g id=\"edge5\" class=\"edge\">\n<title>EGAD&#45;&gt;EGADS</title>\n<path fill=\"none\" stroke=\"black\" d=\"M45.88,-173.8C44.92,-162.16 43.64,-146.55 42.54,-133.24\"/>\n<polygon fill=\"black\" stroke=\"black\" points=\"46.02,-132.85 41.71,-123.18 39.04,-133.43 46.02,-132.85\"/>\n<text text-anchor=\"middle\" x=\"48.3\" y=\"-144.8\" font-family=\"Times,serif\" font-size=\"14.00\">S</text>\n</g>\n<!-- YI -->\n<g id=\"node8\" class=\"node\">\n<title>YI</title>\n<ellipse fill=\"none\" stroke=\"black\" cx=\"162.3\" cy=\"-366\" rx=\"27\" ry=\"18\"/>\n<text text-anchor=\"middle\" x=\"162.3\" y=\"-362.3\" font-family=\"Times,serif\" font-size=\"14.00\">YI</text>\n</g>\n<!-- Y&#45;&gt;YI -->\n<g id=\"edge7\" class=\"edge\">\n<title>Y&#45;&gt;YI</title>\n<path fill=\"none\" stroke=\"black\" d=\"M162.3,-434.8C162.3,-423.16 162.3,-407.55 162.3,-394.24\"/>\n<polygon fill=\"black\" stroke=\"black\" points=\"165.8,-394.18 162.3,-384.18 158.8,-394.18 165.8,-394.18\"/>\n<text text-anchor=\"middle\" x=\"164.8\" y=\"-405.8\" font-family=\"Times,serif\" font-size=\"14.00\">I</text>\n</g>\n<!-- YIK -->\n<g id=\"node9\" class=\"node\">\n<title>YIK</title>\n<ellipse fill=\"none\" stroke=\"black\" cx=\"142.3\" cy=\"-279\" rx=\"27\" ry=\"18\"/>\n<text text-anchor=\"middle\" x=\"142.3\" y=\"-275.3\" font-family=\"Times,serif\" font-size=\"14.00\">YIK</text>\n</g>\n<!-- YI&#45;&gt;YIK -->\n<g id=\"edge8\" class=\"edge\">\n<title>YI&#45;&gt;YIK</title>\n<path fill=\"none\" stroke=\"black\" d=\"M158.25,-347.8C155.49,-336.09 151.79,-320.34 148.64,-306.97\"/>\n<polygon fill=\"black\" stroke=\"black\" points=\"151.97,-305.82 146.27,-296.89 145.15,-307.42 151.97,-305.82\"/>\n<text text-anchor=\"middle\" x=\"159.3\" y=\"-318.8\" font-family=\"Times,serif\" font-size=\"14.00\">K</text>\n</g>\n<!-- YIP -->\n<g id=\"node12\" class=\"node\">\n<title>YIP</title>\n<ellipse fill=\"none\" stroke=\"black\" cx=\"218.3\" cy=\"-279\" rx=\"27\" ry=\"18\"/>\n<text text-anchor=\"middle\" x=\"218.3\" y=\"-275.3\" font-family=\"Times,serif\" font-size=\"14.00\">YIP</text>\n</g>\n<!-- YI&#45;&gt;YIP -->\n<g id=\"edge11\" class=\"edge\">\n<title>YI&#45;&gt;YIP</title>\n<path fill=\"none\" stroke=\"black\" d=\"M172.83,-349.01C181.12,-336.43 192.81,-318.68 202.27,-304.33\"/>\n<polygon fill=\"black\" stroke=\"black\" points=\"205.23,-306.19 207.81,-295.92 199.39,-302.34 205.23,-306.19\"/>\n<text text-anchor=\"middle\" x=\"198.3\" y=\"-318.8\" font-family=\"Times,serif\" font-size=\"14.00\">P</text>\n</g>\n<!-- YIKE -->\n<g id=\"node10\" class=\"node\">\n<title>YIKE</title>\n<ellipse fill=\"none\" stroke=\"black\" cx=\"137.3\" cy=\"-192\" rx=\"31.7\" ry=\"18\"/>\n<text text-anchor=\"middle\" x=\"137.3\" y=\"-188.3\" font-family=\"Times,serif\" font-size=\"14.00\">YIKE</text>\n</g>\n<!-- YIK&#45;&gt;YIKE -->\n<g id=\"edge9\" class=\"edge\">\n<title>YIK&#45;&gt;YIKE</title>\n<path fill=\"none\" stroke=\"black\" d=\"M141.28,-260.8C140.6,-249.16 139.68,-233.55 138.9,-220.24\"/>\n<polygon fill=\"black\" stroke=\"black\" points=\"142.39,-219.95 138.31,-210.18 135.4,-220.36 142.39,-219.95\"/>\n<text text-anchor=\"middle\" x=\"144.8\" y=\"-231.8\" font-family=\"Times,serif\" font-size=\"14.00\">E</text>\n</g>\n<!-- YIKES -->\n<g id=\"node11\" class=\"node\">\n<title>YIKES</title>\n<ellipse fill=\"lightgrey\" stroke=\"lightgrey\" cx=\"135.3\" cy=\"-105\" rx=\"36.29\" ry=\"18\"/>\n<text text-anchor=\"middle\" x=\"135.3\" y=\"-101.3\" font-family=\"Times,serif\" font-size=\"14.00\">YIKES</text>\n</g>\n<!-- YIKE&#45;&gt;YIKES -->\n<g id=\"edge10\" class=\"edge\">\n<title>YIKE&#45;&gt;YIKES</title>\n<path fill=\"none\" stroke=\"black\" d=\"M136.89,-173.8C136.62,-162.16 136.25,-146.55 135.94,-133.24\"/>\n<polygon fill=\"black\" stroke=\"black\" points=\"139.43,-133.09 135.7,-123.18 132.44,-133.26 139.43,-133.09\"/>\n<text text-anchor=\"middle\" x=\"141.3\" y=\"-144.8\" font-family=\"Times,serif\" font-size=\"14.00\">S</text>\n</g>\n<!-- YIPP -->\n<g id=\"node13\" class=\"node\">\n<title>YIPP</title>\n<ellipse fill=\"none\" stroke=\"black\" cx=\"221.3\" cy=\"-192\" rx=\"29.8\" ry=\"18\"/>\n<text text-anchor=\"middle\" x=\"221.3\" y=\"-188.3\" font-family=\"Times,serif\" font-size=\"14.00\">YIPP</text>\n</g>\n<!-- YIP&#45;&gt;YIPP -->\n<g id=\"edge12\" class=\"edge\">\n<title>YIP&#45;&gt;YIPP</title>\n<path fill=\"none\" stroke=\"black\" d=\"M218.9,-260.8C219.31,-249.16 219.87,-233.55 220.34,-220.24\"/>\n<polygon fill=\"black\" stroke=\"black\" points=\"223.84,-220.29 220.69,-210.18 216.84,-220.05 223.84,-220.29\"/>\n<text text-anchor=\"middle\" x=\"224.3\" y=\"-231.8\" font-family=\"Times,serif\" font-size=\"14.00\">P</text>\n</g>\n<!-- YIPPE -->\n<g id=\"node14\" class=\"node\">\n<title>YIPPE</title>\n<ellipse fill=\"none\" stroke=\"black\" cx=\"224.3\" cy=\"-105\" rx=\"35.19\" ry=\"18\"/>\n<text text-anchor=\"middle\" x=\"224.3\" y=\"-101.3\" font-family=\"Times,serif\" font-size=\"14.00\">YIPPE</text>\n</g>\n<!-- YIPP&#45;&gt;YIPPE -->\n<g id=\"edge13\" class=\"edge\">\n<title>YIPP&#45;&gt;YIPPE</title>\n<path fill=\"none\" stroke=\"black\" d=\"M221.9,-173.8C222.31,-162.16 222.87,-146.55 223.34,-133.24\"/>\n<polygon fill=\"black\" stroke=\"black\" points=\"226.84,-133.29 223.69,-123.18 219.84,-133.05 226.84,-133.29\"/>\n<text text-anchor=\"middle\" x=\"227.8\" y=\"-144.8\" font-family=\"Times,serif\" font-size=\"14.00\">E</text>\n</g>\n<!-- YIPPEE -->\n<g id=\"node15\" class=\"node\">\n<title>YIPPEE</title>\n<ellipse fill=\"lightgrey\" stroke=\"lightgrey\" cx=\"222.3\" cy=\"-18\" rx=\"40.09\" ry=\"18\"/>\n<text text-anchor=\"middle\" x=\"222.3\" y=\"-14.3\" font-family=\"Times,serif\" font-size=\"14.00\">YIPPEE</text>\n</g>\n<!-- YIPPE&#45;&gt;YIPPEE -->\n<g id=\"edge14\" class=\"edge\">\n<title>YIPPE&#45;&gt;YIPPEE</title>\n<path fill=\"none\" stroke=\"black\" d=\"M223.89,-86.8C223.62,-75.16 223.25,-59.55 222.94,-46.24\"/>\n<polygon fill=\"black\" stroke=\"black\" points=\"226.43,-46.09 222.7,-36.18 219.44,-46.26 226.43,-46.09\"/>\n<text text-anchor=\"middle\" x=\"228.8\" y=\"-57.8\" font-family=\"Times,serif\" font-size=\"14.00\">E</text>\n</g>\n<!-- ZO -->\n<g id=\"node17\" class=\"node\">\n<title>ZO</title>\n<ellipse fill=\"none\" stroke=\"black\" cx=\"260.3\" cy=\"-366\" rx=\"27\" ry=\"18\"/>\n<text text-anchor=\"middle\" x=\"260.3\" y=\"-362.3\" font-family=\"Times,serif\" font-size=\"14.00\">ZO</text>\n</g>\n<!-- Z&#45;&gt;ZO -->\n<g id=\"edge16\" class=\"edge\">\n<title>Z&#45;&gt;ZO</title>\n<path fill=\"none\" stroke=\"black\" d=\"M245.94,-434.8C248.42,-423.09 251.75,-407.34 254.58,-393.97\"/>\n<polygon fill=\"black\" stroke=\"black\" points=\"258.07,-394.39 256.72,-383.89 251.22,-392.94 258.07,-394.39\"/>\n<text text-anchor=\"middle\" x=\"258.3\" y=\"-405.8\" font-family=\"Times,serif\" font-size=\"14.00\">O</text>\n</g>\n<!-- ZOU -->\n<g id=\"node18\" class=\"node\">\n<title>ZOU</title>\n<ellipse fill=\"none\" stroke=\"black\" cx=\"298.3\" cy=\"-279\" rx=\"28.7\" ry=\"18\"/>\n<text text-anchor=\"middle\" x=\"298.3\" y=\"-275.3\" font-family=\"Times,serif\" font-size=\"14.00\">ZOU</text>\n</g>\n<!-- ZO&#45;&gt;ZOU -->\n<g id=\"edge17\" class=\"edge\">\n<title>ZO&#45;&gt;ZOU</title>\n<path fill=\"none\" stroke=\"black\" d=\"M267.62,-348.61C273,-336.58 280.42,-319.98 286.62,-306.13\"/>\n<polygon fill=\"black\" stroke=\"black\" points=\"289.98,-307.19 290.86,-296.63 283.59,-304.33 289.98,-307.19\"/>\n<text text-anchor=\"middle\" x=\"287.3\" y=\"-318.8\" font-family=\"Times,serif\" font-size=\"14.00\">U</text>\n</g>\n<!-- ZOUN -->\n<g id=\"node19\" class=\"node\">\n<title>ZOUN</title>\n<ellipse fill=\"none\" stroke=\"black\" cx=\"317.3\" cy=\"-192\" rx=\"35.19\" ry=\"18\"/>\n<text text-anchor=\"middle\" x=\"317.3\" y=\"-188.3\" font-family=\"Times,serif\" font-size=\"14.00\">ZOUN</text>\n</g>\n<!-- ZOU&#45;&gt;ZOUN -->\n<g id=\"edge18\" class=\"edge\">\n<title>ZOU&#45;&gt;ZOUN</title>\n<path fill=\"none\" stroke=\"black\" d=\"M302.14,-260.8C304.74,-249.16 308.23,-233.55 311.21,-220.24\"/>\n<polygon fill=\"black\" stroke=\"black\" points=\"314.69,-220.7 313.46,-210.18 307.86,-219.17 314.69,-220.7\"/>\n<text text-anchor=\"middle\" x=\"314.3\" y=\"-231.8\" font-family=\"Times,serif\" font-size=\"14.00\">N</text>\n</g>\n<!-- ZOUND -->\n<g id=\"node20\" class=\"node\">\n<title>ZOUND</title>\n<ellipse fill=\"none\" stroke=\"black\" cx=\"322.3\" cy=\"-105\" rx=\"41.69\" ry=\"18\"/>\n<text text-anchor=\"middle\" x=\"322.3\" y=\"-101.3\" font-family=\"Times,serif\" font-size=\"14.00\">ZOUND</text>\n</g>\n<!-- ZOUN&#45;&gt;ZOUND -->\n<g id=\"edge19\" class=\"edge\">\n<title>ZOUN&#45;&gt;ZOUND</title>\n<path fill=\"none\" stroke=\"black\" d=\"M318.31,-173.8C318.99,-162.16 319.91,-146.55 320.69,-133.24\"/>\n<polygon fill=\"black\" stroke=\"black\" points=\"324.19,-133.36 321.29,-123.18 317.2,-132.95 324.19,-133.36\"/>\n<text text-anchor=\"middle\" x=\"325.3\" y=\"-144.8\" font-family=\"Times,serif\" font-size=\"14.00\">D</text>\n</g>\n<!-- ZOUNDS -->\n<g id=\"node21\" class=\"node\">\n<title>ZOUNDS</title>\n<ellipse fill=\"lightgrey\" stroke=\"lightgrey\" cx=\"326.3\" cy=\"-18\" rx=\"46.29\" ry=\"18\"/>\n<text text-anchor=\"middle\" x=\"326.3\" y=\"-14.3\" font-family=\"Times,serif\" font-size=\"14.00\">ZOUNDS</text>\n</g>\n<!-- ZOUND&#45;&gt;ZOUNDS -->\n<g id=\"edge20\" class=\"edge\">\n<title>ZOUND&#45;&gt;ZOUNDS</title>\n<path fill=\"none\" stroke=\"black\" d=\"M323.11,-86.8C323.65,-75.16 324.39,-59.55 325.01,-46.24\"/>\n<polygon fill=\"black\" stroke=\"black\" points=\"328.51,-46.33 325.49,-36.18 321.52,-46 328.51,-46.33\"/>\n<text text-anchor=\"middle\" x=\"329.3\" y=\"-57.8\" font-family=\"Times,serif\" font-size=\"14.00\">S</text>\n</g>\n</g>\n</svg>\n",
            "text/plain": [
              "<graphviz.graphs.Digraph at 0x7d403df9b220>"
            ]
          },
          "metadata": {},
          "execution_count": 12
        }
      ]
    },
    {
      "cell_type": "code",
      "source": [
        "node = trie.TrieSearch('YIKES')\n",
        "if node:\n",
        "    print(node.value)\n",
        "node = trie.TrieSearch('ZONK')\n",
        "if not node:\n",
        "    print('ZONK not found')"
      ],
      "metadata": {
        "colab": {
          "base_uri": "https://localhost:8080/"
        },
        "id": "l3mUy7b09bXK",
        "outputId": "e2c204df-0fa2-4d81-f2b5-2fdffd51796c"
      },
      "execution_count": 13,
      "outputs": [
        {
          "output_type": "stream",
          "name": "stdout",
          "text": [
            "YIKES\n",
            "ZONK not found\n"
          ]
        }
      ]
    },
    {
      "cell_type": "code",
      "source": [
        "trie.TrieInsert('ZONK')\n",
        "trie.TrieInsert('YIP')\n",
        "visualize_trie(trie)"
      ],
      "metadata": {
        "colab": {
          "base_uri": "https://localhost:8080/",
          "height": 776
        },
        "id": "KU6x-_l8-bNZ",
        "outputId": "3e32f9f6-aec9-4a35-d207-0f8a422831f3"
      },
      "execution_count": 14,
      "outputs": [
        {
          "output_type": "execute_result",
          "data": {
            "image/svg+xml": "<?xml version=\"1.0\" encoding=\"UTF-8\" standalone=\"no\"?>\n<!DOCTYPE svg PUBLIC \"-//W3C//DTD SVG 1.1//EN\"\n \"http://www.w3.org/Graphics/SVG/1.1/DTD/svg11.dtd\">\n<!-- Generated by graphviz version 2.43.0 (0)\n -->\n<!-- Title: %3 Pages: 1 -->\n<svg width=\"440pt\" height=\"566pt\"\n viewBox=\"0.00 0.00 440.44 566.00\" xmlns=\"http://www.w3.org/2000/svg\" xmlns:xlink=\"http://www.w3.org/1999/xlink\">\n<g id=\"graph0\" class=\"graph\" transform=\"scale(1 1) rotate(0) translate(4 562)\">\n<title>%3</title>\n<polygon fill=\"white\" stroke=\"transparent\" points=\"-4,4 -4,-562 436.44,-562 436.44,4 -4,4\"/>\n<g id=\"node1\" class=\"node\">\n<title></title>\n<ellipse fill=\"none\" stroke=\"black\" cx=\"155.3\" cy=\"-540\" rx=\"27\" ry=\"18\"/>\n</g>\n<!-- E -->\n<g id=\"node2\" class=\"node\">\n<title>E</title>\n<ellipse fill=\"none\" stroke=\"black\" cx=\"83.3\" cy=\"-453\" rx=\"27\" ry=\"18\"/>\n<text text-anchor=\"middle\" x=\"83.3\" y=\"-449.3\" font-family=\"Times,serif\" font-size=\"14.00\">E</text>\n</g>\n<!-- &#45;&gt;E -->\n<g id=\"edge1\" class=\"edge\">\n<title>&#45;&gt;E</title>\n<path fill=\"none\" stroke=\"black\" d=\"M142.42,-523.8C131.37,-510.75 115.26,-491.74 102.65,-476.85\"/>\n<polygon fill=\"black\" stroke=\"black\" points=\"105.19,-474.43 96.06,-469.06 99.85,-478.96 105.19,-474.43\"/>\n<text text-anchor=\"middle\" x=\"128.8\" y=\"-492.8\" font-family=\"Times,serif\" font-size=\"14.00\">E</text>\n</g>\n<!-- Y -->\n<g id=\"node7\" class=\"node\">\n<title>Y</title>\n<ellipse fill=\"none\" stroke=\"black\" cx=\"155.3\" cy=\"-453\" rx=\"27\" ry=\"18\"/>\n<text text-anchor=\"middle\" x=\"155.3\" y=\"-449.3\" font-family=\"Times,serif\" font-size=\"14.00\">Y</text>\n</g>\n<!-- &#45;&gt;Y -->\n<g id=\"edge6\" class=\"edge\">\n<title>&#45;&gt;Y</title>\n<path fill=\"none\" stroke=\"black\" d=\"M155.3,-521.8C155.3,-510.16 155.3,-494.55 155.3,-481.24\"/>\n<polygon fill=\"black\" stroke=\"black\" points=\"158.8,-481.18 155.3,-471.18 151.8,-481.18 158.8,-481.18\"/>\n<text text-anchor=\"middle\" x=\"160.3\" y=\"-492.8\" font-family=\"Times,serif\" font-size=\"14.00\">Y</text>\n</g>\n<!-- Z -->\n<g id=\"node16\" class=\"node\">\n<title>Z</title>\n<ellipse fill=\"none\" stroke=\"black\" cx=\"272.3\" cy=\"-453\" rx=\"27\" ry=\"18\"/>\n<text text-anchor=\"middle\" x=\"272.3\" y=\"-449.3\" font-family=\"Times,serif\" font-size=\"14.00\">Z</text>\n</g>\n<!-- &#45;&gt;Z -->\n<g id=\"edge15\" class=\"edge\">\n<title>&#45;&gt;Z</title>\n<path fill=\"none\" stroke=\"black\" d=\"M172.81,-526.27C192.28,-512.13 223.93,-489.14 246.3,-472.89\"/>\n<polygon fill=\"black\" stroke=\"black\" points=\"248.63,-475.52 254.66,-466.81 244.51,-469.86 248.63,-475.52\"/>\n<text text-anchor=\"middle\" x=\"225.8\" y=\"-492.8\" font-family=\"Times,serif\" font-size=\"14.00\">Z</text>\n</g>\n<!-- EG -->\n<g id=\"node3\" class=\"node\">\n<title>EG</title>\n<ellipse fill=\"none\" stroke=\"black\" cx=\"83.3\" cy=\"-366\" rx=\"27\" ry=\"18\"/>\n<text text-anchor=\"middle\" x=\"83.3\" y=\"-362.3\" font-family=\"Times,serif\" font-size=\"14.00\">EG</text>\n</g>\n<!-- E&#45;&gt;EG -->\n<g id=\"edge2\" class=\"edge\">\n<title>E&#45;&gt;EG</title>\n<path fill=\"none\" stroke=\"black\" d=\"M83.3,-434.8C83.3,-423.16 83.3,-407.55 83.3,-394.24\"/>\n<polygon fill=\"black\" stroke=\"black\" points=\"86.8,-394.18 83.3,-384.18 79.8,-394.18 86.8,-394.18\"/>\n<text text-anchor=\"middle\" x=\"88.3\" y=\"-405.8\" font-family=\"Times,serif\" font-size=\"14.00\">G</text>\n</g>\n<!-- EGA -->\n<g id=\"node4\" class=\"node\">\n<title>EGA</title>\n<ellipse fill=\"none\" stroke=\"black\" cx=\"61.3\" cy=\"-279\" rx=\"28.7\" ry=\"18\"/>\n<text text-anchor=\"middle\" x=\"61.3\" y=\"-275.3\" font-family=\"Times,serif\" font-size=\"14.00\">EGA</text>\n</g>\n<!-- EG&#45;&gt;EGA -->\n<g id=\"edge3\" class=\"edge\">\n<title>EG&#45;&gt;EGA</title>\n<path fill=\"none\" stroke=\"black\" d=\"M78.95,-348.21C75.9,-336.41 71.75,-320.38 68.24,-306.82\"/>\n<polygon fill=\"black\" stroke=\"black\" points=\"71.6,-305.85 65.71,-297.05 64.83,-307.61 71.6,-305.85\"/>\n<text text-anchor=\"middle\" x=\"79.3\" y=\"-318.8\" font-family=\"Times,serif\" font-size=\"14.00\">A</text>\n</g>\n<!-- EGAD -->\n<g id=\"node5\" class=\"node\">\n<title>EGAD</title>\n<ellipse fill=\"none\" stroke=\"black\" cx=\"45.3\" cy=\"-192\" rx=\"35.19\" ry=\"18\"/>\n<text text-anchor=\"middle\" x=\"45.3\" y=\"-188.3\" font-family=\"Times,serif\" font-size=\"14.00\">EGAD</text>\n</g>\n<!-- EGA&#45;&gt;EGAD -->\n<g id=\"edge4\" class=\"edge\">\n<title>EGA&#45;&gt;EGAD</title>\n<path fill=\"none\" stroke=\"black\" d=\"M58.06,-260.8C55.87,-249.16 52.93,-233.55 50.42,-220.24\"/>\n<polygon fill=\"black\" stroke=\"black\" points=\"53.82,-219.36 48.53,-210.18 46.94,-220.65 53.82,-219.36\"/>\n<text text-anchor=\"middle\" x=\"59.3\" y=\"-231.8\" font-family=\"Times,serif\" font-size=\"14.00\">D</text>\n</g>\n<!-- EGADS -->\n<g id=\"node6\" class=\"node\">\n<title>EGADS</title>\n<ellipse fill=\"lightgrey\" stroke=\"lightgrey\" cx=\"40.3\" cy=\"-105\" rx=\"40.09\" ry=\"18\"/>\n<text text-anchor=\"middle\" x=\"40.3\" y=\"-101.3\" font-family=\"Times,serif\" font-size=\"14.00\">EGADS</text>\n</g>\n<!-- EGAD&#45;&gt;EGADS -->\n<g id=\"edge5\" class=\"edge\">\n<title>EGAD&#45;&gt;EGADS</title>\n<path fill=\"none\" stroke=\"black\" d=\"M44.28,-173.8C43.6,-162.16 42.68,-146.55 41.9,-133.24\"/>\n<polygon fill=\"black\" stroke=\"black\" points=\"45.39,-132.95 41.31,-123.18 38.4,-133.36 45.39,-132.95\"/>\n<text text-anchor=\"middle\" x=\"47.3\" y=\"-144.8\" font-family=\"Times,serif\" font-size=\"14.00\">S</text>\n</g>\n<!-- YI -->\n<g id=\"node8\" class=\"node\">\n<title>YI</title>\n<ellipse fill=\"none\" stroke=\"black\" cx=\"155.3\" cy=\"-366\" rx=\"27\" ry=\"18\"/>\n<text text-anchor=\"middle\" x=\"155.3\" y=\"-362.3\" font-family=\"Times,serif\" font-size=\"14.00\">YI</text>\n</g>\n<!-- Y&#45;&gt;YI -->\n<g id=\"edge7\" class=\"edge\">\n<title>Y&#45;&gt;YI</title>\n<path fill=\"none\" stroke=\"black\" d=\"M155.3,-434.8C155.3,-423.16 155.3,-407.55 155.3,-394.24\"/>\n<polygon fill=\"black\" stroke=\"black\" points=\"158.8,-394.18 155.3,-384.18 151.8,-394.18 158.8,-394.18\"/>\n<text text-anchor=\"middle\" x=\"157.8\" y=\"-405.8\" font-family=\"Times,serif\" font-size=\"14.00\">I</text>\n</g>\n<!-- YIK -->\n<g id=\"node9\" class=\"node\">\n<title>YIK</title>\n<ellipse fill=\"none\" stroke=\"black\" cx=\"138.3\" cy=\"-279\" rx=\"27\" ry=\"18\"/>\n<text text-anchor=\"middle\" x=\"138.3\" y=\"-275.3\" font-family=\"Times,serif\" font-size=\"14.00\">YIK</text>\n</g>\n<!-- YI&#45;&gt;YIK -->\n<g id=\"edge8\" class=\"edge\">\n<title>YI&#45;&gt;YIK</title>\n<path fill=\"none\" stroke=\"black\" d=\"M151.86,-347.8C149.51,-336.09 146.36,-320.34 143.69,-306.97\"/>\n<polygon fill=\"black\" stroke=\"black\" points=\"147.07,-306 141.67,-296.89 140.2,-307.38 147.07,-306\"/>\n<text text-anchor=\"middle\" x=\"153.3\" y=\"-318.8\" font-family=\"Times,serif\" font-size=\"14.00\">K</text>\n</g>\n<!-- YIP -->\n<g id=\"node12\" class=\"node\">\n<title>YIP</title>\n<ellipse fill=\"lightgrey\" stroke=\"lightgrey\" cx=\"211.3\" cy=\"-279\" rx=\"27\" ry=\"18\"/>\n<text text-anchor=\"middle\" x=\"211.3\" y=\"-275.3\" font-family=\"Times,serif\" font-size=\"14.00\">YIP</text>\n</g>\n<!-- YI&#45;&gt;YIP -->\n<g id=\"edge11\" class=\"edge\">\n<title>YI&#45;&gt;YIP</title>\n<path fill=\"none\" stroke=\"black\" d=\"M165.83,-349.01C174.12,-336.43 185.81,-318.68 195.27,-304.33\"/>\n<polygon fill=\"black\" stroke=\"black\" points=\"198.23,-306.19 200.81,-295.92 192.39,-302.34 198.23,-306.19\"/>\n<text text-anchor=\"middle\" x=\"191.3\" y=\"-318.8\" font-family=\"Times,serif\" font-size=\"14.00\">P</text>\n</g>\n<!-- YIKE -->\n<g id=\"node10\" class=\"node\">\n<title>YIKE</title>\n<ellipse fill=\"none\" stroke=\"black\" cx=\"135.3\" cy=\"-192\" rx=\"31.7\" ry=\"18\"/>\n<text text-anchor=\"middle\" x=\"135.3\" y=\"-188.3\" font-family=\"Times,serif\" font-size=\"14.00\">YIKE</text>\n</g>\n<!-- YIK&#45;&gt;YIKE -->\n<g id=\"edge9\" class=\"edge\">\n<title>YIK&#45;&gt;YIKE</title>\n<path fill=\"none\" stroke=\"black\" d=\"M137.69,-260.8C137.28,-249.16 136.73,-233.55 136.26,-220.24\"/>\n<polygon fill=\"black\" stroke=\"black\" points=\"139.75,-220.05 135.9,-210.18 132.76,-220.29 139.75,-220.05\"/>\n<text text-anchor=\"middle\" x=\"141.8\" y=\"-231.8\" font-family=\"Times,serif\" font-size=\"14.00\">E</text>\n</g>\n<!-- YIKES -->\n<g id=\"node11\" class=\"node\">\n<title>YIKES</title>\n<ellipse fill=\"lightgrey\" stroke=\"lightgrey\" cx=\"135.3\" cy=\"-105\" rx=\"36.29\" ry=\"18\"/>\n<text text-anchor=\"middle\" x=\"135.3\" y=\"-101.3\" font-family=\"Times,serif\" font-size=\"14.00\">YIKES</text>\n</g>\n<!-- YIKE&#45;&gt;YIKES -->\n<g id=\"edge10\" class=\"edge\">\n<title>YIKE&#45;&gt;YIKES</title>\n<path fill=\"none\" stroke=\"black\" d=\"M135.3,-173.8C135.3,-162.16 135.3,-146.55 135.3,-133.24\"/>\n<polygon fill=\"black\" stroke=\"black\" points=\"138.8,-133.18 135.3,-123.18 131.8,-133.18 138.8,-133.18\"/>\n<text text-anchor=\"middle\" x=\"139.3\" y=\"-144.8\" font-family=\"Times,serif\" font-size=\"14.00\">S</text>\n</g>\n<!-- YIPP -->\n<g id=\"node13\" class=\"node\">\n<title>YIPP</title>\n<ellipse fill=\"none\" stroke=\"black\" cx=\"215.3\" cy=\"-192\" rx=\"29.8\" ry=\"18\"/>\n<text text-anchor=\"middle\" x=\"215.3\" y=\"-188.3\" font-family=\"Times,serif\" font-size=\"14.00\">YIPP</text>\n</g>\n<!-- YIP&#45;&gt;YIPP -->\n<g id=\"edge12\" class=\"edge\">\n<title>YIP&#45;&gt;YIPP</title>\n<path fill=\"none\" stroke=\"black\" d=\"M212.11,-260.8C212.65,-249.16 213.39,-233.55 214.01,-220.24\"/>\n<polygon fill=\"black\" stroke=\"black\" points=\"217.51,-220.33 214.49,-210.18 210.52,-220 217.51,-220.33\"/>\n<text text-anchor=\"middle\" x=\"218.3\" y=\"-231.8\" font-family=\"Times,serif\" font-size=\"14.00\">P</text>\n</g>\n<!-- YIPPE -->\n<g id=\"node14\" class=\"node\">\n<title>YIPPE</title>\n<ellipse fill=\"none\" stroke=\"black\" cx=\"224.3\" cy=\"-105\" rx=\"35.19\" ry=\"18\"/>\n<text text-anchor=\"middle\" x=\"224.3\" y=\"-101.3\" font-family=\"Times,serif\" font-size=\"14.00\">YIPPE</text>\n</g>\n<!-- YIPP&#45;&gt;YIPPE -->\n<g id=\"edge13\" class=\"edge\">\n<title>YIPP&#45;&gt;YIPPE</title>\n<path fill=\"none\" stroke=\"black\" d=\"M217.12,-173.8C218.35,-162.16 220,-146.55 221.41,-133.24\"/>\n<polygon fill=\"black\" stroke=\"black\" points=\"224.91,-133.49 222.48,-123.18 217.94,-132.75 224.91,-133.49\"/>\n<text text-anchor=\"middle\" x=\"225.8\" y=\"-144.8\" font-family=\"Times,serif\" font-size=\"14.00\">E</text>\n</g>\n<!-- YIPPEE -->\n<g id=\"node15\" class=\"node\">\n<title>YIPPEE</title>\n<ellipse fill=\"lightgrey\" stroke=\"lightgrey\" cx=\"224.3\" cy=\"-18\" rx=\"40.09\" ry=\"18\"/>\n<text text-anchor=\"middle\" x=\"224.3\" y=\"-14.3\" font-family=\"Times,serif\" font-size=\"14.00\">YIPPEE</text>\n</g>\n<!-- YIPPE&#45;&gt;YIPPEE -->\n<g id=\"edge14\" class=\"edge\">\n<title>YIPPE&#45;&gt;YIPPEE</title>\n<path fill=\"none\" stroke=\"black\" d=\"M224.3,-86.8C224.3,-75.16 224.3,-59.55 224.3,-46.24\"/>\n<polygon fill=\"black\" stroke=\"black\" points=\"227.8,-46.18 224.3,-36.18 220.8,-46.18 227.8,-46.18\"/>\n<text text-anchor=\"middle\" x=\"228.8\" y=\"-57.8\" font-family=\"Times,serif\" font-size=\"14.00\">E</text>\n</g>\n<!-- ZO -->\n<g id=\"node17\" class=\"node\">\n<title>ZO</title>\n<ellipse fill=\"none\" stroke=\"black\" cx=\"298.3\" cy=\"-366\" rx=\"27\" ry=\"18\"/>\n<text text-anchor=\"middle\" x=\"298.3\" y=\"-362.3\" font-family=\"Times,serif\" font-size=\"14.00\">ZO</text>\n</g>\n<!-- Z&#45;&gt;ZO -->\n<g id=\"edge16\" class=\"edge\">\n<title>Z&#45;&gt;ZO</title>\n<path fill=\"none\" stroke=\"black\" d=\"M277.43,-435.21C281.07,-423.33 286.01,-407.17 290.17,-393.56\"/>\n<polygon fill=\"black\" stroke=\"black\" points=\"293.59,-394.34 293.17,-383.76 286.9,-392.3 293.59,-394.34\"/>\n<text text-anchor=\"middle\" x=\"292.3\" y=\"-405.8\" font-family=\"Times,serif\" font-size=\"14.00\">O</text>\n</g>\n<!-- ZON -->\n<g id=\"node18\" class=\"node\">\n<title>ZON</title>\n<ellipse fill=\"none\" stroke=\"black\" cx=\"298.3\" cy=\"-279\" rx=\"28.7\" ry=\"18\"/>\n<text text-anchor=\"middle\" x=\"298.3\" y=\"-275.3\" font-family=\"Times,serif\" font-size=\"14.00\">ZON</text>\n</g>\n<!-- ZO&#45;&gt;ZON -->\n<g id=\"edge17\" class=\"edge\">\n<title>ZO&#45;&gt;ZON</title>\n<path fill=\"none\" stroke=\"black\" d=\"M298.3,-347.8C298.3,-336.16 298.3,-320.55 298.3,-307.24\"/>\n<polygon fill=\"black\" stroke=\"black\" points=\"301.8,-307.18 298.3,-297.18 294.8,-307.18 301.8,-307.18\"/>\n<text text-anchor=\"middle\" x=\"303.3\" y=\"-318.8\" font-family=\"Times,serif\" font-size=\"14.00\">N</text>\n</g>\n<!-- ZOU -->\n<g id=\"node20\" class=\"node\">\n<title>ZOU</title>\n<ellipse fill=\"none\" stroke=\"black\" cx=\"379.3\" cy=\"-279\" rx=\"28.7\" ry=\"18\"/>\n<text text-anchor=\"middle\" x=\"379.3\" y=\"-275.3\" font-family=\"Times,serif\" font-size=\"14.00\">ZOU</text>\n</g>\n<!-- ZO&#45;&gt;ZOU -->\n<g id=\"edge19\" class=\"edge\">\n<title>ZO&#45;&gt;ZOU</title>\n<path fill=\"none\" stroke=\"black\" d=\"M312.41,-350.19C324.99,-336.99 343.59,-317.47 357.99,-302.36\"/>\n<polygon fill=\"black\" stroke=\"black\" points=\"360.71,-304.58 365.08,-294.92 355.64,-299.75 360.71,-304.58\"/>\n<text text-anchor=\"middle\" x=\"349.3\" y=\"-318.8\" font-family=\"Times,serif\" font-size=\"14.00\">U</text>\n</g>\n<!-- ZONK -->\n<g id=\"node19\" class=\"node\">\n<title>ZONK</title>\n<ellipse fill=\"lightgrey\" stroke=\"lightgrey\" cx=\"298.3\" cy=\"-192\" rx=\"35.19\" ry=\"18\"/>\n<text text-anchor=\"middle\" x=\"298.3\" y=\"-188.3\" font-family=\"Times,serif\" font-size=\"14.00\">ZONK</text>\n</g>\n<!-- ZON&#45;&gt;ZONK -->\n<g id=\"edge18\" class=\"edge\">\n<title>ZON&#45;&gt;ZONK</title>\n<path fill=\"none\" stroke=\"black\" d=\"M298.3,-260.8C298.3,-249.16 298.3,-233.55 298.3,-220.24\"/>\n<polygon fill=\"black\" stroke=\"black\" points=\"301.8,-220.18 298.3,-210.18 294.8,-220.18 301.8,-220.18\"/>\n<text text-anchor=\"middle\" x=\"303.3\" y=\"-231.8\" font-family=\"Times,serif\" font-size=\"14.00\">K</text>\n</g>\n<!-- ZOUN -->\n<g id=\"node21\" class=\"node\">\n<title>ZOUN</title>\n<ellipse fill=\"none\" stroke=\"black\" cx=\"386.3\" cy=\"-192\" rx=\"35.19\" ry=\"18\"/>\n<text text-anchor=\"middle\" x=\"386.3\" y=\"-188.3\" font-family=\"Times,serif\" font-size=\"14.00\">ZOUN</text>\n</g>\n<!-- ZOU&#45;&gt;ZOUN -->\n<g id=\"edge20\" class=\"edge\">\n<title>ZOU&#45;&gt;ZOUN</title>\n<path fill=\"none\" stroke=\"black\" d=\"M380.71,-260.8C381.67,-249.16 382.96,-233.55 384.05,-220.24\"/>\n<polygon fill=\"black\" stroke=\"black\" points=\"387.55,-220.43 384.88,-210.18 380.57,-219.85 387.55,-220.43\"/>\n<text text-anchor=\"middle\" x=\"388.3\" y=\"-231.8\" font-family=\"Times,serif\" font-size=\"14.00\">N</text>\n</g>\n<!-- ZOUND -->\n<g id=\"node22\" class=\"node\">\n<title>ZOUND</title>\n<ellipse fill=\"none\" stroke=\"black\" cx=\"386.3\" cy=\"-105\" rx=\"41.69\" ry=\"18\"/>\n<text text-anchor=\"middle\" x=\"386.3\" y=\"-101.3\" font-family=\"Times,serif\" font-size=\"14.00\">ZOUND</text>\n</g>\n<!-- ZOUN&#45;&gt;ZOUND -->\n<g id=\"edge21\" class=\"edge\">\n<title>ZOUN&#45;&gt;ZOUND</title>\n<path fill=\"none\" stroke=\"black\" d=\"M386.3,-173.8C386.3,-162.16 386.3,-146.55 386.3,-133.24\"/>\n<polygon fill=\"black\" stroke=\"black\" points=\"389.8,-133.18 386.3,-123.18 382.8,-133.18 389.8,-133.18\"/>\n<text text-anchor=\"middle\" x=\"391.3\" y=\"-144.8\" font-family=\"Times,serif\" font-size=\"14.00\">D</text>\n</g>\n<!-- ZOUNDS -->\n<g id=\"node23\" class=\"node\">\n<title>ZOUNDS</title>\n<ellipse fill=\"lightgrey\" stroke=\"lightgrey\" cx=\"386.3\" cy=\"-18\" rx=\"46.29\" ry=\"18\"/>\n<text text-anchor=\"middle\" x=\"386.3\" y=\"-14.3\" font-family=\"Times,serif\" font-size=\"14.00\">ZOUNDS</text>\n</g>\n<!-- ZOUND&#45;&gt;ZOUNDS -->\n<g id=\"edge22\" class=\"edge\">\n<title>ZOUND&#45;&gt;ZOUNDS</title>\n<path fill=\"none\" stroke=\"black\" d=\"M386.3,-86.8C386.3,-75.16 386.3,-59.55 386.3,-46.24\"/>\n<polygon fill=\"black\" stroke=\"black\" points=\"389.8,-46.18 386.3,-36.18 382.8,-46.18 389.8,-46.18\"/>\n<text text-anchor=\"middle\" x=\"390.3\" y=\"-57.8\" font-family=\"Times,serif\" font-size=\"14.00\">S</text>\n</g>\n</g>\n</svg>\n",
            "text/plain": [
              "<graphviz.graphs.Digraph at 0x7d403df99b10>"
            ]
          },
          "metadata": {},
          "execution_count": 14
        }
      ]
    },
    {
      "cell_type": "code",
      "source": [
        "trie.TrieDelete('YIPPEE')\n",
        "visualize_trie(trie)"
      ],
      "metadata": {
        "colab": {
          "base_uri": "https://localhost:8080/",
          "height": 776
        },
        "id": "cCsTsxlu-nGy",
        "outputId": "030ede95-d560-4488-f527-466658838dad"
      },
      "execution_count": 15,
      "outputs": [
        {
          "output_type": "execute_result",
          "data": {
            "image/svg+xml": "<?xml version=\"1.0\" encoding=\"UTF-8\" standalone=\"no\"?>\n<!DOCTYPE svg PUBLIC \"-//W3C//DTD SVG 1.1//EN\"\n \"http://www.w3.org/Graphics/SVG/1.1/DTD/svg11.dtd\">\n<!-- Generated by graphviz version 2.43.0 (0)\n -->\n<!-- Title: %3 Pages: 1 -->\n<svg width=\"419pt\" height=\"566pt\"\n viewBox=\"0.00 0.00 419.44 566.00\" xmlns=\"http://www.w3.org/2000/svg\" xmlns:xlink=\"http://www.w3.org/1999/xlink\">\n<g id=\"graph0\" class=\"graph\" transform=\"scale(1 1) rotate(0) translate(4 562)\">\n<title>%3</title>\n<polygon fill=\"white\" stroke=\"transparent\" points=\"-4,4 -4,-562 415.44,-562 415.44,4 -4,4\"/>\n<g id=\"node1\" class=\"node\">\n<title></title>\n<ellipse fill=\"none\" stroke=\"black\" cx=\"156.3\" cy=\"-540\" rx=\"27\" ry=\"18\"/>\n</g>\n<!-- E -->\n<g id=\"node2\" class=\"node\">\n<title>E</title>\n<ellipse fill=\"none\" stroke=\"black\" cx=\"84.3\" cy=\"-453\" rx=\"27\" ry=\"18\"/>\n<text text-anchor=\"middle\" x=\"84.3\" y=\"-449.3\" font-family=\"Times,serif\" font-size=\"14.00\">E</text>\n</g>\n<!-- &#45;&gt;E -->\n<g id=\"edge1\" class=\"edge\">\n<title>&#45;&gt;E</title>\n<path fill=\"none\" stroke=\"black\" d=\"M143.42,-523.8C132.37,-510.75 116.26,-491.74 103.65,-476.85\"/>\n<polygon fill=\"black\" stroke=\"black\" points=\"106.19,-474.43 97.06,-469.06 100.85,-478.96 106.19,-474.43\"/>\n<text text-anchor=\"middle\" x=\"129.8\" y=\"-492.8\" font-family=\"Times,serif\" font-size=\"14.00\">E</text>\n</g>\n<!-- Y -->\n<g id=\"node7\" class=\"node\">\n<title>Y</title>\n<ellipse fill=\"none\" stroke=\"black\" cx=\"156.3\" cy=\"-453\" rx=\"27\" ry=\"18\"/>\n<text text-anchor=\"middle\" x=\"156.3\" y=\"-449.3\" font-family=\"Times,serif\" font-size=\"14.00\">Y</text>\n</g>\n<!-- &#45;&gt;Y -->\n<g id=\"edge6\" class=\"edge\">\n<title>&#45;&gt;Y</title>\n<path fill=\"none\" stroke=\"black\" d=\"M156.3,-521.8C156.3,-510.16 156.3,-494.55 156.3,-481.24\"/>\n<polygon fill=\"black\" stroke=\"black\" points=\"159.8,-481.18 156.3,-471.18 152.8,-481.18 159.8,-481.18\"/>\n<text text-anchor=\"middle\" x=\"161.3\" y=\"-492.8\" font-family=\"Times,serif\" font-size=\"14.00\">Y</text>\n</g>\n<!-- Z -->\n<g id=\"node13\" class=\"node\">\n<title>Z</title>\n<ellipse fill=\"none\" stroke=\"black\" cx=\"265.3\" cy=\"-453\" rx=\"27\" ry=\"18\"/>\n<text text-anchor=\"middle\" x=\"265.3\" y=\"-449.3\" font-family=\"Times,serif\" font-size=\"14.00\">Z</text>\n</g>\n<!-- &#45;&gt;Z -->\n<g id=\"edge12\" class=\"edge\">\n<title>&#45;&gt;Z</title>\n<path fill=\"none\" stroke=\"black\" d=\"M173.33,-525.72C191.33,-511.68 219.89,-489.41 240.41,-473.41\"/>\n<polygon fill=\"black\" stroke=\"black\" points=\"242.65,-476.1 248.38,-467.19 238.35,-470.58 242.65,-476.1\"/>\n<text text-anchor=\"middle\" x=\"222.8\" y=\"-492.8\" font-family=\"Times,serif\" font-size=\"14.00\">Z</text>\n</g>\n<!-- EG -->\n<g id=\"node3\" class=\"node\">\n<title>EG</title>\n<ellipse fill=\"none\" stroke=\"black\" cx=\"84.3\" cy=\"-366\" rx=\"27\" ry=\"18\"/>\n<text text-anchor=\"middle\" x=\"84.3\" y=\"-362.3\" font-family=\"Times,serif\" font-size=\"14.00\">EG</text>\n</g>\n<!-- E&#45;&gt;EG -->\n<g id=\"edge2\" class=\"edge\">\n<title>E&#45;&gt;EG</title>\n<path fill=\"none\" stroke=\"black\" d=\"M84.3,-434.8C84.3,-423.16 84.3,-407.55 84.3,-394.24\"/>\n<polygon fill=\"black\" stroke=\"black\" points=\"87.8,-394.18 84.3,-384.18 80.8,-394.18 87.8,-394.18\"/>\n<text text-anchor=\"middle\" x=\"89.3\" y=\"-405.8\" font-family=\"Times,serif\" font-size=\"14.00\">G</text>\n</g>\n<!-- EGA -->\n<g id=\"node4\" class=\"node\">\n<title>EGA</title>\n<ellipse fill=\"none\" stroke=\"black\" cx=\"57.3\" cy=\"-279\" rx=\"28.7\" ry=\"18\"/>\n<text text-anchor=\"middle\" x=\"57.3\" y=\"-275.3\" font-family=\"Times,serif\" font-size=\"14.00\">EGA</text>\n</g>\n<!-- EG&#45;&gt;EGA -->\n<g id=\"edge3\" class=\"edge\">\n<title>EG&#45;&gt;EGA</title>\n<path fill=\"none\" stroke=\"black\" d=\"M78.96,-348.21C75.19,-336.33 70.06,-320.17 65.73,-306.56\"/>\n<polygon fill=\"black\" stroke=\"black\" points=\"68.98,-305.23 62.62,-296.76 62.31,-307.35 68.98,-305.23\"/>\n<text text-anchor=\"middle\" x=\"78.3\" y=\"-318.8\" font-family=\"Times,serif\" font-size=\"14.00\">A</text>\n</g>\n<!-- EGAD -->\n<g id=\"node5\" class=\"node\">\n<title>EGAD</title>\n<ellipse fill=\"none\" stroke=\"black\" cx=\"45.3\" cy=\"-192\" rx=\"35.19\" ry=\"18\"/>\n<text text-anchor=\"middle\" x=\"45.3\" y=\"-188.3\" font-family=\"Times,serif\" font-size=\"14.00\">EGAD</text>\n</g>\n<!-- EGA&#45;&gt;EGAD -->\n<g id=\"edge4\" class=\"edge\">\n<title>EGA&#45;&gt;EGAD</title>\n<path fill=\"none\" stroke=\"black\" d=\"M54.87,-260.8C53.23,-249.16 51.02,-233.55 49.14,-220.24\"/>\n<polygon fill=\"black\" stroke=\"black\" points=\"52.58,-219.59 47.72,-210.18 45.65,-220.57 52.58,-219.59\"/>\n<text text-anchor=\"middle\" x=\"57.3\" y=\"-231.8\" font-family=\"Times,serif\" font-size=\"14.00\">D</text>\n</g>\n<!-- EGADS -->\n<g id=\"node6\" class=\"node\">\n<title>EGADS</title>\n<ellipse fill=\"lightgrey\" stroke=\"lightgrey\" cx=\"40.3\" cy=\"-105\" rx=\"40.09\" ry=\"18\"/>\n<text text-anchor=\"middle\" x=\"40.3\" y=\"-101.3\" font-family=\"Times,serif\" font-size=\"14.00\">EGADS</text>\n</g>\n<!-- EGAD&#45;&gt;EGADS -->\n<g id=\"edge5\" class=\"edge\">\n<title>EGAD&#45;&gt;EGADS</title>\n<path fill=\"none\" stroke=\"black\" d=\"M44.28,-173.8C43.6,-162.16 42.68,-146.55 41.9,-133.24\"/>\n<polygon fill=\"black\" stroke=\"black\" points=\"45.39,-132.95 41.31,-123.18 38.4,-133.36 45.39,-132.95\"/>\n<text text-anchor=\"middle\" x=\"47.3\" y=\"-144.8\" font-family=\"Times,serif\" font-size=\"14.00\">S</text>\n</g>\n<!-- YI -->\n<g id=\"node8\" class=\"node\">\n<title>YI</title>\n<ellipse fill=\"none\" stroke=\"black\" cx=\"156.3\" cy=\"-366\" rx=\"27\" ry=\"18\"/>\n<text text-anchor=\"middle\" x=\"156.3\" y=\"-362.3\" font-family=\"Times,serif\" font-size=\"14.00\">YI</text>\n</g>\n<!-- Y&#45;&gt;YI -->\n<g id=\"edge7\" class=\"edge\">\n<title>Y&#45;&gt;YI</title>\n<path fill=\"none\" stroke=\"black\" d=\"M156.3,-434.8C156.3,-423.16 156.3,-407.55 156.3,-394.24\"/>\n<polygon fill=\"black\" stroke=\"black\" points=\"159.8,-394.18 156.3,-384.18 152.8,-394.18 159.8,-394.18\"/>\n<text text-anchor=\"middle\" x=\"158.8\" y=\"-405.8\" font-family=\"Times,serif\" font-size=\"14.00\">I</text>\n</g>\n<!-- YIK -->\n<g id=\"node9\" class=\"node\">\n<title>YIK</title>\n<ellipse fill=\"none\" stroke=\"black\" cx=\"133.3\" cy=\"-279\" rx=\"27\" ry=\"18\"/>\n<text text-anchor=\"middle\" x=\"133.3\" y=\"-275.3\" font-family=\"Times,serif\" font-size=\"14.00\">YIK</text>\n</g>\n<!-- YI&#45;&gt;YIK -->\n<g id=\"edge8\" class=\"edge\">\n<title>YI&#45;&gt;YIK</title>\n<path fill=\"none\" stroke=\"black\" d=\"M151.75,-348.21C148.54,-336.33 144.17,-320.17 140.48,-306.56\"/>\n<polygon fill=\"black\" stroke=\"black\" points=\"143.82,-305.5 137.83,-296.76 137.06,-307.33 143.82,-305.5\"/>\n<text text-anchor=\"middle\" x=\"151.3\" y=\"-318.8\" font-family=\"Times,serif\" font-size=\"14.00\">K</text>\n</g>\n<!-- YIP -->\n<g id=\"node12\" class=\"node\">\n<title>YIP</title>\n<ellipse fill=\"lightgrey\" stroke=\"lightgrey\" cx=\"205.3\" cy=\"-279\" rx=\"27\" ry=\"18\"/>\n<text text-anchor=\"middle\" x=\"205.3\" y=\"-275.3\" font-family=\"Times,serif\" font-size=\"14.00\">YIP</text>\n</g>\n<!-- YI&#45;&gt;YIP -->\n<g id=\"edge11\" class=\"edge\">\n<title>YI&#45;&gt;YIP</title>\n<path fill=\"none\" stroke=\"black\" d=\"M165.51,-349.01C172.65,-336.63 182.68,-319.23 190.88,-305.01\"/>\n<polygon fill=\"black\" stroke=\"black\" points=\"193.99,-306.62 195.95,-296.21 187.93,-303.12 193.99,-306.62\"/>\n<text text-anchor=\"middle\" x=\"188.3\" y=\"-318.8\" font-family=\"Times,serif\" font-size=\"14.00\">P</text>\n</g>\n<!-- YIKE -->\n<g id=\"node10\" class=\"node\">\n<title>YIKE</title>\n<ellipse fill=\"none\" stroke=\"black\" cx=\"134.3\" cy=\"-192\" rx=\"31.7\" ry=\"18\"/>\n<text text-anchor=\"middle\" x=\"134.3\" y=\"-188.3\" font-family=\"Times,serif\" font-size=\"14.00\">YIKE</text>\n</g>\n<!-- YIK&#45;&gt;YIKE -->\n<g id=\"edge9\" class=\"edge\">\n<title>YIK&#45;&gt;YIKE</title>\n<path fill=\"none\" stroke=\"black\" d=\"M133.5,-260.8C133.64,-249.16 133.82,-233.55 133.98,-220.24\"/>\n<polygon fill=\"black\" stroke=\"black\" points=\"137.48,-220.22 134.09,-210.18 130.48,-220.13 137.48,-220.22\"/>\n<text text-anchor=\"middle\" x=\"138.8\" y=\"-231.8\" font-family=\"Times,serif\" font-size=\"14.00\">E</text>\n</g>\n<!-- YIKES -->\n<g id=\"node11\" class=\"node\">\n<title>YIKES</title>\n<ellipse fill=\"lightgrey\" stroke=\"lightgrey\" cx=\"135.3\" cy=\"-105\" rx=\"36.29\" ry=\"18\"/>\n<text text-anchor=\"middle\" x=\"135.3\" y=\"-101.3\" font-family=\"Times,serif\" font-size=\"14.00\">YIKES</text>\n</g>\n<!-- YIKE&#45;&gt;YIKES -->\n<g id=\"edge10\" class=\"edge\">\n<title>YIKE&#45;&gt;YIKES</title>\n<path fill=\"none\" stroke=\"black\" d=\"M134.5,-173.8C134.64,-162.16 134.82,-146.55 134.98,-133.24\"/>\n<polygon fill=\"black\" stroke=\"black\" points=\"138.48,-133.22 135.09,-123.18 131.48,-133.13 138.48,-133.22\"/>\n<text text-anchor=\"middle\" x=\"139.3\" y=\"-144.8\" font-family=\"Times,serif\" font-size=\"14.00\">S</text>\n</g>\n<!-- ZO -->\n<g id=\"node14\" class=\"node\">\n<title>ZO</title>\n<ellipse fill=\"none\" stroke=\"black\" cx=\"279.3\" cy=\"-366\" rx=\"27\" ry=\"18\"/>\n<text text-anchor=\"middle\" x=\"279.3\" y=\"-362.3\" font-family=\"Times,serif\" font-size=\"14.00\">ZO</text>\n</g>\n<!-- Z&#45;&gt;ZO -->\n<g id=\"edge13\" class=\"edge\">\n<title>Z&#45;&gt;ZO</title>\n<path fill=\"none\" stroke=\"black\" d=\"M268.13,-434.8C270.05,-423.16 272.62,-407.55 274.81,-394.24\"/>\n<polygon fill=\"black\" stroke=\"black\" points=\"278.3,-394.61 276.47,-384.18 271.39,-393.47 278.3,-394.61\"/>\n<text text-anchor=\"middle\" x=\"277.3\" y=\"-405.8\" font-family=\"Times,serif\" font-size=\"14.00\">O</text>\n</g>\n<!-- ZON -->\n<g id=\"node15\" class=\"node\">\n<title>ZON</title>\n<ellipse fill=\"none\" stroke=\"black\" cx=\"279.3\" cy=\"-279\" rx=\"28.7\" ry=\"18\"/>\n<text text-anchor=\"middle\" x=\"279.3\" y=\"-275.3\" font-family=\"Times,serif\" font-size=\"14.00\">ZON</text>\n</g>\n<!-- ZO&#45;&gt;ZON -->\n<g id=\"edge14\" class=\"edge\">\n<title>ZO&#45;&gt;ZON</title>\n<path fill=\"none\" stroke=\"black\" d=\"M279.3,-347.8C279.3,-336.16 279.3,-320.55 279.3,-307.24\"/>\n<polygon fill=\"black\" stroke=\"black\" points=\"282.8,-307.18 279.3,-297.18 275.8,-307.18 282.8,-307.18\"/>\n<text text-anchor=\"middle\" x=\"284.3\" y=\"-318.8\" font-family=\"Times,serif\" font-size=\"14.00\">N</text>\n</g>\n<!-- ZOU -->\n<g id=\"node17\" class=\"node\">\n<title>ZOU</title>\n<ellipse fill=\"none\" stroke=\"black\" cx=\"360.3\" cy=\"-279\" rx=\"28.7\" ry=\"18\"/>\n<text text-anchor=\"middle\" x=\"360.3\" y=\"-275.3\" font-family=\"Times,serif\" font-size=\"14.00\">ZOU</text>\n</g>\n<!-- ZO&#45;&gt;ZOU -->\n<g id=\"edge16\" class=\"edge\">\n<title>ZO&#45;&gt;ZOU</title>\n<path fill=\"none\" stroke=\"black\" d=\"M293.41,-350.19C305.99,-336.99 324.59,-317.47 338.99,-302.36\"/>\n<polygon fill=\"black\" stroke=\"black\" points=\"341.71,-304.58 346.08,-294.92 336.64,-299.75 341.71,-304.58\"/>\n<text text-anchor=\"middle\" x=\"329.3\" y=\"-318.8\" font-family=\"Times,serif\" font-size=\"14.00\">U</text>\n</g>\n<!-- ZONK -->\n<g id=\"node16\" class=\"node\">\n<title>ZONK</title>\n<ellipse fill=\"lightgrey\" stroke=\"lightgrey\" cx=\"277.3\" cy=\"-192\" rx=\"35.19\" ry=\"18\"/>\n<text text-anchor=\"middle\" x=\"277.3\" y=\"-188.3\" font-family=\"Times,serif\" font-size=\"14.00\">ZONK</text>\n</g>\n<!-- ZON&#45;&gt;ZONK -->\n<g id=\"edge15\" class=\"edge\">\n<title>ZON&#45;&gt;ZONK</title>\n<path fill=\"none\" stroke=\"black\" d=\"M278.89,-260.8C278.62,-249.16 278.25,-233.55 277.94,-220.24\"/>\n<polygon fill=\"black\" stroke=\"black\" points=\"281.43,-220.09 277.7,-210.18 274.44,-220.26 281.43,-220.09\"/>\n<text text-anchor=\"middle\" x=\"283.3\" y=\"-231.8\" font-family=\"Times,serif\" font-size=\"14.00\">K</text>\n</g>\n<!-- ZOUN -->\n<g id=\"node18\" class=\"node\">\n<title>ZOUN</title>\n<ellipse fill=\"none\" stroke=\"black\" cx=\"365.3\" cy=\"-192\" rx=\"35.19\" ry=\"18\"/>\n<text text-anchor=\"middle\" x=\"365.3\" y=\"-188.3\" font-family=\"Times,serif\" font-size=\"14.00\">ZOUN</text>\n</g>\n<!-- ZOU&#45;&gt;ZOUN -->\n<g id=\"edge17\" class=\"edge\">\n<title>ZOU&#45;&gt;ZOUN</title>\n<path fill=\"none\" stroke=\"black\" d=\"M361.31,-260.8C361.99,-249.16 362.91,-233.55 363.69,-220.24\"/>\n<polygon fill=\"black\" stroke=\"black\" points=\"367.19,-220.36 364.29,-210.18 360.2,-219.95 367.19,-220.36\"/>\n<text text-anchor=\"middle\" x=\"367.3\" y=\"-231.8\" font-family=\"Times,serif\" font-size=\"14.00\">N</text>\n</g>\n<!-- ZOUND -->\n<g id=\"node19\" class=\"node\">\n<title>ZOUND</title>\n<ellipse fill=\"none\" stroke=\"black\" cx=\"365.3\" cy=\"-105\" rx=\"41.69\" ry=\"18\"/>\n<text text-anchor=\"middle\" x=\"365.3\" y=\"-101.3\" font-family=\"Times,serif\" font-size=\"14.00\">ZOUND</text>\n</g>\n<!-- ZOUN&#45;&gt;ZOUND -->\n<g id=\"edge18\" class=\"edge\">\n<title>ZOUN&#45;&gt;ZOUND</title>\n<path fill=\"none\" stroke=\"black\" d=\"M365.3,-173.8C365.3,-162.16 365.3,-146.55 365.3,-133.24\"/>\n<polygon fill=\"black\" stroke=\"black\" points=\"368.8,-133.18 365.3,-123.18 361.8,-133.18 368.8,-133.18\"/>\n<text text-anchor=\"middle\" x=\"370.3\" y=\"-144.8\" font-family=\"Times,serif\" font-size=\"14.00\">D</text>\n</g>\n<!-- ZOUNDS -->\n<g id=\"node20\" class=\"node\">\n<title>ZOUNDS</title>\n<ellipse fill=\"lightgrey\" stroke=\"lightgrey\" cx=\"365.3\" cy=\"-18\" rx=\"46.29\" ry=\"18\"/>\n<text text-anchor=\"middle\" x=\"365.3\" y=\"-14.3\" font-family=\"Times,serif\" font-size=\"14.00\">ZOUNDS</text>\n</g>\n<!-- ZOUND&#45;&gt;ZOUNDS -->\n<g id=\"edge19\" class=\"edge\">\n<title>ZOUND&#45;&gt;ZOUNDS</title>\n<path fill=\"none\" stroke=\"black\" d=\"M365.3,-86.8C365.3,-75.16 365.3,-59.55 365.3,-46.24\"/>\n<polygon fill=\"black\" stroke=\"black\" points=\"368.8,-46.18 365.3,-36.18 361.8,-46.18 368.8,-46.18\"/>\n<text text-anchor=\"middle\" x=\"369.3\" y=\"-57.8\" font-family=\"Times,serif\" font-size=\"14.00\">S</text>\n</g>\n</g>\n</svg>\n",
            "text/plain": [
              "<graphviz.graphs.Digraph at 0x7d40782e9420>"
            ]
          },
          "metadata": {},
          "execution_count": 15
        }
      ]
    }
  ]
}