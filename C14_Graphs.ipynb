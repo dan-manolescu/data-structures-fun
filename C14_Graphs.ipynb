{
  "nbformat": 4,
  "nbformat_minor": 0,
  "metadata": {
    "colab": {
      "provenance": [],
      "authorship_tag": "ABX9TyPp6igWg8Q4F/ax6J7aZwXz",
      "include_colab_link": true
    },
    "kernelspec": {
      "name": "python3",
      "display_name": "Python 3"
    },
    "language_info": {
      "name": "python"
    }
  },
  "cells": [
    {
      "cell_type": "markdown",
      "metadata": {
        "id": "view-in-github",
        "colab_type": "text"
      },
      "source": [
        "<a href=\"https://colab.research.google.com/github/dan-manolescu/data-structures-fun/blob/main/C14_Graphs.ipynb\" target=\"_parent\"><img src=\"https://colab.research.google.com/assets/colab-badge.svg\" alt=\"Open In Colab\"/></a>"
      ]
    },
    {
      "cell_type": "code",
      "source": [
        "from typing import List, Tuple\n",
        "from collections import deque\n",
        "import pandas as pd"
      ],
      "metadata": {
        "id": "XiysgEPhqk_r"
      },
      "execution_count": 104,
      "outputs": []
    },
    {
      "cell_type": "markdown",
      "source": [
        "Class to define an Edge between graph nodes, represented by the node \"from\" and \"to\" as well as a weight value."
      ],
      "metadata": {
        "id": "5mdBonzh9Anj"
      }
    },
    {
      "cell_type": "code",
      "execution_count": 105,
      "metadata": {
        "id": "2co7XlOV2QXe"
      },
      "outputs": [],
      "source": [
        "class Edge:\n",
        "    def __init__(self, to_node: int, from_node: int, weight: float):\n",
        "        self.to_node = to_node\n",
        "        self.from_node = from_node\n",
        "        self.weight = weight"
      ]
    },
    {
      "cell_type": "markdown",
      "source": [
        "Class to define a Node in the graph. The node is represented by a name, a unique id (in our particular implementation it should be just the index of the node in the graph node list), as well as a list of edges that connect this node to others."
      ],
      "metadata": {
        "id": "_V5h5fIA9K8Z"
      }
    },
    {
      "cell_type": "code",
      "source": [
        "class Node:\n",
        "    def __init__(self, id: int, name: str):\n",
        "        self.name = name\n",
        "        self.id = id\n",
        "        self.edges = []"
      ],
      "metadata": {
        "id": "Isgxtt3T46MN"
      },
      "execution_count": 106,
      "outputs": []
    },
    {
      "cell_type": "markdown",
      "source": [
        "Class to define a Graph, represented as a number of nodes and a list of nodes. Current limitations of the implementation:\n",
        "* the number of nodes should the same as the length of the nodes list.\n",
        "* every node in the list must have as id the index of it's position in the graph nodes list.\n",
        "\n",
        "The graph class exposed three methods:\n",
        "* Dijkstras: returns the shortes path from a start node to every other node using the Dijkstras algorithm\n",
        "* Prims: returns a set of edges that compose the minimum spanning tree for this graph\n",
        "* Kahns: returns a list of topologically sorted nodes for the graph. Only works if the graph is a directed acyclic graph."
      ],
      "metadata": {
        "id": "c-OZZn_z9aPU"
      }
    },
    {
      "cell_type": "code",
      "source": [
        "class Graph:\n",
        "    def __init__(self):\n",
        "        self.num_nodes = 0\n",
        "        self.nodes = []\n",
        "\n",
        "    def Dijkstras(self, from_node_index: int) -> List[tuple[str, float, float]]:\n",
        "        '''\n",
        "        Djikstra's algorithm finds the shortest path from any given starting\n",
        "        node to all nodes in the graph. It will return a list where the index\n",
        "        is the node id and the value is node name, the distance to that node\n",
        "        and the index of the last node visited before.\n",
        "        '''\n",
        "\n",
        "        def min_distance_node(distance, unvisited):\n",
        "            '''\n",
        "            Utility function used to find out the node index in unvisited with\n",
        "            the minimal distance.\n",
        "            These could be replaced with a min-heap structure instead\n",
        "            '''\n",
        "            min_distance = float(\"inf\")\n",
        "            min_index = None\n",
        "            for index in unvisited:\n",
        "                if distance[index] < min_distance:\n",
        "                    min_distance = distance[index]\n",
        "                    min_index = index\n",
        "            return min_index\n",
        "\n",
        "        # Create a list of distances to each node.\n",
        "        distance = [float(\"inf\")] * self.num_nodes\n",
        "        distance[from_node_index] = 0.0\n",
        "        # Create a list of the last node visited before a given node\n",
        "        last = [-1] * self.num_nodes\n",
        "        # Create a set of unvisited nodes\n",
        "        unvisited = set([node.id for node in self.nodes])\n",
        "\n",
        "        # On each iteration choose the node with the min distance and remove it\n",
        "        # from the unvisited set.\n",
        "        while len(unvisited) != 0:\n",
        "            next_index = min_distance_node(distance, unvisited)\n",
        "            current = self.nodes[next_index]\n",
        "            unvisited.remove(next_index)\n",
        "\n",
        "            # Look at all the node neighbors and compute the distance to that\n",
        "            # neighbor through the current node.\n",
        "            for edge in current.edges:\n",
        "                new_dist = distance[edge.from_node] + edge.weight\n",
        "                if new_dist < distance[edge.to_node]:\n",
        "                    # Update distance and last lists if the code has found a\n",
        "                    # better path.\n",
        "                    distance[edge.to_node] = new_dist\n",
        "                    last[edge.to_node] = edge.from_node\n",
        "\n",
        "        return zip([node.name for node in self.nodes], distance, last)\n",
        "\n",
        "    def Prims(self) -> set:\n",
        "        '''\n",
        "        Prim's algorithm for finding the Minimum Spanning Tree.\n",
        "        Returns a set of edges for the mst.\n",
        "        '''\n",
        "\n",
        "        def min_distance_node(distance, unvisited):\n",
        "            '''\n",
        "            Utility function to find the node index in unvisited with the\n",
        "            minimal distance. Start with index 0 since initially all entries\n",
        "            are \"inf\".\n",
        "            '''\n",
        "            min_distance = float('inf')\n",
        "            min_index = 0\n",
        "            for index in unvisited:\n",
        "                if distance[index] < min_distance:\n",
        "                    min_distance = distance[index]\n",
        "                    min_index = index\n",
        "            return min_index\n",
        "\n",
        "        def find_edge(to_node, from_node):\n",
        "            '''\n",
        "            Utility function to find the edge between to_node and from_node.\n",
        "            '''\n",
        "            for edge in self.nodes[from_node].edges:\n",
        "                if edge.to_node == to_node and edge.from_node == from_node:\n",
        "                    return edge\n",
        "\n",
        "        # List of distances to each node.\n",
        "        distance = [float('inf')] * self.num_nodes\n",
        "        # List of last node visited before a given node.\n",
        "        last = [-1] * self.num_nodes\n",
        "        # Set of unvisited nodes (initially all the graph nodes).\n",
        "        unvisited = set([node.id for node in self.nodes])\n",
        "        # Set of edges for the minimal spanning tree.\n",
        "        mst_edges = set()\n",
        "\n",
        "        # Process the unvisited nodes one at a time until the set is empty.\n",
        "        while len(unvisited) != 0:\n",
        "            # The node with the minimal distance to any of the visited nodes\n",
        "            # is chosen (and then removed from unvisited set).\n",
        "            next_id = min_distance_node(distance, unvisited)\n",
        "            # Check if an incoming edge to the node exists, necessary since\n",
        "            # the first node visited will not have an incoming edge.\n",
        "            # Add it to the minimum spanning tree.\n",
        "            if last[next_id] != -1:\n",
        "                mst_edges.add(find_edge(last[next_id], next_id))\n",
        "            unvisited.remove(next_id)\n",
        "\n",
        "            current = self.nodes[next_id]\n",
        "            # Iterate through all the node's neighbors, check if a neighbor is\n",
        "            # unvisited and it's distance\n",
        "            for edge in current.edges:\n",
        "                if edge.to_node in unvisited:\n",
        "                    if edge.weight < distance[edge.to_node]:\n",
        "                        distance[edge.to_node] = edge.weight\n",
        "                        last[edge.to_node] = current.id\n",
        "\n",
        "        return mst_edges\n",
        "\n",
        "    def Kahns(self) -> List[Node]:\n",
        "        '''\n",
        "        Kahn's algorithm for topological sorting a directed acyclic graph.\n",
        "        The algorithm operates by finding the nodes with no incoming edges,\n",
        "        removing them from the list then appending them to our sorted list,\n",
        "        and then removing the outbound edges from that node. The algorithm\n",
        "        repeats until we have added every node to the sorted list.\n",
        "        '''\n",
        "        # Create a list to hold the sorted list of nodes (the output).\n",
        "        sorted = []\n",
        "        # Create a list to store the count of incoming edges for each node.\n",
        "        count = [0] * self.num_nodes\n",
        "        # Create a stack of the next node to add to sorted.\n",
        "        next = deque([])\n",
        "\n",
        "        # Count the incoming edges and update the count list.\n",
        "        for node in self.nodes:\n",
        "            for edge in node.edges:\n",
        "                count[edge.to_node] += 1\n",
        "\n",
        "        # Find the initial nodes without incoming edges to add them to the stack.\n",
        "        for node in self.nodes:\n",
        "            if count[node.id] == 0:\n",
        "                next.append(node)\n",
        "\n",
        "        # Iteratively process the remaining nodes without incoming connections.\n",
        "        while next:\n",
        "            # On each iteration pop a node off the stack and add it to the sorted.\n",
        "            current = next.pop()\n",
        "            sorted.append(current)\n",
        "            # Iterate over the node edges and remove the incoming edge for each\n",
        "            # neighbor (by reducing the count value).\n",
        "            for edge in current.edges:\n",
        "                count[edge.to_node] -= 1\n",
        "                # Any neighbor with an incoming count of zero is pushed to next.\n",
        "                if count[edge.to_node] == 0:\n",
        "                    next.append(self.nodes[edge.to_node])\n",
        "\n",
        "        return sorted"
      ],
      "metadata": {
        "id": "glT7itxs5EzJ"
      },
      "execution_count": 107,
      "outputs": []
    },
    {
      "cell_type": "markdown",
      "source": [
        "Utility function to draw a graph. It uses either a Graph or a Digraph graphviz structure to depict the graph based if the graph is directed or not.\n",
        "If a minimum spanning tree set of edges is supplied these will be drawn with red.\n",
        "\n",
        "**Note:** the graph should be drawn in directed mode in case of using the minimum spanning tree as right now there is a limitation in the way undirected graphs are drawn and some edges from the MSP might be missed."
      ],
      "metadata": {
        "id": "4enDeni2qr5h"
      }
    },
    {
      "cell_type": "code",
      "source": [
        "import graphviz\n",
        "\n",
        "def visualize_graph(graph: Graph, directed: bool=False, min_span_tree: set=None) -> graphviz.Graph:\n",
        "    added_edges = set()\n",
        "\n",
        "    dot = graphviz.Graph('Graph', engine='neato') if not directed else graphviz.Digraph('Graph', engine='neato')\n",
        "    dot.attr('node', shape='ellipse', style='filled', color='lightblue2')\n",
        "    for node in graph.nodes:\n",
        "        dot.node(str(node.id), node.name)\n",
        "        for edge in node.edges:\n",
        "            if not directed:\n",
        "                add_edge = (min(edge.from_node, edge.to_node), max(edge.from_node, edge.to_node))\n",
        "                if add_edge not in added_edges:\n",
        "                    dot.edge(str(edge.from_node), str(edge.to_node),\n",
        "                             label=(str(edge.weight) if edge.weight != None else ''))\n",
        "                    added_edges.add(add_edge)\n",
        "            else:\n",
        "                dot.edge(str(edge.from_node), str(edge.to_node),\n",
        "                         label=(str(edge.weight) if edge.weight != None else ''),\n",
        "                         color=('red' if min_span_tree != None and edge in min_span_tree else 'black'), dir='Forward')\n",
        "\n",
        "    return dot"
      ],
      "metadata": {
        "id": "xnMoJf_XZQ-h"
      },
      "execution_count": 108,
      "outputs": []
    },
    {
      "cell_type": "markdown",
      "source": [
        "Let's use a undirected weighted graph as an example and draw it."
      ],
      "metadata": {
        "id": "eUwTJu4NrjXo"
      }
    },
    {
      "cell_type": "code",
      "source": [
        "g = Graph()\n",
        "g.num_nodes = 8\n",
        "node = Node(0, 'A')\n",
        "node.edges = [Edge(1, 0, 1.5), Edge(2, 0, 0.5), Edge(3, 0, 0.5)]\n",
        "g.nodes.append(node)\n",
        "node = Node(1, 'B')\n",
        "node.edges = [Edge(0, 1, 1.5), Edge(5, 1, 1.1)]\n",
        "g.nodes.append(node)\n",
        "node = Node(2, 'C')\n",
        "node.edges = [Edge(0, 2, 0.5), Edge(4, 2, 0.5), Edge(6, 2, 2.5)]\n",
        "g.nodes.append(node)\n",
        "node = Node(3, 'D')\n",
        "node.edges = [Edge(0, 3, 0.5), Edge(4, 3, 0.4), Edge(5, 3, 0.3)]\n",
        "g.nodes.append(node)\n",
        "node = Node(4, 'E')\n",
        "node.edges = [Edge(2, 4, 0.5), Edge(3, 4, 0.4)]\n",
        "g.nodes.append(node)\n",
        "node = Node(5, 'F')\n",
        "node.edges = [Edge(1, 5, 1.1), Edge(3, 5, 0.3), Edge(7, 5, 0.9)]\n",
        "g.nodes.append(node)\n",
        "node = Node(6, 'G')\n",
        "node.edges = [Edge(2, 6, 2.5)]\n",
        "g.nodes.append(node)\n",
        "node = Node(7, 'H')\n",
        "node.edges = [Edge(5, 7, 0.9)]\n",
        "g.nodes.append(node)\n",
        "\n",
        "visualize_graph(g)"
      ],
      "metadata": {
        "colab": {
          "base_uri": "https://localhost:8080/",
          "height": 321
        },
        "id": "t8sAu9FQa05e",
        "outputId": "c3af110e-e851-4276-fc0a-63c60ab9c8e4"
      },
      "execution_count": 109,
      "outputs": [
        {
          "output_type": "execute_result",
          "data": {
            "image/svg+xml": "<?xml version=\"1.0\" encoding=\"UTF-8\" standalone=\"no\"?>\n<!DOCTYPE svg PUBLIC \"-//W3C//DTD SVG 1.1//EN\"\n \"http://www.w3.org/Graphics/SVG/1.1/DTD/svg11.dtd\">\n<!-- Generated by graphviz version 2.43.0 (0)\n -->\n<!-- Title: Graph Pages: 1 -->\n<svg width=\"343pt\" height=\"225pt\"\n viewBox=\"0.00 0.00 342.90 225.49\" xmlns=\"http://www.w3.org/2000/svg\" xmlns:xlink=\"http://www.w3.org/1999/xlink\">\n<g id=\"graph0\" class=\"graph\" transform=\"scale(1 1) rotate(0) translate(4 221.49)\">\n<title>Graph</title>\n<polygon fill=\"white\" stroke=\"transparent\" points=\"-4,4 -4,-221.49 338.9,-221.49 338.9,4 -4,4\"/>\n<!-- 0 -->\n<g id=\"node1\" class=\"node\">\n<title>0</title>\n<ellipse fill=\"#b2dfee\" stroke=\"#b2dfee\" cx=\"163.03\" cy=\"-68.7\" rx=\"27\" ry=\"18\"/>\n<text text-anchor=\"middle\" x=\"163.03\" y=\"-65\" font-family=\"Times,serif\" font-size=\"14.00\">A</text>\n</g>\n<!-- 1 -->\n<g id=\"node2\" class=\"node\">\n<title>1</title>\n<ellipse fill=\"#b2dfee\" stroke=\"#b2dfee\" cx=\"241.91\" cy=\"-71.3\" rx=\"27\" ry=\"18\"/>\n<text text-anchor=\"middle\" x=\"241.91\" y=\"-67.6\" font-family=\"Times,serif\" font-size=\"14.00\">B</text>\n</g>\n<!-- 0&#45;&#45;1 -->\n<g id=\"edge1\" class=\"edge\">\n<title>0&#45;&#45;1</title>\n<path fill=\"none\" stroke=\"black\" d=\"M190.18,-69.59C198.11,-69.86 206.78,-70.14 214.71,-70.4\"/>\n<text text-anchor=\"middle\" x=\"202.44\" y=\"-58.8\" font-family=\"Times,serif\" font-size=\"14.00\">1.5</text>\n</g>\n<!-- 2 -->\n<g id=\"node3\" class=\"node\">\n<title>2</title>\n<ellipse fill=\"#b2dfee\" stroke=\"#b2dfee\" cx=\"83.62\" cy=\"-68.43\" rx=\"27\" ry=\"18\"/>\n<text text-anchor=\"middle\" x=\"83.62\" y=\"-64.73\" font-family=\"Times,serif\" font-size=\"14.00\">C</text>\n</g>\n<!-- 0&#45;&#45;2 -->\n<g id=\"edge2\" class=\"edge\">\n<title>0&#45;&#45;2</title>\n<path fill=\"none\" stroke=\"black\" d=\"M135.7,-68.61C127.63,-68.58 118.79,-68.55 110.73,-68.52\"/>\n<text text-anchor=\"middle\" x=\"127.72\" y=\"-57.37\" font-family=\"Times,serif\" font-size=\"14.00\">0.5</text>\n</g>\n<!-- 3 -->\n<g id=\"node4\" class=\"node\">\n<title>3</title>\n<ellipse fill=\"#b2dfee\" stroke=\"#b2dfee\" cx=\"169.3\" cy=\"-152.67\" rx=\"27\" ry=\"18\"/>\n<text text-anchor=\"middle\" x=\"169.3\" y=\"-148.97\" font-family=\"Times,serif\" font-size=\"14.00\">D</text>\n</g>\n<!-- 0&#45;&#45;3 -->\n<g id=\"edge3\" class=\"edge\">\n<title>0&#45;&#45;3</title>\n<path fill=\"none\" stroke=\"black\" d=\"M164.39,-86.92C165.44,-101.01 166.89,-120.41 167.94,-134.49\"/>\n<text text-anchor=\"middle\" x=\"157.16\" y=\"-114.5\" font-family=\"Times,serif\" font-size=\"14.00\">0.5</text>\n</g>\n<!-- 5 -->\n<g id=\"node5\" class=\"node\">\n<title>5</title>\n<ellipse fill=\"#b2dfee\" stroke=\"#b2dfee\" cx=\"248.69\" cy=\"-152.25\" rx=\"27\" ry=\"18\"/>\n<text text-anchor=\"middle\" x=\"248.69\" y=\"-148.55\" font-family=\"Times,serif\" font-size=\"14.00\">F</text>\n</g>\n<!-- 1&#45;&#45;5 -->\n<g id=\"edge4\" class=\"edge\">\n<title>1&#45;&#45;5</title>\n<path fill=\"none\" stroke=\"black\" d=\"M243.45,-89.67C244.56,-103.01 246.07,-120.97 247.18,-134.23\"/>\n<text text-anchor=\"middle\" x=\"236.31\" y=\"-115.75\" font-family=\"Times,serif\" font-size=\"14.00\">1.1</text>\n</g>\n<!-- 4 -->\n<g id=\"node6\" class=\"node\">\n<title>4</title>\n<ellipse fill=\"#b2dfee\" stroke=\"#b2dfee\" cx=\"90.32\" cy=\"-149.24\" rx=\"27\" ry=\"18\"/>\n<text text-anchor=\"middle\" x=\"90.32\" y=\"-145.54\" font-family=\"Times,serif\" font-size=\"14.00\">E</text>\n</g>\n<!-- 2&#45;&#45;4 -->\n<g id=\"edge5\" class=\"edge\">\n<title>2&#45;&#45;4</title>\n<path fill=\"none\" stroke=\"black\" d=\"M85.14,-86.77C86.24,-100.09 87.73,-118.02 88.83,-131.25\"/>\n<text text-anchor=\"middle\" x=\"77.98\" y=\"-112.81\" font-family=\"Times,serif\" font-size=\"14.00\">0.5</text>\n</g>\n<!-- 6 -->\n<g id=\"node7\" class=\"node\">\n<title>6</title>\n<ellipse fill=\"#b2dfee\" stroke=\"#b2dfee\" cx=\"27\" cy=\"-18\" rx=\"27\" ry=\"18\"/>\n<text text-anchor=\"middle\" x=\"27\" y=\"-14.3\" font-family=\"Times,serif\" font-size=\"14.00\">G</text>\n</g>\n<!-- 2&#45;&#45;6 -->\n<g id=\"edge6\" class=\"edge\">\n<title>2&#45;&#45;6</title>\n<path fill=\"none\" stroke=\"black\" d=\"M67.24,-53.85C59.8,-47.21 51,-39.38 43.54,-32.73\"/>\n<text text-anchor=\"middle\" x=\"46.39\" y=\"-47.09\" font-family=\"Times,serif\" font-size=\"14.00\">2.5</text>\n</g>\n<!-- 3&#45;&#45;5 -->\n<g id=\"edge8\" class=\"edge\">\n<title>3&#45;&#45;5</title>\n<path fill=\"none\" stroke=\"black\" d=\"M196.62,-152.53C204.69,-152.48 213.52,-152.44 221.58,-152.39\"/>\n<text text-anchor=\"middle\" x=\"209.1\" y=\"-141.26\" font-family=\"Times,serif\" font-size=\"14.00\">0.3</text>\n</g>\n<!-- 3&#45;&#45;4 -->\n<g id=\"edge7\" class=\"edge\">\n<title>3&#45;&#45;4</title>\n<path fill=\"none\" stroke=\"black\" d=\"M142.12,-151.49C134.08,-151.14 125.3,-150.76 117.28,-150.41\"/>\n<text text-anchor=\"middle\" x=\"129.7\" y=\"-139.75\" font-family=\"Times,serif\" font-size=\"14.00\">0.4</text>\n</g>\n<!-- 7 -->\n<g id=\"node8\" class=\"node\">\n<title>7</title>\n<ellipse fill=\"#b2dfee\" stroke=\"#b2dfee\" cx=\"307.9\" cy=\"-199.49\" rx=\"27\" ry=\"18\"/>\n<text text-anchor=\"middle\" x=\"307.9\" y=\"-195.79\" font-family=\"Times,serif\" font-size=\"14.00\">H</text>\n</g>\n<!-- 5&#45;&#45;7 -->\n<g id=\"edge9\" class=\"edge\">\n<title>5&#45;&#45;7</title>\n<path fill=\"none\" stroke=\"black\" d=\"M266.13,-166.17C273.77,-172.27 282.72,-179.41 290.38,-185.51\"/>\n<text text-anchor=\"middle\" x=\"269.25\" y=\"-179.64\" font-family=\"Times,serif\" font-size=\"14.00\">0.9</text>\n</g>\n</g>\n</svg>\n",
            "text/plain": [
              "<graphviz.graphs.Graph at 0x7aa1518b66e0>"
            ]
          },
          "metadata": {},
          "execution_count": 109
        }
      ]
    },
    {
      "cell_type": "markdown",
      "source": [
        "Now let's compute the list of shortest paths starting from node A to every other node using the Dijkstras algorithm and print that list. The last column indicates the index of the node before the current one in calculating the distance."
      ],
      "metadata": {
        "id": "1HAZrdFcruoY"
      }
    },
    {
      "cell_type": "code",
      "source": [
        "distances = g.Dijkstras(0)\n",
        "\n",
        "df = pd.DataFrame(distances, columns=['Node', 'Distance', 'Last'])\n",
        "print(df)"
      ],
      "metadata": {
        "colab": {
          "base_uri": "https://localhost:8080/"
        },
        "id": "isQsnVVEeenL",
        "outputId": "b9027393-2a4b-4333-c737-681f8abaf4a4"
      },
      "execution_count": 110,
      "outputs": [
        {
          "output_type": "stream",
          "name": "stdout",
          "text": [
            "  Node  Distance  Last\n",
            "0    A       0.0    -1\n",
            "1    B       1.5     0\n",
            "2    C       0.5     0\n",
            "3    D       0.5     0\n",
            "4    E       0.9     3\n",
            "5    F       0.8     3\n",
            "6    G       3.0     2\n",
            "7    H       1.7     5\n"
          ]
        }
      ]
    },
    {
      "cell_type": "markdown",
      "source": [
        "Now let's compute the minimum spanning tree for this graph using Prim's algorithm. To properly draw the minimum spanning tree edges (with red) we have to visualize the graph in directed mode (due to current limitations of the visualize function)"
      ],
      "metadata": {
        "id": "zVpFRlsor8ca"
      }
    },
    {
      "cell_type": "code",
      "source": [
        "msp = g.Prims()\n",
        "visualize_graph(g, True, msp)"
      ],
      "metadata": {
        "colab": {
          "base_uri": "https://localhost:8080/",
          "height": 321
        },
        "id": "OcWhdmd0jFsk",
        "outputId": "63abb343-2486-4e44-fc42-78188a496ffc"
      },
      "execution_count": 111,
      "outputs": [
        {
          "output_type": "execute_result",
          "data": {
            "image/svg+xml": "<?xml version=\"1.0\" encoding=\"UTF-8\" standalone=\"no\"?>\n<!DOCTYPE svg PUBLIC \"-//W3C//DTD SVG 1.1//EN\"\n \"http://www.w3.org/Graphics/SVG/1.1/DTD/svg11.dtd\">\n<!-- Generated by graphviz version 2.43.0 (0)\n -->\n<!-- Title: Graph Pages: 1 -->\n<svg width=\"343pt\" height=\"225pt\"\n viewBox=\"0.00 0.00 342.90 225.49\" xmlns=\"http://www.w3.org/2000/svg\" xmlns:xlink=\"http://www.w3.org/1999/xlink\">\n<g id=\"graph0\" class=\"graph\" transform=\"scale(1 1) rotate(0) translate(4 221.49)\">\n<title>Graph</title>\n<polygon fill=\"white\" stroke=\"transparent\" points=\"-4,4 -4,-221.49 338.9,-221.49 338.9,4 -4,4\"/>\n<!-- 0 -->\n<g id=\"node1\" class=\"node\">\n<title>0</title>\n<ellipse fill=\"#b2dfee\" stroke=\"#b2dfee\" cx=\"163.03\" cy=\"-68.7\" rx=\"27\" ry=\"18\"/>\n<text text-anchor=\"middle\" x=\"163.03\" y=\"-65\" font-family=\"Times,serif\" font-size=\"14.00\">A</text>\n</g>\n<!-- 1 -->\n<g id=\"node2\" class=\"node\">\n<title>1</title>\n<ellipse fill=\"#b2dfee\" stroke=\"#b2dfee\" cx=\"241.91\" cy=\"-71.3\" rx=\"27\" ry=\"18\"/>\n<text text-anchor=\"middle\" x=\"241.91\" y=\"-67.6\" font-family=\"Times,serif\" font-size=\"14.00\">B</text>\n</g>\n<!-- 0&#45;&gt;1 -->\n<g id=\"edge1\" class=\"edge\">\n<title>0&#45;&gt;1</title>\n<path fill=\"none\" stroke=\"black\" d=\"M188.21,-75.89C193.78,-76.4 199.78,-76.72 205.68,-76.84\"/>\n<polygon fill=\"black\" stroke=\"black\" points=\"206.09,-80.33 216.09,-76.82 206.08,-73.33 206.09,-80.33\"/>\n<text text-anchor=\"middle\" x=\"205.95\" y=\"-80.16\" font-family=\"Times,serif\" font-size=\"14.00\">1.5</text>\n</g>\n<!-- 2 -->\n<g id=\"node3\" class=\"node\">\n<title>2</title>\n<ellipse fill=\"#b2dfee\" stroke=\"#b2dfee\" cx=\"83.62\" cy=\"-68.43\" rx=\"27\" ry=\"18\"/>\n<text text-anchor=\"middle\" x=\"83.62\" y=\"-64.73\" font-family=\"Times,serif\" font-size=\"14.00\">C</text>\n</g>\n<!-- 0&#45;&gt;2 -->\n<g id=\"edge2\" class=\"edge\">\n<title>0&#45;&gt;2</title>\n<path fill=\"none\" stroke=\"black\" d=\"M137.49,-62.26C131.68,-61.9 125.41,-61.76 119.26,-61.84\"/>\n<polygon fill=\"black\" stroke=\"black\" points=\"119.04,-58.34 109.16,-62.17 119.27,-65.34 119.04,-58.34\"/>\n<text text-anchor=\"middle\" x=\"119.38\" y=\"-50.85\" font-family=\"Times,serif\" font-size=\"14.00\">0.5</text>\n</g>\n<!-- 3 -->\n<g id=\"node4\" class=\"node\">\n<title>3</title>\n<ellipse fill=\"#b2dfee\" stroke=\"#b2dfee\" cx=\"169.3\" cy=\"-152.67\" rx=\"27\" ry=\"18\"/>\n<text text-anchor=\"middle\" x=\"169.3\" y=\"-148.97\" font-family=\"Times,serif\" font-size=\"14.00\">D</text>\n</g>\n<!-- 0&#45;&gt;3 -->\n<g id=\"edge3\" class=\"edge\">\n<title>0&#45;&gt;3</title>\n<path fill=\"none\" stroke=\"black\" d=\"M158.75,-86.52C158.39,-97.71 159.21,-112.39 160.81,-125.07\"/>\n<polygon fill=\"black\" stroke=\"black\" points=\"157.37,-125.77 162.32,-135.14 164.3,-124.73 157.37,-125.77\"/>\n<text text-anchor=\"middle\" x=\"150.78\" y=\"-109.59\" font-family=\"Times,serif\" font-size=\"14.00\">0.5</text>\n</g>\n<!-- 1&#45;&gt;0 -->\n<g id=\"edge4\" class=\"edge\">\n<title>1&#45;&gt;0</title>\n<path fill=\"none\" stroke=\"black\" d=\"M216.73,-64.11C211.16,-63.6 205.16,-63.28 199.26,-63.16\"/>\n<polygon fill=\"black\" stroke=\"black\" points=\"198.85,-59.66 188.85,-63.18 198.86,-66.66 198.85,-59.66\"/>\n<text text-anchor=\"middle\" x=\"203.49\" y=\"-52.44\" font-family=\"Times,serif\" font-size=\"14.00\">1.5</text>\n</g>\n<!-- 5 -->\n<g id=\"node5\" class=\"node\">\n<title>5</title>\n<ellipse fill=\"#b2dfee\" stroke=\"#b2dfee\" cx=\"248.69\" cy=\"-152.25\" rx=\"27\" ry=\"18\"/>\n<text text-anchor=\"middle\" x=\"248.69\" y=\"-148.55\" font-family=\"Times,serif\" font-size=\"14.00\">F</text>\n</g>\n<!-- 1&#45;&gt;5 -->\n<g id=\"edge5\" class=\"edge\">\n<title>1&#45;&gt;5</title>\n<path fill=\"none\" stroke=\"red\" d=\"M237.72,-89.33C237.5,-99.68 238.34,-112.88 239.87,-124.52\"/>\n<polygon fill=\"red\" stroke=\"red\" points=\"236.45,-125.3 241.46,-134.64 243.37,-124.21 236.45,-125.3\"/>\n<text text-anchor=\"middle\" x=\"229.8\" y=\"-110.73\" font-family=\"Times,serif\" font-size=\"14.00\">1.1</text>\n</g>\n<!-- 2&#45;&gt;0 -->\n<g id=\"edge6\" class=\"edge\">\n<title>2&#45;&gt;0</title>\n<path fill=\"none\" stroke=\"red\" d=\"M109.16,-74.87C114.97,-75.23 121.24,-75.37 127.38,-75.3\"/>\n<polygon fill=\"red\" stroke=\"red\" points=\"127.61,-78.79 137.49,-74.97 127.38,-71.8 127.61,-78.79\"/>\n<text text-anchor=\"middle\" x=\"127.27\" y=\"-78.89\" font-family=\"Times,serif\" font-size=\"14.00\">0.5</text>\n</g>\n<!-- 4 -->\n<g id=\"node6\" class=\"node\">\n<title>4</title>\n<ellipse fill=\"#b2dfee\" stroke=\"#b2dfee\" cx=\"90.32\" cy=\"-149.24\" rx=\"27\" ry=\"18\"/>\n<text text-anchor=\"middle\" x=\"90.32\" y=\"-145.54\" font-family=\"Times,serif\" font-size=\"14.00\">E</text>\n</g>\n<!-- 2&#45;&gt;4 -->\n<g id=\"edge7\" class=\"edge\">\n<title>2&#45;&gt;4</title>\n<path fill=\"none\" stroke=\"black\" d=\"M79.41,-86.44C79.19,-96.76 80.01,-109.94 81.53,-121.55\"/>\n<polygon fill=\"black\" stroke=\"black\" points=\"78.11,-122.31 83.11,-131.65 85.02,-121.23 78.11,-122.31\"/>\n<text text-anchor=\"middle\" x=\"71.47\" y=\"-107.79\" font-family=\"Times,serif\" font-size=\"14.00\">0.5</text>\n</g>\n<!-- 6 -->\n<g id=\"node7\" class=\"node\">\n<title>6</title>\n<ellipse fill=\"#b2dfee\" stroke=\"#b2dfee\" cx=\"27\" cy=\"-18\" rx=\"27\" ry=\"18\"/>\n<text text-anchor=\"middle\" x=\"27\" y=\"-14.3\" font-family=\"Times,serif\" font-size=\"14.00\">G</text>\n</g>\n<!-- 2&#45;&gt;6 -->\n<g id=\"edge8\" class=\"edge\">\n<title>2&#45;&gt;6</title>\n<path fill=\"none\" stroke=\"black\" d=\"M73.56,-51.55C68.67,-46.28 62.58,-40.5 56.42,-35.22\"/>\n<polygon fill=\"black\" stroke=\"black\" points=\"58.62,-32.5 48.67,-28.88 54.19,-37.92 58.62,-32.5\"/>\n<text text-anchor=\"middle\" x=\"73.99\" y=\"-32.19\" font-family=\"Times,serif\" font-size=\"14.00\">2.5</text>\n</g>\n<!-- 3&#45;&gt;0 -->\n<g id=\"edge9\" class=\"edge\">\n<title>3&#45;&gt;0</title>\n<path fill=\"none\" stroke=\"red\" d=\"M173.57,-134.86C173.93,-123.66 173.11,-108.98 171.52,-96.3\"/>\n<polygon fill=\"red\" stroke=\"red\" points=\"174.95,-95.61 170,-86.24 168.03,-96.65 174.95,-95.61\"/>\n<text text-anchor=\"middle\" x=\"181.55\" y=\"-119.38\" font-family=\"Times,serif\" font-size=\"14.00\">0.5</text>\n</g>\n<!-- 3&#45;&gt;5 -->\n<g id=\"edge11\" class=\"edge\">\n<title>3&#45;&gt;5</title>\n<path fill=\"none\" stroke=\"black\" d=\"M194.89,-158.89C200.75,-159.2 207.09,-159.29 213.29,-159.15\"/>\n<polygon fill=\"black\" stroke=\"black\" points=\"213.64,-162.64 223.48,-158.72 213.34,-155.65 213.64,-162.64\"/>\n<text text-anchor=\"middle\" x=\"208.59\" y=\"-147.82\" font-family=\"Times,serif\" font-size=\"14.00\">0.3</text>\n</g>\n<!-- 3&#45;&gt;4 -->\n<g id=\"edge10\" class=\"edge\">\n<title>3&#45;&gt;4</title>\n<path fill=\"none\" stroke=\"black\" d=\"M144.58,-145.26C138.81,-144.66 132.54,-144.25 126.38,-144.08\"/>\n<polygon fill=\"black\" stroke=\"black\" points=\"126.26,-140.58 116.24,-143.99 126.21,-147.57 126.26,-140.58\"/>\n<text text-anchor=\"middle\" x=\"126.48\" y=\"-133.47\" font-family=\"Times,serif\" font-size=\"14.00\">0.4</text>\n</g>\n<!-- 5&#45;&gt;1 -->\n<g id=\"edge14\" class=\"edge\">\n<title>5&#45;&gt;1</title>\n<path fill=\"none\" stroke=\"black\" d=\"M252.87,-134.21C253.09,-123.87 252.25,-110.67 250.72,-99.03\"/>\n<polygon fill=\"black\" stroke=\"black\" points=\"254.14,-98.25 249.14,-88.91 247.23,-99.33 254.14,-98.25\"/>\n<text text-anchor=\"middle\" x=\"260.8\" y=\"-120.42\" font-family=\"Times,serif\" font-size=\"14.00\">1.1</text>\n</g>\n<!-- 5&#45;&gt;3 -->\n<g id=\"edge15\" class=\"edge\">\n<title>5&#45;&gt;3</title>\n<path fill=\"none\" stroke=\"red\" d=\"M223.1,-146.03C217.23,-145.72 210.89,-145.63 204.69,-145.77\"/>\n<polygon fill=\"red\" stroke=\"red\" points=\"204.34,-142.28 194.5,-146.2 204.64,-149.27 204.34,-142.28\"/>\n<text text-anchor=\"middle\" x=\"209.39\" y=\"-134.7\" font-family=\"Times,serif\" font-size=\"14.00\">0.3</text>\n</g>\n<!-- 7 -->\n<g id=\"node8\" class=\"node\">\n<title>7</title>\n<ellipse fill=\"#b2dfee\" stroke=\"#b2dfee\" cx=\"307.9\" cy=\"-199.49\" rx=\"27\" ry=\"18\"/>\n<text text-anchor=\"middle\" x=\"307.9\" y=\"-195.79\" font-family=\"Times,serif\" font-size=\"14.00\">H</text>\n</g>\n<!-- 5&#45;&gt;7 -->\n<g id=\"edge16\" class=\"edge\">\n<title>5&#45;&gt;7</title>\n<path fill=\"none\" stroke=\"black\" d=\"M259.92,-168.82C264.8,-173.52 270.75,-178.6 276.78,-183.27\"/>\n<polygon fill=\"black\" stroke=\"black\" points=\"274.84,-186.18 284.96,-189.31 279,-180.55 274.84,-186.18\"/>\n<text text-anchor=\"middle\" x=\"259.35\" y=\"-179.85\" font-family=\"Times,serif\" font-size=\"14.00\">0.9</text>\n</g>\n<!-- 4&#45;&gt;2 -->\n<g id=\"edge12\" class=\"edge\">\n<title>4&#45;&gt;2</title>\n<path fill=\"none\" stroke=\"black\" d=\"M94.52,-131.24C94.75,-120.91 93.92,-107.74 92.41,-96.12\"/>\n<polygon fill=\"black\" stroke=\"black\" points=\"95.83,-95.36 90.83,-86.02 88.91,-96.44 95.83,-95.36\"/>\n<text text-anchor=\"middle\" x=\"102.46\" y=\"-117.48\" font-family=\"Times,serif\" font-size=\"14.00\">0.5</text>\n</g>\n<!-- 4&#45;&gt;3 -->\n<g id=\"edge13\" class=\"edge\">\n<title>4&#45;&gt;3</title>\n<path fill=\"none\" stroke=\"red\" d=\"M115.03,-156.65C120.81,-157.25 127.07,-157.65 133.23,-157.83\"/>\n<polygon fill=\"red\" stroke=\"red\" points=\"133.35,-161.33 143.38,-157.92 133.41,-154.33 133.35,-161.33\"/>\n<text text-anchor=\"middle\" x=\"133.13\" y=\"-161.04\" font-family=\"Times,serif\" font-size=\"14.00\">0.4</text>\n</g>\n<!-- 6&#45;&gt;2 -->\n<g id=\"edge17\" class=\"edge\">\n<title>6&#45;&gt;2</title>\n<path fill=\"none\" stroke=\"red\" d=\"M37.06,-34.88C41.95,-40.15 48.04,-45.93 54.2,-51.21\"/>\n<polygon fill=\"red\" stroke=\"red\" points=\"52,-53.93 61.95,-57.56 56.43,-48.51 52,-53.93\"/>\n<text text-anchor=\"middle\" x=\"36.63\" y=\"-46.85\" font-family=\"Times,serif\" font-size=\"14.00\">2.5</text>\n</g>\n<!-- 7&#45;&gt;5 -->\n<g id=\"edge18\" class=\"edge\">\n<title>7&#45;&gt;5</title>\n<path fill=\"none\" stroke=\"red\" d=\"M296.67,-182.92C291.78,-178.22 285.84,-173.15 279.81,-168.48\"/>\n<polygon fill=\"red\" stroke=\"red\" points=\"281.75,-165.56 271.63,-162.43 277.59,-171.19 281.75,-165.56\"/>\n<text text-anchor=\"middle\" x=\"297.24\" y=\"-164.5\" font-family=\"Times,serif\" font-size=\"14.00\">0.9</text>\n</g>\n</g>\n</svg>\n",
            "text/plain": [
              "<graphviz.graphs.Digraph at 0x7aa1518b69b0>"
            ]
          },
          "metadata": {},
          "execution_count": 111
        }
      ]
    },
    {
      "cell_type": "markdown",
      "source": [
        "Now let's define a directed acyclic graph and visualize it."
      ],
      "metadata": {
        "id": "F8PspJZbsLwa"
      }
    },
    {
      "cell_type": "code",
      "source": [
        "g = Graph()\n",
        "g.num_nodes = 6\n",
        "node = Node(0, 'A')\n",
        "node.edges = [Edge(1, 0, None), Edge(2, 0, None), Edge(3, 0, None)]\n",
        "g.nodes.append(node)\n",
        "node = Node(1, 'B')\n",
        "g.nodes.append(node)\n",
        "node = Node(2, 'C')\n",
        "node.edges = [Edge(4, 2, None)]\n",
        "g.nodes.append(node)\n",
        "node = Node(3, 'D')\n",
        "node.edges = [Edge(5, 3, None)]\n",
        "g.nodes.append(node)\n",
        "node = Node(4, 'E')\n",
        "node.edges = [Edge(3, 4, None)]\n",
        "g.nodes.append(node)\n",
        "node = Node(5, 'F')\n",
        "node.edges = [Edge(1, 5, None)]\n",
        "g.nodes.append(node)\n",
        "\n",
        "visualize_graph(g, True)"
      ],
      "metadata": {
        "colab": {
          "base_uri": "https://localhost:8080/",
          "height": 331
        },
        "id": "Jt4H0pB8nDsx",
        "outputId": "e79be259-4436-4f0b-a9f8-f6db38c88365"
      },
      "execution_count": 112,
      "outputs": [
        {
          "output_type": "execute_result",
          "data": {
            "image/svg+xml": "<?xml version=\"1.0\" encoding=\"UTF-8\" standalone=\"no\"?>\n<!DOCTYPE svg PUBLIC \"-//W3C//DTD SVG 1.1//EN\"\n \"http://www.w3.org/Graphics/SVG/1.1/DTD/svg11.dtd\">\n<!-- Generated by graphviz version 2.43.0 (0)\n -->\n<!-- Title: Graph Pages: 1 -->\n<svg width=\"150pt\" height=\"232pt\"\n viewBox=\"0.00 0.00 149.64 232.11\" xmlns=\"http://www.w3.org/2000/svg\" xmlns:xlink=\"http://www.w3.org/1999/xlink\">\n<g id=\"graph0\" class=\"graph\" transform=\"scale(1 1) rotate(0) translate(4 228.11)\">\n<title>Graph</title>\n<polygon fill=\"white\" stroke=\"transparent\" points=\"-4,4 -4,-228.11 145.64,-228.11 145.64,4 -4,4\"/>\n<!-- 0 -->\n<g id=\"node1\" class=\"node\">\n<title>0</title>\n<ellipse fill=\"#b2dfee\" stroke=\"#b2dfee\" cx=\"27.41\" cy=\"-93.92\" rx=\"27\" ry=\"18\"/>\n<text text-anchor=\"middle\" x=\"27.41\" y=\"-90.22\" font-family=\"Times,serif\" font-size=\"14.00\">A</text>\n</g>\n<!-- 1 -->\n<g id=\"node2\" class=\"node\">\n<title>1</title>\n<ellipse fill=\"#b2dfee\" stroke=\"#b2dfee\" cx=\"114.64\" cy=\"-136.03\" rx=\"27\" ry=\"18\"/>\n<text text-anchor=\"middle\" x=\"114.64\" y=\"-132.33\" font-family=\"Times,serif\" font-size=\"14.00\">B</text>\n</g>\n<!-- 0&#45;&gt;1 -->\n<g id=\"edge1\" class=\"edge\">\n<title>0&#45;&gt;1</title>\n<path fill=\"none\" stroke=\"black\" d=\"M49.42,-104.54C59.75,-109.53 72.24,-115.57 83.52,-121.01\"/>\n<polygon fill=\"black\" stroke=\"black\" points=\"82.1,-124.21 92.63,-125.41 85.15,-117.91 82.1,-124.21\"/>\n</g>\n<!-- 2 -->\n<g id=\"node3\" class=\"node\">\n<title>2</title>\n<ellipse fill=\"#b2dfee\" stroke=\"#b2dfee\" cx=\"27\" cy=\"-18\" rx=\"27\" ry=\"18\"/>\n<text text-anchor=\"middle\" x=\"27\" y=\"-14.3\" font-family=\"Times,serif\" font-size=\"14.00\">C</text>\n</g>\n<!-- 0&#45;&gt;2 -->\n<g id=\"edge2\" class=\"edge\">\n<title>0&#45;&gt;2</title>\n<path fill=\"none\" stroke=\"black\" d=\"M27.31,-75.54C27.26,-66.77 27.21,-56.09 27.15,-46.32\"/>\n<polygon fill=\"black\" stroke=\"black\" points=\"30.65,-46.19 27.1,-36.21 23.65,-46.23 30.65,-46.19\"/>\n</g>\n<!-- 3 -->\n<g id=\"node4\" class=\"node\">\n<title>3</title>\n<ellipse fill=\"#b2dfee\" stroke=\"#b2dfee\" cx=\"43.27\" cy=\"-149.57\" rx=\"27\" ry=\"18\"/>\n<text text-anchor=\"middle\" x=\"43.27\" y=\"-145.87\" font-family=\"Times,serif\" font-size=\"14.00\">D</text>\n</g>\n<!-- 0&#45;&gt;3 -->\n<g id=\"edge3\" class=\"edge\">\n<title>0&#45;&gt;3</title>\n<path fill=\"none\" stroke=\"black\" d=\"M32.52,-111.83C33.42,-115.01 34.38,-118.38 35.35,-121.76\"/>\n<polygon fill=\"black\" stroke=\"black\" points=\"32.07,-123.03 38.18,-131.69 38.8,-121.11 32.07,-123.03\"/>\n</g>\n<!-- 4 -->\n<g id=\"node5\" class=\"node\">\n<title>4</title>\n<ellipse fill=\"#b2dfee\" stroke=\"#b2dfee\" cx=\"84.94\" cy=\"-61.23\" rx=\"27\" ry=\"18\"/>\n<text text-anchor=\"middle\" x=\"84.94\" y=\"-57.53\" font-family=\"Times,serif\" font-size=\"14.00\">E</text>\n</g>\n<!-- 2&#45;&gt;4 -->\n<g id=\"edge4\" class=\"edge\">\n<title>2&#45;&gt;4</title>\n<path fill=\"none\" stroke=\"black\" d=\"M45.02,-31.44C49.33,-34.66 54.03,-38.17 58.64,-41.61\"/>\n<polygon fill=\"black\" stroke=\"black\" points=\"56.63,-44.47 66.74,-47.65 60.82,-38.86 56.63,-44.47\"/>\n</g>\n<!-- 5 -->\n<g id=\"node6\" class=\"node\">\n<title>5</title>\n<ellipse fill=\"#b2dfee\" stroke=\"#b2dfee\" cx=\"94.46\" cy=\"-206.11\" rx=\"27\" ry=\"18\"/>\n<text text-anchor=\"middle\" x=\"94.46\" y=\"-202.41\" font-family=\"Times,serif\" font-size=\"14.00\">F</text>\n</g>\n<!-- 3&#45;&gt;5 -->\n<g id=\"edge5\" class=\"edge\">\n<title>3&#45;&gt;5</title>\n<path fill=\"none\" stroke=\"black\" d=\"M57.26,-165.02C62.34,-170.63 68.19,-177.09 73.73,-183.21\"/>\n<polygon fill=\"black\" stroke=\"black\" points=\"71.18,-185.62 80.49,-190.68 76.37,-180.92 71.18,-185.62\"/>\n</g>\n<!-- 4&#45;&gt;3 -->\n<g id=\"edge6\" class=\"edge\">\n<title>4&#45;&gt;3</title>\n<path fill=\"none\" stroke=\"black\" d=\"M76.71,-78.68C70.78,-91.26 62.65,-108.48 55.9,-122.8\"/>\n<polygon fill=\"black\" stroke=\"black\" points=\"52.59,-121.61 51.49,-132.15 58.92,-124.6 52.59,-121.61\"/>\n</g>\n<!-- 5&#45;&gt;1 -->\n<g id=\"edge7\" class=\"edge\">\n<title>5&#45;&gt;1</title>\n<path fill=\"none\" stroke=\"black\" d=\"M99.55,-188.43C101.71,-180.93 104.28,-172.02 106.67,-163.69\"/>\n<polygon fill=\"black\" stroke=\"black\" points=\"110.07,-164.53 109.48,-153.96 103.35,-162.6 110.07,-164.53\"/>\n</g>\n</g>\n</svg>\n",
            "text/plain": [
              "<graphviz.graphs.Digraph at 0x7aa1518b6d10>"
            ]
          },
          "metadata": {},
          "execution_count": 112
        }
      ]
    },
    {
      "cell_type": "markdown",
      "source": [
        "Then calculate the topological sort for this graph using Kahn's algorithm and print the sorted list of nodes."
      ],
      "metadata": {
        "id": "Qjyof6fOsRjv"
      }
    },
    {
      "cell_type": "code",
      "source": [
        "sorted = g.Kahns()\n",
        "print('Topological sorted:', '->'.join([node.name for node in sorted]))"
      ],
      "metadata": {
        "colab": {
          "base_uri": "https://localhost:8080/"
        },
        "id": "zqe2UB1gpHCq",
        "outputId": "80d1090f-d728-49e9-bb04-caaeb4a44200"
      },
      "execution_count": 113,
      "outputs": [
        {
          "output_type": "stream",
          "name": "stdout",
          "text": [
            "Topological sorted: A->C->E->D->F->B\n"
          ]
        }
      ]
    }
  ]
}