{
  "nbformat": 4,
  "nbformat_minor": 0,
  "metadata": {
    "colab": {
      "provenance": [],
      "authorship_tag": "ABX9TyPgvalNrbWpGzXLExawHwKO",
      "include_colab_link": true
    },
    "kernelspec": {
      "name": "python3",
      "display_name": "Python 3"
    },
    "language_info": {
      "name": "python"
    }
  },
  "cells": [
    {
      "cell_type": "markdown",
      "metadata": {
        "id": "view-in-github",
        "colab_type": "text"
      },
      "source": [
        "<a href=\"https://colab.research.google.com/github/dan-manolescu/data-structures-fun/blob/main/C1_Arrays.ipynb\" target=\"_parent\"><img src=\"https://colab.research.google.com/assets/colab-badge.svg\" alt=\"Open In Colab\"/></a>"
      ]
    },
    {
      "cell_type": "markdown",
      "source": [
        "# Arrays and other similar structures\n",
        "\n",
        "Python doesn't use arrays but lists (which are kind of a dynamic array). It fully provides methods for inserting new elements or removing existing ones, as well as support for seamless expansion of the list beyond its initial length.\n",
        "Nevertheless this notebook will contain code for such mundane operations, simply as a way of experimenting with \"arrays\" in Python."
      ],
      "metadata": {
        "id": "lwi5dsOkrUt4"
      }
    },
    {
      "cell_type": "code",
      "source": [
        "!pip install colorama"
      ],
      "metadata": {
        "colab": {
          "base_uri": "https://localhost:8080/"
        },
        "id": "ay33u2_SayHc",
        "outputId": "41ddbe22-09d9-4252-9c8d-d660013c9efb"
      },
      "execution_count": 3,
      "outputs": [
        {
          "output_type": "stream",
          "name": "stdout",
          "text": [
            "Collecting colorama\n",
            "  Downloading colorama-0.4.6-py2.py3-none-any.whl (25 kB)\n",
            "Installing collected packages: colorama\n",
            "Successfully installed colorama-0.4.6\n"
          ]
        }
      ]
    },
    {
      "cell_type": "code",
      "source": [
        "from colorama import Fore"
      ],
      "metadata": {
        "id": "NHryMD5e3MZr"
      },
      "execution_count": null,
      "outputs": []
    },
    {
      "cell_type": "markdown",
      "source": [
        "**Insertion sort operation**"
      ],
      "metadata": {
        "id": "JauFjRq4svsj"
      }
    },
    {
      "cell_type": "code",
      "execution_count": 33,
      "metadata": {
        "id": "E-xq4QHpq4jG"
      },
      "outputs": [],
      "source": [
        "def insertion_sort(A):\n",
        "    N = len(A)\n",
        "    for i in range(1, N):\n",
        "        current = A[i]\n",
        "        ###\n",
        "        print(Fore.BLUE + f'Iteration {i}; current={current}' + Fore.RESET)\n",
        "        ###\n",
        "\n",
        "        j = i - 1\n",
        "        while j >= 0 and A[j] > current:\n",
        "            ###\n",
        "            print(Fore.RED + f'Found j={j}, A[j]={A[j]} greater than current. Copying to A[j+1] instead of {A[j+1]}' + Fore.RESET)\n",
        "            ###\n",
        "\n",
        "            A[j + 1] = A[j]\n",
        "            j -= 1\n",
        "            ###\n",
        "            print(Fore.GREEN + f'i: {i}, j: {j}, current: {current}, A:{A}' + Fore.RESET)\n",
        "            ###\n",
        "\n",
        "        A[j + 1] = current\n"
      ]
    },
    {
      "cell_type": "code",
      "source": [
        "array = [61, 82, 67, 4, 98, 20, 37, 85]\n",
        "insertion_sort(array)\n",
        "print(Fore.MAGENTA + f'\\nSorted Array: {array}' + Fore.RESET)"
      ],
      "metadata": {
        "colab": {
          "base_uri": "https://localhost:8080/"
        },
        "id": "2Hh9Nd_7wXbF",
        "outputId": "01ea1757-5a22-4fbe-80db-5a5976967210"
      },
      "execution_count": 34,
      "outputs": [
        {
          "output_type": "stream",
          "name": "stdout",
          "text": [
            "\u001b[34mIteration 1; current=82\u001b[39m\n",
            "\u001b[34mIteration 2; current=67\u001b[39m\n",
            "\u001b[31mFound j=1, A[j]=82 greater than current. Copying to A[j+1] instead of 67\u001b[39m\n",
            "\u001b[32mi: 2, j: 0, current: 67, A:[61, 82, 82, 4, 98, 20, 37, 85]\u001b[39m\n",
            "\u001b[34mIteration 3; current=4\u001b[39m\n",
            "\u001b[31mFound j=2, A[j]=82 greater than current. Copying to A[j+1] instead of 4\u001b[39m\n",
            "\u001b[32mi: 3, j: 1, current: 4, A:[61, 67, 82, 82, 98, 20, 37, 85]\u001b[39m\n",
            "\u001b[31mFound j=1, A[j]=67 greater than current. Copying to A[j+1] instead of 82\u001b[39m\n",
            "\u001b[32mi: 3, j: 0, current: 4, A:[61, 67, 67, 82, 98, 20, 37, 85]\u001b[39m\n",
            "\u001b[31mFound j=0, A[j]=61 greater than current. Copying to A[j+1] instead of 67\u001b[39m\n",
            "\u001b[32mi: 3, j: -1, current: 4, A:[61, 61, 67, 82, 98, 20, 37, 85]\u001b[39m\n",
            "\u001b[34mIteration 4; current=98\u001b[39m\n",
            "\u001b[34mIteration 5; current=20\u001b[39m\n",
            "\u001b[31mFound j=4, A[j]=98 greater than current. Copying to A[j+1] instead of 20\u001b[39m\n",
            "\u001b[32mi: 5, j: 3, current: 20, A:[4, 61, 67, 82, 98, 98, 37, 85]\u001b[39m\n",
            "\u001b[31mFound j=3, A[j]=82 greater than current. Copying to A[j+1] instead of 98\u001b[39m\n",
            "\u001b[32mi: 5, j: 2, current: 20, A:[4, 61, 67, 82, 82, 98, 37, 85]\u001b[39m\n",
            "\u001b[31mFound j=2, A[j]=67 greater than current. Copying to A[j+1] instead of 82\u001b[39m\n",
            "\u001b[32mi: 5, j: 1, current: 20, A:[4, 61, 67, 67, 82, 98, 37, 85]\u001b[39m\n",
            "\u001b[31mFound j=1, A[j]=61 greater than current. Copying to A[j+1] instead of 67\u001b[39m\n",
            "\u001b[32mi: 5, j: 0, current: 20, A:[4, 61, 61, 67, 82, 98, 37, 85]\u001b[39m\n",
            "\u001b[34mIteration 6; current=37\u001b[39m\n",
            "\u001b[31mFound j=5, A[j]=98 greater than current. Copying to A[j+1] instead of 37\u001b[39m\n",
            "\u001b[32mi: 6, j: 4, current: 37, A:[4, 20, 61, 67, 82, 98, 98, 85]\u001b[39m\n",
            "\u001b[31mFound j=4, A[j]=82 greater than current. Copying to A[j+1] instead of 98\u001b[39m\n",
            "\u001b[32mi: 6, j: 3, current: 37, A:[4, 20, 61, 67, 82, 82, 98, 85]\u001b[39m\n",
            "\u001b[31mFound j=3, A[j]=67 greater than current. Copying to A[j+1] instead of 82\u001b[39m\n",
            "\u001b[32mi: 6, j: 2, current: 37, A:[4, 20, 61, 67, 67, 82, 98, 85]\u001b[39m\n",
            "\u001b[31mFound j=2, A[j]=61 greater than current. Copying to A[j+1] instead of 67\u001b[39m\n",
            "\u001b[32mi: 6, j: 1, current: 37, A:[4, 20, 61, 61, 67, 82, 98, 85]\u001b[39m\n",
            "\u001b[34mIteration 7; current=85\u001b[39m\n",
            "\u001b[31mFound j=6, A[j]=98 greater than current. Copying to A[j+1] instead of 85\u001b[39m\n",
            "\u001b[32mi: 7, j: 5, current: 85, A:[4, 20, 37, 61, 67, 82, 98, 98]\u001b[39m\n",
            "\u001b[35m\n",
            "Sorted Array: [4, 20, 37, 61, 67, 82, 85, 98]\u001b[39m\n"
          ]
        }
      ]
    },
    {
      "cell_type": "markdown",
      "source": [
        "**Strings**\n",
        "\n",
        "String equal comparison"
      ],
      "metadata": {
        "id": "BHJbCCzV5IBW"
      }
    },
    {
      "cell_type": "code",
      "source": [
        "def StringEqual(str1, str2):\n",
        "    ###\n",
        "    print(Fore.GREEN + f'Length of str1: {len(str1)}\\nLength of str2: {len(str2)}' + Fore.RESET)\n",
        "    ###\n",
        "    if len(str1) != len(str2):\n",
        "        return False\n",
        "\n",
        "    N = len(str1)\n",
        "    i = 0\n",
        "    while i < N and str1[i] == str2[i]:\n",
        "        ###\n",
        "        print(Fore.BLUE + f'i={i}, str1[{i}] = str2[{i}] = {str1[i]}' + Fore.RESET)\n",
        "        ###\n",
        "        i += 1\n",
        "\n",
        "    ###\n",
        "    if i < N:\n",
        "        print(Fore.LIGHTRED_EX + f'i={i}, str1[{i}] = {str1[i]} != {str2[i]} = str2[{i}]' + Fore.RESET)\n",
        "    ###\n",
        "\n",
        "    return i == N"
      ],
      "metadata": {
        "id": "Jmur1ukc5LUv"
      },
      "execution_count": 46,
      "outputs": []
    },
    {
      "cell_type": "code",
      "source": [
        "str1 = 'HELLO WORLD!'\n",
        "str2 = 'HELLO FRIEND'\n",
        "\n",
        "print('\\nResult for string equality comparison is ' + Fore.MAGENTA + f'{StringEqual(str1, str2)}' + Fore.RESET)"
      ],
      "metadata": {
        "colab": {
          "base_uri": "https://localhost:8080/"
        },
        "id": "Pl0ZnuR75614",
        "outputId": "4fd34d58-962d-487b-b49a-01ca8a1c4d67"
      },
      "execution_count": 47,
      "outputs": [
        {
          "output_type": "stream",
          "name": "stdout",
          "text": [
            "\u001b[32mLength of str1: 12\n",
            "Length of str2: 12\u001b[39m\n",
            "\u001b[34mi=0, str1[0] = str2[0] = H\u001b[39m\n",
            "\u001b[34mi=1, str1[1] = str2[1] = E\u001b[39m\n",
            "\u001b[34mi=2, str1[2] = str2[2] = L\u001b[39m\n",
            "\u001b[34mi=3, str1[3] = str2[3] = L\u001b[39m\n",
            "\u001b[34mi=4, str1[4] = str2[4] = O\u001b[39m\n",
            "\u001b[34mi=5, str1[5] = str2[5] =  \u001b[39m\n",
            "\u001b[91mi=6, str1[6] = W != F = str2[6]\u001b[39m\n",
            "\n",
            "Result for string equality comparison is \u001b[35mFalse\u001b[39m\n"
          ]
        }
      ]
    }
  ]
}