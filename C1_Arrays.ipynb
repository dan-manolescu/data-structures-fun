{
  "nbformat": 4,
  "nbformat_minor": 0,
  "metadata": {
    "colab": {
      "provenance": [],
      "authorship_tag": "ABX9TyPhMdzOKPinLdLhtLjTz21d",
      "include_colab_link": true
    },
    "kernelspec": {
      "name": "python3",
      "display_name": "Python 3"
    },
    "language_info": {
      "name": "python"
    }
  },
  "cells": [
    {
      "cell_type": "markdown",
      "metadata": {
        "id": "view-in-github",
        "colab_type": "text"
      },
      "source": [
        "<a href=\"https://colab.research.google.com/github/dan-manolescu/data-structures-fun/blob/main/C1_Arrays.ipynb\" target=\"_parent\"><img src=\"https://colab.research.google.com/assets/colab-badge.svg\" alt=\"Open In Colab\"/></a>"
      ]
    },
    {
      "cell_type": "markdown",
      "source": [
        "# Arrays and other similar structures\n",
        "\n",
        "Python doesn't use arrays but lists (which are kind of a dynamic array). It fully provides methods for inserting new elements or removing existing ones, as well as support for seamless expansion of the list beyond its initial length.\n",
        "Nevertheless this notebook will contain code for such mundane operations, simply as a way of experimenting with \"arrays\" in Python."
      ],
      "metadata": {
        "id": "lwi5dsOkrUt4"
      }
    },
    {
      "cell_type": "markdown",
      "source": [
        "Insertion sort operation"
      ],
      "metadata": {
        "id": "JauFjRq4svsj"
      }
    },
    {
      "cell_type": "code",
      "execution_count": 5,
      "metadata": {
        "id": "E-xq4QHpq4jG"
      },
      "outputs": [],
      "source": [
        "def insertion_sort(A):\n",
        "    N = len(A)\n",
        "    for i in range(1, N):\n",
        "        current = A[i]\n",
        "        j = i - 1\n",
        "        while j >= 0 and A[j] > current:\n",
        "            A[j + 1] = A[j]\n",
        "            j -= 1\n",
        "            print(f'i: {i}, j: {j}, current: {current}, A:{A}')\n",
        "        A[j + 1] = current\n"
      ]
    },
    {
      "cell_type": "code",
      "source": [
        "array = [61, 82, 67, 4, 98, 20, 37, 85]\n",
        "insertion_sort(array)\n",
        "array"
      ],
      "metadata": {
        "colab": {
          "base_uri": "https://localhost:8080/"
        },
        "id": "2Hh9Nd_7wXbF",
        "outputId": "58eef9f3-1dfa-4c80-a041-f1a027fba01f"
      },
      "execution_count": 6,
      "outputs": [
        {
          "output_type": "stream",
          "name": "stdout",
          "text": [
            "i: 2, j: 0, current: 67, A:[61, 82, 82, 4, 98, 20, 37, 85]\n",
            "i: 3, j: 1, current: 4, A:[61, 67, 82, 82, 98, 20, 37, 85]\n",
            "i: 3, j: 0, current: 4, A:[61, 67, 67, 82, 98, 20, 37, 85]\n",
            "i: 3, j: -1, current: 4, A:[61, 61, 67, 82, 98, 20, 37, 85]\n",
            "i: 5, j: 3, current: 20, A:[4, 61, 67, 82, 98, 98, 37, 85]\n",
            "i: 5, j: 2, current: 20, A:[4, 61, 67, 82, 82, 98, 37, 85]\n",
            "i: 5, j: 1, current: 20, A:[4, 61, 67, 67, 82, 98, 37, 85]\n",
            "i: 5, j: 0, current: 20, A:[4, 61, 61, 67, 82, 98, 37, 85]\n",
            "i: 6, j: 4, current: 37, A:[4, 20, 61, 67, 82, 98, 98, 85]\n",
            "i: 6, j: 3, current: 37, A:[4, 20, 61, 67, 82, 82, 98, 85]\n",
            "i: 6, j: 2, current: 37, A:[4, 20, 61, 67, 67, 82, 98, 85]\n",
            "i: 6, j: 1, current: 37, A:[4, 20, 61, 61, 67, 82, 98, 85]\n",
            "i: 7, j: 5, current: 85, A:[4, 20, 37, 61, 67, 82, 98, 98]\n"
          ]
        },
        {
          "output_type": "execute_result",
          "data": {
            "text/plain": [
              "[4, 20, 37, 61, 67, 82, 85, 98]"
            ]
          },
          "metadata": {},
          "execution_count": 6
        }
      ]
    }
  ]
}