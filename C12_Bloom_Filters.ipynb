{
  "nbformat": 4,
  "nbformat_minor": 0,
  "metadata": {
    "colab": {
      "provenance": [],
      "authorship_tag": "ABX9TyMHtx4t5A8MgspAJm4ovG1Q",
      "include_colab_link": true
    },
    "kernelspec": {
      "name": "python3",
      "display_name": "Python 3"
    },
    "language_info": {
      "name": "python"
    }
  },
  "cells": [
    {
      "cell_type": "markdown",
      "metadata": {
        "id": "view-in-github",
        "colab_type": "text"
      },
      "source": [
        "<a href=\"https://colab.research.google.com/github/dan-manolescu/data-structures-fun/blob/main/C12_Bloom_Filters.ipynb\" target=\"_parent\"><img src=\"https://colab.research.google.com/assets/colab-badge.svg\" alt=\"Open In Colab\"/></a>"
      ]
    },
    {
      "cell_type": "code",
      "source": [
        "from typing import Any, List\n",
        "from collections.abc import Callable\n",
        "\n",
        "import hashlib"
      ],
      "metadata": {
        "id": "DIp-No1d36gK"
      },
      "execution_count": 15,
      "outputs": []
    },
    {
      "cell_type": "markdown",
      "source": [
        "A simple implementation for a bloom filter.\n",
        "bins = list of binary values representing the bloom filter\n",
        "size = size of the bloom filter (length of the bins list)\n",
        "h = list of hash functions to be applied on any value added to the bloom filter\n",
        "k = size of the h list\n",
        "\n",
        "Each hash function is expected to have two arguments: the key to be hashed and the size of the hash to be produced."
      ],
      "metadata": {
        "id": "uwWlOZHEEBwr"
      }
    },
    {
      "cell_type": "code",
      "execution_count": 16,
      "metadata": {
        "id": "Zpc0oWIDhxWA"
      },
      "outputs": [],
      "source": [
        "class BloomFilter:\n",
        "    def __init__(self, size: int, h: List[Callable[[Any, int], int]]):\n",
        "        self.size = size\n",
        "        self.k = len(h)\n",
        "        self.bins = [0] * size\n",
        "        self.h = h\n",
        "\n",
        "    def BloomFilterInsertKey(self, key: Any) -> None:\n",
        "        for i in range(self.k):\n",
        "            index = self.h[i](key, self.size)\n",
        "            self.bins[index] = 1\n",
        "\n",
        "    def BloomFilterLookup(self, key: Any) -> bool:\n",
        "        for i in range(self.k):\n",
        "            index = self.h[i](key, self.size)\n",
        "            if self.bins[index] == 0:\n",
        "                return False\n",
        "        return True\n"
      ]
    },
    {
      "cell_type": "markdown",
      "source": [
        "A sample of hash functions list to use with out bloom filter class."
      ],
      "metadata": {
        "id": "TN6RDWNV7-rq"
      }
    },
    {
      "cell_type": "code",
      "source": [
        "hash_list = [lambda key, size: int(hashlib.sha256(str(key).encode('utf-8')).hexdigest(), 16) % (i + 1) for i in range(size)]\n",
        "\n",
        "bf = BloomFilter(10, hash_list)\n",
        "bf.BloomFilterInsertKey('hahahaha')\n",
        "print(bf.BloomFilterLookup('cc'))\n",
        "print(bf.BloomFilterLookup('hahahaha'))\n",
        "bf.BloomFilterInsertKey('bau')\n",
        "bf.BloomFilterInsertKey('cau')\n",
        "bf.BloomFilterInsertKey('cau cau')\n",
        "print(bf.bins)\n",
        "print(bf.BloomFilterLookup('cau cau c'))"
      ],
      "metadata": {
        "colab": {
          "base_uri": "https://localhost:8080/"
        },
        "id": "5Z0ecP_p8Dp_",
        "outputId": "0fed980d-bb32-45e0-fcf4-d5b5b49b1ee5"
      },
      "execution_count": 17,
      "outputs": [
        {
          "output_type": "stream",
          "name": "stdout",
          "text": [
            "True\n",
            "True\n",
            "[0, 0, 1, 0, 0, 0, 1, 0, 0, 1]\n",
            "False\n"
          ]
        }
      ]
    },
    {
      "cell_type": "markdown",
      "source": [
        "Let's define three other hash functions:\n",
        "\n",
        "* MurmurHash3: This is a popular hash function that is known for its speed and\n",
        "efficiency.\n",
        "* JenkinsHash3: This is another fast and efficient hash function.\n",
        "* crc32: This is a cyclic redundancy check (CRC) hash function that is commonly used for error detection."
      ],
      "metadata": {
        "id": "2WimNFIQDaKy"
      }
    },
    {
      "cell_type": "code",
      "source": [
        "def MurmurHash3(value: Any, size: int=1024) -> int:\n",
        "    \"\"\"Calculates the MurmurHash3 hash of the given value.\"\"\"\n",
        "    import hashlib\n",
        "    digest = hashlib.sha3_512(str(value).encode('utf-8')).hexdigest()\n",
        "    return int(digest, 16) % size\n",
        "\n",
        "def JenkinsHash3(value: Any, size: int=1024) -> int:\n",
        "    \"\"\"Calculates the JenkinsHash3 hash of the given value.\"\"\"\n",
        "    hash_value = 0\n",
        "    for byte in str(value).encode('utf-8'):\n",
        "        hash_value = (hash_value << 8) ^ byte\n",
        "        for i in range(7):\n",
        "            hash_value ^= hash_value >> i\n",
        "    return hash_value % size\n",
        "\n",
        "def crc32(value: Any, size: int=1024) -> int:\n",
        "    \"\"\"Calculates the CRC32 hash of the given value.\"\"\"\n",
        "    import binascii\n",
        "    hash_value = binascii.crc32(str(value).encode('utf-8')) % size\n",
        "    return hash_value"
      ],
      "metadata": {
        "id": "nE_mtxzPDQGg"
      },
      "execution_count": 18,
      "outputs": []
    },
    {
      "cell_type": "markdown",
      "source": [
        "Example of using the three hash functions in another bloom filter."
      ],
      "metadata": {
        "id": "oGXxu0pPElsT"
      }
    },
    {
      "cell_type": "code",
      "source": [
        "bf2 = BloomFilter(1024, [MurmurHash3, JenkinsHash3, crc32])\n",
        "bf2.BloomFilterInsertKey('Test string 1')\n",
        "print(bf2.BloomFilterLookup('Test string 2'))\n",
        "print(bf2.BloomFilterLookup('Test string 1'))\n",
        "bf2.BloomFilterInsertKey('bau')\n",
        "bf2.BloomFilterInsertKey('cau')\n",
        "bf2.BloomFilterInsertKey('cau cau')\n",
        "print(bf2.BloomFilterLookup('bau'))\n",
        "print(bf2.BloomFilterLookup('cau cauu'))"
      ],
      "metadata": {
        "colab": {
          "base_uri": "https://localhost:8080/"
        },
        "id": "gpD4z0Wi-gPx",
        "outputId": "58e6a051-5403-40fe-f380-8c81f88cf72c"
      },
      "execution_count": 21,
      "outputs": [
        {
          "output_type": "stream",
          "name": "stdout",
          "text": [
            "False\n",
            "True\n",
            "True\n",
            "False\n"
          ]
        }
      ]
    }
  ]
}