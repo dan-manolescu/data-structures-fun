{
  "nbformat": 4,
  "nbformat_minor": 0,
  "metadata": {
    "colab": {
      "provenance": [],
      "authorship_tag": "ABX9TyPD1wI8pvBoQQI1lH3+Q0Iv",
      "include_colab_link": true
    },
    "kernelspec": {
      "name": "python3",
      "display_name": "Python 3"
    },
    "language_info": {
      "name": "python"
    }
  },
  "cells": [
    {
      "cell_type": "markdown",
      "metadata": {
        "id": "view-in-github",
        "colab_type": "text"
      },
      "source": [
        "<a href=\"https://colab.research.google.com/github/dan-manolescu/data-structures-fun/blob/main/C2_LinkedLists.ipynb\" target=\"_parent\"><img src=\"https://colab.research.google.com/assets/colab-badge.svg\" alt=\"Open In Colab\"/></a>"
      ]
    },
    {
      "cell_type": "code",
      "source": [
        "!pip install colorama"
      ],
      "metadata": {
        "colab": {
          "base_uri": "https://localhost:8080/"
        },
        "id": "LcREmhOKyA7v",
        "outputId": "3fb5e3ba-20c6-45d7-ed83-f2bc65b17d3a"
      },
      "execution_count": 1,
      "outputs": [
        {
          "output_type": "stream",
          "name": "stdout",
          "text": [
            "Collecting colorama\n",
            "  Downloading colorama-0.4.6-py2.py3-none-any.whl (25 kB)\n",
            "Installing collected packages: colorama\n",
            "Successfully installed colorama-0.4.6\n"
          ]
        }
      ]
    },
    {
      "cell_type": "code",
      "source": [
        "from colorama import Fore"
      ],
      "metadata": {
        "id": "Mqo-JUaQyC0p"
      },
      "execution_count": 2,
      "outputs": []
    },
    {
      "cell_type": "markdown",
      "source": [
        "# Linked Lists"
      ],
      "metadata": {
        "id": "jmcc52VQxkie"
      }
    },
    {
      "cell_type": "code",
      "execution_count": 3,
      "metadata": {
        "id": "TwwIDcjOw7kH"
      },
      "outputs": [],
      "source": [
        "class LinkedListNode:\n",
        "    def __init__(self, value):\n",
        "        self.value = value\n",
        "        self.next = None"
      ]
    },
    {
      "cell_type": "code",
      "source": [
        "def build_linked_list_from_list(A):\n",
        "    if len(A) == 0:\n",
        "        return None\n",
        "\n",
        "    head = LinkedListNode(A[0])\n",
        "    current = head\n",
        "    for i in range(1, len(A)):\n",
        "        current.next = LinkedListNode(A[i])\n",
        "        current = current.next\n",
        "\n",
        "    return head\n",
        "\n",
        "def print_linked_list_nodes(head):\n",
        "    if head == None:\n",
        "        return\n",
        "    node_list = [str(head.value)]\n",
        "    current = head.next\n",
        "    while current != None:\n",
        "        node_list.append(str(current.value))\n",
        "        current = current.next\n",
        "\n",
        "    print('->'.join(node_list))\n"
      ],
      "metadata": {
        "id": "EJmWdrNez4TY"
      },
      "execution_count": 20,
      "outputs": []
    },
    {
      "cell_type": "markdown",
      "source": [
        "## **Search list elements by their position**"
      ],
      "metadata": {
        "id": "lWBtjBoFzc5j"
      }
    },
    {
      "cell_type": "code",
      "source": [
        "def LinkedListLookUp(head: LinkedListNode, element_number: int) -> LinkedListNode:\n",
        "    # we start at the head of the list\n",
        "    current = head\n",
        "    count = 0\n",
        "\n",
        "    # iterate through every element of the list until we found the correct number\n",
        "    # or we run out of list (in which case we will return None)\n",
        "    while count < element_number and current != None:\n",
        "        current = current.next\n",
        "        count += 1\n",
        "\n",
        "    return current\n"
      ],
      "metadata": {
        "id": "b4YsAIb6yPzL"
      },
      "execution_count": 18,
      "outputs": []
    },
    {
      "cell_type": "code",
      "source": [
        "\n",
        "head = build_linked_list_from_list([3, 11, 9, 37, 7, 8])\n",
        "elem = LinkedListLookUp(head, 4)\n",
        "print(elem.value)"
      ],
      "metadata": {
        "colab": {
          "base_uri": "https://localhost:8080/"
        },
        "id": "ifNiH39rzaqX",
        "outputId": "1d4c7ee0-ccce-40b0-83c2-0f2f703fe8fb"
      },
      "execution_count": 19,
      "outputs": [
        {
          "output_type": "stream",
          "name": "stdout",
          "text": [
            "7\n"
          ]
        }
      ]
    },
    {
      "cell_type": "markdown",
      "source": [
        "## Operations on Linked Lists"
      ],
      "metadata": {
        "id": "qN9vbABA5tj2"
      }
    },
    {
      "cell_type": "markdown",
      "source": [
        "**Inserting into a Linked List**"
      ],
      "metadata": {
        "id": "MPtYMfGJ5yTu"
      }
    },
    {
      "cell_type": "markdown",
      "source": [
        "Insert a given new node after a designated node in a list"
      ],
      "metadata": {
        "id": "I1Nh9QrcA6Vq"
      }
    },
    {
      "cell_type": "code",
      "source": [
        "def LinkedListInsertAfter(previous: LinkedListNode, new_node: LinkedListNode) -> None:\n",
        "    new_node.next = previous.next\n",
        "    previous.next = new_node"
      ],
      "metadata": {
        "id": "N3ZQRJS753oR"
      },
      "execution_count": 21,
      "outputs": []
    },
    {
      "cell_type": "code",
      "source": [
        "head = build_linked_list_from_list([3, 11, 9, 37, 7, 8])\n",
        "print('Original linked list:', end=' ')\n",
        "print_linked_list_nodes(head)\n",
        "\n",
        "elem = LinkedListLookUp(head, 2)\n",
        "LinkedListInsertAfter(elem, LinkedListNode(23))\n",
        "\n",
        "print('Linked list inserted:', end=' ')\n",
        "print_linked_list_nodes(head)"
      ],
      "metadata": {
        "colab": {
          "base_uri": "https://localhost:8080/"
        },
        "id": "robI6FRM6OJs",
        "outputId": "52bb4180-a1e1-4184-f83d-c8d481018376"
      },
      "execution_count": 24,
      "outputs": [
        {
          "output_type": "stream",
          "name": "stdout",
          "text": [
            "Original linked list: 3->11->9->37->7->8\n",
            "Linked list inserted: 3->11->9->23->37->7->8\n"
          ]
        }
      ]
    },
    {
      "cell_type": "markdown",
      "source": [
        "Insert a new node with the given value at the specified position in a linked list"
      ],
      "metadata": {
        "id": "tiABwmjSBFp8"
      }
    },
    {
      "cell_type": "code",
      "source": [
        "def LinkedListInsert(head: LinkedListNode, index: int, value) -> LinkedListNode:\n",
        "    # special case inserting a new head node.\n",
        "    if index == 0:\n",
        "        new_head = LinkedListNode(value)\n",
        "        new_head.next = head\n",
        "        return new_head\n",
        "\n",
        "    current = head\n",
        "    previous = None\n",
        "    count = 0\n",
        "    # traverse the list to find the correct insert location based on index\n",
        "    while count < index and current != None:\n",
        "        previous = current\n",
        "        current = current.next\n",
        "        count += 1\n",
        "\n",
        "    # check if we've run off the end of the list before getting the necessary index\n",
        "    if count < index:\n",
        "        raise IndexError('Invalid index used')\n",
        "\n",
        "    # Place new node between previous and current (this works also if previous is the last node)\n",
        "    new_node = LinkedListNode(value)\n",
        "    new_node.next = previous.next\n",
        "    previous.next = new_node\n",
        "\n",
        "    return head"
      ],
      "metadata": {
        "id": "0bRxfxzs8Dkd"
      },
      "execution_count": 25,
      "outputs": []
    },
    {
      "cell_type": "code",
      "source": [
        "head = build_linked_list_from_list([3, 11, 9, 37, 7, 8])\n",
        "print('Original linked list:', end=' ')\n",
        "print_linked_list_nodes(head)\n",
        "\n",
        "head = LinkedListInsert(head, 3, 23)\n",
        "\n",
        "print('Linked list inserted:', end=' ')\n",
        "print_linked_list_nodes(head)"
      ],
      "metadata": {
        "colab": {
          "base_uri": "https://localhost:8080/"
        },
        "id": "-i3dbxy-99cF",
        "outputId": "0fbb7e64-b423-478b-98e4-c99af79cf7b5"
      },
      "execution_count": 29,
      "outputs": [
        {
          "output_type": "stream",
          "name": "stdout",
          "text": [
            "Original linked list: 3->11->9->37->7->8\n",
            "Linked list inserted: 3->11->9->23->37->7->8\n"
          ]
        }
      ]
    },
    {
      "cell_type": "markdown",
      "source": [
        "**Deleting from a Linked List**"
      ],
      "metadata": {
        "id": "pRD54qHr-ZKz"
      }
    },
    {
      "cell_type": "markdown",
      "source": [
        "Delete a node in a linked list by the specified position"
      ],
      "metadata": {
        "id": "tZpm9j_0BPdA"
      }
    },
    {
      "cell_type": "code",
      "source": [
        "def LinkedListDelete(head: LinkedListNode, index: int) -> LinkedListNode:\n",
        "    # if the list is empty then we have nothing to delete\n",
        "    if head == None:\n",
        "        return None\n",
        "\n",
        "    # are we deleting the first node then return the new head\n",
        "    if index == 0:\n",
        "        new_head = head.next\n",
        "        head.next = None\n",
        "        return new_head\n",
        "\n",
        "    current = head\n",
        "    previous = None\n",
        "    count = 0\n",
        "    # find the correct location or hit the end of the list\n",
        "    while count < index and current != None:\n",
        "        previous = current\n",
        "        current = current.next\n",
        "        count += 1\n",
        "\n",
        "    # if the code has found the correct location then remove the node\n",
        "    # by setting previous to point at the next node.\n",
        "    if current != None:\n",
        "        previous.next = current.next\n",
        "        current.next = None\n",
        "    else:\n",
        "        raise IndexError('Invalid index used')\n",
        "\n",
        "    return head"
      ],
      "metadata": {
        "id": "TlBk-IBw-ceA"
      },
      "execution_count": 30,
      "outputs": []
    },
    {
      "cell_type": "code",
      "source": [
        "head = build_linked_list_from_list([3, 11, 9, 37, 7, 8, 23])\n",
        "print('Original linked list:', end=' ')\n",
        "print_linked_list_nodes(head)\n",
        "\n",
        "head = LinkedListDelete(head, 3)\n",
        "\n",
        "print('Linked list deleted:', end=' ')\n",
        "print_linked_list_nodes(head)"
      ],
      "metadata": {
        "colab": {
          "base_uri": "https://localhost:8080/"
        },
        "id": "5MVsNqN8_XUc",
        "outputId": "47a5692d-7f1a-485e-fde5-73a5683ea417"
      },
      "execution_count": 31,
      "outputs": [
        {
          "output_type": "stream",
          "name": "stdout",
          "text": [
            "Original linked list: 3->11->9->37->7->8->23\n",
            "Linked list deleted: 3->11->9->7->8->23\n"
          ]
        }
      ]
    },
    {
      "cell_type": "markdown",
      "source": [
        "Delete the first node in a linked list having the given value"
      ],
      "metadata": {
        "id": "z34odAgdBUKC"
      }
    },
    {
      "cell_type": "code",
      "source": [
        "def LinkedListDeleteWithValue(head: LinkedListNode, value) -> LinkedListNode:\n",
        "    if head == None:\n",
        "        return None\n",
        "\n",
        "    if head.value == value:\n",
        "        new_head = head.next\n",
        "        head.next = None\n",
        "        return new_head\n",
        "\n",
        "    current = head\n",
        "    previous = None\n",
        "    while current != None and current.value != value:\n",
        "        previous = current\n",
        "        current = current.next\n",
        "\n",
        "    if current != None:\n",
        "        previous.next = current.next\n",
        "        current.next = None\n",
        "    else:\n",
        "        raise ValueError('Invalid value used')\n",
        "\n",
        "    return head"
      ],
      "metadata": {
        "id": "-lcgFTTo_yh1"
      },
      "execution_count": 32,
      "outputs": []
    },
    {
      "cell_type": "code",
      "source": [
        "head = build_linked_list_from_list([3, 11, 9, 37, 7, 8, 23])\n",
        "print('Original linked list:', end=' ')\n",
        "print_linked_list_nodes(head)\n",
        "\n",
        "head = LinkedListDeleteWithValue(head, 37)\n",
        "\n",
        "print('Linked list deleted:', end=' ')\n",
        "print_linked_list_nodes(head)"
      ],
      "metadata": {
        "colab": {
          "base_uri": "https://localhost:8080/"
        },
        "id": "snxvzsiKAvir",
        "outputId": "9de87dbc-d66e-4157-bcaa-926d3464b153"
      },
      "execution_count": 33,
      "outputs": [
        {
          "output_type": "stream",
          "name": "stdout",
          "text": [
            "Original linked list: 3->11->9->37->7->8->23\n",
            "Linked list deleted: 3->11->9->7->8->23\n"
          ]
        }
      ]
    },
    {
      "cell_type": "markdown",
      "source": [
        "# Double Linked Lists"
      ],
      "metadata": {
        "id": "WeSqh5a4Bmq7"
      }
    },
    {
      "cell_type": "code",
      "source": [
        "class DoubleLinkedListNode:\n",
        "    def __init__(self, value):\n",
        "        self.value = value\n",
        "        self.next = None\n",
        "        self.previous = None"
      ],
      "metadata": {
        "id": "HfyLG61ABqBp"
      },
      "execution_count": 34,
      "outputs": []
    }
  ]
}