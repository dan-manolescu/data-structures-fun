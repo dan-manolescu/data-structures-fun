{
  "nbformat": 4,
  "nbformat_minor": 0,
  "metadata": {
    "colab": {
      "provenance": [],
      "authorship_tag": "ABX9TyOP+KIsYYDw8xavnHb/pQxs",
      "include_colab_link": true
    },
    "kernelspec": {
      "name": "python3",
      "display_name": "Python 3"
    },
    "language_info": {
      "name": "python"
    }
  },
  "cells": [
    {
      "cell_type": "markdown",
      "metadata": {
        "id": "view-in-github",
        "colab_type": "text"
      },
      "source": [
        "<a href=\"https://colab.research.google.com/github/dan-manolescu/data-structures-fun/blob/main/C10_Caches.ipynb\" target=\"_parent\"><img src=\"https://colab.research.google.com/assets/colab-badge.svg\" alt=\"Open In Colab\"/></a>"
      ]
    },
    {
      "cell_type": "code",
      "source": [
        "from typing import Any\n",
        "from random import randrange"
      ],
      "metadata": {
        "id": "ivdlKx3aaI00"
      },
      "execution_count": 15,
      "outputs": []
    },
    {
      "cell_type": "markdown",
      "source": [
        "# LRU Cache"
      ],
      "metadata": {
        "id": "fxXgveq0VOOm"
      }
    },
    {
      "cell_type": "markdown",
      "source": [
        "Our LRU cache implementation will use a HashTable and a Queue. First let's import the hash table from another colab notebook."
      ],
      "metadata": {
        "id": "__3sqmdaVT_i"
      }
    },
    {
      "cell_type": "code",
      "execution_count": 16,
      "metadata": {
        "id": "SJUAi2nXK63k"
      },
      "outputs": [],
      "source": [
        "%%capture\n",
        "from google.colab import drive\n",
        "drive.mount('mnt', force_remount=True)\n",
        "%run 'mnt/My Drive/Colab Notebooks/C9-Hash Tables.ipynb'"
      ]
    },
    {
      "cell_type": "markdown",
      "source": [
        "Then let's re-implement the Queue. This is similar to the QueueLL from \"C3-Stacks & Queues\" notebook but with a different internal linked list implementation (a double linked list)"
      ],
      "metadata": {
        "id": "_CuujMT3kmLD"
      }
    },
    {
      "cell_type": "code",
      "source": [
        "class QueueListNode:\n",
        "    def __init__(self, value: Any):\n",
        "        self.value = value\n",
        "        self.next = None\n",
        "        self.prev = None"
      ],
      "metadata": {
        "id": "XAb3qnEBaOrO"
      },
      "execution_count": 17,
      "outputs": []
    },
    {
      "cell_type": "code",
      "source": [
        "class CacheQueue:\n",
        "    def __init__(self):\n",
        "        self.front = None\n",
        "        self.back = None\n",
        "\n",
        "    def Enqueue(self, value: Any) -> None:\n",
        "        node = QueueListNode(value)\n",
        "        # check if the queue is empty and if it add new node and point both front and back at it.\n",
        "        if self.back == None:\n",
        "            self.front = node\n",
        "            self.back = node\n",
        "        else:\n",
        "            self.back.next = node\n",
        "            # Set the node prev pointer to the previous last element (back).\n",
        "            node.prev = self.back\n",
        "            self.back = node\n",
        "\n",
        "    def Dequeue(self) -> Any:\n",
        "        if self.front == None:\n",
        "            return None\n",
        "\n",
        "        value = self.front.value\n",
        "        self.front = self.front.next\n",
        "        if self.front == None:\n",
        "            self.back = None\n",
        "        else:\n",
        "            # Set the prev pointer of the new front to None to indicate there's no other node in front of it.\n",
        "            self.front.prev = None\n",
        "        return value\n",
        "\n",
        "    def RemoveNode(self, node: QueueListNode) -> None:\n",
        "        '''\n",
        "        Removes a given node from the middle of the queue.\n",
        "        '''\n",
        "        if node.prev != None:\n",
        "            node.prev.next = node.next\n",
        "        if node.next != None:\n",
        "            node.next.prev = node.prev\n",
        "        if node == self.front:\n",
        "            self.front = self.front.next\n",
        "        if node == self.back:\n",
        "            self.back = self.back.prev\n",
        "\n"
      ],
      "metadata": {
        "id": "d0zurnjsk7V-"
      },
      "execution_count": 18,
      "outputs": []
    },
    {
      "cell_type": "markdown",
      "source": [
        "LRU Cache implementation"
      ],
      "metadata": {
        "id": "BSh6JuY3WvDQ"
      }
    },
    {
      "cell_type": "markdown",
      "source": [
        "The CacheEntry class represents an entry into the hash table of the LRU cache and it consists of three entries: the key for retrieving the cache value, the actual cache value and a pointer to the corresponding entry in the cache's queue."
      ],
      "metadata": {
        "id": "sAnNMcGwbG2O"
      }
    },
    {
      "cell_type": "code",
      "source": [
        "class CacheEntry:\n",
        "    def __init__(self, key: Any, value: Any, node: QueueListNode):\n",
        "        self.key = key\n",
        "        self.value = value\n",
        "        self.node = node"
      ],
      "metadata": {
        "id": "_JYbzIW3aCPj"
      },
      "execution_count": 19,
      "outputs": []
    },
    {
      "cell_type": "markdown",
      "source": [
        "Our LRUCache class implementation with a method to do a CacheLookup. Every time the user asks for an entry that entry is either returned from the cache or retrieved from the slower data source."
      ],
      "metadata": {
        "id": "gODFdICLrrnu"
      }
    },
    {
      "cell_type": "code",
      "source": [
        "class LRUCache:\n",
        "    def __init__(self, max_size: int):\n",
        "        # The HashTable implementation can be found in C9-Hash Tables.\n",
        "        self.ht = HashTable(max_size)\n",
        "        # The QueueLL (queue as a LinkedList) can be found in C3-Stacks & Queues.\n",
        "        self.q = CacheQueue()\n",
        "        self.max_size = max_size\n",
        "        self.current_size = 0\n",
        "\n",
        "    def CacheLookup(self, key: Any) -> Any:\n",
        "        '''\n",
        "        Returns the value in the cache for a given key.\n",
        "        For a cache hit the function returns the value directly and updates how\n",
        "        recently the data was accessed.\n",
        "        For a cache miss then fetch the data, insert it into the cache and\n",
        "        as needed evict the oldest data.\n",
        "        '''\n",
        "        # Check if the key exists in our cache table.\n",
        "        entry = self.ht.HashTableLookup(key)\n",
        "\n",
        "        if entry == None:\n",
        "            # If we have a cache miss then before fetching the entry from the\n",
        "            # more expensive data store then evict the oldest item from the\n",
        "            # front of the queue if the cache is full.\n",
        "            if self.current_size >= self.max_size:\n",
        "                key_to_remove = self.q.Dequeue()\n",
        "                self.ht.HashTableRemove(key_to_remove)\n",
        "                self.current_size -= 1\n",
        "\n",
        "            # Actually retrieve here the data from the slow data source.\n",
        "            # For our example we just put random gibberish.\n",
        "            data = randrange(0, 100)\n",
        "\n",
        "            # Add the key to the back of the queue.\n",
        "            self.q.Enqueue(key)\n",
        "\n",
        "            # Create a new hash table entry from key, data and the back pointer in the queue.\n",
        "            entry = CacheEntry(key, data, self.q.back)\n",
        "            self.ht.HashTableInsert(key, entry)\n",
        "            self.current_size += 1\n",
        "        else:\n",
        "            # Cache hit.\n",
        "            # Reset this key's location in the queue by moving it from its current\n",
        "            # location to the back of the queue.\n",
        "            # First remove it from the queue with the help of the pointer's cache entry.\n",
        "            self.q.RemoveNode(entry.node)\n",
        "            # Then re-add the key to the back of the queue.\n",
        "            self.q.Enqueue(key)\n",
        "            # Update the CacheEntry's pointer to the queue node.\n",
        "            entry.node = self.q.back\n",
        "\n",
        "        return entry.value"
      ],
      "metadata": {
        "id": "kPDSLxNgWyJs"
      },
      "execution_count": 20,
      "outputs": []
    }
  ]
}