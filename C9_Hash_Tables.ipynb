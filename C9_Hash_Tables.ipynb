{
  "nbformat": 4,
  "nbformat_minor": 0,
  "metadata": {
    "colab": {
      "provenance": [],
      "authorship_tag": "ABX9TyM5PvbIhpRyX6Lf1bo+KCIX",
      "include_colab_link": true
    },
    "kernelspec": {
      "name": "python3",
      "display_name": "Python 3"
    },
    "language_info": {
      "name": "python"
    }
  },
  "cells": [
    {
      "cell_type": "markdown",
      "metadata": {
        "id": "view-in-github",
        "colab_type": "text"
      },
      "source": [
        "<a href=\"https://colab.research.google.com/github/dan-manolescu/data-structures-fun/blob/main/C9_Hash_Tables.ipynb\" target=\"_parent\"><img src=\"https://colab.research.google.com/assets/colab-badge.svg\" alt=\"Open In Colab\"/></a>"
      ]
    },
    {
      "cell_type": "code",
      "source": [
        "from typing import Any"
      ],
      "metadata": {
        "id": "Usuq98snpfGg"
      },
      "execution_count": 12,
      "outputs": []
    },
    {
      "cell_type": "markdown",
      "source": [
        "Utility function to generate an integer hash value for the given key. Currently only supports integer and string types for a key. For other types we used a generic Python implementation for hash."
      ],
      "metadata": {
        "id": "GgIiFGhKn_HK"
      }
    },
    {
      "cell_type": "code",
      "source": [
        "def HashFunction(key: Any, size: int) -> int:\n",
        "    if type(key) is int:\n",
        "        return IntHash(key, size)\n",
        "    elif type(key) is str:\n",
        "        return StringHash(key, size)\n",
        "    else:\n",
        "        return hash(key) % size\n",
        "\n",
        "def IntHash(key: int, size: int) -> int:\n",
        "    return key % size\n",
        "\n",
        "def StringHash(key: str, size: int) -> int:\n",
        "    '''\n",
        "    Horner's method of hashing strings.\n",
        "    Instead of adding the letters values we multiply the running sum\n",
        "    of letters by a constant after each addition.\n",
        "    '''\n",
        "    # CONST is a prime number larger than the largest value for any character.\n",
        "    # The highest Unicode character code value is U+10FFFF, which is equal to 1,114,111\n",
        "    CONST = 1114117\n",
        "    total = 0\n",
        "    for character in key:\n",
        "        total = CONST * total + ord(character)\n",
        "    return total % size"
      ],
      "metadata": {
        "id": "cisysSX2kDJm"
      },
      "execution_count": 13,
      "outputs": []
    },
    {
      "cell_type": "markdown",
      "source": [
        "# Chaining"
      ],
      "metadata": {
        "id": "i_TGLxtUoRPM"
      }
    },
    {
      "cell_type": "markdown",
      "source": [
        "Chaining approach for handling collisions within the hash table (via the usage of a linked list for every entry in the hash table)."
      ],
      "metadata": {
        "id": "X6D7V0cmjIkT"
      }
    },
    {
      "cell_type": "code",
      "source": [
        "class ListNode:\n",
        "    def __init__(self, key, value):\n",
        "        self.key = key\n",
        "        self.value = value\n",
        "        self.next = None"
      ],
      "metadata": {
        "id": "kX93V9K3jYVW"
      },
      "execution_count": 14,
      "outputs": []
    },
    {
      "cell_type": "code",
      "execution_count": 15,
      "metadata": {
        "id": "FuTt4daFJE_Z"
      },
      "outputs": [],
      "source": [
        "class HashTable:\n",
        "    def __init__(self, size: int):\n",
        "        self.size = size\n",
        "        self.bins = [None] * size\n",
        "\n",
        "    def HashTableInsert(self, key: Any, value: Any) -> None:\n",
        "        # Compute the hash value for the key.\n",
        "        hash_value = HashFunction(key, self.size)\n",
        "\n",
        "        # If the bin is empty, create a new linked list.\n",
        "        if self.bins[hash_value] == None:\n",
        "            self.bins[hash_value] = ListNode(key, value)\n",
        "            return\n",
        "\n",
        "        # Check if the key exists already in the table.\n",
        "        current = self.bins[hash_value]\n",
        "        while current.key != key and current.next != None:\n",
        "            current = current.next\n",
        "        # If the key is found then update the value, otherwise append the new key at the end of the list.\n",
        "        if current.key == key:\n",
        "            current.value = value\n",
        "        else:\n",
        "            current.next = ListNode(key, value)\n",
        "        return\n",
        "\n",
        "    def HashTableLookup(self, key: Any) -> Any:\n",
        "        # Compute the hash value for the key.\n",
        "        hash_value = HashFunction(key, self.size)\n",
        "        # Check if the corresponding bin is empty.\n",
        "        if self.bins[hash_value] == None:\n",
        "            return None\n",
        "\n",
        "        # Scan over each element of the list and return the value for the matching key.\n",
        "        current = self.bins[hash_value]\n",
        "        while current.key != key and current.next != None:\n",
        "            current = current.next\n",
        "        if current.key == key:\n",
        "            return current.value\n",
        "        # We made it to the end without finding a matching key so return None.\n",
        "        return None\n",
        "\n",
        "    def HashTableRemove(self, key: Any) -> ListNode:\n",
        "        # Compute the hash value for the key and check the corresponding bin if it's empty.\n",
        "        hash_value = HashFunction(key, self.size)\n",
        "        if self.bins[hash_value] == None:\n",
        "            return None\n",
        "\n",
        "        # Scan through the linked list for the matching key and\n",
        "        # track the final linked list node before the current node\n",
        "        current = self.bins[hash_value]\n",
        "        last = None\n",
        "        while current.key != key and current.next != None:\n",
        "            last = current\n",
        "            current = current.next\n",
        "        if current.key == key:\n",
        "            if last != None:\n",
        "                # Remove the current node by simply modifying the last node's\n",
        "                # next pointer to skip the node we are removing\n",
        "                last.next = current.next\n",
        "            else:\n",
        "                # We are removing the first element in the list.\n",
        "                self.bins[hash_value] = current.next\n",
        "            return current\n",
        "        return None\n"
      ]
    },
    {
      "cell_type": "markdown",
      "source": [
        "Some examples"
      ],
      "metadata": {
        "id": "0KX7ME0-I1NK"
      }
    },
    {
      "cell_type": "code",
      "source": [
        "ht = HashTable(5)\n",
        "ht.HashTableInsert(5, 'Value for 5')\n",
        "ht.HashTableInsert(20, 'Value for 20')\n",
        "ht.HashTableInsert(21, 'Value for 21')\n",
        "ht.HashTableInsert(34, 'Value for 14')\n",
        "ht.HashTableInsert(41, 'Value for 41')\n",
        "print(ht.HashTableLookup(20))\n",
        "print(ht.HashTableLookup(25))"
      ],
      "metadata": {
        "colab": {
          "base_uri": "https://localhost:8080/"
        },
        "id": "DoGb1iuPI2ut",
        "outputId": "458d0c17-7582-4e63-a9fd-fc07c01fd3a1"
      },
      "execution_count": 18,
      "outputs": [
        {
          "output_type": "stream",
          "name": "stdout",
          "text": [
            "Value for 20\n",
            "None\n"
          ]
        }
      ]
    },
    {
      "cell_type": "markdown",
      "source": [
        "# Linear Probing"
      ],
      "metadata": {
        "id": "stLFpYMtoUP4"
      }
    },
    {
      "cell_type": "code",
      "source": [
        "class HashTableEntry:\n",
        "    def __init__(self, key, value):\n",
        "        self.key = key\n",
        "        self.value = value"
      ],
      "metadata": {
        "id": "wK-CsUC-oWfP"
      },
      "execution_count": 16,
      "outputs": []
    },
    {
      "cell_type": "markdown",
      "source": [
        "The class that implements a Hash Table with Linear Probing needs to keep the number of keys currently stored in the table. If the number of keys reaches the size of the table then there are no more available bins.\n",
        "\n",
        "For a production environment we can think of a class able to dynamically increase its size when it starts to be full."
      ],
      "metadata": {
        "id": "jkc7653No4w4"
      }
    },
    {
      "cell_type": "code",
      "source": [
        "class HashTableLP:\n",
        "    def __init__(self, size: int):\n",
        "        self.size = size\n",
        "        self.num_keys = 0\n",
        "        self.bins = [None] * size\n",
        "\n",
        "    def HashTableInsert(self, key: Any, value: Any) -> bool:\n",
        "        # Compute the key hash value.\n",
        "        index = HashFunction(key, self.size)\n",
        "        # Maintain a count of bins to check to prevent an infinite loop if the table is full.\n",
        "        count = 0\n",
        "\n",
        "        current = self.bins[index]\n",
        "        # Loop through each bin and test if:\n",
        "        # we found an empty bin\n",
        "        # we found a dummy entry (an entry with key=None added when removing)\n",
        "        # we found the target key\n",
        "        # and if we searched all the bins.\n",
        "        while current != None and current.key != None and current.key != key and count != self.size:\n",
        "            index += 1\n",
        "            # After incrementing the index check if the index should wrap back to the beginning of the table.\n",
        "            if index >= self.size:\n",
        "                index = 0\n",
        "            current = self.bins[index]\n",
        "            count += 1\n",
        "\n",
        "        # After the loop is complete if we have examinged every bin in the table\n",
        "        # without finding the key then the table is full.\n",
        "        if count == self.size:\n",
        "            return False\n",
        "\n",
        "        # Check if we found an empty or dummy bin (create a new entry)\n",
        "        # or a matching key (update the value).\n",
        "        if current == None or current.key == None:\n",
        "            self.bins[index] = HashTableEntry(key, value)\n",
        "            self.num_keys += 1\n",
        "        else:\n",
        "            self.bins[index].value = value\n",
        "        return True\n",
        "\n",
        "    def HashTableLookup(self, key: Any) -> Any:\n",
        "        # Compute the hash value for the key to get the starting location for the search.\n",
        "        index = HashFunction(key, self.size)\n",
        "        # Maintain a count of bins to prevent an infinite loop if the table is full.\n",
        "        count = 0\n",
        "\n",
        "        current = self.bins[index]\n",
        "        # Loop through the table and test these conditions:\n",
        "        # we found an empty bin\n",
        "        # we found the target key\n",
        "        # we've searched all the bins.\n",
        "        while current != None and current.key != key and count != self.size:\n",
        "            index += 1\n",
        "            # If the search has run off the end of the table wrap it back at the start.\n",
        "            if index >= self.size:\n",
        "                index = 0\n",
        "            current = self.bins[index]\n",
        "            count += 1\n",
        "\n",
        "        # Return the value if we found a match.\n",
        "        if current != None and current.key == key:\n",
        "            return current.value\n",
        "        return None\n",
        "\n",
        "    def HashTableRemove(self, key) -> HashTableEntry:\n",
        "        # Method chosen here is to insert dummy values into the bin for the\n",
        "        # removed entry. This ensures that entries added afterward due to collisions\n",
        "        # are still accessible.\n",
        "        # One other potential solution would be to scan through the table\n",
        "        # and fix later entries.\n",
        "\n",
        "        index = HashFunction(key, self.size)\n",
        "        count = 0\n",
        "\n",
        "        current = self.bins[index]\n",
        "        while current != None and current.key != key and count != self.size:\n",
        "            index += 1\n",
        "            if index >= self.size:\n",
        "                index = 0\n",
        "            current = self.bins[index]\n",
        "            count += 1\n",
        "\n",
        "        # If we found the entry with the matching key then replace it with a dummy entry.\n",
        "        if current != None and current.key == key:\n",
        "            self.bins[index] = HashTableEntry(None, None)\n",
        "            self.num_keys -= 1\n",
        "            return current\n",
        "        return None"
      ],
      "metadata": {
        "id": "ODozAKyQokD6"
      },
      "execution_count": 17,
      "outputs": []
    },
    {
      "cell_type": "markdown",
      "source": [
        "Some examples"
      ],
      "metadata": {
        "id": "BGOcwDSnJh4J"
      }
    },
    {
      "cell_type": "code",
      "source": [
        "htl = HashTableLP(5)\n",
        "print(htl.HashTableInsert(5, 'Value for 5'))\n",
        "print(htl.HashTableInsert(20, 'Value for 20'))\n",
        "print(htl.HashTableInsert(21, 'Value for 21'))\n",
        "print(htl.HashTableInsert(34, 'Value for 14'))\n",
        "print(htl.HashTableInsert(41, 'Value for 41'))\n",
        "print(htl.HashTableInsert(25, 'Value for 25'))"
      ],
      "metadata": {
        "colab": {
          "base_uri": "https://localhost:8080/"
        },
        "id": "6k2nP_9dJ-Va",
        "outputId": "c949cb50-84cc-4667-ace3-06533eb157d5"
      },
      "execution_count": 20,
      "outputs": [
        {
          "output_type": "stream",
          "name": "stdout",
          "text": [
            "True\n",
            "True\n",
            "True\n",
            "True\n",
            "True\n",
            "False\n"
          ]
        }
      ]
    },
    {
      "cell_type": "code",
      "source": [
        "htl.HashTableLookup(20)"
      ],
      "metadata": {
        "colab": {
          "base_uri": "https://localhost:8080/",
          "height": 35
        },
        "id": "3ApgwkJYKT9D",
        "outputId": "cd3e3054-0caa-453e-fdf8-b84ad1077fa1"
      },
      "execution_count": 21,
      "outputs": [
        {
          "output_type": "execute_result",
          "data": {
            "text/plain": [
              "'Value for 20'"
            ],
            "application/vnd.google.colaboratory.intrinsic+json": {
              "type": "string"
            }
          },
          "metadata": {},
          "execution_count": 21
        }
      ]
    },
    {
      "cell_type": "code",
      "source": [
        "htl.HashTableRemove(20)\n",
        "print(htl.HashTableInsert(25, 'Value for 25'))"
      ],
      "metadata": {
        "colab": {
          "base_uri": "https://localhost:8080/"
        },
        "id": "RunvX9ycKcY8",
        "outputId": "a52733c8-479a-4046-e203-c9b33911f013"
      },
      "execution_count": 23,
      "outputs": [
        {
          "output_type": "stream",
          "name": "stdout",
          "text": [
            "True\n"
          ]
        }
      ]
    }
  ]
}